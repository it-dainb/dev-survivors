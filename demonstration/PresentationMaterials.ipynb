{
 "cells": [
  {
   "cell_type": "code",
   "execution_count": 1,
   "id": "ac02d6c0",
   "metadata": {},
   "outputs": [
    {
     "name": "stdout",
     "output_type": "stream",
     "text": [
      "Scalene extension successfully loaded. Note: Scalene currently only\n",
      "supports CPU+GPU profiling inside Jupyter notebooks. For full Scalene\n",
      "profiling, use the command line version.\n"
     ]
    }
   ],
   "source": [
    "import pandas as pd\n",
    "import numpy as np\n",
    "import os\n",
    "import time\n",
    "import copy\n",
    "import pathlib, tempfile\n",
    "\n",
    "import matplotlib.pyplot as plt\n",
    "import seaborn as sns\n",
    "sns.set()\n",
    "from graphviz import Digraph\n",
    "from joblib import Parallel, delayed\n",
    "from scipy import stats\n",
    "\n",
    "from survivors import metrics as metr\n",
    "from survivors import constants as cnt\n",
    "from survivors import criteria as crit\n",
    "from numba import njit, jit, int32, float64\n",
    "from lifelines import KaplanMeierFitter, NelsonAalenFitter\n",
    "\n",
    "import survivors.datasets as ds\n",
    "\n",
    "import cProfile\n",
    "import pstats\n",
    "\n",
    "%load_ext line_profiler\n",
    "%load_ext scalene"
   ]
  },
  {
   "cell_type": "code",
   "execution_count": 41,
   "id": "2894a36f",
   "metadata": {},
   "outputs": [
    {
     "data": {
      "text/html": [
       "<div>\n",
       "<style scoped>\n",
       "    .dataframe tbody tr th:only-of-type {\n",
       "        vertical-align: middle;\n",
       "    }\n",
       "\n",
       "    .dataframe tbody tr th {\n",
       "        vertical-align: top;\n",
       "    }\n",
       "\n",
       "    .dataframe thead th {\n",
       "        text-align: right;\n",
       "    }\n",
       "</style>\n",
       "<table border=\"1\" class=\"dataframe\">\n",
       "  <thead>\n",
       "    <tr style=\"text-align: right;\">\n",
       "      <th></th>\n",
       "      <th>htreat</th>\n",
       "      <th>age</th>\n",
       "      <th>menostat</th>\n",
       "      <th>tumsize</th>\n",
       "      <th>tumgrad</th>\n",
       "      <th>posnodal</th>\n",
       "      <th>prm</th>\n",
       "      <th>esm</th>\n",
       "    </tr>\n",
       "  </thead>\n",
       "  <tbody>\n",
       "    <tr>\n",
       "      <th>0</th>\n",
       "      <td>0</td>\n",
       "      <td>70</td>\n",
       "      <td>2</td>\n",
       "      <td>21</td>\n",
       "      <td>2</td>\n",
       "      <td>3</td>\n",
       "      <td>48</td>\n",
       "      <td>66</td>\n",
       "    </tr>\n",
       "    <tr>\n",
       "      <th>1</th>\n",
       "      <td>1</td>\n",
       "      <td>56</td>\n",
       "      <td>2</td>\n",
       "      <td>12</td>\n",
       "      <td>2</td>\n",
       "      <td>7</td>\n",
       "      <td>61</td>\n",
       "      <td>77</td>\n",
       "    </tr>\n",
       "    <tr>\n",
       "      <th>2</th>\n",
       "      <td>1</td>\n",
       "      <td>58</td>\n",
       "      <td>2</td>\n",
       "      <td>35</td>\n",
       "      <td>2</td>\n",
       "      <td>9</td>\n",
       "      <td>52</td>\n",
       "      <td>271</td>\n",
       "    </tr>\n",
       "    <tr>\n",
       "      <th>3</th>\n",
       "      <td>1</td>\n",
       "      <td>59</td>\n",
       "      <td>2</td>\n",
       "      <td>17</td>\n",
       "      <td>2</td>\n",
       "      <td>4</td>\n",
       "      <td>60</td>\n",
       "      <td>29</td>\n",
       "    </tr>\n",
       "    <tr>\n",
       "      <th>4</th>\n",
       "      <td>0</td>\n",
       "      <td>73</td>\n",
       "      <td>2</td>\n",
       "      <td>35</td>\n",
       "      <td>2</td>\n",
       "      <td>1</td>\n",
       "      <td>26</td>\n",
       "      <td>65</td>\n",
       "    </tr>\n",
       "    <tr>\n",
       "      <th>...</th>\n",
       "      <td>...</td>\n",
       "      <td>...</td>\n",
       "      <td>...</td>\n",
       "      <td>...</td>\n",
       "      <td>...</td>\n",
       "      <td>...</td>\n",
       "      <td>...</td>\n",
       "      <td>...</td>\n",
       "    </tr>\n",
       "    <tr>\n",
       "      <th>681</th>\n",
       "      <td>0</td>\n",
       "      <td>49</td>\n",
       "      <td>1</td>\n",
       "      <td>30</td>\n",
       "      <td>3</td>\n",
       "      <td>3</td>\n",
       "      <td>1</td>\n",
       "      <td>84</td>\n",
       "    </tr>\n",
       "    <tr>\n",
       "      <th>682</th>\n",
       "      <td>1</td>\n",
       "      <td>53</td>\n",
       "      <td>2</td>\n",
       "      <td>25</td>\n",
       "      <td>3</td>\n",
       "      <td>17</td>\n",
       "      <td>0</td>\n",
       "      <td>0</td>\n",
       "    </tr>\n",
       "    <tr>\n",
       "      <th>683</th>\n",
       "      <td>0</td>\n",
       "      <td>51</td>\n",
       "      <td>1</td>\n",
       "      <td>25</td>\n",
       "      <td>3</td>\n",
       "      <td>5</td>\n",
       "      <td>43</td>\n",
       "      <td>0</td>\n",
       "    </tr>\n",
       "    <tr>\n",
       "      <th>684</th>\n",
       "      <td>0</td>\n",
       "      <td>52</td>\n",
       "      <td>2</td>\n",
       "      <td>23</td>\n",
       "      <td>2</td>\n",
       "      <td>3</td>\n",
       "      <td>15</td>\n",
       "      <td>34</td>\n",
       "    </tr>\n",
       "    <tr>\n",
       "      <th>685</th>\n",
       "      <td>0</td>\n",
       "      <td>55</td>\n",
       "      <td>2</td>\n",
       "      <td>23</td>\n",
       "      <td>2</td>\n",
       "      <td>9</td>\n",
       "      <td>116</td>\n",
       "      <td>15</td>\n",
       "    </tr>\n",
       "  </tbody>\n",
       "</table>\n",
       "<p>686 rows × 8 columns</p>\n",
       "</div>"
      ],
      "text/plain": [
       "     htreat  age  menostat  tumsize  tumgrad  posnodal  prm  esm\n",
       "0         0   70         2       21        2         3   48   66\n",
       "1         1   56         2       12        2         7   61   77\n",
       "2         1   58         2       35        2         9   52  271\n",
       "3         1   59         2       17        2         4   60   29\n",
       "4         0   73         2       35        2         1   26   65\n",
       "..      ...  ...       ...      ...      ...       ...  ...  ...\n",
       "681       0   49         1       30        3         3    1   84\n",
       "682       1   53         2       25        3        17    0    0\n",
       "683       0   51         1       25        3         5   43    0\n",
       "684       0   52         2       23        2         3   15   34\n",
       "685       0   55         2       23        2         9  116   15\n",
       "\n",
       "[686 rows x 8 columns]"
      ]
     },
     "execution_count": 41,
     "metadata": {},
     "output_type": "execute_result"
    }
   ],
   "source": [
    "X, y, features, categ, sch_nan = ds.load_gbsg_dataset()\n",
    "X"
   ]
  },
  {
   "cell_type": "code",
   "execution_count": 42,
   "id": "a4e97710",
   "metadata": {},
   "outputs": [],
   "source": [
    "# X = X[[\"max_ESR\", \"gender\", \"age\"]].dropna()\n",
    "# X[\"ref_ESR\"] = X[\"max_ESR\"] < 20\n",
    "# X = X[(X[\"gender\"] == 1) & (X[\"age\"] > 50)].reset_index()\n",
    "# y = y[X.index]\n",
    "\n",
    "# feat = \"ref_ESR\"  # Wuhan"
   ]
  },
  {
   "cell_type": "code",
   "execution_count": 45,
   "id": "2a863061",
   "metadata": {},
   "outputs": [
    {
     "data": {
      "text/plain": [
       "<matplotlib.legend.Legend at 0x2231c40cdc0>"
      ]
     },
     "execution_count": 45,
     "metadata": {},
     "output_type": "execute_result"
    },
    {
     "data": {
      "image/png": "[encoded data removed]",
      "text/plain": [
       "<Figure size 432x288 with 1 Axes>"
      ]
     },
     "metadata": {
      "needs_background": "light"
     },
     "output_type": "display_data"
    }
   ],
   "source": [
    "feat = \"menostat\"  # GBSG (menostat)\n",
    "# feat = \"sex\"  # PBC\n",
    "\n",
    "bins = np.unique(y[\"time\"])\n",
    "\n",
    "fig = plt.figure()\n",
    "for v in np.unique(X[feat]):\n",
    "    index = X.query(f\"{feat} == {v}\").index\n",
    "    \n",
    "    kmf = KaplanMeierFitter()\n",
    "    kmf.fit(y[index]['time'], event_observed=y[index]['cens'])\n",
    "    sf_train = kmf.survival_function_at_times(bins).to_numpy()\n",
    "    plt.plot(bins, sf_train, label=f\"{feat}={v}\")\n",
    "plt.ylabel(\"Survival Probability\")\n",
    "plt.xlabel(\"Timeline\")\n",
    "plt.legend()"
   ]
  },
  {
   "cell_type": "code",
   "execution_count": 50,
   "id": "9875b31e",
   "metadata": {},
   "outputs": [
    {
     "data": {
      "text/plain": [
       "<matplotlib.legend.Legend at 0x2231c424d00>"
      ]
     },
     "execution_count": 50,
     "metadata": {},
     "output_type": "execute_result"
    },
    {
     "data": {
      "image/png": "[encoded data removed]",
      "text/plain": [
       "<Figure size 432x288 with 1 Axes>"
      ]
     },
     "metadata": {
      "needs_background": "light"
     },
     "output_type": "display_data"
    }
   ],
   "source": [
    "from lifelines import CoxPHFitter\n",
    "df = X[[feat]].copy()\n",
    "df[\"time\"] = y[\"time\"]\n",
    "df[\"cens\"] = y[\"cens\"]\n",
    "\n",
    "cph = CoxPHFitter().fit(df, 'time', 'cens')  # strata=[feat]\n",
    "cph.plot_partial_effects_on_outcome(feat, plot_baseline=False, \n",
    "                                    values=np.unique(X[feat]))\n",
    "plt.ylabel(\"Survival Probability\")\n",
    "plt.xlabel(\"Timeline\")\n",
    "plt.legend()"
   ]
  },
  {
   "cell_type": "code",
   "execution_count": 51,
   "id": "49fcfa2c",
   "metadata": {},
   "outputs": [
    {
     "name": "stdout",
     "output_type": "stream",
     "text": [
      "The ``p_value_threshold`` is set at 0.05. Even under the null hypothesis of no violations, some\n",
      "covariates will be below the threshold by chance. This is compounded when there are many covariates.\n",
      "Similarly, when there are lots of observations, even minor deviances from the proportional hazard\n",
      "assumption will be flagged.\n",
      "\n",
      "With that in mind, it's best to use a combination of statistical tests and visual tests to determine\n",
      "the most serious violations. Produce visual plots using ``check_assumptions(..., show_plots=True)``\n",
      "and looking for non-constant lines. See link [A] below for a full example.\n",
      "\n"
     ]
    },
    {
     "name": "stderr",
     "output_type": "stream",
     "text": [
      "C:\\ProgramData\\Anaconda3\\envs\\survive\\lib\\site-packages\\lifelines\\fitters\\mixins.py:108: FutureWarning: Index.__and__ operating as a set operation is deprecated, in the future this will be a logical operation matching Series.__and__.  Use index.intersection(other) instead.\n",
      "  for variable in self.params_.index & (columns or self.params_.index):\n",
      "C:\\ProgramData\\Anaconda3\\envs\\survive\\lib\\site-packages\\lifelines\\statistics.py:143: FutureWarning: In future versions `DataFrame.to_latex` is expected to utilise the base implementation of `Styler.to_latex` for formatting and rendering. The arguments signature may therefore change. It is recommended instead to use `DataFrame.style.to_latex` which also contains additional functionality.\n",
      "  return self.summary.to_latex()\n"
     ]
    },
    {
     "data": {
      "text/html": [
       "<div>\n",
       "<style scoped>\n",
       "    .dataframe tbody tr th:only-of-type {\n",
       "        vertical-align: middle;\n",
       "    }\n",
       "\n",
       "    .dataframe tbody tr th {\n",
       "        vertical-align: top;\n",
       "    }\n",
       "\n",
       "    .dataframe thead th {\n",
       "        text-align: right;\n",
       "    }\n",
       "</style>\n",
       "<table border=\"1\" class=\"dataframe\">\n",
       "  <tbody>\n",
       "    <tr>\n",
       "      <th>null_distribution</th>\n",
       "      <td>chi squared</td>\n",
       "    </tr>\n",
       "    <tr>\n",
       "      <th>degrees_of_freedom</th>\n",
       "      <td>1</td>\n",
       "    </tr>\n",
       "    <tr>\n",
       "      <th>model</th>\n",
       "      <td>&lt;lifelines.CoxPHFitter: fitted with 686 total ...</td>\n",
       "    </tr>\n",
       "    <tr>\n",
       "      <th>test_name</th>\n",
       "      <td>proportional_hazard_test</td>\n",
       "    </tr>\n",
       "  </tbody>\n",
       "</table>\n",
       "</div><table border=\"1\" class=\"dataframe\">\n",
       "  <thead>\n",
       "    <tr style=\"text-align: right;\">\n",
       "      <th></th>\n",
       "      <th></th>\n",
       "      <th>test_statistic</th>\n",
       "      <th>p</th>\n",
       "      <th>-log2(p)</th>\n",
       "    </tr>\n",
       "  </thead>\n",
       "  <tbody>\n",
       "    <tr>\n",
       "      <th rowspan=\"2\" valign=\"top\">menostat</th>\n",
       "      <th>km</th>\n",
       "      <td>6.53</td>\n",
       "      <td>0.01</td>\n",
       "      <td>6.56</td>\n",
       "    </tr>\n",
       "    <tr>\n",
       "      <th>rank</th>\n",
       "      <td>6.89</td>\n",
       "      <td>0.01</td>\n",
       "      <td>6.85</td>\n",
       "    </tr>\n",
       "  </tbody>\n",
       "</table>"
      ],
      "text/latex": [
       "\\begin{tabular}{llrrr}\n",
       "\\toprule\n",
       "         &      &  test\\_statistic &         p &  -log2(p) \\\\\n",
       "\\midrule\n",
       "menostat & km &        6.533675 &  0.010585 &  6.561821 \\\\\n",
       "         & rank &        6.892968 &  0.008654 &  6.852493 \\\\\n",
       "\\bottomrule\n",
       "\\end{tabular}\n"
      ],
      "text/plain": [
       "<lifelines.StatisticalResult: proportional_hazard_test>\n",
       " null_distribution = chi squared\n",
       "degrees_of_freedom = 1\n",
       "             model = <lifelines.CoxPHFitter: fitted with 686 total observations, 387 right-censored observations>\n",
       "         test_name = proportional_hazard_test\n",
       "\n",
       "---\n",
       "               test_statistic    p  -log2(p)\n",
       "menostat km              6.53 0.01      6.56\n",
       "         rank            6.89 0.01      6.85"
      ]
     },
     "metadata": {},
     "output_type": "display_data"
    },
    {
     "name": "stdout",
     "output_type": "stream",
     "text": [
      "\n",
      "\n",
      "1. Variable 'menostat' failed the non-proportional test: p-value is 0.0087.\n",
      "\n",
      "   Advice: with so few unique values (only 2), you can include `strata=['menostat', ...]` in the\n",
      "call in `.fit`. See documentation in link [E] below.\n",
      "\n",
      "---\n",
      "[A]  https://lifelines.readthedocs.io/en/latest/jupyter_notebooks/Proportional%20hazard%20assumption.html\n",
      "[B]  https://lifelines.readthedocs.io/en/latest/jupyter_notebooks/Proportional%20hazard%20assumption.html#Bin-variable-and-stratify-on-it\n",
      "[C]  https://lifelines.readthedocs.io/en/latest/jupyter_notebooks/Proportional%20hazard%20assumption.html#Introduce-time-varying-covariates\n",
      "[D]  https://lifelines.readthedocs.io/en/latest/jupyter_notebooks/Proportional%20hazard%20assumption.html#Modify-the-functional-form\n",
      "[E]  https://lifelines.readthedocs.io/en/latest/jupyter_notebooks/Proportional%20hazard%20assumption.html#Stratification\n",
      "\n"
     ]
    },
    {
     "data": {
      "text/plain": [
       "[]"
      ]
     },
     "execution_count": 51,
     "metadata": {},
     "output_type": "execute_result"
    },
    {
     "data": {
      "text/plain": [
       "<Figure size 1008x504 with 0 Axes>"
      ]
     },
     "metadata": {},
     "output_type": "display_data"
    }
   ],
   "source": [
    "plt.figure(figsize=(14, 7))\n",
    "cph.check_assumptions(df, p_value_threshold=0.05)"
   ]
  },
  {
   "cell_type": "code",
   "execution_count": 52,
   "id": "2b42461a",
   "metadata": {},
   "outputs": [],
   "source": [
    "from typing import List, Optional, Dict, Any, Iterable\n",
    "from textwrap import dedent, fill\n",
    "from autograd import numpy as anp\n",
    "import numpy as np\n",
    "from pandas import DataFrame, Series\n",
    "from lifelines.statistics import proportional_hazard_test, TimeTransformers\n",
    "from lifelines.utils import format_p_value\n",
    "from lifelines.utils.lowess import lowess\n",
    "\n",
    "\n",
    "def plot_assumptions(cph,\n",
    "        training_df: DataFrame,\n",
    "        p_value_threshold: float = 0.01,\n",
    "        plot_n_bootstraps: int = 15,\n",
    "        columns: Optional[List[str]] = None):    \n",
    "    residuals = cph.compute_residuals(training_df, kind=\"scaled_schoenfeld\")\n",
    "    test_results = proportional_hazard_test(cph, training_df, time_transform=[\"rank\", \"km\"], precomputed_residuals=residuals)\n",
    "\n",
    "    residuals_and_duration = residuals.join(training_df[cph.duration_col])\n",
    "    Xs = cph.regressors.transform_df(training_df)\n",
    "\n",
    "    counter = 0\n",
    "    n = residuals_and_duration.shape[0]\n",
    "    axes = []\n",
    "\n",
    "    for variable in cph.params_.index.intersection(columns or cph.params_.index):\n",
    "        minumum_observed_p_value = test_results.summary.loc[variable, \"p\"].min()\n",
    "        if np.round(minumum_observed_p_value, 2) > p_value_threshold:\n",
    "            continue\n",
    "        counter += 1\n",
    "        # show plots\n",
    "        axes.append([])\n",
    "        fig = plt.figure(figsize=(14, 7))\n",
    "\n",
    "        # plot variable against all time transformations.\n",
    "        for i, (transform_name, transformer) in enumerate(TimeTransformers().iter([\"rank\", \"km\"]), start=1):\n",
    "            p_value = test_results.summary.loc[(variable, transform_name), \"p\"]\n",
    "\n",
    "            ax = fig.add_subplot(1, 2, i)\n",
    "\n",
    "            y = residuals_and_duration[variable]\n",
    "            tt = transformer(cph.durations, cph.event_observed, cph.weights)[cph.event_observed.values]\n",
    "\n",
    "            ax.scatter(tt, y, alpha=0.75)\n",
    "\n",
    "            y_lowess = lowess(tt.values, y.values)\n",
    "            ax.plot(tt, y_lowess, color=\"k\", alpha=1.0, linewidth=2)\n",
    "\n",
    "            # bootstrap some possible other lowess lines. This is an approximation of the 100% confidence intervals\n",
    "            for _ in range(plot_n_bootstraps):\n",
    "                ix = sorted(np.random.choice(n, n))\n",
    "                tt_ = tt.values[ix]\n",
    "                y_lowess = lowess(tt_, y.values[ix])\n",
    "                ax.plot(tt_, y_lowess, color=\"k\", alpha=0.30)\n",
    "\n",
    "            best_xlim = ax.get_xlim()\n",
    "            ax.hlines(0, 0, tt.max(), linestyles=\"dashed\", linewidths=1)\n",
    "            ax.set_xlim(best_xlim)\n",
    "\n",
    "            ax.set_xlabel(\"%s-transformed time\\n(p=%.4f)\" % (transform_name, p_value), fontsize=13)\n",
    "            axes[-1].append(ax)\n",
    "\n",
    "        fig.suptitle(\"Scaled Schoenfeld residuals of '%s'\" % variable, fontsize=14)\n",
    "        plt.tight_layout()\n",
    "#         plt.subplots_adjust(top=0.90)"
   ]
  },
  {
   "cell_type": "code",
   "execution_count": null,
   "id": "e8610655",
   "metadata": {},
   "outputs": [],
   "source": [
    "plot_assumptions(cph, df, p_value_threshold=0.05)"
   ]
  },
  {
   "cell_type": "code",
   "execution_count": null,
   "id": "7c98c388",
   "metadata": {},
   "outputs": [],
   "source": []
  }
 ],
 "metadata": {
  "kernelspec": {
   "display_name": "Python 3 (ipykernel)",
   "language": "python",
   "name": "python3"
  },
  "language_info": {
   "codemirror_mode": {
    "name": "ipython",
    "version": 3
   },
   "file_extension": ".py",
   "mimetype": "text/x-python",
   "name": "python",
   "nbconvert_exporter": "python",
   "pygments_lexer": "ipython3",
   "version": "3.10.4"
  }
 },
 "nbformat": 4,
 "nbformat_minor": 5
}
