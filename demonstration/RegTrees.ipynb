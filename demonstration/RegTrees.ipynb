{
 "cells": [
  {
   "cell_type": "code",
   "execution_count": 33,
   "id": "28ddd2e4",
   "metadata": {},
   "outputs": [
    {
     "name": "stdout",
     "output_type": "stream",
     "text": [
      "The line_profiler extension is already loaded. To reload it, use:\n",
      "  %reload_ext line_profiler\n",
      "The scalene extension is already loaded. To reload it, use:\n",
      "  %reload_ext scalene\n"
     ]
    }
   ],
   "source": [
    "import pandas as pd\n",
    "import numpy as np\n",
    "import os\n",
    "import time\n",
    "import copy\n",
    "import pathlib, tempfile\n",
    "\n",
    "import matplotlib.pyplot as plt\n",
    "import seaborn as sns\n",
    "sns.set()\n",
    "from joblib import Parallel, delayed\n",
    "from scipy import stats\n",
    "\n",
    "from survivors import metrics as metr\n",
    "from survivors import constants as cnt\n",
    "from survivors import criteria as crit\n",
    "from numba import njit, jit, int32, float64\n",
    "from lifelines import KaplanMeierFitter, NelsonAalenFitter\n",
    "from lifelines.utils import concordance_index\n",
    "\n",
    "from survivors.ensemble import BootstrapCRAID\n",
    "import survivors.datasets as ds\n",
    "\n",
    "import cProfile\n",
    "import pstats\n",
    "\n",
    "%load_ext line_profiler\n",
    "%load_ext scalene"
   ]
  },
  {
   "cell_type": "code",
   "execution_count": 837,
   "id": "af721318",
   "metadata": {},
   "outputs": [],
   "source": [
    "from scipy.signal import find_peaks, peak_widths\n",
    "\n",
    "def max_width_peaks(x):\n",
    "    peaks, _ = find_peaks(x)\n",
    "    if len(peaks) > 1:\n",
    "        distances = np.diff(peaks)\n",
    "        return max(distances)\n",
    "    return 0"
   ]
  },
  {
   "cell_type": "code",
   "execution_count": 1095,
   "id": "ae7e3e05",
   "metadata": {},
   "outputs": [],
   "source": [
    "import numpy as np\n",
    "from numba import njit\n",
    "\n",
    "from scipy import stats\n",
    "from survivors.tree.stratified_model import KaplanMeier, FullProbKM, NelsonAalen, KaplanMeierZeroAfter\n",
    "from survivors.metrics import ibs_WW, auprc\n",
    "from survivors.constants import get_y\n",
    "\n",
    "\"\"\" Auxiliary functions \"\"\"\n",
    "\n",
    "\n",
    "@njit('f4(f4[:], f4[:], f4[:], f4[:], u4, f4[:])', cache=True)\n",
    "def lr_hist_statistic(time_hist_1, time_hist_2, cens_hist_1, cens_hist_2,\n",
    "                      weightings, obs_weights):\n",
    "    N_1_j = np.cumsum(time_hist_1[::-1])[::-1]\n",
    "    N_2_j = np.cumsum(time_hist_2[::-1])[::-1]\n",
    "    ind = np.where((cens_hist_1 + cens_hist_2 != 0) & (N_1_j * N_2_j != 0))[0]\n",
    "#     ind = np.where((cens_hist_1 + cens_hist_2 != 0) & (N_1_j + N_2_j > 0))[0]\n",
    "    if ind.shape[0] == 0:\n",
    "        return 0.0\n",
    "\n",
    "    N_1_j = N_1_j[ind]\n",
    "    N_2_j = N_2_j[ind]\n",
    "    O_1_j = cens_hist_1[ind]\n",
    "    O_2_j = cens_hist_2[ind]\n",
    "\n",
    "    N_j = N_1_j + N_2_j\n",
    "    O_j = O_1_j + O_2_j\n",
    "    E_1_j = N_1_j * O_j / N_j\n",
    "    \n",
    "    res = np.zeros((N_j.shape[0], 3), dtype=np.float32)\n",
    "    res[:, 1] = O_1_j - E_1_j\n",
    "    res[:, 2] = E_1_j * (N_j - O_j) * N_2_j / (N_j * (N_j))  # N_j\n",
    "    \n",
    "    res[:, 0] = 1.0\n",
    "    if weightings == 2:\n",
    "        res[:, 0] = N_j\n",
    "    elif weightings == 3:\n",
    "        res[:, 0] = np.sqrt(N_j)\n",
    "    elif weightings == 4:\n",
    "        res[:, 0] = np.cumprod((1.0 - O_j / (N_j + 1)))\n",
    "    elif weightings == 5:\n",
    "        res[:, 0] = obs_weights[ind]\n",
    "    elif weightings == 6:\n",
    "        res[:, 0] = O_j/N_j\n",
    "    elif weightings == 7:\n",
    "        res[:, 0] = np.cumprod((1.0 - O_j / (N_j + 1)))\n",
    "    elif weightings == 8:\n",
    "        res[:, 0] = N_j/(N_1_j*N_2_j)\n",
    "#     var = np.trapz((res[:, 0] * res[:, 0] * res[:, 2]), bins[ind])\n",
    "#     num = np.trapz((res[:, 0] * res[:, 1]), bins[ind])\n",
    "    var = (res[:, 0] * res[:, 0] * res[:, 2]).sum()\n",
    "    num = (res[:, 0] * res[:, 1]).sum()\n",
    "    \n",
    "    if var == 0:\n",
    "        return 0\n",
    "    stat_val = np.power(num, 2) / var\n",
    "    \n",
    "#     var2 = (res[::-1, 0] * res[::-1, 0] * res[:, 2]).sum()\n",
    "#     num2 = (res[::-1, 0] * res[:, 1]).sum()\n",
    "#     stat_val += np.power(num2, 2) / var2\n",
    "\n",
    "    if weightings == 7:\n",
    "        res[:, 0] = 1 - res[:, 0]\n",
    "        stat_val2 = np.power((res[:, 0] * res[:, 1]).sum(), 2) / ((res[:, 0] * res[:, 0] * res[:, 2]).sum())\n",
    "        stat_val = max(stat_val, stat_val2)\n",
    "    return stat_val\n",
    "\n",
    "def weight_hist_stat(time_hist_1, time_hist_2, cens_hist_1=None, cens_hist_2=None, \n",
    "                     weights_hist=None, weightings=\"\"):\n",
    "    try:\n",
    "        if cens_hist_1 is None:\n",
    "            cens_hist_1 = time_hist_1\n",
    "        if cens_hist_2 is None:\n",
    "            cens_hist_2 = time_hist_2\n",
    "        if weights_hist is None:\n",
    "            weights_hist = np.ones_like(time_hist_1)\n",
    "        d = {\"logrank\": 1, \"wilcoxon\": 2, \"tarone-ware\": 3, \"peto\": 4, \"weights\": 5}\n",
    "        d.update({\"diff\": 6, \"maxcombo\": 7, \"frac\": 8})\n",
    "        weightings = d.get(weightings, 1)\n",
    "        \n",
    "        logrank = lr_hist_statistic(time_hist_1.astype(\"float32\"),\n",
    "                            time_hist_2.astype(\"float32\"),\n",
    "                            cens_hist_1.astype(\"float32\"),\n",
    "                            cens_hist_2.astype(\"float32\"),\n",
    "                            np.uint32(weightings),\n",
    "                            weights_hist.astype(\"float32\")\n",
    "                           ) \n",
    "        return logrank\n",
    "    except Exception as err:\n",
    "        print(err)\n",
    "        return 0.0\n",
    "\n",
    "    \n",
    "def optimal_criter_split_hist(left_time_hist, left_cens_hist,\n",
    "                              right_time_hist, right_cens_hist,\n",
    "                              na_time_hist, na_cens_hist, weights_hist, criterion, dis_coef, \n",
    "                              apr_t_distr, apr_e_distr, l_reg):\n",
    "    none_to = 0\n",
    "    max_stat_val = 1.0\n",
    "    \n",
    "#     n1 = np.cumsum(left_time_hist[::-1])[::-1] + 1\n",
    "#     n2 = np.cumsum(right_time_hist[::-1])[::-1] + 1\n",
    "#     cf = n1/(n1 + n2)\n",
    "    cf = 0.5\n",
    "    \n",
    "#     n1 = np.sum(left_time_hist)\n",
    "#     n2 = np.sum(right_time_hist)\n",
    "#     cf = n1/(n1 + n2)\n",
    "    \n",
    "#     ev = np.sum(left_cens_hist + right_cens_hist)\n",
    "#     ev_cf = ev/(n1 + n2)\n",
    "#     lstd = np.std(np.repeat(np.arange(left_time_hist.size), left_time_hist.astype(int)))\n",
    "#     rstd = np.std(np.repeat(np.arange(right_time_hist.size), right_time_hist.astype(int)))\n",
    "    \n",
    "    if na_time_hist.shape[0] > 0:\n",
    "        a = weight_hist_stat(left_time_hist + na_time_hist + l_reg*apr_t_distr*cf, \n",
    "                             right_time_hist + l_reg*apr_t_distr*(1 - cf),\n",
    "                             left_cens_hist + na_cens_hist + l_reg*apr_e_distr*cf, \n",
    "                             right_cens_hist + l_reg*apr_e_distr*(1 - cf),\n",
    "                             weights_hist, weightings=criterion)\n",
    "        b = weight_hist_stat(left_time_hist + l_reg*apr_t_distr*cf, \n",
    "                             right_time_hist + na_time_hist + l_reg*apr_t_distr*(1 - cf),\n",
    "                             left_cens_hist + l_reg*apr_e_distr*cf,\n",
    "                             right_cens_hist + na_cens_hist + l_reg*apr_e_distr*(1 - cf),\n",
    "                             weights_hist, weightings=criterion)\n",
    "        # Nans move to a leaf with maximal statistical value\n",
    "        none_to = int(a < b)\n",
    "        max_stat_val = max(a, b)\n",
    "    else:\n",
    "        max_stat_val = weight_hist_stat(left_time_hist + l_reg*apr_t_distr*cf,\n",
    "                                        right_time_hist + l_reg*apr_t_distr*(1 - cf),\n",
    "                                        left_cens_hist + l_reg*apr_e_distr*cf, \n",
    "                                        right_cens_hist + l_reg*apr_e_distr*(1 - cf),\n",
    "                                        weights_hist, weightings=criterion)\n",
    "    return (max_stat_val, none_to)\n",
    "\n",
    "\n",
    "def get_attrs(max_stat_val, values, none_to, l_sh, r_sh, nan_sh, stat_diff=None):\n",
    "    attrs = dict()\n",
    "    attrs[\"stat_val\"] = max_stat_val\n",
    "    attrs[\"values\"] = values\n",
    "    attrs[\"stat_diff\"] = stat_diff \n",
    "    if none_to:\n",
    "        attrs[\"pos_nan\"] = [0, 1]\n",
    "        attrs[\"min_split\"] = min(l_sh, r_sh + nan_sh)\n",
    "    else:\n",
    "        attrs[\"pos_nan\"] = [1, 0]\n",
    "        attrs[\"min_split\"] = min(l_sh + nan_sh, r_sh)\n",
    "    return attrs\n",
    "\n",
    "\n",
    "def transform_woe_np(x_feat, y):\n",
    "    N_T = y.shape[0]\n",
    "    N_D = y.sum()\n",
    "    N_D_ = N_T - N_D\n",
    "    x_uniq = np.unique(x_feat)\n",
    "    x_dig = np.digitize(x_feat, x_uniq) - 1\n",
    "\n",
    "    df_woe_iv = np.vstack([np.bincount(x_dig[y == 0], minlength=x_uniq.shape[0]),\n",
    "                           np.bincount(x_dig[y == 1], minlength=x_uniq.shape[0])])\n",
    "    all_0 = df_woe_iv[0].sum()\n",
    "    all_1 = df_woe_iv[1].sum()\n",
    "\n",
    "    p_bd = (df_woe_iv[1] + 1e-5) / (N_D + 1e-5)\n",
    "    p_bd_ = (df_woe_iv[0] + 1e-5) / (N_D_ + 1e-5)\n",
    "    p_b_d = (all_1 - df_woe_iv[1] + 1e-5) / (N_D + 1e-5)\n",
    "    p_b_d_ = (all_0 - df_woe_iv[0] + 1e-5) / (N_D_ + 1e-5)\n",
    "\n",
    "    woe_pl = np.log(p_bd / p_bd_)\n",
    "    woe_mn = np.log(p_b_d / p_b_d_)\n",
    "    descr_np = np.vstack([x_uniq, woe_pl - woe_mn])\n",
    "    features_woe = dict(zip(descr_np[0], descr_np[1]))\n",
    "    woe_x_feat = np.vectorize(features_woe.get)(x_feat)\n",
    "    return (woe_x_feat, descr_np)\n",
    "\n",
    "\n",
    "def get_sa_hists(time, cens, minlength=1, weights=None):\n",
    "    if time.shape[0] > 0:\n",
    "        time_hist = np.bincount(time, minlength=minlength)\n",
    "        cens_hist = np.bincount(time, weights=cens, minlength=minlength)\n",
    "    else:\n",
    "        time_hist, cens_hist = np.array([]), np.array([])\n",
    "    return time_hist, cens_hist\n",
    "\n",
    "\n",
    "def select_best_split_info(attr_dicts, type_attr, bonf=True, descr_woe=None):  \n",
    "#     print(sorted([np.round(x[\"stat_diff\"], 3) for x in attr_dicts]))\n",
    "    \n",
    "#     attr_dicts = sorted(attr_dicts, key=lambda x: abs(x[\"stat_diff\"]), reverse=True)[:max(1, len(attr_dicts)//2)]\n",
    "#     attr_dicts = sorted(attr_dicts, key=lambda x: abs(x[\"stat_diff\"]), reverse=True)[:max(1, len(attr_dicts) - 2)]\n",
    "#     attr_dicts = sorted(attr_dicts, key=lambda x: abs(x[\"stat_diff\"]))[:max(1, len(attr_dicts)//2)]\n",
    "    best_attr = max(attr_dicts, key=lambda x: x[\"stat_val\"])\n",
    "                                                                       \n",
    "    best_attr[\"p_value\"] = stats.chi2.sf(best_attr[\"stat_val\"], df=1)\n",
    "    best_attr[\"sign_split\"] = len(attr_dicts)\n",
    "    if best_attr[\"sign_split\"] > 0:\n",
    "        best_attr[\"src_val\"] = best_attr['values']\n",
    "        if type_attr == \"cont\":\n",
    "            best_attr[\"values\"] = [f\" <= {best_attr['values']}\", f\" > {best_attr['values']}\"]\n",
    "        elif type_attr == \"woe\" or type_attr == \"categ\":\n",
    "            ind = descr_woe[1] <= best_attr[\"values\"]\n",
    "            l, r = list(descr_woe[0, ind]), list(descr_woe[0, ~ind])\n",
    "            best_attr[\"values\"] = [f\" in {e}\" for e in [l, r]]\n",
    "        if bonf:\n",
    "            best_attr[\"p_value\"] *= best_attr[\"sign_split\"]\n",
    "    return best_attr\n",
    "\n",
    "\n",
    "def split_time_to_bins(time, apr_times=None):\n",
    "#     if apr_times is None:\n",
    "#         return np.searchsorted(np.unique(time), time)\n",
    "#     return np.searchsorted(np.unique(apr_times), time)\n",
    "#     return np.searchsorted(np.quantile(apr_times, np.arange(6)/5), time)\n",
    "    if apr_times is None:\n",
    "        return np.searchsorted(np.arange(int(time.min() - 1), int(time.max() + 1)), time)\n",
    "    return np.searchsorted(np.arange(int(apr_times.min() - 1), int(apr_times.max() + 1)), time)\n",
    "\n",
    "\n",
    "def ranksums_hist(x, y):\n",
    "    n1 = np.sum(x)\n",
    "    n2 = np.sum(y)\n",
    "    rank = np.arange(1, x.shape[0] + 1)\n",
    "    s = np.dot(x, rank)\n",
    "#     print(s)\n",
    "    expected = n1 * (n1+n2+1) / 2.0\n",
    "    z = (s - expected) / np.sqrt(n1*n2*(n1+n2+1)/12.0)\n",
    "    return z\n",
    "\n",
    "def diptest_hist(x, y):\n",
    "    res = 0\n",
    "    if np.sum(x) > 0:\n",
    "        t1 = np.repeat(np.arange(1, x.size + 1), x.astype(int))\n",
    "        res = max(res, diptest.dipstat(t1))\n",
    "    if np.sum(y) > 0:\n",
    "        t2 = np.repeat(np.arange(1, y.size + 1), y.astype(int))\n",
    "        res = max(res, diptest.dipstat(t2))\n",
    "    return res\n",
    "\n",
    "def stdtest_hist(x, y):\n",
    "    res = 0\n",
    "    if np.sum(x) > 0:\n",
    "        t1 = np.repeat(np.arange(1, x.size + 1), x.astype(int))\n",
    "        res = max(res, t1.std())\n",
    "    if np.sum(y) > 0:\n",
    "        t2 = np.repeat(np.arange(1, y.size + 1), y.astype(int))\n",
    "        res = max(res, t2.std())\n",
    "    return res\n",
    "\n",
    "def iqrtest_hist(x, y):\n",
    "    res = 0\n",
    "    if np.sum(x) > 0:\n",
    "        t1 = np.repeat(np.arange(1, x.size + 1), x.astype(int))\n",
    "        res = max(res, stats.iqr(t1))\n",
    "    if np.sum(y) > 0:\n",
    "        t2 = np.repeat(np.arange(1, y.size + 1), y.astype(int))\n",
    "        res = max(res, stats.iqr(t2))\n",
    "    return res\n",
    "\n",
    "\n",
    "def count_sf_diff(time, cens):\n",
    "    c_time = np.cumsum(time[::-1])[::-1]\n",
    "    sf = np.cumprod((1.0 - cens / (c_time + 1)))\n",
    "    return np.sum(abs(sf - 0.5)) / sf.shape[0] # max(1, bins[-1] - bins[0])\n",
    "\n",
    "def cnttest_hist(time_1, cens_1, time_2, cens_2):\n",
    "    d1 = count_sf_diff(time_1, cens_1)\n",
    "    d2 = count_sf_diff(time_2, cens_2)\n",
    "    return min(d1, d2)\n",
    "\n",
    "def inverse_bincount_sf(time_hist, cens_hist):\n",
    "    evs = np.repeat(np.arange(1, time_hist.size + 1), cens_hist)\n",
    "    cns = np.repeat(np.arange(1, time_hist.size + 1), time_hist - cens_hist)\n",
    "    \n",
    "    return get_y(time=np.hstack([evs, cns]),\n",
    "               cens=np.hstack([np.ones_like(evs), np.zeros_like(cns)]))\n",
    "\n",
    "def ibstest_hist(time_1, cens_1, time_2, cens_2, bins):\n",
    "    y_1 = inverse_bincount_sf(time_1.astype(int), cens_1.astype(int))\n",
    "    y_2 = inverse_bincount_sf(time_2.astype(int), cens_2.astype(int))\n",
    "    \n",
    "    sf_1 = np.cumprod((1.0 - cens_1 / (time_1 + 1)))\n",
    "    sf_2 = np.cumprod((1.0 - cens_2 / (time_2 + 1)))\n",
    "    \n",
    "    sf_1 = np.repeat(sf_1[np.newaxis, :], y_1.shape[0], axis=0)\n",
    "    sf_2 = np.repeat(sf_2[np.newaxis, :], y_2.shape[0], axis=0)\n",
    "    \n",
    "    ibs_1 = metr.ibs_remain(y_1, y_1, sf_1, bins)\n",
    "    ibs_2 = metr.ibs_remain(y_2, y_2, sf_2, bins)\n",
    "    return max(ibs_1, ibs_2)\n",
    "\n",
    "def peaktest_hist(x, y):\n",
    "    return max(max_width_peaks(x), max_width_peaks(y))\n",
    "\n",
    "def mw_hist(x, y):\n",
    "    n1 = np.sum(x)\n",
    "    n2 = np.sum(y)\n",
    "    rank = np.arange(1, x.shape[0] + 1)\n",
    "    R1 = np.dot(x, rank)\n",
    "    U1 = R1 - n1*(n1+1)/2\n",
    "    U2 = n1 * n2 - U1\n",
    "\n",
    "    U = np.maximum(U1, U2)\n",
    "    return U\n",
    "\n",
    "def hist_best_attr_split(arr, criterion=\"logrank\", type_attr=\"cont\", weights=None, thres_cont_bin_max=100,\n",
    "                         signif=1.0, signif_stat=0.0, min_samples_leaf=10, bonf=True, verbose=0, balance=False, \n",
    "                         apr_time=None, apr_event=None, l_reg=0, **kwargs):\n",
    "    best_attr = {\"stat_val\": signif_stat, \"p_value\": signif,\n",
    "                 \"sign_split\": 0, \"values\": [], \"pos_nan\": [1, 0]}\n",
    "    if arr.shape[1] < 2 * min_samples_leaf:\n",
    "        return best_attr\n",
    "    vals = arr[0].astype(\"float\")\n",
    "    cens = arr[1].astype(\"uint\")\n",
    "    dur = arr[2].astype(\"float\")\n",
    "    \n",
    "    if np.sum(cens) == 0:\n",
    "        return best_attr\n",
    "    if weights is None:\n",
    "        weights = np.ones_like(dur)\n",
    "        \n",
    "    weights_hist = None\n",
    "    # time_bins = np.arange(int(dur.min() - 1), int(dur.max() + 1)) \n",
    "    dur = split_time_to_bins(dur, apr_time)\n",
    "    \n",
    "#     if apr_time is None:\n",
    "#         dur = split_time_to_bins(dur) #, apr_time)\n",
    "#     else:\n",
    "#         apr_time_1 = split_time_to_bins(apr_time, dur) #, apr_time)\n",
    "#         dur = split_time_to_bins(dur)\n",
    "    \n",
    "    if apr_time is None:\n",
    "#         time_bins = np.arange(int(dur.min() - 1), int(dur.max() + 1)) # np.unique(dur)\n",
    "        max_bin = dur.max()\n",
    "        apr_t_distr = np.zeros(max_bin + 1)\n",
    "        apr_e_distr = np.zeros(max_bin + 1)\n",
    "    else:\n",
    "        #time_bins = np.arange(int(apr_time.min() - 1), int(apr_time.max() + 1)) # np.unique(apr_time)\n",
    "        apr_time_1 = split_time_to_bins(apr_time, apr_time)\n",
    "        max_bin = apr_time_1.max()\n",
    "        apr_t_distr, apr_e_distr = get_sa_hists(apr_time_1, apr_event, minlength=max_bin + 1)\n",
    "    \n",
    "    ind = np.isnan(vals)\n",
    "\n",
    "    # split nan and not-nan\n",
    "    dur_notna = dur[~ind]\n",
    "    cens_notna = cens[~ind]\n",
    "    vals_notna = vals[~ind]\n",
    "    weights_notna = weights[~ind]\n",
    "\n",
    "    dis_coef = 1\n",
    "    if balance:\n",
    "        dis_coef = (cens.shape[0] - np.sum(cens)) / np.sum(cens)\n",
    "\n",
    "    if dur_notna.shape[0] < min_samples_leaf:\n",
    "        return best_attr\n",
    "\n",
    "    descr_woe = None\n",
    "    if type_attr == \"woe\" or type_attr == \"categ\":\n",
    "        vals_notna, descr_woe = transform_woe_np(vals_notna, cens_notna)\n",
    "\n",
    "    # find splitting values\n",
    "    uniq_set = np.unique(vals_notna)\n",
    "    if uniq_set.shape[0] > thres_cont_bin_max:\n",
    "        uniq_set = np.quantile(vals_notna, [i / float(thres_cont_bin_max) for i in range(1, thres_cont_bin_max)])\n",
    "    else:\n",
    "        uniq_set = (uniq_set[:-1] + uniq_set[1:]) * 0.5\n",
    "    uniq_set = np.unique(np.round(uniq_set, 3))\n",
    "\n",
    "    index_vals_bin = np.digitize(vals_notna, uniq_set, right=True)\n",
    "\n",
    "    # find global hist by times\n",
    "    na_time_hist, na_cens_hist = get_sa_hists(dur[ind], cens[ind],\n",
    "                                              minlength=max_bin + 1, weights=weights[ind])\n",
    "\n",
    "    r_time_hist, r_cens_hist = get_sa_hists(dur_notna, cens_notna,\n",
    "                                            minlength=max_bin + 1, weights=weights_notna)\n",
    "    l_time_hist = np.zeros_like(r_time_hist, dtype=np.float32)\n",
    "    l_cens_hist = l_time_hist.copy()\n",
    "    \n",
    "    num_nan = ind.sum()\n",
    "    num_r = dur_notna.shape[0]\n",
    "    num_l = 0\n",
    "\n",
    "    if criterion == \"confident\" or criterion == \"confident_weights\":\n",
    "        kmf = KaplanMeier()\n",
    "        if criterion == \"confident_weights\":\n",
    "            kmf.fit(dur, cens, weights=weights)\n",
    "        else:\n",
    "            kmf.fit(dur, cens)\n",
    "        ci = kmf.get_confidence_interval_()\n",
    "        weights_hist = 1 / (ci[1:, 1] - ci[1:, 0] + 1)  # (ci[1:, 1] + ci[1:, 0] + 1e-5)\n",
    "        criterion = \"weights\"\n",
    "    elif criterion == \"fullprob\":\n",
    "        kmf = FullProbKM()\n",
    "        kmf.fit(dur, cens)\n",
    "        weights_hist = kmf.survival_function_at_times(np.unique(dur))\n",
    "        criterion = \"weights\"\n",
    "    elif criterion == \"ibswei\":\n",
    "        kmf = KaplanMeierZeroAfter()\n",
    "        dur_ = arr[2].copy()\n",
    "        kmf.fit(dur_, cens)\n",
    "\n",
    "        dd = np.unique(dur_)\n",
    "        sf = kmf.survival_function_at_times(dd)\n",
    "        sf = np.repeat(sf[np.newaxis, :], dd.shape[0], axis=0)\n",
    "\n",
    "        y_ = get_y(cens=np.ones_like(dd), time=dd)\n",
    "        y_[\"cens\"] = True\n",
    "        weights_hist = ibs_WW(y_, y_, sf, dd, axis=0)\n",
    "        weights_hist = np.cumsum(weights_hist[::-1])[::-1]\n",
    "        criterion = \"weights\"\n",
    "    elif criterion == \"T-ET\":\n",
    "        kmf = KaplanMeierZeroAfter()\n",
    "        dur_ = arr[2].copy()\n",
    "        kmf.fit(dur_, cens)\n",
    "\n",
    "        dd = np.unique(dur_)\n",
    "        ET = np.trapz(kmf.survival_function_at_times(dd), dd)\n",
    "        weights_hist = (dd - ET)  # **2\n",
    "        criterion = \"weights\"\n",
    "    elif criterion == \"kde\":\n",
    "        na = NelsonAalen()\n",
    "        na.fit(dur, cens, np.ones(len(dur)))\n",
    "        weights_hist = na.get_smoothed_hazard_at_times(np.unique(dur))\n",
    "        criterion = \"weights\"\n",
    "    elif criterion == \"weights\":\n",
    "        weights_hist = np.bincount(dur, weights=weights,\n",
    "                                   minlength=max_bin + 1)\n",
    "        weights_hist = np.cumsum(weights_hist[::-1])[::-1]\n",
    "\n",
    "        weights_hist = weights_hist / weights_hist.sum()\n",
    "\n",
    "    # for each split values get branches\n",
    "    attr_dicts = []\n",
    "    \n",
    "    for u in np.unique(index_vals_bin):\n",
    "        curr_mask = index_vals_bin == u\n",
    "        curr_n = curr_mask.sum()\n",
    "        curr_time_hist, curr_cens_hist = get_sa_hists(dur_notna[curr_mask], cens_notna[curr_mask],\n",
    "                                                      minlength=max_bin + 1, weights=weights_notna[curr_mask])\n",
    "        l_time_hist += curr_time_hist\n",
    "        l_cens_hist += curr_cens_hist\n",
    "        r_time_hist -= curr_time_hist\n",
    "        r_cens_hist -= curr_cens_hist\n",
    "        num_l += curr_n\n",
    "        num_r -= curr_n\n",
    "\n",
    "        if min(num_l, num_r) <= min_samples_leaf:\n",
    "            continue\n",
    "            \n",
    "#         plt.plot(l_time_hist)\n",
    "#         plt.plot(r_time_hist)\n",
    "#         plt.plot(apr_t_distr)\n",
    "#         plt.show()\n",
    "        \n",
    "        max_stat_val, none_to = optimal_criter_split_hist(\n",
    "            l_time_hist, l_cens_hist, r_time_hist, r_cens_hist,\n",
    "            na_time_hist, na_cens_hist, weights_hist, criterion, dis_coef, \n",
    "            apr_t_distr, apr_e_distr, l_reg)\n",
    "        \n",
    "        if max_stat_val > signif_stat:\n",
    "            stat_diff = 1\n",
    "#             if na_time_hist.shape[0] > 0:\n",
    "#                 stat_diff = diptest_hist((l_time_hist + (1 - none_to)*na_time_hist), \n",
    "#                                          (r_time_hist + none_to*na_time_hist))\n",
    "#             else:\n",
    "#                 stat_diff = diptest_hist(l_time_hist,\n",
    "#                                          r_time_hist)\n",
    "\n",
    "            if na_time_hist.shape[0] > 0:\n",
    "                stat_diff = cnttest_hist((l_time_hist + (1 - none_to)*na_time_hist), \n",
    "                                         (l_cens_hist + (1 - none_to)*na_cens_hist), \n",
    "                                         (r_time_hist + none_to*na_time_hist),\n",
    "                                         (r_cens_hist + none_to*na_cens_hist))\n",
    "            else:\n",
    "                stat_diff = cnttest_hist(l_time_hist, l_cens_hist, r_time_hist, r_cens_hist)\n",
    "    \n",
    "            attr_loc = get_attrs(max_stat_val, uniq_set[u], none_to, num_l, num_r, num_nan, stat_diff)\n",
    "            attr_dicts.append(attr_loc)\n",
    "            \n",
    "#     attr_dicts = list(filter(lambda x: x[\"stat_diff\"] < 0.5, attr_dicts))\n",
    "    if len(attr_dicts) == 0:\n",
    "            return best_attr\n",
    "    \n",
    "    if na_time_hist.shape[0] > 0:\n",
    "        sh_diff = count_sf_diff(r_time_hist + l_time_hist + na_time_hist, \n",
    "                                r_cens_hist + l_cens_hist + na_cens_hist)\n",
    "    else:\n",
    "        sh_diff = count_sf_diff(r_time_hist + l_time_hist, \n",
    "                                r_cens_hist + l_cens_hist)\n",
    "    \n",
    "#     plt.hist([v[\"stat_diff\"] for v in attr_dicts])\n",
    "#     xmin, xmax, ymin, ymax = plt.axis()\n",
    "    \n",
    "#     plt.vlines([sh_diff], ymin=0, ymax=ymax, color=\"red\")\n",
    "#     plt.show()\n",
    "    attr_dicts = list(filter(lambda x: x[\"stat_diff\"] > sh_diff/2, attr_dicts))\n",
    "    if len(attr_dicts) == 0:\n",
    "        return best_attr\n",
    "    \n",
    "    best_attr = select_best_split_info(attr_dicts, type_attr, bonf, descr_woe=descr_woe)\n",
    "    \n",
    "    if verbose > 0:\n",
    "        print(best_attr[\"p_value\"], len(uniq_set))\n",
    "    return best_attr"
   ]
  },
  {
   "cell_type": "code",
   "execution_count": 1096,
   "id": "f03e8750",
   "metadata": {},
   "outputs": [
    {
     "data": {
      "text/plain": [
       "[{'a': 8}, {'a': 5}, {'a': 1}]"
      ]
     },
     "execution_count": 1096,
     "metadata": {},
     "output_type": "execute_result"
    }
   ],
   "source": [
    "attr_dicts = [{\"a\": 1}, {\"a\": 0.4}, {\"a\": 0.3}, {\"a\": 0.1}, {\"a\": 5}, {\"a\": 8}]\n",
    "\n",
    "sorted(attr_dicts, key=lambda x: abs(x[\"a\"]), reverse=True)[:max(1, len(attr_dicts)//2)]\n",
    "# list(filter(lambda x: x[\"a\"] > 3, attr_dicts))"
   ]
  },
  {
   "cell_type": "code",
   "execution_count": 1097,
   "id": "b2516e29",
   "metadata": {},
   "outputs": [],
   "source": [
    "from survivors.tree.node import Node, Rule\n",
    "from survivors.tree import CRAID\n",
    "\n",
    "class Node1(Node):\n",
    "    def find_best_split(self):\n",
    "        numb_feats = self.info[\"max_features\"]\n",
    "        numb_feats = np.clip(numb_feats, 1, len(self.features))\n",
    "        n_jobs = min(numb_feats, self.info[\"n_jobs\"])\n",
    "\n",
    "        selected_feats = list(np.random.choice(self.features, size=numb_feats, replace=False))\n",
    "        args = self.get_comb_fast(selected_feats)\n",
    "\n",
    "        ml = np.vectorize(lambda x: hist_best_attr_split(**x))(args)\n",
    "        attrs = {f: ml[ind] for ind, f in enumerate(selected_feats)}\n",
    "        attr = max(attrs, key=lambda x: attrs[x][\"stat_val\"])\n",
    "        \n",
    "        return (attr, attrs[attr])\n",
    "    \n",
    "    def split(self):\n",
    "        node_edges = np.array([], dtype=int)\n",
    "        self.rule_edges = np.array([], dtype=Rule)\n",
    "        \n",
    "        attr, best_split = self.find_best_split()\n",
    "        \n",
    "        # The best split is not significant\n",
    "        if best_split[\"sign_split\"] == 0:\n",
    "            if self.verbose > 0:\n",
    "                print(f'Конец ветви, незначащее p-value: {best_split[\"p_value\"]}')\n",
    "            return node_edges\n",
    "        if self.verbose > 0:\n",
    "            print('='*6, best_split[\"p_value\"], attr)\n",
    "\n",
    "        branch_ind = self.ind_for_nodes(self.df[attr], best_split, attr in self.categ)\n",
    "\n",
    "        for n_b in np.unique(branch_ind):\n",
    "            rule = Rule(feature=attr,\n",
    "                        condition=best_split[\"values\"][n_b],\n",
    "                        has_nan=best_split[\"pos_nan\"][n_b])\n",
    "            d_node = self.df[branch_ind == n_b].copy()\n",
    "            N = Node1(df=d_node, full_rule=self.full_rule + [rule],\n",
    "                     features=self.features, categ=self.categ,\n",
    "                     depth=self.depth + 1, verbose=self.verbose, **self.info)\n",
    "            node_edges = np.append(node_edges, N)\n",
    "            self.rule_edges = np.append(self.rule_edges, rule)\n",
    "\n",
    "        if self.rule_edges.shape[0] == 1:\n",
    "            print(branch_ind, self.df[attr], best_split, attr in self.categ)\n",
    "            raise ValueError('ERROR: Only one branch created!')\n",
    "\n",
    "        return node_edges\n",
    "\n",
    "class CRAID1(CRAID):\n",
    "    def fit(self, X, y):\n",
    "        if len(self.features) == 0:\n",
    "            self.features = X.columns\n",
    "        self.bins = cnt.get_bins(time=y[cnt.TIME_NAME])  # , cens = y[cnt.CENS_NAME])\n",
    "        X = X.reset_index(drop=True)\n",
    "        X_tr = X.copy()\n",
    "        X_tr[cnt.CENS_NAME] = y[cnt.CENS_NAME].astype(np.int32)\n",
    "        X_tr[cnt.TIME_NAME] = y[cnt.TIME_NAME].astype(np.float32)\n",
    "\n",
    "        if not (\"min_samples_leaf\" in self.info):\n",
    "            self.info[\"min_samples_leaf\"] = 0.01\n",
    "        if isinstance(self.info[\"min_samples_leaf\"], float):\n",
    "            self.info[\"min_samples_leaf\"] = max(int(self.info[\"min_samples_leaf\"] * X_tr.shape[0]), 1)\n",
    "\n",
    "        cnt.set_seed(self.random_state)\n",
    "\n",
    "        if self.balance in [\"balance\", \"balance+correct\"]:\n",
    "            freq = X_tr[cnt.CENS_NAME].value_counts()\n",
    "            self.correct_proba = freq[1] / (freq[1] + freq[0])  # or freq[1] / (freq[0])\n",
    "\n",
    "            X_tr = get_oversample(X_tr, target=cnt.CENS_NAME)\n",
    "        elif self.balance in [\"balance+weights\"]:\n",
    "            freq = X_tr[cnt.CENS_NAME].value_counts()\n",
    "\n",
    "            X_tr[\"weights_obs\"] = np.where(X_tr[cnt.CENS_NAME], freq[0] / freq[1], 1)\n",
    "            self.info[\"weights_feature\"] = \"weights_obs\"\n",
    "        elif self.balance in [\"too_late\"]:\n",
    "            y_tr[\"cens\"][y_tr[\"time\"] > np.quantile(y_tr[\"time\"], 0.7)] = False\n",
    "            \n",
    "        elif self.balance in [\"only_log_rank\"]:\n",
    "            self.info[\"balance\"] = True\n",
    "\n",
    "        if self.cut:\n",
    "            X_val = X_tr.sample(n=int(0.2 * X_tr.shape[0]), random_state=self.random_state)\n",
    "            X_tr = X_tr.loc[X_tr.index.difference(X_val.index), :]\n",
    "\n",
    "        self.nodes[0] = Node1(X_tr, features=self.features, categ=self.categ, **self.info)\n",
    "        stack_nodes = np.array([0], dtype=int)\n",
    "        while stack_nodes.shape[0] > 0:\n",
    "            node = self.nodes[stack_nodes[0]]\n",
    "            stack_nodes = stack_nodes[1:]\n",
    "            if node.depth >= self.depth:\n",
    "                continue\n",
    "            sub_nodes = node.split()\n",
    "            if sub_nodes.shape[0] > 0:\n",
    "                sub_numbers = np.array([len(self.nodes) + i for i in range(sub_nodes.shape[0])])\n",
    "                for i in range(sub_nodes.shape[0]):\n",
    "                    sub_nodes[i].numb = sub_numbers[i]\n",
    "                self.nodes.update(dict(zip(sub_numbers, sub_nodes)))\n",
    "                node.set_edges(sub_numbers)\n",
    "                stack_nodes = np.append(stack_nodes, sub_numbers)\n",
    "\n",
    "        if self.cut:\n",
    "            self.cut_tree(X_val, cnt.CENS_NAME, mode_f=roc_auc_score, choose_f=max)\n",
    "\n",
    "        return"
   ]
  },
  {
   "cell_type": "code",
   "execution_count": 1098,
   "id": "08fea825",
   "metadata": {},
   "outputs": [],
   "source": [
    "class BootstrapCRAID1(BootstrapCRAID):\n",
    "    def fit(self, X, y):\n",
    "        self.features = X.columns\n",
    "        X = X.reset_index(drop=True)\n",
    "        X[cnt.CENS_NAME] = y[cnt.CENS_NAME].astype(np.int32)\n",
    "        X[cnt.TIME_NAME] = y[cnt.TIME_NAME].astype(np.float32)\n",
    "\n",
    "        self.X_train = X\n",
    "        self.y_train = y\n",
    "        self.update_params()\n",
    "\n",
    "        for i in range(self.n_estimators):\n",
    "            x_sub = self.X_train.sample(n=self.size_sample, replace=self.bootstrap, random_state=i)\n",
    "            x_oob = self.X_train.loc[self.X_train.index.difference(x_sub.index), :]\n",
    "\n",
    "            x_sub = x_sub.reset_index(drop=True)\n",
    "            X_sub_tr, y_sub_cr = cnt.pd_to_xy(x_sub)\n",
    "\n",
    "            model = CRAID1(features=self.features, random_state=i, **self.tree_kwargs)\n",
    "            model.fit(X_sub_tr, y_sub_cr)\n",
    "\n",
    "            self.add_model(model, x_oob)\n",
    "        print(f\"fitted: {len(self.models)} models.\")"
   ]
  },
  {
   "cell_type": "code",
   "execution_count": 1099,
   "id": "72451b7f",
   "metadata": {},
   "outputs": [],
   "source": [
    "from survivors.ensemble import BoostingCRAID\n",
    "\n",
    "class IBSCleverBoostingCRAID1(BoostingCRAID):\n",
    "    def __init__(self, **kwargs):\n",
    "        super().__init__(**kwargs)\n",
    "        self.name = \"IBSCleverBoostingCRAID\"\n",
    "\n",
    "    def fit(self, X, y):\n",
    "        self.features = X.columns\n",
    "        X = X.reset_index(drop=True)\n",
    "        X[cnt.CENS_NAME] = y[cnt.CENS_NAME].astype(np.int32)\n",
    "        X[cnt.TIME_NAME] = y[cnt.TIME_NAME].astype(np.float32)\n",
    "\n",
    "        self.X_train = X\n",
    "        self.X_train[\"ind_start\"] = self.X_train.index\n",
    "        self.y_train = y\n",
    "\n",
    "        self.weights = np.ones(self.X_train.shape[0], dtype=float)\n",
    "        self.bettas = []\n",
    "        self.l_ibs = []\n",
    "        self.l_weights = []\n",
    "        self.update_params()\n",
    "\n",
    "        for i in range(self.n_estimators):\n",
    "            x_sub = self.X_train.sample(n=self.size_sample, \n",
    "                                        # weights=self.weights,\n",
    "                                        replace=self.bootstrap, random_state=i)\n",
    "            \n",
    "            x_oob = self.X_train.loc[self.X_train.index.difference(x_sub.index), :]\n",
    "            print(f\"UNIQUE ({i}):{np.unique(x_sub.index).shape[0]}, DIST:\", np.bincount(x_sub[\"cens\"]))\n",
    "            x_sub = x_sub.reset_index(drop=True)\n",
    "            X_sub_tr, y_sub_tr = cnt.pd_to_xy(x_sub)\n",
    "            if self.weighted_tree:\n",
    "                X_sub_tr[\"weights_obs\"] = self.weights[x_sub['ind_start']]\n",
    "            \n",
    "            model = CRAID1(features=self.features, apr_time=y_sub_tr[\"time\"].copy(), apr_event=y_sub_tr[\"cens\"].copy(),\n",
    "                           random_state=i, **self.tree_kwargs)\n",
    "            model.fit(X_sub_tr, y_sub_tr)\n",
    "\n",
    "            wei_i, betta_i = self.count_model_weights(model, X_sub_tr, y_sub_tr)\n",
    "            self.add_model(model, x_oob, wei_i, betta_i)\n",
    "            self.update_weight(x_sub['ind_start'], wei_i)\n",
    "\n",
    "    def predict(self, x_test, aggreg=True, **kwargs):\n",
    "        res = []\n",
    "        weights = []\n",
    "        for i in range(len(self.models)):\n",
    "            res.append(self.models[i].predict(x_test, **kwargs))\n",
    "\n",
    "        res = np.array(res)\n",
    "        weights = None\n",
    "        if aggreg:\n",
    "            res = self.get_aggreg(res, weights)\n",
    "        return res\n",
    "\n",
    "    def predict_at_times(self, x_test, bins, aggreg=True, mode=\"surv\"):\n",
    "        res = []\n",
    "        weights = []\n",
    "        for i in range(len(self.models)):\n",
    "            res.append(self.models[i].predict_at_times(x_test, bins=bins,\n",
    "                                                       mode=mode))\n",
    "\n",
    "        res = np.array(res)\n",
    "        weights = None\n",
    "        if aggreg:\n",
    "            res = self.get_aggreg(res, weights)\n",
    "            if mode == \"surv\":\n",
    "                res[:, -1] = 0\n",
    "                res[:, 0] = 1\n",
    "        return res\n",
    "\n",
    "    def count_model_weights(self, model, X_sub, y_sub):\n",
    "        if self.all_weight:\n",
    "            X_sub = self.X_train\n",
    "            y_sub = self.y_train\n",
    "        pred_sf = model.predict_at_times(X_sub, bins=self.bins, mode=\"surv\")\n",
    "        \n",
    "        ibs_sf = metr.auprc(self.y_train, y_sub, pred_sf, self.bins, axis=0)\n",
    "        betta = np.mean(ibs_sf)\n",
    "        wei = 1 - ibs_sf\n",
    "        return wei, abs(betta)\n",
    "\n",
    "    def update_weight(self, index, wei_i):\n",
    "        # self.weights += wei_i\n",
    "        pass\n",
    "\n",
    "    def get_aggreg(self, x, wei=None):\n",
    "        if self.aggreg_func == 'median':\n",
    "            return np.median(x, axis=0)\n",
    "        elif self.aggreg_func == \"wei\":\n",
    "            if wei is None:\n",
    "                wei = np.array(self.bettas)\n",
    "            wei = wei / np.sum(wei)\n",
    "            return np.sum((x.T * wei).T, axis=0)\n",
    "        elif self.aggreg_func == \"argmean\":\n",
    "            wei = np.where(np.argsort(np.argsort(wei, axis=1), axis=1) > len(self.bettas)//2, 1, 0)\n",
    "            wei = wei / np.sum(wei, axis=1).reshape(-1, 1)\n",
    "            return np.sum((x.T * wei).T, axis=0)\n",
    "        elif self.aggreg_func == \"argwei\":\n",
    "            wei = np.where(np.argsort(np.argsort(wei, axis=1), axis=1) > len(self.bettas)//2, 1/np.array(self.bettas), 0)\n",
    "            wei = wei / np.sum(wei, axis=1).reshape(-1, 1)\n",
    "            return np.sum((x.T * wei).T, axis=0)\n",
    "        return np.mean(x, axis=0)\n",
    "\n",
    "    def plot_curve(self, X_tmp, y_tmp, bins, label=\"\", metric=\"ibs\", axes=None):\n",
    "        print(label)\n",
    "        res = []\n",
    "        metr_vals = []\n",
    "        q = [0.05, 0.25, 0.5, 0.75, 0.95]\n",
    "        quantiles = []\n",
    "        \n",
    "        for i in range(len(self.models)):\n",
    "            if metric == \"IAUC_WW_TI\":\n",
    "                res.append(self.models[i].predict_at_times(X_tmp, bins=bins, mode=\"hazard\"))\n",
    "                res_all = np.array(res)\n",
    "                res_all = self.get_aggreg(res_all, np.array(self.bettas)[:i+1])\n",
    "                \n",
    "                metr_vals.append(metr.iauc_WW_TI(self.y_train, y_tmp, res_all, bins))\n",
    "            elif metric == \"CI_CENS\":\n",
    "                res.append(self.models[i].predict(X_tmp, target=\"time\"))\n",
    "                res_all = np.array(res)\n",
    "                res_all = self.get_aggreg(res_all, np.array(self.bettas)[:i+1])\n",
    "\n",
    "                metr_vals.append(concordance_index(y_tmp[cnt.TIME_NAME], res_all, y_tmp[cnt.CENS_NAME]))\n",
    "            else:\n",
    "                res.append(self.models[i].predict_at_times(X_tmp, bins=bins, mode=\"surv\"))\n",
    "                res_all = np.array(res)\n",
    "                res_all = self.get_aggreg(res_all, np.array(self.bettas)[:i+1])\n",
    "                res_all[:, -1] = 0\n",
    "                res_all[:, 0] = 1\n",
    "\n",
    "                if metric == \"AUPRC\":\n",
    "                    metr_by_obs = metr.auprc(self.y_train, y_tmp, res_all, bins, axis=0)\n",
    "                    metr_vals.append(metr.auprc(self.y_train, y_tmp, res_all, bins))\n",
    "                elif metric == \"ibs_WW\":\n",
    "                    metr_by_obs = metr.ibs_WW(self.y_train, y_tmp, res_all, bins, axis=0)\n",
    "                    metr_vals.append(metr.ibs_WW(self.y_train, y_tmp, res_all, bins))\n",
    "                elif metric == \"ibs_REMAIN\":\n",
    "                    metr_by_obs = metr.ibs_remain(self.y_train, y_tmp, res_all, bins, axis=0)\n",
    "                    metr_vals.append(metr.ibs_remain(self.y_train, y_tmp, res_all, bins))\n",
    "                quantiles.append(np.quantile(metr_by_obs, q))\n",
    "        \n",
    "        if axes is None:\n",
    "            fig, axes = plt.subplots(ncols=2)\n",
    "            axes[0].plot(range(len(self.models)), metr_vals, label=label)\n",
    "            axes[1].plot(np.hstack([quantiles]), label=q)\n",
    "            axes[1].legend()\n",
    "        else:\n",
    "            plt.plot(range(len(self.models)), metr_vals, label=label)\n",
    "            plt.xlabel(\"Size of ensemble\")\n",
    "            plt.ylabel(metric)"
   ]
  },
  {
   "cell_type": "code",
   "execution_count": 951,
   "id": "26f87f5a",
   "metadata": {},
   "outputs": [
    {
     "data": {
      "text/plain": [
       "(0.06295756096624644, 0.11184210526315788)"
      ]
     },
     "execution_count": 951,
     "metadata": {},
     "output_type": "execute_result"
    },
    {
     "data": {
      "image/png": "[encoded data removed]",
      "text/plain": [
       "<Figure size 432x288 with 1 Axes>"
      ]
     },
     "metadata": {},
     "output_type": "display_data"
    }
   ],
   "source": [
    "from scipy import stats\n",
    "\n",
    "src = np.array([1, 2, 3, 3, 10, 15, 100, 110])/100\n",
    "kde1 = stats.gaussian_kde(src)\n",
    "x1 = np.linspace(0, 1, 100)\n",
    "y1 = kde1.pdf(x1)\n",
    "\n",
    "plt.hist(y1)\n",
    "plt.hist(src)\n",
    "diptest.dipstat(y1), diptest.dipstat(src)"
   ]
  },
  {
   "cell_type": "code",
   "execution_count": 676,
   "id": "60a9646c",
   "metadata": {},
   "outputs": [
    {
     "data": {
      "text/plain": [
       "[1701.0, 1701.0, 552.0, 2030.0, 552.0, 449.0, 1306.0, 1013.0, 1306.0]"
      ]
     },
     "execution_count": 676,
     "metadata": {},
     "output_type": "execute_result"
    }
   ],
   "source": [
    "bstr.models[0].nodes[16].leaf_model.lists['time']"
   ]
  },
  {
   "cell_type": "code",
   "execution_count": 700,
   "id": "427ab70b",
   "metadata": {
    "scrolled": true
   },
   "outputs": [
    {
     "data": {
      "text/plain": [
       "<matplotlib.collections.PathCollection at 0x1ae81ad04f0>"
      ]
     },
     "execution_count": 700,
     "metadata": {},
     "output_type": "execute_result"
    },
    {
     "data": {
      "image/png": "[encoded data removed]",
      "text/plain": [
       "<Figure size 432x288 with 1 Axes>"
      ]
     },
     "metadata": {},
     "output_type": "display_data"
    }
   ],
   "source": [
    "cnt_dist = []\n",
    "dip_stat = []\n",
    "\n",
    "for k, n in bstr.models[0].nodes.items():\n",
    "    if not(n.is_leaf):\n",
    "        continue\n",
    "#     print(k)\n",
    "    sf = n.leaf_model.predict_survival_at_times(X=None, bins=bins_HO)\n",
    "# #     plt.step(bins_HO, sf, label=f\"{n.leaf_model.lists['time']}: {stats.iqr(n.leaf_model.lists['time'])}\")\n",
    "#     plt.step(bins_HO, sf, label=f\"{n.leaf_model.lists['time']}: {np.sum((sf - 0.5)**2)}\")\n",
    "# #     plt.step(bins_HO, sf, label=f\"{n.leaf_model.lists['time']}: {diptest.dipstat(n.leaf_model.lists['time'])}\")\n",
    "#     plt.legend()\n",
    "#     plt.show()\n",
    "    \n",
    "    cnt_dist.append(np.sum((sf - 0.5)**2))\n",
    "    dip_stat.append(stats.iqr(n.leaf_model.lists['time']))\n",
    "\n",
    "plt.scatter(cnt_dist, dip_stat)"
   ]
  },
  {
   "cell_type": "code",
   "execution_count": 618,
   "id": "b91e1781",
   "metadata": {},
   "outputs": [
    {
     "data": {
      "text/plain": [
       "<matplotlib.legend.Legend at 0x1ae7eaeff10>"
      ]
     },
     "execution_count": 618,
     "metadata": {},
     "output_type": "execute_result"
    },
    {
     "data": {
      "image/png": "[encoded data removed]",
      "text/plain": [
       "<Figure size 432x288 with 1 Axes>"
      ]
     },
     "metadata": {},
     "output_type": "display_data"
    }
   ],
   "source": [
    "plt.hist(y[\"time\"], label=f\"{stats.iqr(y['time'])}\")\n",
    "plt.hist(y[\"time\"][::2], label=f\"{stats.iqr(y['time'][::2])}\")\n",
    "plt.hist(y[\"time\"][1::2], label=f\"{stats.iqr(y['time'][1::2])}\")\n",
    "plt.hist(y[\"time\"][::10], label=f\"{stats.iqr(y['time'][::10])}\")\n",
    "plt.hist(y[\"time\"][1::10], label=f\"{stats.iqr(y['time'][1::10])}\")\n",
    "plt.legend()"
   ]
  },
  {
   "cell_type": "code",
   "execution_count": 599,
   "id": "48b2b963",
   "metadata": {},
   "outputs": [
    {
     "data": {
      "text/plain": [
       "Text(0.5, 1.0, '0.08333333333333333')"
      ]
     },
     "execution_count": 599,
     "metadata": {},
     "output_type": "execute_result"
    },
    {
     "data": {
      "image/png": "[encoded data removed]",
      "text/plain": [
       "<Figure size 432x288 with 1 Axes>"
      ]
     },
     "metadata": {},
     "output_type": "display_data"
    }
   ],
   "source": [
    "src = np.array([1, 2, 3, 3, 10, 15, 100])\n",
    "a = random.choice(src)\n",
    "n = np.cumsum(np.bincount(a)[::-1])[::-1]\n",
    "o = np.bincount(a)\n",
    "st = np.cumprod(1 - o/(n + 1))\n",
    "plt.step(np.arange(a.min(), a.max()+2), st)\n",
    "plt.title(diptest.dipstat(a))"
   ]
  },
  {
   "cell_type": "code",
   "execution_count": 1101,
   "id": "0d2564fd",
   "metadata": {},
   "outputs": [],
   "source": [
    "from sklearn.model_selection import train_test_split\n",
    "from survivors.experiments.grid import generate_sample, prepare_sample, count_metric\n",
    "\n",
    "X, y, features, categ, sch_nan = ds.load_gbsg_dataset()\n",
    "# X, y, features, categ, sch_nan = ds.load_wuhan_dataset()\n",
    "# y[\"time\"] += 1\n",
    "\n",
    "# # y[\"cens\"] = ~y[\"cens\"]\n",
    "# features = list(set(features) - {\"max_2019_nCoV_nucleic_acid_detection\", \n",
    "#                                  \"mean_2019_nCoV_nucleic_acid_detection\", \n",
    "#                                  \"min_2019_nCoV_nucleic_acid_detection\"})\n",
    "# X = X[features]\n",
    "\n",
    "X_TR, X_HO = train_test_split(X, stratify=y[cnt.CENS_NAME],\n",
    "                              test_size=0.33, random_state=42)\n",
    "X_tr, y_tr, X_HO, y_HO, bins_HO = prepare_sample(X, y, X_TR.index, X_HO.index)\n",
    "\n",
    "df = X_HO.copy()\n",
    "df[\"time\"] = y_HO[\"time\"]\n",
    "df[\"cens\"] = y_HO[\"cens\"]\n",
    "\n",
    "df_tr = X_tr.copy()\n",
    "df_tr[\"time\"] = y_tr[\"time\"]\n",
    "df_tr[\"cens\"] = y_tr[\"cens\"]"
   ]
  },
  {
   "cell_type": "code",
   "execution_count": 1102,
   "id": "67d7972a",
   "metadata": {},
   "outputs": [
    {
     "name": "stdout",
     "output_type": "stream",
     "text": [
      "fitted: 50 models.\n",
      "[0.2306 0.2195 0.2077 0.2066 0.1933 0.1888 0.1867 0.1847 0.1798 0.1769\n",
      " 0.1754 0.1727 0.171  0.1714 0.1719 0.1714 0.1718 0.1711 0.1693 0.1681\n",
      " 0.1682 0.1672 0.1672 0.1667 0.1659 0.1651 0.1653 0.1645 0.164  0.1637\n",
      " 0.1629 0.1626 0.1622 0.1608 0.1603 0.1607 0.1602 0.1603 0.1597 0.1596\n",
      " 0.1597 0.1595 0.1596 0.1591 0.1586 0.1582 0.158  0.1579 0.1579 0.1581]\n",
      "fitted: 48 models.\n",
      "[0.62681259 0.14230207 0.3419641  0.75842729 0.69349661 0.51390171\n",
      " 0.67315188]\n"
     ]
    },
    {
     "name": "stderr",
     "output_type": "stream",
     "text": [
      "C:\\ProgramData\\Anaconda3\\envs\\survive\\lib\\site-packages\\survivors-1.4.4-py3.10.egg\\survivors\\metrics.py:374: RuntimeWarning: invalid value encountered in divide\n",
      "  false_pos = cumsum_fp / n_controls\n"
     ]
    }
   ],
   "source": [
    "from survivors.ensemble import BootstrapCRAID\n",
    "param_bstr = {'balance': None, 'categ': categ, \n",
    "        'criterion': 'peto', 'depth': 10, 'ens_metric_name': 'IBS_REMAIN', \n",
    "        'leaf_model': 'base_zero_after', 'max_features': 0.3, 'min_samples_leaf': 0.01, # 0.01 \n",
    "        'n_estimators': 50, 'n_jobs': 5, 'size_sample': 0.7}\n",
    "\n",
    "\n",
    "bstr = BootstrapCRAID1(**param_bstr)\n",
    "bstr.fit(X_tr, y_tr)\n",
    "bstr.tolerance_find_best(param_bstr[\"ens_metric_name\"])\n",
    "pred_time = bstr.predict(X_HO, target=\"time\")\n",
    "pred_surv = bstr.predict_at_times(X_HO, bins=bins_HO, mode=\"surv\")\n",
    "pred_haz = bstr.predict_at_times(X_HO, bins=bins_HO, mode=\"hazard\")\n",
    "\n",
    "print(count_metric(y_tr, y_HO, pred_time,\n",
    "                   pred_surv, pred_haz, bins_HO,\n",
    "                   ['CI', \"IBS_REMAIN\", \"BAL_IBS_REMAIN\", \"IAUC_WW_TI\", \"AUPRC\", \"EVENT_AUPRC\", \"BAL_AUPRC\"]))"
   ]
  },
  {
   "cell_type": "code",
   "execution_count": null,
   "id": "c725c18a",
   "metadata": {},
   "outputs": [],
   "source": [
    "[0.63068204 0.13943861 0.34146646 0.77485602 0.69517524 0.5154209\n",
    " 0.67481244]"
   ]
  },
  {
   "cell_type": "code",
   "execution_count": null,
   "id": "6f18b621",
   "metadata": {},
   "outputs": [],
   "source": [
    "[0.62872777 0.14054648 0.36158996 0.77728187 0.69203627 0.52087535\n",
    " 0.67264695]\n",
    "\n",
    "[0.62524917 0.14514113 0.34624358 0.761493   0.68754661 0.50908235\n",
    " 0.66732996]"
   ]
  },
  {
   "cell_type": "code",
   "execution_count": null,
   "id": "6732bb76",
   "metadata": {},
   "outputs": [],
   "source": [
    "[0.7692255  0.07045393 0.12963503 0.88939764 0.75177913 0.53243214\n",
    " 0.73848537]"
   ]
  },
  {
   "cell_type": "code",
   "execution_count": 1090,
   "id": "c565de85",
   "metadata": {},
   "outputs": [
    {
     "data": {
      "text/plain": [
       "<matplotlib.legend.Legend at 0x1ae89375330>"
      ]
     },
     "execution_count": 1090,
     "metadata": {},
     "output_type": "execute_result"
    },
    {
     "data": {
      "image/png": "[encoded data removed]",
      "text/plain": [
       "<Figure size 432x288 with 1 Axes>"
      ]
     },
     "metadata": {},
     "output_type": "display_data"
    }
   ],
   "source": [
    "train_interp = np.sum((bstr.predict_at_times(X_tr, bins=bins_HO, mode=\"surv\") - 0.5)**2, axis=1)/pred_surv.shape[1]\n",
    "test_interp = np.sum((pred_surv - 0.5)**2, axis=1)/pred_surv.shape[1]\n",
    "\n",
    "plt.hist(train_interp, alpha=0.8, label=\"train\")\n",
    "plt.hist(test_interp, alpha=0.8, label=\"test\")\n",
    "\n",
    "xmin, xmax, ymin, ymax = plt.axis()\n",
    "plt.vlines([train_interp.mean()], ymin=0, ymax=ymax, color=\"blue\")\n",
    "plt.vlines([test_interp.mean()], ymin=0, ymax=ymax, color=\"orange\")\n",
    "\n",
    "plt.legend()"
   ]
  },
  {
   "cell_type": "code",
   "execution_count": 1004,
   "id": "874b1a00",
   "metadata": {},
   "outputs": [
    {
     "data": {
      "text/plain": [
       "<matplotlib.legend.Legend at 0x1aea6d02290>"
      ]
     },
     "execution_count": 1004,
     "metadata": {},
     "output_type": "execute_result"
    },
    {
     "data": {
      "image/png": "[encoded data removed]",
      "text/plain": [
       "<Figure size 432x288 with 1 Axes>"
      ]
     },
     "metadata": {},
     "output_type": "display_data"
    }
   ],
   "source": [
    "train_interp = np.sum((bstr.predict_at_times(X_tr, bins=bins_HO, mode=\"surv\") - 0.5)**2, axis=1)/pred_surv.shape[1]\n",
    "test_interp = np.sum((pred_surv - 0.5)**2, axis=1)/pred_surv.shape[1]\n",
    "\n",
    "plt.hist(train_interp, alpha=0.8, label=\"train\")\n",
    "plt.hist(test_interp, alpha=0.8, label=\"test\")\n",
    "\n",
    "xmin, xmax, ymin, ymax = plt.axis()\n",
    "plt.vlines([train_interp.mean()], ymin=0, ymax=ymax, color=\"blue\")\n",
    "plt.vlines([test_interp.mean()], ymin=0, ymax=ymax, color=\"orange\")\n",
    "\n",
    "plt.legend()"
   ]
  },
  {
   "cell_type": "code",
   "execution_count": null,
   "id": "91866fbc",
   "metadata": {},
   "outputs": [],
   "source": [
    "[0.76360521 0.07304893 0.13299682 0.86558123 0.75005898 0.52793664\n",
    " 0.73659702]"
   ]
  },
  {
   "cell_type": "code",
   "execution_count": null,
   "id": "e5ba07d6",
   "metadata": {},
   "outputs": [],
   "source": [
    "[0.76387937 0.07364383 0.13161974 0.88202971 0.74879034 0.52826713\n",
    " 0.73542529]"
   ]
  },
  {
   "cell_type": "code",
   "execution_count": null,
   "id": "9be2b2fc",
   "metadata": {},
   "outputs": [],
   "source": [
    "[0.62474106 0.14258534 0.35411988 0.76309402 0.6937536  0.51879583\n",
    " 0.67393416]"
   ]
  },
  {
   "cell_type": "code",
   "execution_count": null,
   "id": "fdc27eb0",
   "metadata": {},
   "outputs": [],
   "source": []
  },
  {
   "cell_type": "code",
   "execution_count": null,
   "id": "cafe6db3",
   "metadata": {},
   "outputs": [],
   "source": [
    "[0.6246238  0.1413695  0.35526522 0.76653645 0.69048486 0.51676118\n",
    " 0.67080522]\n",
    "\n",
    "[0.62481923 0.14399089 0.33614265 0.76982147 0.68980032 0.50977725\n",
    " 0.66940708]"
   ]
  },
  {
   "cell_type": "code",
   "execution_count": null,
   "id": "2f52e695",
   "metadata": {},
   "outputs": [],
   "source": []
  },
  {
   "cell_type": "code",
   "execution_count": null,
   "id": "1575da63",
   "metadata": {},
   "outputs": [],
   "source": [
    "[0.74571624 0.07691478 0.13562212 0.85031324 0.74644416 0.51884859\n",
    " 0.73265049]"
   ]
  },
  {
   "cell_type": "code",
   "execution_count": null,
   "id": "af276aca",
   "metadata": {},
   "outputs": [],
   "source": [
    "[0.75044551 0.07422903 0.13891308 0.86350385 0.74744301 0.5258475\n",
    " 0.73401298]"
   ]
  },
  {
   "cell_type": "code",
   "execution_count": 1034,
   "id": "59afee28",
   "metadata": {},
   "outputs": [],
   "source": [
    "bstr.models[0].visualize(mode=\"surv\")"
   ]
  },
  {
   "cell_type": "code",
   "execution_count": null,
   "id": "4ce00878",
   "metadata": {},
   "outputs": [],
   "source": [
    "[0.75798492 0.07584531 0.15275895 0.84609398 0.74428908 0.52513036\n",
    " 0.73100674]"
   ]
  },
  {
   "cell_type": "code",
   "execution_count": null,
   "id": "c73b9654",
   "metadata": {},
   "outputs": [],
   "source": [
    "[0.76579849 0.0736009  0.13471011 0.85407327 0.74949491 0.52675405\n",
    " 0.73599546] # rank timeline"
   ]
  },
  {
   "cell_type": "code",
   "execution_count": null,
   "id": "324dc380",
   "metadata": {},
   "outputs": [],
   "source": [
    "[0.75867032 0.07254859 0.1335381  0.84727707 0.7503295  0.53066127\n",
    " 0.73701628] # minstd rank timeline\n",
    "\n",
    "[0.75633996 0.07495719 0.13651817 0.83066202 0.7504991  0.53075341\n",
    " 0.73718118] # minstd full timeline"
   ]
  },
  {
   "cell_type": "code",
   "execution_count": null,
   "id": "b3d4b7d8",
   "metadata": {},
   "outputs": [],
   "source": [
    "[0.76703221 0.07399259 0.14214758 0.8703668  0.74778725 0.52820659\n",
    "#  0.73447933] # diptest rank timeline\n",
    "\n",
    "[0.75044551 0.07422903 0.13891308 0.86350385 0.74744301 0.5258475\n",
    " 0.73401298] # diptest full timeline"
   ]
  },
  {
   "cell_type": "code",
   "execution_count": null,
   "id": "3c9fb81e",
   "metadata": {},
   "outputs": [],
   "source": [
    "[0.61622044 0.14232877 0.36427644 0.76000316 0.68964637 0.5158604\n",
    " 0.66995968]"
   ]
  },
  {
   "cell_type": "code",
   "execution_count": null,
   "id": "553a9af3",
   "metadata": {},
   "outputs": [],
   "source": [
    "[0.76662097 0.07352715 0.1427046  0.85226585 0.74681081 0.52533867\n",
    " 0.73338826]"
   ]
  },
  {
   "cell_type": "code",
   "execution_count": null,
   "id": "ba049117",
   "metadata": {},
   "outputs": [],
   "source": [
    "[0.76703221 0.07399259 0.14214758 0.8703668  0.74778725 0.52820659\n",
    " 0.73447933]"
   ]
  },
  {
   "cell_type": "code",
   "execution_count": null,
   "id": "dc1575d2",
   "metadata": {},
   "outputs": [],
   "source": [
    "[0.76031528 0.07545675 0.13330532 0.84776847 0.74616391 0.52064969\n",
    " 0.73249638]"
   ]
  },
  {
   "cell_type": "code",
   "execution_count": null,
   "id": "eca428ee",
   "metadata": {},
   "outputs": [],
   "source": [
    "[0.75222755 0.07254517 0.14051689 0.87888129 0.74781346 0.53118041\n",
    " 0.73468419]\n",
    "[0.75551748 0.0749408  0.14910095 0.85885689 0.7424502  0.52176386\n",
    " 0.72907527]"
   ]
  },
  {
   "cell_type": "code",
   "execution_count": null,
   "id": "1b28a0b0",
   "metadata": {},
   "outputs": [],
   "source": [
    "[0.62259136 0.14198701 0.35885451 0.77255067 0.69410347 0.5194261\n",
    " 0.6743158 ]\n",
    "[0.62798515 0.14223849 0.34295473 0.76877587 0.6948715  0.51542966\n",
    " 0.67454411]"
   ]
  },
  {
   "cell_type": "code",
   "execution_count": null,
   "id": "8fadca2d",
   "metadata": {},
   "outputs": [],
   "source": [
    "[0.75551748 0.0749408  0.14910095 0.85885689 0.7424502  0.52176386\n",
    " 0.72907527]"
   ]
  },
  {
   "cell_type": "code",
   "execution_count": null,
   "id": "6528880c",
   "metadata": {},
   "outputs": [],
   "source": [
    "[0.62778972 0.14300061 0.33354884 0.77477676 0.69121148 0.50949231\n",
    " 0.6706261 ]"
   ]
  },
  {
   "cell_type": "code",
   "execution_count": null,
   "id": "c0674ec4",
   "metadata": {},
   "outputs": [],
   "source": [
    "[0.6281024  0.14091349 0.34395037 0.77027241 0.69435691 0.52027288\n",
    " 0.67463645]"
   ]
  },
  {
   "cell_type": "code",
   "execution_count": null,
   "id": "871478eb",
   "metadata": {},
   "outputs": [],
   "source": [
    "[0.62614813 0.14374146 0.34480665 0.75541951 0.69278564 0.51871816\n",
    " 0.67306706]"
   ]
  },
  {
   "cell_type": "code",
   "execution_count": null,
   "id": "b7d68c14",
   "metadata": {},
   "outputs": [],
   "source": [
    "[0.63091655 0.1422004  0.34096467 0.76252518 0.69420142 0.52163777\n",
    " 0.67465319]"
   ]
  },
  {
   "cell_type": "code",
   "execution_count": null,
   "id": "0131efd7",
   "metadata": {},
   "outputs": [],
   "source": [
    "[0.63162009 0.14071645 0.34137235 0.76280546 0.69149669 0.51923545\n",
    " 0.67198272]"
   ]
  },
  {
   "cell_type": "code",
   "execution_count": 1093,
   "id": "6740be65",
   "metadata": {},
   "outputs": [
    {
     "name": "stderr",
     "output_type": "stream",
     "text": [
      "C:\\Users\\vasiliev\\AppData\\Local\\Temp\\ipykernel_23760\\1053756791.py:5: RuntimeWarning: invalid value encountered in divide\n",
      "  a = np.bincount(pred_0_numb.astype(int), weights=pred_0_time) / np.bincount(pred_0_numb.astype(int))\n"
     ]
    },
    {
     "data": {
      "text/plain": [
       "Text(0, 0.5, 'Mean leaf time')"
      ]
     },
     "execution_count": 1093,
     "metadata": {},
     "output_type": "execute_result"
    },
    {
     "data": {
      "image/png": "[encoded data removed]",
      "text/plain": [
       "<Figure size 432x288 with 1 Axes>"
      ]
     },
     "metadata": {},
     "output_type": "display_data"
    }
   ],
   "source": [
    "ind = 0\n",
    "pred_0_numb = bstr.models[ind].predict(X_tr, target=\"numb\")\n",
    "pred_0_time = bstr.models[ind].predict(X_tr, target=\"time\")\n",
    "\n",
    "a = np.bincount(pred_0_numb.astype(int), weights=pred_0_time) / np.bincount(pred_0_numb.astype(int))\n",
    "\n",
    "dd_ = pd.DataFrame()\n",
    "dd_[\"time\"] = y_tr[\"time\"]\n",
    "dd_[\"node\"] = pred_0_time\n",
    "ax = dd_.boxplot(column='time', by='node', vert=False)\n",
    "# ax.set_yticks(np.unique(pred_0_numb[~pd.isna(pred_0_numb)]))\n",
    "\n",
    "# plt.scatter(y_tr[\"time\"], pred_0_time, c=pred_0_numb)\n",
    "# plt.hlines(y=[a], xmin=y_tr[\"time\"].min(), xmax=y_tr[\"time\"].max(), alpha=0.3)\n",
    "plt.xlabel(\"Target time\")\n",
    "plt.ylabel(\"Mean leaf time\")"
   ]
  },
  {
   "cell_type": "code",
   "execution_count": 322,
   "id": "d7507006",
   "metadata": {},
   "outputs": [
    {
     "data": {
      "text/plain": [
       "array([ 4.,  8., 10., 12., 14., 15., 20., 28., 30., 32., 33., 34., 35.,\n",
       "       36., 37., 38., 39., 40., 41., 42., 43., 46., 47., 48., 52., 53.,\n",
       "       55., 56., 57., 58.])"
      ]
     },
     "execution_count": 322,
     "metadata": {},
     "output_type": "execute_result"
    }
   ],
   "source": [
    "np.unique(pred_0_numb)"
   ]
  },
  {
   "cell_type": "code",
   "execution_count": 1094,
   "id": "6d51ef4b",
   "metadata": {},
   "outputs": [
    {
     "name": "stdout",
     "output_type": "stream",
     "text": [
      "corr: -0.16900327660519382\n",
      "p-value: 0.2786359397598851\n"
     ]
    },
    {
     "name": "stderr",
     "output_type": "stream",
     "text": [
      "C:\\Users\\vasiliev\\AppData\\Local\\Temp\\ipykernel_23760\\3754810174.py:14: RuntimeWarning: invalid value encountered in divide\n",
      "  a = np.bincount(pred_0_size.astype(int), weights=ibss) / np.bincount(pred_0_size.astype(int))\n"
     ]
    },
    {
     "data": {
      "image/png": "[encoded data removed]",
      "text/plain": [
       "<Figure size 432x288 with 1 Axes>"
      ]
     },
     "metadata": {},
     "output_type": "display_data"
    }
   ],
   "source": [
    "from scipy.stats import spearmanr\n",
    "\n",
    "X_ = X_HO.reset_index(drop=True)\n",
    "\n",
    "ind = 0\n",
    "X_sub = X_.loc[X_.index.difference(bstr.oob_index[ind]), :]\n",
    "y_sub = y_tr[X_.index.difference(bstr.oob_index[ind])]\n",
    "\n",
    "pred_0_time = bstr.models[ind].predict(X_sub, target=\"time\")\n",
    "pred_0_size = bstr.models[ind].predict(X_sub, target=\"size\")\n",
    "pred_0_surv = bstr.models[ind].predict_at_times(X_sub, bins=bins_HO, mode=\"surv\")\n",
    "\n",
    "ibss = metr.ibs_WW(y_tr, y_sub, pred_0_surv, bins_HO, axis=0)\n",
    "a = np.bincount(pred_0_size.astype(int), weights=ibss) / np.bincount(pred_0_size.astype(int))\n",
    "\n",
    "plt.scatter(pred_0_size, ibss, alpha=0.4)\n",
    "plt.plot(np.unique(pred_0_size), a[~np.isnan(a)], color=\"red\")\n",
    "plt.xlabel(\"Leaf size\")\n",
    "plt.ylabel(r\"$IBS_i$\")\n",
    "\n",
    "rho, p = spearmanr(ibss[pred_0_size < 30], pred_0_size[pred_0_size < 30])\n",
    "print(\"corr:\", rho)\n",
    "print(\"p-value:\", p)"
   ]
  },
  {
   "cell_type": "code",
   "execution_count": 417,
   "id": "954d10b0",
   "metadata": {},
   "outputs": [
    {
     "data": {
      "text/plain": [
       "0.00398406374501992"
      ]
     },
     "execution_count": 417,
     "metadata": {},
     "output_type": "execute_result"
    }
   ],
   "source": [
    "1/y_tr.shape[0]"
   ]
  },
  {
   "cell_type": "code",
   "execution_count": 1000,
   "id": "2ad4b542",
   "metadata": {
    "scrolled": true
   },
   "outputs": [
    {
     "name": "stdout",
     "output_type": "stream",
     "text": [
      "UNIQUE (0):231, DIST: [189 132]\n",
      "UNIQUE (1):237, DIST: [181 140]\n",
      "UNIQUE (2):230, DIST: [181 140]\n",
      "UNIQUE (3):228, DIST: [169 152]\n",
      "UNIQUE (4):229, DIST: [177 144]\n",
      "UNIQUE (5):237, DIST: [179 142]\n",
      "UNIQUE (6):231, DIST: [190 131]\n",
      "UNIQUE (7):232, DIST: [174 147]\n",
      "UNIQUE (8):239, DIST: [188 133]\n",
      "UNIQUE (9):231, DIST: [183 138]\n",
      "UNIQUE (10):224, DIST: [185 136]\n",
      "UNIQUE (11):220, DIST: [165 156]\n",
      "UNIQUE (12):233, DIST: [180 141]\n",
      "UNIQUE (13):236, DIST: [187 134]\n",
      "UNIQUE (14):233, DIST: [169 152]\n",
      "UNIQUE (15):228, DIST: [184 137]\n",
      "UNIQUE (16):236, DIST: [181 140]\n",
      "UNIQUE (17):236, DIST: [185 136]\n",
      "UNIQUE (18):223, DIST: [188 133]\n",
      "UNIQUE (19):230, DIST: [194 127]\n",
      "UNIQUE (20):239, DIST: [186 135]\n",
      "UNIQUE (21):231, DIST: [169 152]\n",
      "UNIQUE (22):232, DIST: [177 144]\n",
      "UNIQUE (23):232, DIST: [177 144]\n",
      "UNIQUE (24):243, DIST: [179 142]\n",
      "UNIQUE (25):231, DIST: [183 138]\n",
      "UNIQUE (26):234, DIST: [192 129]\n",
      "UNIQUE (27):235, DIST: [171 150]\n",
      "UNIQUE (28):242, DIST: [182 139]\n",
      "UNIQUE (29):235, DIST: [168 153]\n",
      "UNIQUE (30):224, DIST: [183 138]\n",
      "UNIQUE (31):229, DIST: [172 149]\n",
      "UNIQUE (32):245, DIST: [193 128]\n",
      "UNIQUE (33):239, DIST: [182 139]\n",
      "UNIQUE (34):228, DIST: [185 136]\n",
      "UNIQUE (35):225, DIST: [173 148]\n",
      "UNIQUE (36):221, DIST: [181 140]\n",
      "UNIQUE (37):229, DIST: [182 139]\n",
      "UNIQUE (38):231, DIST: [193 128]\n",
      "UNIQUE (39):232, DIST: [188 133]\n",
      "UNIQUE (40):226, DIST: [176 145]\n",
      "UNIQUE (41):227, DIST: [190 131]\n",
      "UNIQUE (42):223, DIST: [176 145]\n",
      "UNIQUE (43):228, DIST: [189 132]\n",
      "UNIQUE (44):229, DIST: [170 151]\n",
      "UNIQUE (45):226, DIST: [177 144]\n",
      "UNIQUE (46):226, DIST: [181 140]\n",
      "UNIQUE (47):229, DIST: [194 127]\n",
      "UNIQUE (48):234, DIST: [178 143]\n",
      "UNIQUE (49):244, DIST: [192 129]\n",
      "[0.2552 0.2396 0.2152 0.2068 0.2014 0.1933 0.1835 0.1796 0.1784 0.1757\n",
      " 0.1736 0.1719 0.1704 0.1698 0.1685 0.1678 0.1663 0.1657 0.1646 0.1639\n",
      " 0.1647 0.1639 0.1632 0.1631 0.1634 0.1629 0.1635 0.1635 0.1633 0.1632\n",
      " 0.1621 0.1612 0.1607 0.1607 0.1605 0.1606 0.1599 0.1599 0.16   0.1596\n",
      " 0.16   0.1596 0.1599 0.1595 0.1591 0.1587 0.1583 0.1585 0.1587 0.1587]\n",
      "fitted: 47 models.\n",
      "[0.6281024  0.14085899 0.36267478 0.77455204 0.69238274 0.52077261\n",
      " 0.67294253]\n"
     ]
    },
    {
     "name": "stderr",
     "output_type": "stream",
     "text": [
      "C:\\ProgramData\\Anaconda3\\envs\\survive\\lib\\site-packages\\survivors-1.4.4-py3.10.egg\\survivors\\metrics.py:374: RuntimeWarning: invalid value encountered in divide\n",
      "  false_pos = cumsum_fp / n_controls\n"
     ]
    }
   ],
   "source": [
    "from survivors.ensemble import BootstrapCRAID\n",
    "param_bstr = {'aggreg_func': 'mean', 'all_weight': True, 'balance': None, \n",
    "              'categ': categ, \"l_reg\": 0.0,\n",
    "              'criterion': 'peto', 'depth': 10, 'ens_metric_name': 'IBS_REMAIN', \n",
    "              'leaf_model': 'base_zero_after', 'max_features': 0.3, 'min_samples_leaf': 0.01, # 0.01 \n",
    "              'n_estimators': 50, 'n_jobs': 5, 'size_sample': 0.7}\n",
    "\n",
    "bstr = IBSCleverBoostingCRAID1(**param_bstr)\n",
    "bstr.fit(X_tr, y_tr)\n",
    "bstr.tolerance_find_best(param_bstr[\"ens_metric_name\"])\n",
    "pred_time = bstr.predict(X_HO, target=\"time\")\n",
    "pred_surv = bstr.predict_at_times(X_HO, bins=bins_HO, mode=\"surv\")\n",
    "pred_haz = bstr.predict_at_times(X_HO, bins=bins_HO, mode=\"hazard\")\n",
    "\n",
    "print(count_metric(y_tr, y_HO, pred_time,\n",
    "                   pred_surv, pred_haz, bins_HO, \n",
    "                   ['CI', \"IBS_REMAIN\", \"BAL_IBS_REMAIN\", \"IAUC_WW_TI\", \"AUPRC\", \"EVENT_AUPRC\", \"BAL_AUPRC\"]))"
   ]
  },
  {
   "cell_type": "code",
   "execution_count": 1001,
   "id": "dae218f1",
   "metadata": {},
   "outputs": [
    {
     "name": "stdout",
     "output_type": "stream",
     "text": [
      "train\n",
      "test\n"
     ]
    },
    {
     "data": {
      "image/png": "[encoded data removed]",
      "text/plain": [
       "<Figure size 432x288 with 1 Axes>"
      ]
     },
     "metadata": {},
     "output_type": "display_data"
    },
    {
     "name": "stdout",
     "output_type": "stream",
     "text": [
      "train\n",
      "test\n"
     ]
    },
    {
     "data": {
      "image/png": "[encoded data removed]",
      "text/plain": [
       "<Figure size 432x288 with 1 Axes>"
      ]
     },
     "metadata": {},
     "output_type": "display_data"
    },
    {
     "name": "stdout",
     "output_type": "stream",
     "text": [
      "train\n",
      "test\n"
     ]
    },
    {
     "name": "stderr",
     "output_type": "stream",
     "text": [
      "C:\\ProgramData\\Anaconda3\\envs\\survive\\lib\\site-packages\\survivors-1.4.4-py3.10.egg\\survivors\\metrics.py:374: RuntimeWarning: invalid value encountered in divide\n",
      "  false_pos = cumsum_fp / n_controls\n",
      "C:\\ProgramData\\Anaconda3\\envs\\survive\\lib\\site-packages\\survivors-1.4.4-py3.10.egg\\survivors\\metrics.py:374: RuntimeWarning: invalid value encountered in divide\n",
      "  false_pos = cumsum_fp / n_controls\n",
      "C:\\ProgramData\\Anaconda3\\envs\\survive\\lib\\site-packages\\survivors-1.4.4-py3.10.egg\\survivors\\metrics.py:374: RuntimeWarning: invalid value encountered in divide\n",
      "  false_pos = cumsum_fp / n_controls\n",
      "C:\\ProgramData\\Anaconda3\\envs\\survive\\lib\\site-packages\\survivors-1.4.4-py3.10.egg\\survivors\\metrics.py:374: RuntimeWarning: invalid value encountered in divide\n",
      "  false_pos = cumsum_fp / n_controls\n",
      "C:\\ProgramData\\Anaconda3\\envs\\survive\\lib\\site-packages\\survivors-1.4.4-py3.10.egg\\survivors\\metrics.py:374: RuntimeWarning: invalid value encountered in divide\n",
      "  false_pos = cumsum_fp / n_controls\n",
      "C:\\ProgramData\\Anaconda3\\envs\\survive\\lib\\site-packages\\survivors-1.4.4-py3.10.egg\\survivors\\metrics.py:374: RuntimeWarning: invalid value encountered in divide\n",
      "  false_pos = cumsum_fp / n_controls\n",
      "C:\\ProgramData\\Anaconda3\\envs\\survive\\lib\\site-packages\\survivors-1.4.4-py3.10.egg\\survivors\\metrics.py:374: RuntimeWarning: invalid value encountered in divide\n",
      "  false_pos = cumsum_fp / n_controls\n",
      "C:\\ProgramData\\Anaconda3\\envs\\survive\\lib\\site-packages\\survivors-1.4.4-py3.10.egg\\survivors\\metrics.py:374: RuntimeWarning: invalid value encountered in divide\n",
      "  false_pos = cumsum_fp / n_controls\n",
      "C:\\ProgramData\\Anaconda3\\envs\\survive\\lib\\site-packages\\survivors-1.4.4-py3.10.egg\\survivors\\metrics.py:374: RuntimeWarning: invalid value encountered in divide\n",
      "  false_pos = cumsum_fp / n_controls\n",
      "C:\\ProgramData\\Anaconda3\\envs\\survive\\lib\\site-packages\\survivors-1.4.4-py3.10.egg\\survivors\\metrics.py:374: RuntimeWarning: invalid value encountered in divide\n",
      "  false_pos = cumsum_fp / n_controls\n",
      "C:\\ProgramData\\Anaconda3\\envs\\survive\\lib\\site-packages\\survivors-1.4.4-py3.10.egg\\survivors\\metrics.py:374: RuntimeWarning: invalid value encountered in divide\n",
      "  false_pos = cumsum_fp / n_controls\n",
      "C:\\ProgramData\\Anaconda3\\envs\\survive\\lib\\site-packages\\survivors-1.4.4-py3.10.egg\\survivors\\metrics.py:374: RuntimeWarning: invalid value encountered in divide\n",
      "  false_pos = cumsum_fp / n_controls\n",
      "C:\\ProgramData\\Anaconda3\\envs\\survive\\lib\\site-packages\\survivors-1.4.4-py3.10.egg\\survivors\\metrics.py:374: RuntimeWarning: invalid value encountered in divide\n",
      "  false_pos = cumsum_fp / n_controls\n",
      "C:\\ProgramData\\Anaconda3\\envs\\survive\\lib\\site-packages\\survivors-1.4.4-py3.10.egg\\survivors\\metrics.py:374: RuntimeWarning: invalid value encountered in divide\n",
      "  false_pos = cumsum_fp / n_controls\n",
      "C:\\ProgramData\\Anaconda3\\envs\\survive\\lib\\site-packages\\survivors-1.4.4-py3.10.egg\\survivors\\metrics.py:374: RuntimeWarning: invalid value encountered in divide\n",
      "  false_pos = cumsum_fp / n_controls\n",
      "C:\\ProgramData\\Anaconda3\\envs\\survive\\lib\\site-packages\\survivors-1.4.4-py3.10.egg\\survivors\\metrics.py:374: RuntimeWarning: invalid value encountered in divide\n",
      "  false_pos = cumsum_fp / n_controls\n",
      "C:\\ProgramData\\Anaconda3\\envs\\survive\\lib\\site-packages\\survivors-1.4.4-py3.10.egg\\survivors\\metrics.py:374: RuntimeWarning: invalid value encountered in divide\n",
      "  false_pos = cumsum_fp / n_controls\n",
      "C:\\ProgramData\\Anaconda3\\envs\\survive\\lib\\site-packages\\survivors-1.4.4-py3.10.egg\\survivors\\metrics.py:374: RuntimeWarning: invalid value encountered in divide\n",
      "  false_pos = cumsum_fp / n_controls\n",
      "C:\\ProgramData\\Anaconda3\\envs\\survive\\lib\\site-packages\\survivors-1.4.4-py3.10.egg\\survivors\\metrics.py:374: RuntimeWarning: invalid value encountered in divide\n",
      "  false_pos = cumsum_fp / n_controls\n",
      "C:\\ProgramData\\Anaconda3\\envs\\survive\\lib\\site-packages\\survivors-1.4.4-py3.10.egg\\survivors\\metrics.py:374: RuntimeWarning: invalid value encountered in divide\n",
      "  false_pos = cumsum_fp / n_controls\n",
      "C:\\ProgramData\\Anaconda3\\envs\\survive\\lib\\site-packages\\survivors-1.4.4-py3.10.egg\\survivors\\metrics.py:374: RuntimeWarning: invalid value encountered in divide\n",
      "  false_pos = cumsum_fp / n_controls\n",
      "C:\\ProgramData\\Anaconda3\\envs\\survive\\lib\\site-packages\\survivors-1.4.4-py3.10.egg\\survivors\\metrics.py:374: RuntimeWarning: invalid value encountered in divide\n",
      "  false_pos = cumsum_fp / n_controls\n",
      "C:\\ProgramData\\Anaconda3\\envs\\survive\\lib\\site-packages\\survivors-1.4.4-py3.10.egg\\survivors\\metrics.py:374: RuntimeWarning: invalid value encountered in divide\n",
      "  false_pos = cumsum_fp / n_controls\n",
      "C:\\ProgramData\\Anaconda3\\envs\\survive\\lib\\site-packages\\survivors-1.4.4-py3.10.egg\\survivors\\metrics.py:374: RuntimeWarning: invalid value encountered in divide\n",
      "  false_pos = cumsum_fp / n_controls\n",
      "C:\\ProgramData\\Anaconda3\\envs\\survive\\lib\\site-packages\\survivors-1.4.4-py3.10.egg\\survivors\\metrics.py:374: RuntimeWarning: invalid value encountered in divide\n",
      "  false_pos = cumsum_fp / n_controls\n",
      "C:\\ProgramData\\Anaconda3\\envs\\survive\\lib\\site-packages\\survivors-1.4.4-py3.10.egg\\survivors\\metrics.py:374: RuntimeWarning: invalid value encountered in divide\n",
      "  false_pos = cumsum_fp / n_controls\n",
      "C:\\ProgramData\\Anaconda3\\envs\\survive\\lib\\site-packages\\survivors-1.4.4-py3.10.egg\\survivors\\metrics.py:374: RuntimeWarning: invalid value encountered in divide\n",
      "  false_pos = cumsum_fp / n_controls\n",
      "C:\\ProgramData\\Anaconda3\\envs\\survive\\lib\\site-packages\\survivors-1.4.4-py3.10.egg\\survivors\\metrics.py:374: RuntimeWarning: invalid value encountered in divide\n",
      "  false_pos = cumsum_fp / n_controls\n",
      "C:\\ProgramData\\Anaconda3\\envs\\survive\\lib\\site-packages\\survivors-1.4.4-py3.10.egg\\survivors\\metrics.py:374: RuntimeWarning: invalid value encountered in divide\n",
      "  false_pos = cumsum_fp / n_controls\n",
      "C:\\ProgramData\\Anaconda3\\envs\\survive\\lib\\site-packages\\survivors-1.4.4-py3.10.egg\\survivors\\metrics.py:374: RuntimeWarning: invalid value encountered in divide\n",
      "  false_pos = cumsum_fp / n_controls\n",
      "C:\\ProgramData\\Anaconda3\\envs\\survive\\lib\\site-packages\\survivors-1.4.4-py3.10.egg\\survivors\\metrics.py:374: RuntimeWarning: invalid value encountered in divide\n",
      "  false_pos = cumsum_fp / n_controls\n",
      "C:\\ProgramData\\Anaconda3\\envs\\survive\\lib\\site-packages\\survivors-1.4.4-py3.10.egg\\survivors\\metrics.py:374: RuntimeWarning: invalid value encountered in divide\n",
      "  false_pos = cumsum_fp / n_controls\n",
      "C:\\ProgramData\\Anaconda3\\envs\\survive\\lib\\site-packages\\survivors-1.4.4-py3.10.egg\\survivors\\metrics.py:374: RuntimeWarning: invalid value encountered in divide\n",
      "  false_pos = cumsum_fp / n_controls\n",
      "C:\\ProgramData\\Anaconda3\\envs\\survive\\lib\\site-packages\\survivors-1.4.4-py3.10.egg\\survivors\\metrics.py:374: RuntimeWarning: invalid value encountered in divide\n",
      "  false_pos = cumsum_fp / n_controls\n",
      "C:\\ProgramData\\Anaconda3\\envs\\survive\\lib\\site-packages\\survivors-1.4.4-py3.10.egg\\survivors\\metrics.py:374: RuntimeWarning: invalid value encountered in divide\n",
      "  false_pos = cumsum_fp / n_controls\n",
      "C:\\ProgramData\\Anaconda3\\envs\\survive\\lib\\site-packages\\survivors-1.4.4-py3.10.egg\\survivors\\metrics.py:374: RuntimeWarning: invalid value encountered in divide\n",
      "  false_pos = cumsum_fp / n_controls\n",
      "C:\\ProgramData\\Anaconda3\\envs\\survive\\lib\\site-packages\\survivors-1.4.4-py3.10.egg\\survivors\\metrics.py:374: RuntimeWarning: invalid value encountered in divide\n",
      "  false_pos = cumsum_fp / n_controls\n",
      "C:\\ProgramData\\Anaconda3\\envs\\survive\\lib\\site-packages\\survivors-1.4.4-py3.10.egg\\survivors\\metrics.py:374: RuntimeWarning: invalid value encountered in divide\n",
      "  false_pos = cumsum_fp / n_controls\n",
      "C:\\ProgramData\\Anaconda3\\envs\\survive\\lib\\site-packages\\survivors-1.4.4-py3.10.egg\\survivors\\metrics.py:374: RuntimeWarning: invalid value encountered in divide\n",
      "  false_pos = cumsum_fp / n_controls\n",
      "C:\\ProgramData\\Anaconda3\\envs\\survive\\lib\\site-packages\\survivors-1.4.4-py3.10.egg\\survivors\\metrics.py:374: RuntimeWarning: invalid value encountered in divide\n",
      "  false_pos = cumsum_fp / n_controls\n",
      "C:\\ProgramData\\Anaconda3\\envs\\survive\\lib\\site-packages\\survivors-1.4.4-py3.10.egg\\survivors\\metrics.py:374: RuntimeWarning: invalid value encountered in divide\n",
      "  false_pos = cumsum_fp / n_controls\n",
      "C:\\ProgramData\\Anaconda3\\envs\\survive\\lib\\site-packages\\survivors-1.4.4-py3.10.egg\\survivors\\metrics.py:374: RuntimeWarning: invalid value encountered in divide\n",
      "  false_pos = cumsum_fp / n_controls\n"
     ]
    },
    {
     "name": "stderr",
     "output_type": "stream",
     "text": [
      "C:\\ProgramData\\Anaconda3\\envs\\survive\\lib\\site-packages\\survivors-1.4.4-py3.10.egg\\survivors\\metrics.py:374: RuntimeWarning: invalid value encountered in divide\n",
      "  false_pos = cumsum_fp / n_controls\n",
      "C:\\ProgramData\\Anaconda3\\envs\\survive\\lib\\site-packages\\survivors-1.4.4-py3.10.egg\\survivors\\metrics.py:374: RuntimeWarning: invalid value encountered in divide\n",
      "  false_pos = cumsum_fp / n_controls\n",
      "C:\\ProgramData\\Anaconda3\\envs\\survive\\lib\\site-packages\\survivors-1.4.4-py3.10.egg\\survivors\\metrics.py:374: RuntimeWarning: invalid value encountered in divide\n",
      "  false_pos = cumsum_fp / n_controls\n",
      "C:\\ProgramData\\Anaconda3\\envs\\survive\\lib\\site-packages\\survivors-1.4.4-py3.10.egg\\survivors\\metrics.py:374: RuntimeWarning: invalid value encountered in divide\n",
      "  false_pos = cumsum_fp / n_controls\n",
      "C:\\ProgramData\\Anaconda3\\envs\\survive\\lib\\site-packages\\survivors-1.4.4-py3.10.egg\\survivors\\metrics.py:374: RuntimeWarning: invalid value encountered in divide\n",
      "  false_pos = cumsum_fp / n_controls\n"
     ]
    },
    {
     "data": {
      "image/png": "[encoded data removed]",
      "text/plain": [
       "<Figure size 432x288 with 1 Axes>"
      ]
     },
     "metadata": {},
     "output_type": "display_data"
    },
    {
     "name": "stdout",
     "output_type": "stream",
     "text": [
      "train\n",
      "test\n"
     ]
    },
    {
     "data": {
      "image/png": "[encoded data removed]",
      "text/plain": [
       "<Figure size 432x288 with 1 Axes>"
      ]
     },
     "metadata": {},
     "output_type": "display_data"
    }
   ],
   "source": [
    "axx = 1\n",
    "for mtr in [\"ibs_REMAIN\", \"CI_CENS\", \"IAUC_WW_TI\", \"AUPRC\"]:\n",
    "    bstr.plot_curve(X_tr, y_tr, bins_HO, \"train\", mtr, axes=axx)\n",
    "    bstr.plot_curve(X_HO, y_HO, bins_HO, \"test\", mtr, axes=axx)\n",
    "    plt.legend()\n",
    "    plt.show()"
   ]
  },
  {
   "cell_type": "code",
   "execution_count": 1002,
   "id": "d17617a0",
   "metadata": {},
   "outputs": [
    {
     "data": {
      "text/plain": [
       "<matplotlib.legend.Legend at 0x1ae947c7790>"
      ]
     },
     "execution_count": 1002,
     "metadata": {},
     "output_type": "execute_result"
    },
    {
     "data": {
      "image/png": "[encoded data removed]",
      "text/plain": [
       "<Figure size 432x288 with 1 Axes>"
      ]
     },
     "metadata": {},
     "output_type": "display_data"
    }
   ],
   "source": [
    "train_interp = np.sum((bstr.predict_at_times(X_tr, bins=bins_HO, mode=\"surv\") - 0.5)**2, axis=1)/pred_surv.shape[1]\n",
    "test_interp = np.sum((pred_surv - 0.5)**2, axis=1)/pred_surv.shape[1]\n",
    "\n",
    "plt.hist(train_interp, alpha=0.8, label=\"train\")\n",
    "plt.hist(test_interp, alpha=0.8, label=\"test\")\n",
    "\n",
    "xmin, xmax, ymin, ymax = plt.axis()\n",
    "plt.vlines([train_interp.mean()], ymin=0, ymax=ymax, color=\"blue\")\n",
    "plt.vlines([test_interp.mean()], ymin=0, ymax=ymax, color=\"orange\")\n",
    "\n",
    "plt.legend()"
   ]
  },
  {
   "cell_type": "code",
   "execution_count": 701,
   "id": "3f4c7560",
   "metadata": {},
   "outputs": [
    {
     "data": {
      "image/png": "[encoded data removed]",
      "text/plain": [
       "<Figure size 432x288 with 1 Axes>"
      ]
     },
     "metadata": {},
     "output_type": "display_data"
    },
    {
     "data": {
      "image/png": "[encoded data removed]",
      "text/plain": [
       "<Figure size 432x288 with 1 Axes>"
      ]
     },
     "metadata": {},
     "output_type": "display_data"
    },
    {
     "name": "stdout",
     "output_type": "stream",
     "text": [
      "0.7393230960779344\n",
      "0.06935629012978366\n",
      "0.742432789962252\n",
      "0.05535978399242056\n"
     ]
    }
   ],
   "source": [
    "pred_surv_bstr = bstr.predict_at_times(X_tr, bins=bins_HO, mode=\"surv\")\n",
    "plt.scatter(y_tr[\"time\"], metr.ibs_WW(y_tr, y_tr, pred_surv_bstr, bins_HO, axis=0), \n",
    "            c=np.where(y_tr[\"cens\"], \"blue\", \"orange\"))\n",
    "plt.show()\n",
    "plt.scatter(metr.ibs_WW(y_tr, y_tr, pred_surv_bstr, bins_HO, axis=0), \n",
    "            metr.auprc(y_tr, y_tr, pred_surv_bstr, bins_HO, axis=0), \n",
    "            c=np.where(y_tr[\"cens\"], \"blue\", \"orange\"))\n",
    "plt.show()\n",
    "print(np.mean(metr.auprc(y_tr, y_tr, pred_surv_bstr, bins_HO, axis=0)))\n",
    "print(np.mean(metr.ibs_WW(y_tr, y_tr, pred_surv_bstr, bins_HO, axis=0)))\n",
    "\n",
    "print(np.median(metr.auprc(y_tr, y_tr, pred_surv_bstr, bins_HO, axis=0)))\n",
    "print(np.median(metr.ibs_WW(y_tr, y_tr, pred_surv_bstr, bins_HO, axis=0)))"
   ]
  },
  {
   "cell_type": "code",
   "execution_count": 517,
   "id": "8f028fa8",
   "metadata": {},
   "outputs": [
    {
     "data": {
      "image/png": "[encoded data removed]",
      "text/plain": [
       "<Figure size 432x288 with 1 Axes>"
      ]
     },
     "metadata": {},
     "output_type": "display_data"
    },
    {
     "data": {
      "image/png": "[encoded data removed]",
      "text/plain": [
       "<Figure size 432x288 with 1 Axes>"
      ]
     },
     "metadata": {},
     "output_type": "display_data"
    },
    {
     "name": "stdout",
     "output_type": "stream",
     "text": [
      "0.744015938790835\n",
      "0.054686363183296116\n",
      "0.7468746901946293\n",
      "0.02173922439584937\n"
     ]
    }
   ],
   "source": [
    "pred_surv_bstr = bstr.predict_at_times(X_HO, bins=bins_HO, mode=\"surv\")\n",
    "plt.scatter(y_HO[\"time\"], metr.ibs_WW(y_tr, y_HO, pred_surv_bstr, bins_HO, axis=0), \n",
    "            c=np.where(y_HO[\"cens\"], \"blue\", \"orange\"))\n",
    "plt.show()\n",
    "plt.scatter(metr.ibs_WW(y_tr, y_HO, pred_surv_bstr, bins_HO, axis=0), \n",
    "            metr.auprc(y_tr, y_HO, pred_surv_bstr, bins_HO, axis=0), \n",
    "            c=np.where(y_HO[\"cens\"], \"blue\", \"orange\"))\n",
    "plt.show()\n",
    "print(np.mean(metr.auprc(y_tr, y_HO, pred_surv_bstr, bins_HO, axis=0)))\n",
    "print(np.mean(metr.ibs_WW(y_tr, y_HO, pred_surv_bstr, bins_HO, axis=0)))\n",
    "\n",
    "print(np.median(metr.auprc(y_tr, y_HO, pred_surv_bstr, bins_HO, axis=0)))\n",
    "print(np.median(metr.ibs_WW(y_tr, y_HO, pred_surv_bstr, bins_HO, axis=0)))"
   ]
  },
  {
   "cell_type": "code",
   "execution_count": 549,
   "id": "9ff3ae4e",
   "metadata": {},
   "outputs": [
    {
     "data": {
      "text/plain": [
       "<matplotlib.legend.Legend at 0x1ae0c6bd930>"
      ]
     },
     "execution_count": 549,
     "metadata": {},
     "output_type": "execute_result"
    },
    {
     "data": {
      "image/png": "[encoded data removed]",
      "text/plain": [
       "<Figure size 432x288 with 1 Axes>"
      ]
     },
     "metadata": {},
     "output_type": "display_data"
    }
   ],
   "source": [
    "pred_surv_bstr = bstr.predict_at_times(X_HO, bins=bins_HO, mode=\"surv\")\n",
    "\n",
    "for i in np.where(y_HO[\"time\"] > 25)[0]:\n",
    "    plt.step(bins_HO, pred_surv_bstr[i], label=y_HO[\"time\"][i])\n",
    "\n",
    "plt.legend()"
   ]
  },
  {
   "cell_type": "code",
   "execution_count": 547,
   "id": "de1594bb",
   "metadata": {},
   "outputs": [
    {
     "data": {
      "text/html": [
       "<div>\n",
       "<style scoped>\n",
       "    .dataframe tbody tr th:only-of-type {\n",
       "        vertical-align: middle;\n",
       "    }\n",
       "\n",
       "    .dataframe tbody tr th {\n",
       "        vertical-align: top;\n",
       "    }\n",
       "\n",
       "    .dataframe thead th {\n",
       "        text-align: right;\n",
       "    }\n",
       "</style>\n",
       "<table border=\"1\" class=\"dataframe\">\n",
       "  <thead>\n",
       "    <tr style=\"text-align: right;\">\n",
       "      <th></th>\n",
       "      <th>min_Prothrombin_time</th>\n",
       "      <th>min_fibrinogen</th>\n",
       "      <th>max____lymphocyte</th>\n",
       "      <th>min_HCV_antibody_quantification</th>\n",
       "      <th>max_White_blood_cell_count</th>\n",
       "      <th>min_neutrophils_count</th>\n",
       "      <th>max_Prothrombin_time</th>\n",
       "      <th>mean____lymphocyte</th>\n",
       "      <th>max_neutrophils_count</th>\n",
       "      <th>min_PLT_distribution_width</th>\n",
       "      <th>...</th>\n",
       "      <th>min_mean_corpuscular_hemoglobin_</th>\n",
       "      <th>mean_globulin</th>\n",
       "      <th>min_Amino_terminal_brain_natriuretic_peptide_precursor_NT_proBNP_</th>\n",
       "      <th>max_neutrophils___</th>\n",
       "      <th>min_monocytes_count</th>\n",
       "      <th>min_Mean_platelet_volume</th>\n",
       "      <th>max_Tumor_necrosis_factor_</th>\n",
       "      <th>min_Serum_chloride</th>\n",
       "      <th>max_Hypersensitive_cardiac_troponinI</th>\n",
       "      <th>mean_Uric_acid</th>\n",
       "    </tr>\n",
       "  </thead>\n",
       "  <tbody>\n",
       "    <tr>\n",
       "      <th>342</th>\n",
       "      <td>17.4</td>\n",
       "      <td>0.79</td>\n",
       "      <td>6.2</td>\n",
       "      <td>0.08</td>\n",
       "      <td>32.99</td>\n",
       "      <td>7.16</td>\n",
       "      <td>20.0</td>\n",
       "      <td>4.033333</td>\n",
       "      <td>31.24</td>\n",
       "      <td>11.3</td>\n",
       "      <td>...</td>\n",
       "      <td>29.2</td>\n",
       "      <td>36.425</td>\n",
       "      <td>3251.0</td>\n",
       "      <td>95.0</td>\n",
       "      <td>0.14</td>\n",
       "      <td>10.3</td>\n",
       "      <td>11.3</td>\n",
       "      <td>97.1</td>\n",
       "      <td>8443.5</td>\n",
       "      <td>315.50</td>\n",
       "    </tr>\n",
       "    <tr>\n",
       "      <th>344</th>\n",
       "      <td>15.1</td>\n",
       "      <td>4.58</td>\n",
       "      <td>5.2</td>\n",
       "      <td>0.17</td>\n",
       "      <td>12.23</td>\n",
       "      <td>5.65</td>\n",
       "      <td>16.5</td>\n",
       "      <td>3.425000</td>\n",
       "      <td>11.13</td>\n",
       "      <td>16.7</td>\n",
       "      <td>...</td>\n",
       "      <td>31.3</td>\n",
       "      <td>30.150</td>\n",
       "      <td>362.0</td>\n",
       "      <td>93.6</td>\n",
       "      <td>0.16</td>\n",
       "      <td>12.0</td>\n",
       "      <td>NaN</td>\n",
       "      <td>113.5</td>\n",
       "      <td>14.4</td>\n",
       "      <td>228.25</td>\n",
       "    </tr>\n",
       "  </tbody>\n",
       "</table>\n",
       "<p>2 rows × 221 columns</p>\n",
       "</div>"
      ],
      "text/plain": [
       "     min_Prothrombin_time  min_fibrinogen  max____lymphocyte  \\\n",
       "342                  17.4            0.79                6.2   \n",
       "344                  15.1            4.58                5.2   \n",
       "\n",
       "     min_HCV_antibody_quantification  max_White_blood_cell_count  \\\n",
       "342                             0.08                       32.99   \n",
       "344                             0.17                       12.23   \n",
       "\n",
       "     min_neutrophils_count  max_Prothrombin_time  mean____lymphocyte  \\\n",
       "342                   7.16                  20.0            4.033333   \n",
       "344                   5.65                  16.5            3.425000   \n",
       "\n",
       "     max_neutrophils_count  min_PLT_distribution_width  ...  \\\n",
       "342                  31.24                        11.3  ...   \n",
       "344                  11.13                        16.7  ...   \n",
       "\n",
       "     min_mean_corpuscular_hemoglobin_  mean_globulin  \\\n",
       "342                              29.2         36.425   \n",
       "344                              31.3         30.150   \n",
       "\n",
       "     min_Amino_terminal_brain_natriuretic_peptide_precursor_NT_proBNP_  \\\n",
       "342                                             3251.0                   \n",
       "344                                              362.0                   \n",
       "\n",
       "     max_neutrophils___  min_monocytes_count  min_Mean_platelet_volume  \\\n",
       "342                95.0                 0.14                      10.3   \n",
       "344                93.6                 0.16                      12.0   \n",
       "\n",
       "     max_Tumor_necrosis_factor_  min_Serum_chloride  \\\n",
       "342                        11.3                97.1   \n",
       "344                         NaN               113.5   \n",
       "\n",
       "     max_Hypersensitive_cardiac_troponinI  mean_Uric_acid  \n",
       "342                                8443.5          315.50  \n",
       "344                                  14.4          228.25  \n",
       "\n",
       "[2 rows x 221 columns]"
      ]
     },
     "execution_count": 547,
     "metadata": {},
     "output_type": "execute_result"
    }
   ],
   "source": [
    "X_HO[y_HO[\"time\"] == 29]"
   ]
  },
  {
   "cell_type": "code",
   "execution_count": 548,
   "id": "00708845",
   "metadata": {},
   "outputs": [],
   "source": [
    "bstr.models[0].visualize(mode=\"surv\")"
   ]
  },
  {
   "cell_type": "code",
   "execution_count": null,
   "id": "9fc9579d",
   "metadata": {},
   "outputs": [],
   "source": [
    "[0.76148047 0.07352419 0.13980771 0.82946707 0.74286172 0.5305663\n",
    " 0.72999533] # rank timeline"
   ]
  },
  {
   "cell_type": "code",
   "execution_count": null,
   "id": "77c7a0a3",
   "metadata": {},
   "outputs": [],
   "source": [
    "[0.75421522 0.07813184 0.14888686 0.8335198  0.73483829 0.52543357\n",
    " 0.72214709] # minstd full timeline\n",
    "\n",
    "[0.76065798 0.07439718 0.14766853 0.85279943 0.7351438  0.52829684\n",
    " 0.72260762] # minstd rank timeline"
   ]
  },
  {
   "cell_type": "code",
   "execution_count": null,
   "id": "26f1571a",
   "metadata": {},
   "outputs": [],
   "source": [
    "[0.75188485 0.07409013 0.14285489 0.85783089 0.74401594 0.5302137\n",
    " 0.73105823] # diptest full timeline"
   ]
  },
  {
   "cell_type": "code",
   "execution_count": null,
   "id": "2e12a029",
   "metadata": {},
   "outputs": [],
   "source": [
    "[0.62220051 0.14063964 0.35077657 0.7636975  0.69013242 0.51602659\n",
    " 0.67040949]"
   ]
  },
  {
   "cell_type": "code",
   "execution_count": null,
   "id": "83cbdf87",
   "metadata": {},
   "outputs": [],
   "source": [
    "[0.63251905 0.14106872 0.34654997 0.76467459 0.69642419 0.519807\n",
    " 0.67641677]"
   ]
  },
  {
   "cell_type": "code",
   "execution_count": 177,
   "id": "b3b54f23",
   "metadata": {},
   "outputs": [
    {
     "name": "stdout",
     "output_type": "stream",
     "text": [
      "[ 7 21]\n"
     ]
    },
    {
     "data": {
      "text/plain": [
       "14"
      ]
     },
     "execution_count": 177,
     "metadata": {},
     "output_type": "execute_result"
    }
   ],
   "source": [
    "from scipy.signal import find_peaks, peak_widths\n",
    "\n",
    "def max_width_peaks(x):\n",
    "    peaks, _ = find_peaks(x)\n",
    "    print(peaks)\n",
    "    if len(peaks) > 1:\n",
    "        distances = np.diff(peaks)\n",
    "        return max(distances)\n",
    "    return 0\n",
    "\n",
    "max_width_peaks(np.histogram(data, bins=30)[0])"
   ]
  },
  {
   "cell_type": "code",
   "execution_count": 294,
   "id": "1d46ef38",
   "metadata": {},
   "outputs": [
    {
     "name": "stdout",
     "output_type": "stream",
     "text": [
      "BC: 0.3097707514464615\n",
      "diptest: 0.11607142857142858\n"
     ]
    },
    {
     "data": {
      "image/png": "[encoded data removed]",
      "text/plain": [
       "<Figure size 432x288 with 1 Axes>"
      ]
     },
     "metadata": {},
     "output_type": "display_data"
    }
   ],
   "source": [
    "import matplotlib.pyplot as plt\n",
    "import numpy as np\n",
    "from scipy.signal import find_peaks, peak_widths\n",
    "from scipy.stats import skew, kurtosis\n",
    "\n",
    "# Сгенерируем случайные данные\n",
    "# data = np.concatenate([np.random.normal(0, 1, 1000), np.random.normal(4, 1, 1000)])\n",
    "x = np.array([1, 2, 1, 0, 0, 0, 1, 0, 0, 1, 1])\n",
    "data = np.repeat(np.arange(1, x.size + 1), x.astype(int))\n",
    "\n",
    "plt.hist(data)\n",
    "sk = skew(data)\n",
    "ku = kurtosis(data)\n",
    "n = data.size\n",
    "\n",
    "BC = (sk**2 + 1) / (ku + 3*((n - 1)**2 / ((n - 2) * (n - 3))))\n",
    "print(\"BC:\", BC)\n",
    "print(\"diptest:\", diptest.dipstat(data))\n",
    "# # Построим гистограмму\n",
    "# plt.hist(data, bins=30)\n",
    "\n",
    "# print(max_width_peaks(np.histogram(data, bins=30)[0]))"
   ]
  },
  {
   "cell_type": "code",
   "execution_count": 153,
   "id": "615e8db2",
   "metadata": {},
   "outputs": [
    {
     "data": {
      "text/plain": [
       "array([2, 7], dtype=int64)"
      ]
     },
     "execution_count": 153,
     "metadata": {},
     "output_type": "execute_result"
    }
   ],
   "source": [
    "peaks"
   ]
  },
  {
   "cell_type": "code",
   "execution_count": null,
   "id": "d352c83d",
   "metadata": {},
   "outputs": [],
   "source": []
  },
  {
   "cell_type": "code",
   "execution_count": null,
   "id": "68ce4425",
   "metadata": {},
   "outputs": [],
   "source": [
    "[0.75243317 0.07333642 0.13933905 0.8614329  0.74303577 0.52134847\n",
    " 0.72960017]"
   ]
  },
  {
   "cell_type": "code",
   "execution_count": null,
   "id": "f01c4005",
   "metadata": {},
   "outputs": [],
   "source": [
    "[0.74996573 0.07691214 0.14588498 0.85021201 0.74433642 0.52095168\n",
    " 0.73079795]"
   ]
  },
  {
   "cell_type": "code",
   "execution_count": null,
   "id": "00b96acf",
   "metadata": {},
   "outputs": [],
   "source": [
    "[0.76422207 0.06826685 0.13153203 0.89333202 0.75438083 0.53143861\n",
    " 0.74086918]\n",
    "\n",
    "[0.76319397 0.0720167  0.14611618 0.86796958 0.75141347 0.52898566\n",
    " 0.73793299]"
   ]
  },
  {
   "cell_type": "code",
   "execution_count": null,
   "id": "a114987f",
   "metadata": {},
   "outputs": [],
   "source": [
    "[0.75668266 0.07506964 0.13524413 0.80499555 0.74893613 0.52512688\n",
    " 0.73537194]\n",
    "\n",
    "[0.75695682 0.07440272 0.14538163 0.85218725 0.74779245 0.52774081\n",
    " 0.73445599]"
   ]
  },
  {
   "cell_type": "code",
   "execution_count": null,
   "id": "4e7bc84e",
   "metadata": {},
   "outputs": [],
   "source": [
    "[0.75791638 0.07364925 0.13941104 0.84413016 0.74317018 0.52911454\n",
    " 0.73019711]\n",
    "\n",
    "[0.76004112 0.0753898  0.14509276 0.83574934 0.74281228 0.52814724\n",
    " 0.72980227]"
   ]
  },
  {
   "cell_type": "code",
   "execution_count": null,
   "id": "c4f8fe4e",
   "metadata": {},
   "outputs": [],
   "source": [
    "[0.77930089 0.07105522 0.13704887 0.85401808 0.7516657  0.52669224\n",
    " 0.73803095]"
   ]
  },
  {
   "cell_type": "code",
   "execution_count": null,
   "id": "0a9f324a",
   "metadata": {},
   "outputs": [],
   "source": [
    "[0.76319397 0.0720167  0.14611618 0.86796958 0.75141347 0.52898566\n",
    " 0.73793299]\n",
    "\n"
   ]
  },
  {
   "cell_type": "code",
   "execution_count": null,
   "id": "91afdf5f",
   "metadata": {},
   "outputs": [],
   "source": [
    "[0.75716244 0.07354856 0.13494969 0.85672017 0.74750994 0.52062937\n",
    " 0.7337596 ]"
   ]
  },
  {
   "cell_type": "code",
   "execution_count": null,
   "id": "0df248d0",
   "metadata": {},
   "outputs": [],
   "source": [
    "[0.75517478 0.07205391 0.13473618 0.86944936 0.74515232 0.52232319\n",
    " 0.73164753]\n",
    "[0.7540096  0.07487264 0.13640897 0.87782645 0.74885486 0.52464159\n",
    " 0.73526618]"
   ]
  },
  {
   "cell_type": "code",
   "execution_count": null,
   "id": "b2227825",
   "metadata": {},
   "outputs": [],
   "source": [
    "[0.62259136 0.14198701 0.35885451 0.77255067 0.69410347 0.5194261\n",
    " 0.6743158 ]"
   ]
  },
  {
   "cell_type": "code",
   "execution_count": null,
   "id": "435f20da",
   "metadata": {},
   "outputs": [],
   "source": [
    "[0.7540096  0.07479226 0.13625052 0.87836153 0.74900861 0.52494637\n",
    " 0.73542908]"
   ]
  },
  {
   "cell_type": "code",
   "execution_count": null,
   "id": "97fd790c",
   "metadata": {},
   "outputs": [],
   "source": [
    "[0.74002742 0.07227528 0.13196277 0.86458745 0.74718982 0.52254975\n",
    " 0.73357527]"
   ]
  },
  {
   "cell_type": "code",
   "execution_count": null,
   "id": "cd210033",
   "metadata": {},
   "outputs": [],
   "source": []
  },
  {
   "cell_type": "code",
   "execution_count": null,
   "id": "34e8047c",
   "metadata": {},
   "outputs": [],
   "source": [
    "[0.75531186 0.07359772 0.14559497 0.85845047 0.74459797 0.52122024\n",
    " 0.73105993]"
   ]
  },
  {
   "cell_type": "code",
   "execution_count": null,
   "id": "1027b96c",
   "metadata": {},
   "outputs": [],
   "source": [
    "[0.75716244 0.07354856 0.13494969 0.85672017 0.74750994 0.52062937\n",
    " 0.7337596 ]"
   ]
  },
  {
   "cell_type": "code",
   "execution_count": null,
   "id": "b5e96c05",
   "metadata": {},
   "outputs": [],
   "source": [
    "[0.75517478 0.07205391 0.13473618 0.86944936 0.74515232 0.52232319\n",
    " 0.73164753]"
   ]
  },
  {
   "cell_type": "code",
   "execution_count": null,
   "id": "fab94917",
   "metadata": {},
   "outputs": [],
   "source": [
    "[0.75551748 0.0749408  0.14910095 0.85885689 0.7424502  0.52176386\n",
    " 0.72907527]"
   ]
  },
  {
   "cell_type": "code",
   "execution_count": null,
   "id": "867cb607",
   "metadata": {},
   "outputs": [],
   "source": [
    "[0.62802423 0.14211188 0.34170921 0.75739075 0.69467389 0.51757682\n",
    " 0.67461211]"
   ]
  },
  {
   "cell_type": "code",
   "execution_count": null,
   "id": "0835d609",
   "metadata": {},
   "outputs": [],
   "source": [
    "[0.63107289 0.14144822 0.3462126  0.77005228 0.6896938  0.51910505\n",
    " 0.67036929]"
   ]
  },
  {
   "cell_type": "code",
   "execution_count": null,
   "id": "a8e67db3",
   "metadata": {},
   "outputs": [],
   "source": [
    "[0.63056478 0.14079638 0.34322143 0.76938389 0.69300919 0.51992004\n",
    " 0.67340143]"
   ]
  },
  {
   "cell_type": "code",
   "execution_count": null,
   "id": "2d401719",
   "metadata": {},
   "outputs": [],
   "source": [
    "[0.63146375 0.14081558 0.34032002 0.76382246 0.6913002  0.51914928\n",
    " 0.67179873]"
   ]
  },
  {
   "cell_type": "code",
   "execution_count": null,
   "id": "e08cf5ce",
   "metadata": {},
   "outputs": [],
   "source": [
    "[0.62364667 0.14340442 0.34647329 0.77301765 0.69317095 0.51897566\n",
    " 0.67343789]"
   ]
  },
  {
   "cell_type": "code",
   "execution_count": null,
   "id": "2128b9ba",
   "metadata": {},
   "outputs": [],
   "source": [
    "[0.63306625 0.13905343 0.37198661 0.78508546 0.68627601 0.52907648\n",
    " 0.66846826]"
   ]
  },
  {
   "cell_type": "code",
   "execution_count": null,
   "id": "2810e7a5",
   "metadata": {},
   "outputs": [],
   "source": [
    "[0.6214188  0.14391302 0.35822151 0.76261641 0.68925319 0.51655777\n",
    " 0.66969004]"
   ]
  },
  {
   "cell_type": "code",
   "execution_count": null,
   "id": "71db14db",
   "metadata": {},
   "outputs": [],
   "source": [
    "[0.63162009 0.14071645 0.34137235 0.76280546 0.69149669 0.51923545\n",
    " 0.67198272]"
   ]
  }
 ],
 "metadata": {
  "kernelspec": {
   "display_name": "Python 3 (ipykernel)",
   "language": "python",
   "name": "python3"
  },
  "language_info": {
   "codemirror_mode": {
    "name": "ipython",
    "version": 3
   },
   "file_extension": ".py",
   "mimetype": "text/x-python",
   "name": "python",
   "nbconvert_exporter": "python",
   "pygments_lexer": "ipython3",
   "version": "3.10.4"
  }
 },
 "nbformat": 4,
 "nbformat_minor": 5
}
