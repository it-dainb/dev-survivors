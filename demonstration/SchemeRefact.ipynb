{
 "cells": [
  {
   "cell_type": "code",
   "execution_count": 52,
   "id": "86d4886f",
   "metadata": {},
   "outputs": [],
   "source": [
    "import numpy as np\n",
    "import random\n",
    "from survivors import metrics as metr\n",
    "from survivors import criteria as scrit\n",
    "import os\n",
    "\n",
    "import matplotlib.pyplot as plt\n",
    "import seaborn as sns\n",
    "sns.set()"
   ]
  },
  {
   "cell_type": "code",
   "execution_count": 191,
   "id": "8026e742",
   "metadata": {},
   "outputs": [],
   "source": [
    "class Scheme(object):\n",
    "    def __init__(self, rule, times, cens, feat_means):\n",
    "        self.rule = rule\n",
    "        self.times = times\n",
    "        self.cens = cens\n",
    "        self.feat_means = feat_means\n",
    "        self.shape = times.shape[0]\n",
    "        self.kmf = metr.get_survival_func(self.times, self.cens)\n",
    "        \n",
    "    def join(self, sch):\n",
    "        self.rule = f\"({self.rule})|({sch.rule})\"\n",
    "        self.times = np.hstack([self.times, sch.times])\n",
    "        self.cens = np.hstack([self.cens, sch.cens])\n",
    "        self.feat_means = (self.feat_means + sch.feat_means)/2\n",
    "        return self\n",
    "    \n",
    "    def predict_proba(self):\n",
    "        return round(np.mean(self.cens), 5)\n",
    "    \n",
    "    def predict_time(self):\n",
    "        return round(np.mean(self.times), 5)\n",
    "    \n",
    "    def copy(self):\n",
    "        return Scheme(self.rule, self.times, self.cens, self.feat_means)\n",
    "        \n",
    "    def get_str_rules(self):\n",
    "        return self.rule\n",
    "        \n",
    "    def get_description(self):\n",
    "        descr = \"\\nКОЛ-ВО:\" + str(self.shape) + ' '\n",
    "        descr += f\"ВЕРОЯТНОСТЬ СОБЫТИЯ:{self.predict_proba()} \"\n",
    "        descr += f\"ВРЕМЯ СОБЫТИЯ:{self.predict_time()} \"\n",
    "        descr += \"\\n\" + self.get_str_rules()\n",
    "        return descr\n",
    "    \n",
    "    def get_subschemes(self, min_size=5, top=3):\n",
    "        ret = [self.copy()]\n",
    "        return ret\n",
    "    \n",
    "    def plot_sf(self, ax, show_censors=False, ci_show=False):\n",
    "        return self.kmf.plot_survival_function(ax=ax, censor_styles={\"marker\": 'o', \"ms\": 6}, \n",
    "                                               show_censors=show_censors, ci_show=ci_show)\n",
    "\n",
    "\n",
    "class FilledSchemeStrategy(object):\n",
    "    def __init__(self, schemes_list):\n",
    "        self.schemes_dict = {sch.get_str_rules(): sch for sch in schemes_list}\n",
    "    \n",
    "    def join(self, fss):\n",
    "        for k, v in fss.schemes_dict.items():\n",
    "            if k in self.schemes_dict.keys():\n",
    "                self.schemes_dict[k].join(v)\n",
    "            else:\n",
    "                self.schemes_dict[k] = v\n",
    "    \n",
    "    def join_nearest_leaves(self, sign_thres=0.05, diff_func=random.random):\n",
    "        def delete_k_from_dict(d, del_k):\n",
    "            d_ = dict()\n",
    "            for k in d.keys():\n",
    "                if not(del_k in k.split(\"#\")):\n",
    "                    d_[k] = d[k]\n",
    "            return d_\n",
    "            \n",
    "        base = self.schemes_dict\n",
    "        diff_dict = dict()\n",
    "        for i1, l1 in enumerate(base.keys()):\n",
    "            for i2, l2 in enumerate(base.keys()):\n",
    "                if i2 > i1:\n",
    "                    diff_dict[l1+'#'+l2] = scrit.logrank(base[l1].times, base[l2].times, base[l1].cens, base[l2].cens)\n",
    "        while len(base) > 1:\n",
    "            max_pair_key, max_p_val = max(diff_dict.items(), key=lambda x: x[1])\n",
    "            print('Максимальное P-value:', max_p_val)\n",
    "            if max_p_val < sign_thres:\n",
    "                break\n",
    "            f_l, s_l = max_pair_key.split('#')\n",
    "            new_sch = base[f_l].copy().join(base[s_l])\n",
    "            new_sch_name = new_sch.get_str_rules()\n",
    "            for k in [f_l, s_l]:\n",
    "                diff_dict = delete_k_from_dict(diff_dict, k)\n",
    "                del base[k]\n",
    "            for k in base.keys():\n",
    "                diff_dict[new_sch_name+'#'+k] = scrit.logrank(new_sch.times, base[k].times, new_sch.cens, base[k].cens)\n",
    "            base[new_sch_name] = new_sch\n",
    "            print('Цепочки схем:', f_l, s_l)\n",
    "            print('Заменяются на:', new_sch_name)\n",
    "        self.schemes_dict = base\n",
    "    \n",
    "    def get_flatten_sch(self, sort_by=None):\n",
    "        schemes = []\n",
    "        for k, v in self.schemes_dict.items():\n",
    "            schemes += v.get_subschemes()\n",
    "        # descending order\n",
    "        if sort_by == \"size\":\n",
    "            schemes.sort(key=lambda x: x.shape, reverse=True)\n",
    "        elif sort_by == \"proba\":\n",
    "            schemes.sort(key=lambda x: x.predict_proba(), reverse=True)\n",
    "        elif sort_by == \"time\":\n",
    "            schemes.sort(key=lambda x: x.predict_time(), reverse=True)\n",
    "        return schemes\n",
    "        \n",
    "    def predict_best_scheme(self, sort_by=\"proba\"):\n",
    "        return self.get_flatten_sch(sort_by=sort_by)[0]\n",
    "        \n",
    "    def visualize_schemes(self, output_dir=None, sort_by=None, show_censors=False, ci_show=False):\n",
    "        fig, ax = plt.subplots(figsize=(7, 5))\n",
    "        schemes = self.get_flatten_sch(sort_by=sort_by)\n",
    "        ind = 0\n",
    "        legends = []\n",
    "        \n",
    "        for sch in schemes:\n",
    "            ind += 1\n",
    "            descr = f\"Схема №{ind}\" + sch.get_description()\n",
    "            ax = sch.plot_sf(ax, show_censors=show_censors, ci_show=ci_show)\n",
    "            if show_censors and (0 in sch.cens):\n",
    "                legends.append(\"Лечение завершено\")\n",
    "            legends.append(descr)\n",
    "            if ci_show:\n",
    "                legends.append(\"Доверительный интервал\")\n",
    "        \n",
    "        if len(legends) > 0:\n",
    "            ax.get_legend().remove()\n",
    "            if not(output_dir is None):\n",
    "                plt.savefig(output_dir + \"scheme_figure.png\")\n",
    "            legend = ax.legend(legends, bbox_to_anchor = (0,-0.1), loc = \"upper left\", ncol = 1, prop = {'size':10})            \n",
    "            fig_leg  = legend.figure\n",
    "            fig_leg.canvas.draw()\n",
    "            bbox  = legend.get_window_extent().transformed(fig_leg.dpi_scale_trans.inverted())\n",
    "            if not(output_dir is None):\n",
    "                fig_leg.savefig(output_dir + \"scheme_legend.png\", dpi=\"figure\", bbox_inches=bbox)\n",
    "                plt.close()\n",
    "            else:\n",
    "                plt.show()\n",
    "        else:\n",
    "            raise ValueError(\"Не выделены значимые схемы лечения\")"
   ]
  },
  {
   "cell_type": "code",
   "execution_count": 2,
   "id": "67e95573",
   "metadata": {},
   "outputs": [
    {
     "name": "stdout",
     "output_type": "stream",
     "text": [
      "Максимальное P-value: 0.013117432348962742\n",
      "Цепочки схем: (a > 0.5) & (b <= 0.5) (a > 0.5) & (b > 0.5)\n",
      "Заменяются на: ((a > 0.5) & (b <= 0.5))|((a > 0.5) & (b > 0.5))\n",
      "Максимальное P-value: 0.0018419355003711588\n"
     ]
    }
   ],
   "source": [
    "a = Scheme(rule=\"(a > 0.5) & (b <= 0.5)\", \n",
    "           times=np.array([1, 2, 3, 4, 5]), \n",
    "           cens=np.array([1, 0, 1, 0, 1]), \n",
    "           feat_means = np.array([1, 10, 100, 1000]))\n",
    "b = Scheme(rule=\"(a > 0.5) & (b > 0.5)\", \n",
    "           times=np.array([6, 7, 8, 9, 10]), \n",
    "           cens=np.array([1, 1, 1, 1, 1]), \n",
    "           feat_means = np.array([10, 10, 10, 10]))\n",
    "c = Scheme(rule=\"(a <= 0.5) & (c <= 1000)\", \n",
    "           times=np.array([11, 12, 13, 14, 15]), \n",
    "           cens=np.array([1, 1, 1, 1, 1]), \n",
    "           feat_means = np.array([1, 1, 1, 1]))\n",
    "d = Scheme(rule=\"(a <= 0.5) & (c > 1000)\", \n",
    "           times=np.array([16, 17, 18, 19, 20]), \n",
    "           cens=np.array([0, 1, 0, 0, 1]), \n",
    "           feat_means = np.array([100, 100, 100, 100]))\n",
    "\n",
    "fss1 = FilledSchemeStrategy([a, b])\n",
    "fss2 = FilledSchemeStrategy([c, d])\n",
    "fss1.join(fss2)\n",
    "fss1.join_nearest_leaves(sign_thres=0.005)"
   ]
  },
  {
   "cell_type": "code",
   "execution_count": 3,
   "id": "d21548ee",
   "metadata": {},
   "outputs": [
    {
     "data": {
      "text/plain": [
       "True"
      ]
     },
     "execution_count": 3,
     "metadata": {},
     "output_type": "execute_result"
    }
   ],
   "source": [
    "list(fss1.schemes_dict.keys()) == [\n",
    "    '(a <= 0.5) & (c <= 1000)',\n",
    "    '(a <= 0.5) & (c > 1000)',\n",
    "    '((a > 0.5) & (b <= 0.5))|((a > 0.5) & (b > 0.5))'\n",
    "]"
   ]
  },
  {
   "cell_type": "code",
   "execution_count": 4,
   "id": "52fd75b1",
   "metadata": {},
   "outputs": [
    {
     "data": {
      "image/png": "[encoded data removed]",
      "text/plain": [
       "<Figure size 504x360 with 1 Axes>"
      ]
     },
     "metadata": {
      "needs_background": "light"
     },
     "output_type": "display_data"
    }
   ],
   "source": [
    "fss1.visualize_schemes(sort_by=\"size\")#os.getcwd() +'\\\\')"
   ]
  },
  {
   "cell_type": "code",
   "execution_count": 5,
   "id": "b4f8cfa6",
   "metadata": {},
   "outputs": [
    {
     "data": {
      "text/plain": [
       "{'rule': '(a <= 0.5) & (c <= 1000)',\n",
       " 'times': array([11, 12, 13, 14, 15]),\n",
       " 'cens': array([1, 1, 1, 1, 1]),\n",
       " 'feat_means': array([1, 1, 1, 1]),\n",
       " 'shape': 5,\n",
       " 'kmf': <lifelines.KaplanMeierFitter:\"KM_estimate\", fitted with 5 total observations, 0 right-censored observations>}"
      ]
     },
     "execution_count": 5,
     "metadata": {},
     "output_type": "execute_result"
    }
   ],
   "source": [
    "fss1.predict_best_scheme(sort_by=\"proba\").__dict__"
   ]
  },
  {
   "cell_type": "code",
   "execution_count": 6,
   "id": "09293b71",
   "metadata": {},
   "outputs": [
    {
     "data": {
      "text/plain": [
       "{'rule': '((a > 0.5) & (b <= 0.5))|((a > 0.5) & (b > 0.5))',\n",
       " 'times': array([ 1,  2,  3,  4,  5,  6,  7,  8,  9, 10]),\n",
       " 'cens': array([1, 0, 1, 0, 1, 1, 1, 1, 1, 1]),\n",
       " 'feat_means': array([  5.5,  10. ,  55. , 505. ]),\n",
       " 'shape': 10,\n",
       " 'kmf': <lifelines.KaplanMeierFitter:\"KM_estimate\", fitted with 10 total observations, 2 right-censored observations>}"
      ]
     },
     "execution_count": 6,
     "metadata": {},
     "output_type": "execute_result"
    }
   ],
   "source": [
    "fss1.predict_best_scheme(sort_by=\"size\").__dict__"
   ]
  },
  {
   "cell_type": "code",
   "execution_count": 10,
   "id": "2bae9ed2",
   "metadata": {},
   "outputs": [
    {
     "data": {
      "text/plain": [
       "array([1, 0, 1, 0, 1, 1, 1, 1, 1, 1])"
      ]
     },
     "execution_count": 10,
     "metadata": {},
     "output_type": "execute_result"
    }
   ],
   "source": [
    "fss1.predict_best_scheme(sort_by=\"size\").kmf.event_observed"
   ]
  },
  {
   "cell_type": "code",
   "execution_count": null,
   "id": "b1c2e793",
   "metadata": {},
   "outputs": [],
   "source": []
  }
 ],
 "metadata": {
  "kernelspec": {
   "display_name": "Python 3 (ipykernel)",
   "language": "python",
   "name": "python3"
  },
  "language_info": {
   "codemirror_mode": {
    "name": "ipython",
    "version": 3
   },
   "file_extension": ".py",
   "mimetype": "text/x-python",
   "name": "python",
   "nbconvert_exporter": "python",
   "pygments_lexer": "ipython3",
   "version": "3.10.4"
  }
 },
 "nbformat": 4,
 "nbformat_minor": 5
}
