{
 "cells": [
  {
   "cell_type": "code",
   "execution_count": 15,
   "id": "b5d43c42",
   "metadata": {},
   "outputs": [],
   "source": [
    "import numpy as np\n",
    "import random\n",
    "from survivors import metrics as metr\n",
    "import os\n",
    "\n",
    "import matplotlib.pyplot as plt\n",
    "import seaborn as sns\n",
    "sns.set()"
   ]
  },
  {
   "cell_type": "code",
   "execution_count": 32,
   "id": "59dfcb47",
   "metadata": {},
   "outputs": [
    {
     "data": {
      "text/plain": [
       "'(123)|(456)'"
      ]
     },
     "execution_count": 32,
     "metadata": {},
     "output_type": "execute_result"
    }
   ],
   "source": [
    "f\"({123})|({456})\""
   ]
  },
  {
   "cell_type": "code",
   "execution_count": 36,
   "id": "f4f0d020",
   "metadata": {},
   "outputs": [],
   "source": [
    "class Scheme(object):\n",
    "    def __init__(self, rule, times, cens, feat_means):\n",
    "        self.rule = rule\n",
    "        self.times = times\n",
    "        self.cens = cens\n",
    "        self.feat_means = feat_means\n",
    "        self.shape = times.shape[0]\n",
    "        self.kmf = metr.get_survival_func(self.cens, self.times)\n",
    "        \n",
    "    def join(self, sch):\n",
    "        self.rule = f\"({self.rule})|({sch.rule})\"\n",
    "        self.times = np.hstack([self.times, sch.times])\n",
    "        self.cens = np.hstack([self.cens, sch.cens])\n",
    "        self.feat_means = (self.feat_means + sch.feat_means)/2\n",
    "        return self\n",
    "    \n",
    "    def copy(self):\n",
    "        return Scheme(self.rule, self.times, self.cens, self.feat_means)\n",
    "        \n",
    "    def get_str_rules(self):\n",
    "        return self.rule\n",
    "        \n",
    "    def get_description(self):\n",
    "        descr = \"\\nКОЛ-ВО:\" + str(self.shape) + ' '\n",
    "        descr += f\"ВЕРОЯТНОСТЬ СОБЫТИЯ:{round(np.mean(self.cens), 5)} \"\n",
    "        descr += \"\\n\" + self.get_str_rules()\n",
    "        return descr\n",
    "    \n",
    "    def get_subschemes(self, min_size=5, top=3):\n",
    "        ret = {self.get_str_rules(): self.copy()}\n",
    "        return ret\n",
    "    \n",
    "    def plot_sf(self, ax):\n",
    "        return self.kmf.plot_survival_function(ax=ax, censor_styles = {\"marker\":'o', \"ms\":6}, ci_show = False)\n",
    "\n",
    "class FilledSchemeStrategy(object):\n",
    "    def __init__(self, schemes_list):\n",
    "        self.schemes_dict = {sch.get_str_rules(): sch for sch in schemes_list}\n",
    "    \n",
    "    def join(self, fss):\n",
    "        for k, v in fss.schemes_dict.items():\n",
    "            if k in self.schemes_dict.keys():\n",
    "                self.schemes_dict[k].join(v)\n",
    "            else:\n",
    "                self.schemes_dict[k] = v\n",
    "    \n",
    "    def join_nearest_leaves(self, sign_thres=0.05, diff_func=random.random):\n",
    "        def delete_k_from_dict(d, del_k):\n",
    "            d_ = dict()\n",
    "            for k in d.keys():\n",
    "                if not(del_k in k.split(\"#\")):\n",
    "                    d_[k] = d[k]\n",
    "            return d_\n",
    "            \n",
    "        base = self.schemes_dict\n",
    "        diff_dict = dict()\n",
    "        for i1, l1 in enumerate(base.keys()):\n",
    "            for i2, l2 in enumerate(base.keys()):\n",
    "                if i2 > i1:\n",
    "                    diff_dict[l1+'#'+l2] = diff_func()\n",
    "                    #scrit.logrank_fast(base[l1].times, base[l2].times, base[l1].cens, base[l2].cens)\n",
    "        while len(base) > 1:\n",
    "            max_pair_key, max_p_val = max(diff_dict.items(), key=lambda x: x[1])\n",
    "            print('Максимальное P-value:', max_p_val)\n",
    "            if max_p_val < sign_thres:\n",
    "                break\n",
    "            f_l, s_l = max_pair_key.split('#')\n",
    "            new_sch = base[f_l].copy()\n",
    "            new_sch.join(base[s_l])\n",
    "            new_sch_name = new_sch.get_str_rules()\n",
    "            for k in [f_l, s_l]:\n",
    "                diff_dict = delete_k_from_dict(diff_dict, k)\n",
    "                del base[k]\n",
    "            for k in base.keys():\n",
    "                diff_dict[new_sch_name+'#'+k] = diff_func()\n",
    "            base[new_sch_name] = new_sch\n",
    "            print('Цепочки схем:', f_l, s_l)\n",
    "            print('Заменяются на:', new_sch_name)\n",
    "        self.schemes_dict = base\n",
    "        \n",
    "    def visualize(self, output_dir=None):\n",
    "        if output_dir is None:\n",
    "            plt.ioff()\n",
    "        ind = 0\n",
    "        legends = []\n",
    "        fig, ax = plt.subplots(figsize=(7, 5))\n",
    "        for k, v in self.schemes_dict.items():\n",
    "            for k_sch, sch in v.get_subschemes().items():\n",
    "                ind += 1\n",
    "                descr = sch.get_description()       \n",
    "                ax = sch.plot_sf(ax)\n",
    "                legends.append(descr)\n",
    "        if ind > 0:\n",
    "            if output_dir is None:\n",
    "                plt.show()\n",
    "            else:\n",
    "                plt.savefig(output_dir + \"all_figure.png\")\n",
    "            legend = ax.legend(legends, bbox_to_anchor = (0,-0.1), loc = \"upper left\", ncol = 1, prop = {'size':10})\n",
    "            \n",
    "            fig_leg  = legend.figure\n",
    "            fig_leg.canvas.draw()\n",
    "            bbox  = legend.get_window_extent().transformed(fig_leg.dpi_scale_trans.inverted())\n",
    "            if output_dir is None:\n",
    "                fig_leg.show()\n",
    "            else:\n",
    "                fig_leg.savefig(output_dir + \"all_legend.png\", dpi=\"figure\", bbox_inches=bbox)\n",
    "        else:\n",
    "            raise ValueError(\"Не выделены значимые схемы лечения\")"
   ]
  },
  {
   "cell_type": "code",
   "execution_count": 39,
   "id": "152b1fc0",
   "metadata": {},
   "outputs": [
    {
     "name": "stdout",
     "output_type": "stream",
     "text": [
      "Максимальное P-value: 0.8800732531952435\n",
      "Цепочки схем: (a <= 0.5) & (c <= 1000) (a <= 0.5) & (c > 1000)\n",
      "Заменяются на: ((a <= 0.5) & (c <= 1000))|((a <= 0.5) & (c > 1000))\n",
      "Максимальное P-value: 0.6178997604289962\n",
      "Цепочки схем: ((a <= 0.5) & (c <= 1000))|((a <= 0.5) & (c > 1000)) (a > 0.5) & (b > 0.5)\n",
      "Заменяются на: (((a <= 0.5) & (c <= 1000))|((a <= 0.5) & (c > 1000)))|((a > 0.5) & (b > 0.5))\n",
      "Максимальное P-value: 0.38439299353676504\n"
     ]
    }
   ],
   "source": [
    "a = Scheme(rule=\"(a > 0.5) & (b <= 0.5)\", \n",
    "           times=np.array([1, 2, 3, 4, 5]), \n",
    "           cens=np.array([1, 0, 1, 0, 1]), \n",
    "           feat_means = np.array([1, 10, 100, 1000]))\n",
    "b = Scheme(rule=\"(a > 0.5) & (b > 0.5)\", \n",
    "           times=np.array([6, 7, 8, 9, 10]), \n",
    "           cens=np.array([1, 1, 1, 1, 1]), \n",
    "           feat_means = np.array([10, 10, 10, 10]))\n",
    "c = Scheme(rule=\"(a <= 0.5) & (c <= 1000)\", \n",
    "           times=np.array([11, 12, 13, 14, 15]), \n",
    "           cens=np.array([1, 1, 1, 1, 1]), \n",
    "           feat_means = np.array([1, 1, 1, 1]))\n",
    "d = Scheme(rule=\"(a <= 0.5) & (c > 1000)\", \n",
    "           times=np.array([16, 17, 18, 19, 20]), \n",
    "           cens=np.array([0, 1, 0, 0, 1]), \n",
    "           feat_means = np.array([100, 100, 100, 100]))\n",
    "\n",
    "fss1 = FilledSchemeStrategy([a, b])\n",
    "fss2 = FilledSchemeStrategy([c, d])\n",
    "fss1.join(fss2)\n",
    "fss1.join_nearest_leaves(sign_thres=0.5)"
   ]
  },
  {
   "cell_type": "code",
   "execution_count": 40,
   "id": "7c7f157a",
   "metadata": {},
   "outputs": [
    {
     "data": {
      "image/png": "[encoded data removed]",
      "text/plain": [
       "<Figure size 504x360 with 1 Axes>"
      ]
     },
     "metadata": {
      "needs_background": "light"
     },
     "output_type": "display_data"
    }
   ],
   "source": [
    "fss1.visualize(os.getcwd() +'\\\\')"
   ]
  },
  {
   "cell_type": "code",
   "execution_count": null,
   "id": "25426903",
   "metadata": {},
   "outputs": [],
   "source": []
  }
 ],
 "metadata": {
  "kernelspec": {
   "display_name": "Python 3 (ipykernel)",
   "language": "python",
   "name": "python3"
  },
  "language_info": {
   "codemirror_mode": {
    "name": "ipython",
    "version": 3
   },
   "file_extension": ".py",
   "mimetype": "text/x-python",
   "name": "python",
   "nbconvert_exporter": "python",
   "pygments_lexer": "ipython3",
   "version": "3.10.4"
  }
 },
 "nbformat": 4,
 "nbformat_minor": 5
}
