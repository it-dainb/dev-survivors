{
 "cells": [
  {
   "cell_type": "markdown",
   "source": [
    "### Terminology and interpretation"
   ],
   "metadata": {
    "collapsed": false
   },
   "id": "b9c9f483a65b6e31"
  },
  {
   "cell_type": "markdown",
   "source": [
    "### Event"
   ],
   "metadata": {
    "collapsed": false
   },
   "id": "f1cd2184e3178fec"
  },
  {
   "cell_type": "markdown",
   "source": [
    "### Time and censoring definitions"
   ],
   "metadata": {
    "collapsed": false
   },
   "id": "2c36adb40477d4f3"
  },
  {
   "cell_type": "markdown",
   "source": [
    "### Applied problems"
   ],
   "metadata": {
    "collapsed": false
   },
   "id": "58f3ef488f8be71f"
  },
  {
   "cell_type": "markdown",
   "source": [
    "### Survival function, density function, hazard function"
   ],
   "metadata": {
    "collapsed": false
   },
   "id": "e1f3f1f3140bec40"
  },
  {
   "cell_type": "markdown",
   "source": [
    "### Target functions"
   ],
   "metadata": {
    "collapsed": false
   },
   "id": "ff2359c314d65ec8"
  },
  {
   "cell_type": "markdown",
   "source": [
    "### Prediction interpretation\n",
    "\n",
    "1. Similarity to threshold\n",
    "2. Confidence early and late intervals\n",
    "3. Ranking, comparing (log-rank)"
   ],
   "metadata": {
    "collapsed": false
   },
   "id": "a2ea3d2d676be959"
  },
  {
   "cell_type": "code",
   "outputs": [],
   "source": [],
   "metadata": {
    "collapsed": false
   },
   "id": "3c49d647f477919b"
  }
 ],
 "metadata": {
  "kernelspec": {
   "display_name": "Python 3",
   "language": "python",
   "name": "python3"
  },
  "language_info": {
   "codemirror_mode": {
    "name": "ipython",
    "version": 2
   },
   "file_extension": ".py",
   "mimetype": "text/x-python",
   "name": "python",
   "nbconvert_exporter": "python",
   "pygments_lexer": "ipython2",
   "version": "2.7.6"
  }
 },
 "nbformat": 4,
 "nbformat_minor": 5
}
