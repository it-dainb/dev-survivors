{
 "cells": [
  {
   "cell_type": "code",
   "execution_count": 1,
   "id": "b40d915d",
   "metadata": {},
   "outputs": [
    {
     "name": "stdout",
     "output_type": "stream",
     "text": [
      "Scalene extension successfully loaded. Note: Scalene currently only\n",
      "supports CPU+GPU profiling inside Jupyter notebooks. For full Scalene\n",
      "profiling, use the command line version.\n"
     ]
    }
   ],
   "source": [
    "import pandas as pd\n",
    "import numpy as np\n",
    "import os\n",
    "import time\n",
    "import copy\n",
    "import pathlib, tempfile\n",
    "\n",
    "import matplotlib.pyplot as plt\n",
    "import seaborn as sns\n",
    "sns.set()\n",
    "from joblib import Parallel, delayed\n",
    "from scipy import stats\n",
    "\n",
    "from survivors import metrics as metr\n",
    "from survivors import constants as cnt\n",
    "from survivors import criteria as crit\n",
    "from numba import njit, jit, int32, float64\n",
    "from lifelines import KaplanMeierFitter, NelsonAalenFitter\n",
    "\n",
    "from survivors.ensemble import BootstrapCRAID\n",
    "import survivors.datasets as ds\n",
    "\n",
    "import cProfile\n",
    "import pstats\n",
    "\n",
    "%load_ext line_profiler\n",
    "%load_ext scalene"
   ]
  },
  {
   "cell_type": "code",
   "execution_count": 38,
   "id": "0ec92015",
   "metadata": {},
   "outputs": [],
   "source": [
    "import numpy as np\n",
    "from numba import njit\n",
    "\n",
    "from scipy import stats\n",
    "from survivors.tree.stratified_model import KaplanMeier, FullProbKM, NelsonAalen, KaplanMeierZeroAfter\n",
    "from survivors.metrics import ibs_WW, auprc\n",
    "from survivors.constants import get_y\n",
    "\n",
    "\"\"\" Auxiliary functions \"\"\"\n",
    "\n",
    "\n",
    "@njit('f4(f4[:], f4[:], f4[:], f4[:], u4, f4[:])', cache=True)\n",
    "def lr_hist_statistic(time_hist_1, time_hist_2, cens_hist_1, cens_hist_2,\n",
    "                      weightings, obs_weights):\n",
    "    N_1_j = np.cumsum(time_hist_1[::-1])[::-1]\n",
    "    N_2_j = np.cumsum(time_hist_2[::-1])[::-1]\n",
    "    ind = np.where((cens_hist_1 + cens_hist_2 != 0) & (N_1_j * N_2_j != 0))[0]\n",
    "    # print(N_1_j[0], N_2_j[0], np.sum(cens_hist_1), np.sum(cens_hist_2))\n",
    "    # print(N_1_j, N_2_j, cens_hist_1, cens_hist_2)\n",
    "    # print(ind)\n",
    "    if ind.shape[0] == 0:\n",
    "        return 0.0\n",
    "\n",
    "    N_1_j = N_1_j[ind]  # + 1\n",
    "    N_2_j = N_2_j[ind]  # + 1\n",
    "    O_1_j = cens_hist_1[ind]\n",
    "    O_2_j = cens_hist_2[ind]\n",
    "\n",
    "    N_j = N_1_j + N_2_j\n",
    "    O_j = O_1_j + O_2_j\n",
    "    E_1_j = N_1_j * O_j / N_j\n",
    "    res = np.zeros((N_j.shape[0], 3), dtype=np.float32)\n",
    "    res[:, 1] = O_1_j - E_1_j  # np.abs(O_1_j - E_1_j)\n",
    "    res[:, 2] = E_1_j * (N_j - O_j) * N_2_j / (N_j * (N_j - 1))\n",
    "    # res[:, 2] = E_1_j * (N_j - O_j) * N_2_j / (N_j * (N_j - 1))  # TODO\n",
    "    # res[:, 2] = E_1_j * (N_j - O_j + 1) * (N_2_j + 1) / ((N_j + 1) * (N_j))\n",
    "    res[:, 0] = 1.0\n",
    "    if weightings == 2:\n",
    "        res[:, 0] = N_j\n",
    "    elif weightings == 3:\n",
    "        res[:, 0] = np.sqrt(N_j)\n",
    "    elif weightings == 4:\n",
    "        res[:, 0] = np.cumprod((1.0 - O_j / (N_j + 1)))\n",
    "    elif weightings == 5:\n",
    "        res[:, 0] = obs_weights[ind]\n",
    "    elif weightings == 6:\n",
    "        res[:, 0] = O_j/N_j\n",
    "    elif weightings == 7:\n",
    "        res[:, 0] = np.cumprod((1.0 - O_j / (N_j + 1)))\n",
    "    elif weightings == 8:\n",
    "        res[:, 0] = (N_1_j*N_2_j)/N_j\n",
    "        #res[:, 0] = np.cumprod((1.0 - O_1_j / (N_1_j + 1))) - np.cumprod((1.0 - O_2_j / (N_2_j + 1)))\n",
    "    var = ((res[:, 0] * res[:, 0] * res[:, 2]).sum())\n",
    "    num = res[:, 0] * res[:, 1]\n",
    "    stat_val = np.power(num.sum(), 2) / var  # ((res[:, 0] * res[:, 0] * res[:, 2]).sum())\n",
    "\n",
    "#     print(\"ALL:\", N_j[0], \"(\", N_1_j[0], N_2_j[0], \")\",\n",
    "#           \"OBS:\", np.sum(O_j), \"(\", O_1_j, O_2_j, \")\",  # ind,\n",
    "#           \"WEI:\", res[:, 0],\n",
    "#           # \"OBS:\", np.sum(O_j), \"(\", np.sum(cens_hist_1), np.sum(cens_hist_2), \")\",\n",
    "#           \"STAT:\", stat_val, \"(\", num, var, \")\")\n",
    "\n",
    "    if weightings == 7:\n",
    "        res[:, 0] = 1 - res[:, 0]\n",
    "        stat_val2 = np.power((res[:, 0] * res[:, 1]).sum(), 2) / ((res[:, 0] * res[:, 0] * res[:, 2]).sum())\n",
    "        stat_val = max(stat_val, stat_val2)\n",
    "    return stat_val  # It must be square of value (without sqrt)\n",
    "\n",
    "\n",
    "def weight_hist_stat(time_hist_1, time_hist_2, cens_hist_1=None, cens_hist_2=None, weights_hist=None, weightings=\"\"):\n",
    "    try:\n",
    "        if cens_hist_1 is None:\n",
    "            cens_hist_1 = time_hist_1\n",
    "        if cens_hist_2 is None:\n",
    "            cens_hist_2 = time_hist_2\n",
    "        if weights_hist is None:\n",
    "            weights_hist = np.ones_like(time_hist_1)\n",
    "        d = {\"logrank\": 1, \"wilcoxon\": 2, \"tarone-ware\": 3, \"peto\": 4, \"weights\": 5}\n",
    "        d.update({\"diff\": 6, \"maxcombo\": 7, \"frac\": 8})\n",
    "        weightings = d.get(weightings, 1)\n",
    "        logrank = lr_hist_statistic(time_hist_1.astype(\"float32\"),\n",
    "                                    time_hist_2.astype(\"float32\"),\n",
    "                                    cens_hist_1.astype(\"float32\"),\n",
    "                                    cens_hist_2.astype(\"float32\"),\n",
    "                                    np.uint32(weightings),\n",
    "                                    weights_hist.astype(\"float32\"))\n",
    "        return logrank\n",
    "    except Exception as err:\n",
    "        # print(err)\n",
    "        # print(time_hist_1, time_hist_2, cens_hist_1, cens_hist_2, weights_hist)\n",
    "        return 0.0\n",
    "\n",
    "\n",
    "def optimal_criter_split_hist(left_time_hist, left_cens_hist,\n",
    "                              right_time_hist, right_cens_hist,\n",
    "                              na_time_hist, na_cens_hist, weights_hist, criterion, dis_coef):\n",
    "    none_to = 0\n",
    "    max_stat_val = 1.0\n",
    "\n",
    "    if dis_coef > 1:\n",
    "        left_time_hist = left_time_hist + (dis_coef - 1) * left_cens_hist\n",
    "        right_time_hist = right_time_hist + (dis_coef - 1) * right_cens_hist\n",
    "        na_time_hist = na_time_hist + (dis_coef - 1) * na_cens_hist\n",
    "\n",
    "        left_cens_hist = left_cens_hist * dis_coef\n",
    "        right_cens_hist = right_cens_hist * dis_coef\n",
    "        na_cens_hist = na_cens_hist * dis_coef\n",
    "\n",
    "    if na_time_hist.shape[0] > 0:\n",
    "        a = weight_hist_stat(left_time_hist + na_time_hist, right_time_hist,\n",
    "                             left_cens_hist + na_cens_hist, right_cens_hist,\n",
    "                             weights_hist, weightings=criterion)\n",
    "        b = weight_hist_stat(left_time_hist, right_time_hist + na_time_hist,\n",
    "                             left_cens_hist, right_cens_hist + na_cens_hist,\n",
    "                             weights_hist, weightings=criterion)\n",
    "        # Nans move to a leaf with maximal statistical value\n",
    "        none_to = int(a < b)\n",
    "        max_stat_val = max(a, b)\n",
    "    #         print(a, b)\n",
    "    else:\n",
    "        max_stat_val = weight_hist_stat(left_time_hist, right_time_hist,\n",
    "                                        left_cens_hist, right_cens_hist,\n",
    "                                        weights_hist, weightings=criterion)\n",
    "    return (max_stat_val, none_to)\n",
    "\n",
    "\n",
    "def split_time_to_bins(time):\n",
    "    return np.searchsorted(np.unique(time), time)\n",
    "\n",
    "\n",
    "def get_attrs(max_stat_val, values, none_to, l_sh, r_sh, nan_sh):\n",
    "    attrs = dict()\n",
    "    attrs[\"stat_val\"] = max_stat_val\n",
    "    attrs[\"values\"] = values\n",
    "    if none_to:\n",
    "        attrs[\"pos_nan\"] = [0, 1]\n",
    "        attrs[\"min_split\"] = min(l_sh, r_sh + nan_sh)\n",
    "    else:\n",
    "        attrs[\"pos_nan\"] = [1, 0]\n",
    "        attrs[\"min_split\"] = min(l_sh + nan_sh, r_sh)\n",
    "    return attrs\n",
    "\n",
    "\n",
    "def transform_woe_np(x_feat, y):\n",
    "    N_T = y.shape[0]\n",
    "    N_D = y.sum()\n",
    "    N_D_ = N_T - N_D\n",
    "    x_uniq = np.unique(x_feat)\n",
    "    x_dig = np.digitize(x_feat, x_uniq) - 1\n",
    "\n",
    "    df_woe_iv = np.vstack([np.bincount(x_dig[y == 0], minlength=x_uniq.shape[0]),\n",
    "                           np.bincount(x_dig[y == 1], minlength=x_uniq.shape[0])])\n",
    "    all_0 = df_woe_iv[0].sum()\n",
    "    all_1 = df_woe_iv[1].sum()\n",
    "\n",
    "    p_bd = (df_woe_iv[1] + 1e-5) / (N_D + 1e-5)\n",
    "    p_bd_ = (df_woe_iv[0] + 1e-5) / (N_D_ + 1e-5)\n",
    "    p_b_d = (all_1 - df_woe_iv[1] + 1e-5) / (N_D + 1e-5)\n",
    "    p_b_d_ = (all_0 - df_woe_iv[0] + 1e-5) / (N_D_ + 1e-5)\n",
    "\n",
    "    woe_pl = np.log(p_bd / p_bd_)\n",
    "    woe_mn = np.log(p_b_d / p_b_d_)\n",
    "    descr_np = np.vstack([x_uniq, woe_pl - woe_mn])\n",
    "    features_woe = dict(zip(descr_np[0], descr_np[1]))\n",
    "    woe_x_feat = np.vectorize(features_woe.get)(x_feat)\n",
    "    # calculate information value\n",
    "    # iv = ((p_bd - p_bd_)*woe_pl).sum()\n",
    "    return (woe_x_feat, descr_np)\n",
    "\n",
    "\n",
    "def get_sa_hists(time, cens, minlength=1, weights=None):\n",
    "    if time.shape[0] > 0:\n",
    "        time_hist = np.bincount(time, weights=weights, minlength=minlength)\n",
    "        cens_hist = np.bincount(time, weights=cens*weights, minlength=minlength)\n",
    "    else:\n",
    "        time_hist, cens_hist = np.array([]), np.array([])\n",
    "    return time_hist, cens_hist\n",
    "\n",
    "\n",
    "def select_best_split_info(attr_dicts, type_attr, bonf=True, descr_woe=None):\n",
    "    best_attr = max(attr_dicts, key=lambda x: x[\"stat_val\"])\n",
    "    plt.scatter([d[\"values\"] for d in attr_dicts], [d[\"stat_val\"] for d in attr_dicts])\n",
    "    plt.vlines([best_attr[\"values\"]], ymin=0, ymax=best_attr[\"stat_val\"], color=\"orange\")\n",
    "    plt.show()\n",
    "    \n",
    "    best_attr[\"p_value\"] = stats.chi2.sf(best_attr[\"stat_val\"], df=1)\n",
    "    best_attr[\"sign_split\"] = len(attr_dicts)\n",
    "    if best_attr[\"sign_split\"] > 0:\n",
    "        if type_attr == \"cont\":\n",
    "            best_attr[\"values\"] = [f\" <= {best_attr['values']}\", f\" > {best_attr['values']}\"]\n",
    "        # elif type_attr == \"categ\":\n",
    "        #     best_attr[\"values\"] = [f\" in {e}\" for e in best_attr[\"values\"]]\n",
    "        elif type_attr == \"woe\" or type_attr == \"categ\":\n",
    "            ind = descr_woe[1] <= best_attr[\"values\"]\n",
    "            l, r = list(descr_woe[0, ind]), list(descr_woe[0, ~ind])\n",
    "            best_attr[\"values\"] = [f\" in {e}\" for e in [l, r]]\n",
    "        if bonf:\n",
    "            best_attr[\"p_value\"] *= best_attr[\"sign_split\"]\n",
    "    return best_attr\n",
    "\n",
    "\n",
    "def hist_best_attr_split(arr, criterion=\"logrank\", type_attr=\"cont\", weights=None, thres_cont_bin_max=100,\n",
    "                         signif=1.0, signif_stat=0.0, min_samples_leaf=10, bonf=True, verbose=0, balance=False, **kwargs):\n",
    "    best_attr = {\"stat_val\": signif_stat, \"p_value\": signif,\n",
    "                 \"sign_split\": 0, \"values\": [], \"pos_nan\": [1, 0]}\n",
    "    if arr.shape[1] < 2 * min_samples_leaf:\n",
    "        return best_attr\n",
    "    vals = arr[0].astype(\"float\")\n",
    "    cens = arr[1].astype(\"uint\")\n",
    "    dur = arr[2].astype(\"float\")\n",
    "    if np.sum(cens) == 0:\n",
    "        cens = np.ones_like(dur)\n",
    "    if weights is None:\n",
    "        weights = np.ones_like(dur)\n",
    "    weights_hist = None\n",
    "\n",
    "    dur = split_time_to_bins(dur)\n",
    "    max_bin = dur.max()\n",
    "\n",
    "    ind = np.isnan(vals)\n",
    "\n",
    "    # split nan and not-nan\n",
    "    dur_notna = dur[~ind]\n",
    "    cens_notna = cens[~ind]\n",
    "    vals_notna = vals[~ind]\n",
    "\n",
    "    dis_coef = 1\n",
    "    if balance:\n",
    "        dis_coef = max(1, (cens.shape[0] - np.sum(cens)) // np.sum(cens))\n",
    "\n",
    "    if dur_notna.shape[0] < min_samples_leaf:\n",
    "        return best_attr\n",
    "\n",
    "    descr_woe = None\n",
    "    if type_attr == \"woe\" or type_attr == \"categ\":\n",
    "        vals_notna, descr_woe = transform_woe_np(vals_notna, cens_notna)\n",
    "\n",
    "    # find splitting values\n",
    "    uniq_set = np.unique(vals_notna)\n",
    "    if uniq_set.shape[0] > thres_cont_bin_max:\n",
    "        uniq_set = np.quantile(vals_notna, [i / float(thres_cont_bin_max) for i in range(1, thres_cont_bin_max)])\n",
    "    else:\n",
    "        uniq_set = (uniq_set[:-1] + uniq_set[1:]) * 0.5\n",
    "    uniq_set = np.unique(np.round(uniq_set, 3))\n",
    "\n",
    "    index_vals_bin = np.digitize(vals_notna, uniq_set, right=True)\n",
    "\n",
    "    # find global hist by times\n",
    "    na_time_hist, na_cens_hist = get_sa_hists(dur[ind], cens[ind],\n",
    "                                              minlength=max_bin + 1, weights=weights[ind])\n",
    "    # na_time_hist = na_time_hist  # * 20\n",
    "    # na_cens_hist = na_cens_hist  # * 20\n",
    "\n",
    "    r_time_hist, r_cens_hist = get_sa_hists(dur_notna, cens_notna,\n",
    "                                            minlength=max_bin + 1, weights=weights[~ind])\n",
    "    # r_time_hist = r_time_hist  # * 20 + 1\n",
    "    # r_cens_hist = r_cens_hist  # * 20 + 1\n",
    "    # l_time_hist = np.zeros_like(r_time_hist, dtype=np.int32)  # + 1\n",
    "    l_time_hist = np.zeros_like(r_time_hist, dtype=np.float32)  # + 1\n",
    "    l_cens_hist = l_time_hist.copy()\n",
    "\n",
    "    num_nan = ind.sum()\n",
    "    num_r = dur_notna.shape[0]\n",
    "    num_l = 0\n",
    "\n",
    "    if criterion == \"confident\" or criterion == \"confident_weights\":\n",
    "        kmf = KaplanMeier()\n",
    "        if criterion == \"confident_weights\":\n",
    "            kmf.fit(dur, cens, weights=weights)\n",
    "        else:\n",
    "            kmf.fit(dur, cens)\n",
    "        ci = kmf.get_confidence_interval_()\n",
    "        weights_hist = 1 / (ci[1:, 1] - ci[1:, 0] + 1e-5)  # (ci[1:, 1] + ci[1:, 0] + 1e-5)\n",
    "        criterion = \"weights\"\n",
    "    elif criterion == \"fullprob\":\n",
    "        kmf = FullProbKM()\n",
    "        kmf.fit(dur, cens)\n",
    "        weights_hist = kmf.survival_function_at_times(np.unique(dur))\n",
    "        criterion = \"weights\"\n",
    "    elif criterion == \"ibswei\":\n",
    "        kmf = KaplanMeierZeroAfter()\n",
    "        dur_ = arr[2].copy()\n",
    "        kmf.fit(dur_, cens)\n",
    "\n",
    "        dd = np.unique(dur_)\n",
    "        sf = kmf.survival_function_at_times(dd)\n",
    "        sf = np.repeat(sf[np.newaxis, :], dd.shape[0], axis=0)\n",
    "\n",
    "        y_ = get_y(cens=np.ones_like(dd), time=dd)\n",
    "        y_[\"cens\"] = True\n",
    "        ibs_ev = ibs_WW(y_, y_, sf, dd, axis=0)\n",
    "        y_[\"cens\"] = False\n",
    "        ibs_cn = ibs_WW(y_, y_, sf, dd, axis=0)\n",
    "\n",
    "        ratio = np.sum(cens)/cens.shape[0]\n",
    "        weights_hist = ibs_ev*ratio + ibs_cn*(1-ratio)\n",
    "        criterion = \"weights\"\n",
    "    elif criterion == \"T-ET\":\n",
    "        kmf = KaplanMeierZeroAfter()\n",
    "        dur_ = arr[2].copy()\n",
    "        kmf.fit(dur_, cens)\n",
    "\n",
    "        dd = np.unique(dur_)\n",
    "        ET = np.trapz(kmf.survival_function_at_times(dd), dd)\n",
    "        weights_hist = (dd - ET)  # **2\n",
    "        criterion = \"weights\"\n",
    "    elif criterion == \"kde\":\n",
    "        na = NelsonAalen()\n",
    "        na.fit(dur, cens, np.ones(len(dur)))\n",
    "        weights_hist = na.get_smoothed_hazard_at_times(np.unique(dur))\n",
    "        criterion = \"weights\"\n",
    "    # elif weights is None:\n",
    "    #     weights_hist = None\n",
    "    # else:\n",
    "    #     weights_hist = np.bincount(dur, weights=weights,  # /sum(weights),\n",
    "    #                                minlength=max_bin + 1)\n",
    "    #     weights_hist /= np.bincount(dur, minlength=max_bin + 1)  # np.sqrt()\n",
    "        # weights_hist = np.cumsum(weights_hist[::-1])[::-1]  # np.sqrt()\n",
    "\n",
    "        # weights_hist = weights_hist / weights_hist.sum()\n",
    "\n",
    "    # for each split values get branches\n",
    "    attr_dicts = []\n",
    "    for u in np.unique(index_vals_bin)[:-1]:\n",
    "        curr_mask = index_vals_bin == u\n",
    "        curr_n = curr_mask.sum()\n",
    "        curr_time_hist, curr_cens_hist = get_sa_hists(dur_notna[curr_mask], cens_notna[curr_mask],\n",
    "                                                      minlength=max_bin + 1, weights=weights[curr_mask])\n",
    "        l_time_hist += curr_time_hist  # * 20\n",
    "        l_cens_hist += curr_cens_hist  # * 20\n",
    "        r_time_hist -= curr_time_hist  # * 20\n",
    "        r_cens_hist -= curr_cens_hist  # * 20\n",
    "        num_l += curr_n\n",
    "        num_r -= curr_n\n",
    "\n",
    "        if min(num_l, num_r) <= min_samples_leaf:\n",
    "            continue\n",
    "        max_stat_val, none_to = optimal_criter_split_hist(\n",
    "            l_time_hist, l_cens_hist, r_time_hist, r_cens_hist,\n",
    "            na_time_hist, na_cens_hist, weights_hist, criterion, dis_coef)\n",
    "\n",
    "        if max_stat_val >= signif_stat:\n",
    "            attr_loc = get_attrs(max_stat_val, uniq_set[u], none_to, num_l, num_r, num_nan)\n",
    "            attr_dicts.append(attr_loc)\n",
    "\n",
    "    if len(attr_dicts) == 0:\n",
    "        return best_attr\n",
    "    best_attr = select_best_split_info(attr_dicts, type_attr, bonf, descr_woe=descr_woe)\n",
    "    if verbose > 0:\n",
    "        print(best_attr[\"p_value\"], len(uniq_set))\n",
    "    return best_attr"
   ]
  },
  {
   "cell_type": "code",
   "execution_count": 39,
   "id": "f7f931c2",
   "metadata": {},
   "outputs": [],
   "source": [
    "from sklearn.model_selection import train_test_split\n",
    "from survivors.experiments.grid import generate_sample, prepare_sample, count_metric\n",
    "\n",
    "X, y, features, categ, sch_nan = ds.load_gbsg_dataset()\n",
    "\n",
    "X_TR, X_HO = train_test_split(X, stratify=y[cnt.CENS_NAME],\n",
    "                              test_size=0.33, random_state=42)\n",
    "X_tr, y_tr, X_HO, y_HO, bins_HO = prepare_sample(X, y, X_TR.index, X_HO.index)\n",
    "\n",
    "df = X.copy()\n",
    "df[\"time\"] = y[\"time\"]\n",
    "df[\"cens\"] = y[\"cens\"]"
   ]
  },
  {
   "cell_type": "code",
   "execution_count": 40,
   "id": "38980acc",
   "metadata": {},
   "outputs": [],
   "source": [
    "from survivors.tree import CRAID\n",
    "from survivors.tree.node import Node\n",
    "\n",
    "tree = Node(df, features=features, criterion=\"logrank\", depth=10, min_samples_leaf=2)"
   ]
  },
  {
   "cell_type": "code",
   "execution_count": 41,
   "id": "71fb3188",
   "metadata": {},
   "outputs": [
    {
     "data": {
      "text/plain": [
       "{'criterion': 'logrank',\n",
       " 'min_samples_leaf': 2,\n",
       " 'bonf': True,\n",
       " 'n_jobs': 16,\n",
       " 'max_features': 8,\n",
       " 'signif': 1.1,\n",
       " 'weights_feature': None,\n",
       " 'signif_stat': 0.0,\n",
       " 'thres_cont_bin_max': 100,\n",
       " 'leaf_model': 'base'}"
      ]
     },
     "execution_count": 41,
     "metadata": {},
     "output_type": "execute_result"
    }
   ],
   "source": [
    "tree.info"
   ]
  },
  {
   "cell_type": "code",
   "execution_count": 42,
   "id": "d3c1abf2",
   "metadata": {},
   "outputs": [],
   "source": [
    "kmf = KaplanMeierZeroAfter()\n",
    "kmf.fit(y[\"time\"], y[\"cens\"])\n",
    "\n",
    "dd = np.unique(y[\"time\"])\n",
    "sf = kmf.survival_function_at_times(dd)\n",
    "sf = np.repeat(sf[np.newaxis, :], y.shape[0], axis=0)\n",
    "\n",
    "ibs_full = ibs_WW(y, y, sf, dd, axis=0)\n",
    "\n",
    "y_ = y.copy()\n",
    "y_[\"cens\"] = True\n",
    "ibs_ev = ibs_WW(y, y_, sf, dd, axis=0)\n",
    "y_[\"cens\"] = False\n",
    "ibs_cn = ibs_WW(y, y_, sf, dd, axis=0)\n",
    "\n",
    "ratio = np.sum(y[\"cens\"])/y.shape[0]\n",
    "weights_hist = ibs_ev*ratio + ibs_cn*(1-ratio)"
   ]
  },
  {
   "cell_type": "code",
   "execution_count": 43,
   "id": "074647c7",
   "metadata": {},
   "outputs": [
    {
     "data": {
      "text/plain": [
       "[<matplotlib.lines.Line2D at 0x25f525ea650>]"
      ]
     },
     "execution_count": 43,
     "metadata": {},
     "output_type": "execute_result"
    },
    {
     "data": {
      "image/png": "[encoded data removed]",
      "text/plain": [
       "<Figure size 432x288 with 1 Axes>"
      ]
     },
     "metadata": {
      "needs_background": "light"
     },
     "output_type": "display_data"
    }
   ],
   "source": [
    "plt.plot(np.sort(y[\"time\"]), ibs_ev[np.argsort(y[\"time\"])])"
   ]
  },
  {
   "cell_type": "code",
   "execution_count": null,
   "id": "7ffb621b",
   "metadata": {},
   "outputs": [],
   "source": []
  },
  {
   "cell_type": "code",
   "execution_count": 44,
   "id": "736de03a",
   "metadata": {},
   "outputs": [
    {
     "data": {
      "text/plain": [
       "[<matplotlib.lines.Line2D at 0x25f52a735b0>]"
      ]
     },
     "execution_count": 44,
     "metadata": {},
     "output_type": "execute_result"
    },
    {
     "data": {
      "image/png": "[encoded data removed]",
      "text/plain": [
       "<Figure size 432x288 with 1 Axes>"
      ]
     },
     "metadata": {
      "needs_background": "light"
     },
     "output_type": "display_data"
    }
   ],
   "source": [
    "n_w = np.cumsum(np.bincount(y[\"time\"].astype(int), weights=ibs_ev)[::-1])[::-1]\n",
    "o_w = np.bincount(y[\"time\"].astype(int), weights=ibs_ev)\n",
    "\n",
    "n_j = np.cumsum(np.bincount(y[\"time\"].astype(int))[::-1])[::-1]\n",
    "o_j = np.bincount(y[\"time\"].astype(int))\n",
    "\n",
    "# plt.plot(n_w)\n",
    "# plt.plot(n_j)\n",
    "plt.plot(n_w/n_j)\n",
    "plt.plot(o_w[o_w>0]/o_j[o_w>0])"
   ]
  },
  {
   "cell_type": "code",
   "execution_count": 45,
   "id": "78995487",
   "metadata": {},
   "outputs": [],
   "source": [
    "def ind_for_nodes(X_attr, best_split_, is_categ):\n",
    "    rule_id = best_split_[\"pos_nan\"].index(0)\n",
    "    query = best_split_[\"values\"][rule_id]\n",
    "    if is_categ:\n",
    "        values = np.isin(X_attr, eval(query[query.find(\"[\"):]))\n",
    "    else:\n",
    "        values = eval(\"X_attr\" + query)\n",
    "    return np.where(values, rule_id, 1 - rule_id)\n",
    "\n",
    "def fit_predict_KM(X_):\n",
    "    y_ = get_y(time=X_[-1], cens=X_[-2])\n",
    "#     print(y_[\"time\"])\n",
    "    kmf = KaplanMeierZeroAfter()\n",
    "    kmf.fit(y_[\"time\"], y_[\"cens\"])\n",
    "    sf = kmf.survival_function_at_times(bins_HO)\n",
    "    sf = np.repeat(sf[np.newaxis, :], y_.shape[0], axis=0)\n",
    "    print(f\"IBS:{ibs_WW(y_, y_, sf, bins_HO):.5f}, AUPRC:{auprc(y_, y_, sf, bins_HO):.5f}, {X_.shape[1]}\")\n",
    "\n",
    "def get_ibs(X_, best_split_, f, is_categ):\n",
    "    fit_predict_KM(X_)\n",
    "    inds = ind_for_nodes(X_[f], best_split_, is_categ)\n",
    "    fit_predict_KM(X_[:, np.where(inds == 0)[0]])\n",
    "    fit_predict_KM(X_[:, np.where(inds == 1)[0]])"
   ]
  },
  {
   "cell_type": "code",
   "execution_count": 46,
   "id": "6c5cebbb",
   "metadata": {},
   "outputs": [
    {
     "data": {
      "text/plain": [
       "[<matplotlib.lines.Line2D at 0x25f56020790>]"
      ]
     },
     "execution_count": 46,
     "metadata": {},
     "output_type": "execute_result"
    },
    {
     "data": {
      "image/png": "[encoded data removed]",
      "text/plain": [
       "<Figure size 432x288 with 1 Axes>"
      ]
     },
     "metadata": {
      "needs_background": "light"
     },
     "output_type": "display_data"
    }
   ],
   "source": [
    "n1 = np.arange(1, 100)\n",
    "plt.plot((n1*(100-n1))/100)"
   ]
  },
  {
   "cell_type": "code",
   "execution_count": 51,
   "id": "7b830e6d",
   "metadata": {
    "scrolled": false
   },
   "outputs": [
    {
     "data": {
      "image/png": "[encoded data removed]",
      "text/plain": [
       "<Figure size 432x288 with 1 Axes>"
      ]
     },
     "metadata": {
      "needs_background": "light"
     },
     "output_type": "display_data"
    },
    {
     "data": {
      "image/png": "[encoded data removed]",
      "text/plain": [
       "<Figure size 432x288 with 1 Axes>"
      ]
     },
     "metadata": {
      "needs_background": "light"
     },
     "output_type": "display_data"
    },
    {
     "data": {
      "image/png": "[encoded data removed]",
      "text/plain": [
       "<Figure size 432x288 with 1 Axes>"
      ]
     },
     "metadata": {
      "needs_background": "light"
     },
     "output_type": "display_data"
    },
    {
     "data": {
      "image/png": "[encoded data removed]",
      "text/plain": [
       "<Figure size 432x288 with 1 Axes>"
      ]
     },
     "metadata": {
      "needs_background": "light"
     },
     "output_type": "display_data"
    },
    {
     "data": {
      "image/png": "[encoded data removed]",
      "text/plain": [
       "<Figure size 432x288 with 1 Axes>"
      ]
     },
     "metadata": {
      "needs_background": "light"
     },
     "output_type": "display_data"
    },
    {
     "data": {
      "image/png": "[encoded data removed]",
      "text/plain": [
       "<Figure size 432x288 with 1 Axes>"
      ]
     },
     "metadata": {
      "needs_background": "light"
     },
     "output_type": "display_data"
    },
    {
     "data": {
      "image/png": "[encoded data removed]",
      "text/plain": [
       "<Figure size 432x288 with 1 Axes>"
      ]
     },
     "metadata": {
      "needs_background": "light"
     },
     "output_type": "display_data"
    },
    {
     "data": {
      "image/png": "[encoded data removed]",
      "text/plain": [
       "<Figure size 432x288 with 1 Axes>"
      ]
     },
     "metadata": {
      "needs_background": "light"
     },
     "output_type": "display_data"
    },
    {
     "name": "stdout",
     "output_type": "stream",
     "text": [
      "posnodal BEST FEATURE\n",
      "IBS:0.13567, AUPRC:0.59426, 51\n",
      "IBS:0.09688, AUPRC:0.70173, 40\n",
      "IBS:0.08487, AUPRC:0.57813, 11\n"
     ]
    },
    {
     "ename": "IndexError",
     "evalue": "boolean index did not match indexed array along dimension 0; dimension is 50 but corresponding boolean dimension is 51",
     "output_type": "error",
     "traceback": [
      "\u001b[1;31m---------------------------------------------------------------------------\u001b[0m",
      "\u001b[1;31mIndexError\u001b[0m                                Traceback (most recent call last)",
      "Input \u001b[1;32mIn [51]\u001b[0m, in \u001b[0;36m<cell line: 2>\u001b[1;34m()\u001b[0m\n\u001b[0;32m      7\u001b[0m d[\u001b[38;5;124m\"\u001b[39m\u001b[38;5;124mtype_attr\u001b[39m\u001b[38;5;124m\"\u001b[39m] \u001b[38;5;241m=\u001b[39m (\u001b[38;5;124m\"\u001b[39m\u001b[38;5;124mwoe\u001b[39m\u001b[38;5;124m\"\u001b[39m \u001b[38;5;28;01mif\u001b[39;00m tree\u001b[38;5;241m.\u001b[39mwoe \u001b[38;5;28;01melse\u001b[39;00m \u001b[38;5;124m\"\u001b[39m\u001b[38;5;124mcateg\u001b[39m\u001b[38;5;124m\"\u001b[39m) \u001b[38;5;28;01mif\u001b[39;00m f \u001b[38;5;129;01min\u001b[39;00m tree\u001b[38;5;241m.\u001b[39mcateg \u001b[38;5;28;01melse\u001b[39;00m \u001b[38;5;124m\"\u001b[39m\u001b[38;5;124mcont\u001b[39m\u001b[38;5;124m\"\u001b[39m\n\u001b[0;32m      8\u001b[0m d[\u001b[38;5;124m\"\u001b[39m\u001b[38;5;124mweights\u001b[39m\u001b[38;5;124m\"\u001b[39m] \u001b[38;5;241m=\u001b[39m w\n\u001b[1;32m----> 9\u001b[0m a \u001b[38;5;241m=\u001b[39m hist_best_attr_split(\u001b[38;5;241m*\u001b[39m\u001b[38;5;241m*\u001b[39md)\n\u001b[0;32m     10\u001b[0m \u001b[38;5;66;03m#print(f, w[:5], a)\u001b[39;00m\n\u001b[0;32m     11\u001b[0m \u001b[38;5;66;03m#get_ibs(X_, a, i_f, d[\"type_attr\"] == \"categ\")\u001b[39;00m\n\u001b[0;32m     12\u001b[0m attr_by[f] \u001b[38;5;241m=\u001b[39m a\n",
      "Input \u001b[1;32mIn [38]\u001b[0m, in \u001b[0;36mhist_best_attr_split\u001b[1;34m(arr, criterion, type_attr, weights, thres_cont_bin_max, signif, signif_stat, min_samples_leaf, bonf, verbose, balance, **kwargs)\u001b[0m\n\u001b[0;32m    246\u001b[0m index_vals_bin \u001b[38;5;241m=\u001b[39m np\u001b[38;5;241m.\u001b[39mdigitize(vals_notna, uniq_set, right\u001b[38;5;241m=\u001b[39m\u001b[38;5;28;01mTrue\u001b[39;00m)\n\u001b[0;32m    248\u001b[0m \u001b[38;5;66;03m# find global hist by times\u001b[39;00m\n\u001b[0;32m    249\u001b[0m na_time_hist, na_cens_hist \u001b[38;5;241m=\u001b[39m get_sa_hists(dur[ind], cens[ind],\n\u001b[1;32m--> 250\u001b[0m                                           minlength\u001b[38;5;241m=\u001b[39mmax_bin \u001b[38;5;241m+\u001b[39m \u001b[38;5;241m1\u001b[39m, weights\u001b[38;5;241m=\u001b[39m\u001b[43mweights\u001b[49m\u001b[43m[\u001b[49m\u001b[43mind\u001b[49m\u001b[43m]\u001b[49m)\n\u001b[0;32m    251\u001b[0m \u001b[38;5;66;03m# na_time_hist = na_time_hist  # * 20\u001b[39;00m\n\u001b[0;32m    252\u001b[0m \u001b[38;5;66;03m# na_cens_hist = na_cens_hist  # * 20\u001b[39;00m\n\u001b[0;32m    254\u001b[0m r_time_hist, r_cens_hist \u001b[38;5;241m=\u001b[39m get_sa_hists(dur_notna, cens_notna,\n\u001b[0;32m    255\u001b[0m                                         minlength\u001b[38;5;241m=\u001b[39mmax_bin \u001b[38;5;241m+\u001b[39m \u001b[38;5;241m1\u001b[39m, weights\u001b[38;5;241m=\u001b[39mweights[\u001b[38;5;241m~\u001b[39mind])\n",
      "\u001b[1;31mIndexError\u001b[0m: boolean index did not match indexed array along dimension 0; dimension is 50 but corresponding boolean dimension is 51"
     ]
    }
   ],
   "source": [
    "X_ = df.loc[:50, features + [cnt.CENS_NAME, cnt.TIME_NAME]].to_numpy().T\n",
    "for i_w, w in enumerate([np.ones(X_.shape[1]), ibs_full, weights_hist]):\n",
    "    attr_by = {}\n",
    "    for i_f, f in enumerate(features):\n",
    "        d = tree.info.copy()\n",
    "        d[\"arr\"] = np.vstack((X_[i_f], X_[-2:]))\n",
    "        d[\"type_attr\"] = (\"woe\" if tree.woe else \"categ\") if f in tree.categ else \"cont\"\n",
    "        d[\"weights\"] = w\n",
    "        a = hist_best_attr_split(**d)\n",
    "        #print(f, w[:5], a)\n",
    "        #get_ibs(X_, a, i_f, d[\"type_attr\"] == \"categ\")\n",
    "        attr_by[f] = a\n",
    "\n",
    "    attr = max(attr_by, key=lambda x: attr_by[x][\"stat_val\"])\n",
    "    print(attr, \"BEST FEATURE\")\n",
    "    get_ibs(X_, attr_by[attr], features.index(attr), attr in tree.categ)"
   ]
  },
  {
   "cell_type": "code",
   "execution_count": null,
   "id": "c7d7500a",
   "metadata": {},
   "outputs": [],
   "source": []
  }
 ],
 "metadata": {
  "kernelspec": {
   "display_name": "Python 3 (ipykernel)",
   "language": "python",
   "name": "python3"
  },
  "language_info": {
   "codemirror_mode": {
    "name": "ipython",
    "version": 3
   },
   "file_extension": ".py",
   "mimetype": "text/x-python",
   "name": "python",
   "nbconvert_exporter": "python",
   "pygments_lexer": "ipython3",
   "version": "3.10.4"
  }
 },
 "nbformat": 4,
 "nbformat_minor": 5
}
