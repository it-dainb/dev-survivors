{
 "cells": [
  {
   "cell_type": "code",
   "execution_count": 1,
   "id": "4270d02a",
   "metadata": {},
   "outputs": [],
   "source": [
    "import pandas as pd\n",
    "import numpy as np\n",
    "import os\n",
    "import time\n",
    "import copy\n",
    "import pathlib, tempfile\n",
    "\n",
    "import matplotlib.pyplot as plt\n",
    "import seaborn as sns\n",
    "sns.set()\n",
    "from graphviz import Digraph\n",
    "from joblib import Parallel, delayed\n",
    "from scipy import stats\n",
    "\n",
    "from survivors import metrics as metr\n",
    "from survivors import constants as cnt\n",
    "from survivors import criteria as crit\n",
    "from numba import njit, jit\n",
    "\n",
    "%load_ext line_profiler"
   ]
  },
  {
   "cell_type": "code",
   "execution_count": null,
   "id": "236ce2e9",
   "metadata": {},
   "outputs": [],
   "source": []
  },
  {
   "cell_type": "code",
   "execution_count": 928,
   "id": "58d4f7f1",
   "metadata": {},
   "outputs": [],
   "source": [
    "@njit(cache = True)\n",
    "def count_N_O(dur_1, dur_2, cens_1, cens_2, times_range, weightings):\n",
    "    bins = times_range[1] - times_range[0] + 1\n",
    "    n_1_j = np.histogram(dur_1, bins=bins, range=times_range)[0]\n",
    "    n_2_j = np.histogram(dur_2, bins=bins, range=times_range)[0]\n",
    "    O_1_j = np.histogram(dur_1*cens_1, bins=bins, range=times_range)[0]\n",
    "    O_2_j = np.histogram(dur_2*cens_2, bins=bins, range=times_range)[0]\n",
    "    \n",
    "    N_1_j = np.cumsum(n_1_j[::-1])[::-1]\n",
    "    N_2_j = np.cumsum(n_2_j[::-1])[::-1]\n",
    "    ind = np.where(N_1_j * N_2_j != 0)\n",
    "    N_1_j = N_1_j[ind]\n",
    "    N_2_j = N_2_j[ind]\n",
    "    O_1_j = O_1_j[ind]\n",
    "    O_2_j = O_2_j[ind]\n",
    "\n",
    "    N_j = N_1_j + N_2_j\n",
    "    O_j = O_1_j + O_2_j\n",
    "    E_1_j = N_1_j*O_j/N_j\n",
    "    res = np.zeros((N_j.shape[0], 3), dtype=np.float64)\n",
    "    res[:, 1] = O_1_j - E_1_j\n",
    "    res[:, 2] = E_1_j*(N_j - O_j) * N_2_j/(N_j*(N_j - 1))\n",
    "    return N_j, O_j, res\n",
    "\n",
    "@njit(cache = True)\n",
    "def get_lr(res):\n",
    "    return np.power((res[:, 0]*res[:, 1]).sum(), 2) / ((res[:, 0]*res[:, 0]*res[:, 2]).sum())\n",
    "\n",
    "# @njit\n",
    "# def lr_statistic(dur_1, dur_2, cens_1, cens_2, times_range, weightings):\n",
    "#     bins = times_range[1] - times_range[0] + 1\n",
    "#     n_1_j = np.histogram(dur_1, bins=bins, range=times_range)[0]\n",
    "#     n_2_j = np.histogram(dur_2, bins=bins, range=times_range)[0]\n",
    "#     O_1_j = np.histogram(dur_1*cens_1, bins=bins, range=times_range)[0]\n",
    "#     O_2_j = np.histogram(dur_2*cens_2, bins=bins, range=times_range)[0]\n",
    "    \n",
    "#     N_1_j = np.cumsum(n_1_j[::-1])[::-1]\n",
    "#     N_2_j = np.cumsum(n_2_j[::-1])[::-1]\n",
    "#     ind = np.where(N_1_j * N_2_j != 0)\n",
    "#     N_1_j = N_1_j[ind]\n",
    "#     N_2_j = N_2_j[ind]\n",
    "#     O_1_j = O_1_j[ind]\n",
    "#     O_2_j = O_2_j[ind]\n",
    "\n",
    "#     N_j = N_1_j + N_2_j\n",
    "#     O_j = O_1_j + O_2_j\n",
    "#     E_1_j = N_1_j*O_j/N_j\n",
    "#     res = np.zeros((N_j.shape[0], 3), dtype=np.float64)\n",
    "#     res[:, 0] = 1.0\n",
    "#     if weightings == \"wilcoxon\":\n",
    "#         res[:, 0] = N_j\n",
    "#     elif weightings == \"tarone-ware\":\n",
    "#         res[:, 0] = np.sqrt(N_j)\n",
    "#     elif weightings == \"peto\":\n",
    "#         res[:, 0] = np.cumprod((1.0 - O_j/(N_j+1)))\n",
    "#     print(res[:, 0])\n",
    "#     res[:, 1] = O_1_j - E_1_j\n",
    "#     res[:, 2] = E_1_j*(N_j - O_j) * N_2_j/(N_j*(N_j - 1))\n",
    "#     logrank = np.power((res[:, 0]*res[:, 1]).sum(), 2) / ((res[:, 0]*res[:, 0]*res[:, 2]).sum())\n",
    "#     return logrank\n",
    "\n",
    "def lr_statistic(dur_1, dur_2, cens_1, cens_2, times_range, weightings):\n",
    "    N_j, O_j, res = count_N_O(dur_1, dur_2, cens_1, cens_2, times_range, weightings)\n",
    "    res[:, 0] = 1.0\n",
    "    if weightings == \"wilcoxon\":\n",
    "        res[:, 0] = N_j\n",
    "    elif weightings == \"tarone-ware\":\n",
    "        res[:, 0] = np.sqrt(N_j)\n",
    "    elif weightings == \"peto\":\n",
    "        res[:, 0] = np.cumprod((1.0 - O_j/(N_j+1)))\n",
    "\n",
    "    logrank = get_lr(res)\n",
    "    return logrank\n",
    "\n",
    "def weight_lr_fast(dur_A, dur_B, cens_A = None, cens_B = None, weightings = \"\"):\n",
    "#     times = np.unique(np.concatenate([dur_A, dur_B]))\n",
    "    times = np.unique(np.hstack((dur_A, dur_B)))\n",
    "#     times = np.union1d(np.unique(dur_A), np.unique(dur_B))\n",
    "    dur_A = np.searchsorted(times, dur_A) + 1\n",
    "    dur_B = np.searchsorted(times, dur_B) + 1\n",
    "    times_range = (1, times.shape[0])\n",
    "    if cens_A is None:\n",
    "        cens_A = np.ones(dur_A.shape[0])\n",
    "    if cens_B is None:\n",
    "        cens_B = np.ones(dur_B.shape[0])\n",
    "    logrank = lr_statistic(dur_A, dur_B, cens_A, cens_B, times_range, weightings)\n",
    "    pvalue = stats.chi2.sf(logrank, df=1)\n",
    "    return pvalue"
   ]
  },
  {
   "cell_type": "code",
   "execution_count": 65,
   "id": "a2424f45",
   "metadata": {},
   "outputs": [],
   "source": [
    "from numba.pycc import CC\n",
    "from numba import cuda\n",
    "\n",
    "# cc = CC('lr_crit')\n",
    "# cc._source_module = \"lr_crit.code2compile\" \n",
    "# cc.output_dir='{}\\\\dist'.format(os.path.abspath('..'))\n",
    "\n",
    "# @cc.export('lr_statistic', 'f8(i8[:], i8[:], i8[:], i8[:], i8[:], i8)')\n",
    "\n",
    "@njit(parallel=True)\n",
    "def lr_statistic(dur_1, dur_2, cens_1, cens_2, times_range, weightings):\n",
    "    bins = times_range[1] - times_range[0] + 1\n",
    "    n_1_j = np.histogram(dur_1, bins=bins, range=times_range)[0]\n",
    "    n_2_j = np.histogram(dur_2, bins=bins, range=times_range)[0]\n",
    "    O_1_j = np.histogram(dur_1 * cens_1, bins=bins, range=times_range)[0]\n",
    "    O_2_j = np.histogram(dur_2 * cens_2, bins=bins, range=times_range)[0]\n",
    "\n",
    "    N_1_j = np.cumsum(n_1_j[::-1])[::-1]\n",
    "    N_2_j = np.cumsum(n_2_j[::-1])[::-1]\n",
    "    ind = np.where(N_1_j * N_2_j != 0)\n",
    "    N_1_j = N_1_j[ind]\n",
    "    N_2_j = N_2_j[ind]\n",
    "    O_1_j = O_1_j[ind]\n",
    "    O_2_j = O_2_j[ind]\n",
    "\n",
    "    N_j = N_1_j + N_2_j\n",
    "    O_j = O_1_j + O_2_j\n",
    "    E_1_j = N_1_j * O_j / N_j\n",
    "    res = np.zeros((N_j.shape[0], 3), dtype=np.float32)\n",
    "    res[:, 1] = O_1_j - E_1_j\n",
    "    res[:, 2] = E_1_j * (N_j - O_j) * N_2_j / (N_j * (N_j - 1))\n",
    "    res[:, 0] = 1.0\n",
    "    if weightings == 2:\n",
    "        res[:, 0] = N_j\n",
    "    elif weightings == 3:\n",
    "        res[:, 0] = np.sqrt(N_j)\n",
    "    elif weightings == 4:\n",
    "        res[:, 0] = np.cumprod((1.0 - O_j / (N_j + 1)))\n",
    "    logrank = np.power((res[:, 0] * res[:, 1]).sum(), 2) / ((res[:, 0] * res[:, 0] * res[:, 2]).sum())\n",
    "    return logrank\n",
    "\n",
    "\n",
    "def weight_lr_fast(dur_A, dur_B, cens_A=None, cens_B=None, weightings=\"\"):\n",
    "    times = np.unique(np.hstack((dur_A, dur_B)))\n",
    "    dur_A = np.searchsorted(times, dur_A) + 1\n",
    "    dur_B = np.searchsorted(times, dur_B) + 1\n",
    "    times_range = np.array([1, times.shape[0]])\n",
    "    if cens_A is None:\n",
    "        cens_A = np.ones(dur_A.shape[0])\n",
    "    if cens_B is None:\n",
    "        cens_B = np.ones(dur_B.shape[0])\n",
    "    d = {\"logrank\": 1, \"wilcoxon\": 2, \"tarone-ware\": 3, \"peto\": 4}\n",
    "    weightings = d.get(weightings, 1)\n",
    "    logrank = lr_statistic(dur_A, dur_B, cens_A, cens_B, times_range, weightings)\n",
    "    pvalue = stats.chi2.sf(logrank, df=1)\n",
    "    return pvalue\n",
    "    \n",
    "# cc.compile()"
   ]
  },
  {
   "cell_type": "code",
   "execution_count": 32,
   "id": "437c4328",
   "metadata": {},
   "outputs": [],
   "source": [
    "from lr_crit import lr_statistic\n",
    "def weight_lr_fast(dur_A, dur_B, cens_A=None, cens_B=None, weightings=\"\"):\n",
    "    try:\n",
    "        times = np.unique(np.hstack((dur_A, dur_B)))\n",
    "        dur_A = np.searchsorted(times, dur_A) + 1\n",
    "        dur_B = np.searchsorted(times, dur_B) + 1\n",
    "        times_range = np.array([1, times.shape[0]])\n",
    "        if cens_A is None:\n",
    "            cens_A = np.ones(dur_A.shape[0])\n",
    "        if cens_B is None:\n",
    "            cens_B = np.ones(dur_B.shape[0])\n",
    "        d = {\"logrank\": 1, \"wilcoxon\": 2, \"tarone-ware\": 3, \"peto\": 4}\n",
    "        weightings = d.get(weightings, 1)\n",
    "        logrank = lr_statistic(dur_A.astype(\"int64\"), \n",
    "                               dur_B.astype(\"int64\"), \n",
    "                               cens_A.astype(\"int64\"), \n",
    "                               cens_B.astype(\"int64\"), \n",
    "                               times_range.astype(\"int64\"), \n",
    "                               np.int64(weightings))\n",
    "        pvalue = stats.chi2.sf(logrank, df=1)\n",
    "        return pvalue\n",
    "    except:\n",
    "        return 1.0"
   ]
  },
  {
   "cell_type": "code",
   "execution_count": 57,
   "id": "829b64ad",
   "metadata": {},
   "outputs": [],
   "source": [
    "# for i in range(10):\n",
    "#     dur_A_ = np.random.uniform(0, 10000, 10000)\n",
    "#     cens_A_ = np.random.choice(2, 10000)\n",
    "#     dur_B_ = np.random.uniform(0, 10000, 10000)\n",
    "#     cens_B_ = np.random.choice(2, 10000)\n",
    "#     print(weight_lr_fast(dur_A_, dur_B_, cens_A_, cens_B_))\n",
    "#     print(crit.weight_lr_fast(dur_A_, dur_B_, cens_A_, cens_B_))"
   ]
  },
  {
   "cell_type": "code",
   "execution_count": 865,
   "id": "b984b0b9",
   "metadata": {},
   "outputs": [],
   "source": [
    "%lprun -f weight_lr_fast weight_lr_fast(dur_A_, dur_B_, cens_A_, cens_B_)"
   ]
  },
  {
   "cell_type": "code",
   "execution_count": 69,
   "id": "8bf54402",
   "metadata": {},
   "outputs": [],
   "source": [
    "dur_A_ = np.random.choice(10000, 10000)\n",
    "cens_A_ = np.random.choice(2, 10000)\n",
    "dur_B_ = np.random.choice(10000, 10000)\n",
    "cens_B_ = np.random.choice(2, 10000)"
   ]
  },
  {
   "cell_type": "code",
   "execution_count": 70,
   "id": "b4fa7ef8",
   "metadata": {},
   "outputs": [
    {
     "name": "stdout",
     "output_type": "stream",
     "text": [
      "2.39 ms ± 22 µs per loop (mean ± std. dev. of 7 runs, 100 loops each)\n"
     ]
    }
   ],
   "source": [
    "%timeit weight_lr_fast(dur_A_, dur_B_, cens_A_, cens_B_, \"peto\")"
   ]
  },
  {
   "cell_type": "code",
   "execution_count": 71,
   "id": "ca549bb1",
   "metadata": {},
   "outputs": [
    {
     "name": "stdout",
     "output_type": "stream",
     "text": [
      "75.1 ms ± 333 µs per loop (mean ± std. dev. of 7 runs, 10 loops each)\n"
     ]
    }
   ],
   "source": [
    "%timeit crit.weight_lr_fast(dur_A_, dur_B_, cens_A_, cens_B_, \"peto\")"
   ]
  },
  {
   "cell_type": "code",
   "execution_count": 910,
   "id": "75d7a6e4",
   "metadata": {},
   "outputs": [],
   "source": [
    "times = np.array([0, 1, 2, 3, 4, 5, 6, 7, 8, 9])\n",
    "dur_A = np.array([0, 2, 3, 4, 5, 3, 9, 3])\n",
    "cens_A = np.array([1, 1, 0, 1, 0, 0, 0, 0])\n",
    "dur_B = np.array([4, 5, 6, 7, 8, 1, 3])\n",
    "cens_B = np.array([1, 1, 1, 0, 1, 1, 1])"
   ]
  },
  {
   "cell_type": "code",
   "execution_count": 918,
   "id": "14060226",
   "metadata": {},
   "outputs": [],
   "source": [
    "@jit\n",
    "def numb_coeffs_t_j(dur_A, dur_B, cens_A, cens_B, t_j, weightings):\n",
    "    N_1_j = (dur_A >= t_j).sum()\n",
    "    N_2_j = (dur_B >= t_j).sum()\n",
    "    if N_1_j == 0 or N_2_j == 0:\n",
    "        return 0, 0, 0\n",
    "    O_1_j = ((dur_A == t_j) * cens_A).sum()  # np.where(dur_A == t_j, cens_A,0).sum()\n",
    "    O_2_j = ((dur_B == t_j) * cens_B).sum()  # np.where(dur_B == t_j, cens_B,0).sum()\n",
    "    \n",
    "    N_j = N_1_j + N_2_j\n",
    "    O_j = O_1_j + O_2_j\n",
    "    E_1_j = N_1_j*O_j/N_j\n",
    "    w_j = 1\n",
    "    if weightings == \"wilcoxon\":\n",
    "        w_j = N_j\n",
    "    elif weightings == \"tarone-ware\":\n",
    "        w_j = np.sqrt(N_j)\n",
    "    elif weightings == \"peto\":\n",
    "        w_j = (1.0 - float(O_j)/(N_j+1))\n",
    "    \n",
    "    num = O_1_j - E_1_j\n",
    "    denom = E_1_j*(N_j - O_j) * N_2_j/(N_j*(N_j - 1))\n",
    "    return w_j, num, denom\n",
    "\n",
    "@jit\n",
    "def numb_lr_statistic(dur_A, dur_B, cens_A, cens_B, times, weightings):\n",
    "    res = np.zeros((times.shape[0], 3), dtype=np.float32)\n",
    "    for j, t_j in enumerate(times):\n",
    "        res[j] = numb_coeffs_t_j(dur_A, dur_B, cens_A, cens_B, t_j, weightings)\n",
    "    \n",
    "    if weightings == \"peto\":\n",
    "        res[:, 0] = np.cumprod(res[:, 0])\n",
    "    print(res[:, 0])\n",
    "    # logrank = np.dot(res[:, 0], res[:, 1])**2 / np.dot(res[:, 0]*res[:, 0], res[:, 2])\n",
    "    logrank = np.power((res[:, 0]*res[:, 1]).sum(), 2) / ((res[:, 0]*res[:, 0]*res[:, 2]).sum())\n",
    "#     print(np.power((res[:, 0]*res[:, 1]).sum(), 2), ((res[:, 0]*res[:, 0]*res[:, 2]).sum()))\n",
    "#     print(logrank)\n",
    "    return logrank\n",
    "\n",
    "def numb_weight_lr_fast(dur_A, dur_B, cens_A = None, cens_B = None, weightings = \"\"):\n",
    "    try:\n",
    "        if cens_A is None:\n",
    "            cens_A = np.ones(dur_A.shape[0])\n",
    "        if cens_B is None:\n",
    "            cens_B = np.ones(dur_B.shape[0])\n",
    "\n",
    "        #     a1 = np.unique(dur_A)\n",
    "        #     a2 = np.unique(dur_B)\n",
    "        #     times = np.unique(np.clip(np.union1d(a1,a2), 0, np.min([a1.max(), a2.max()])))\n",
    "        times = np.union1d(np.unique(dur_A), np.unique(dur_B))\n",
    "        logrank = numb_lr_statistic(dur_A, dur_B, cens_A, cens_B, times, weightings)\n",
    "        pvalue = stats.chi2.sf(logrank, df=1)\n",
    "        return pvalue\n",
    "    except:\n",
    "        return 1.0"
   ]
  },
  {
   "cell_type": "code",
   "execution_count": 919,
   "id": "837a4304",
   "metadata": {},
   "outputs": [
    {
     "name": "stdout",
     "output_type": "stream",
     "text": [
      "[1. 1. 1. 1. 1. 1. 1. 1. 1. 0.]\n"
     ]
    },
    {
     "data": {
      "text/plain": [
       "0.5281722982828967"
      ]
     },
     "execution_count": 919,
     "metadata": {},
     "output_type": "execute_result"
    }
   ],
   "source": [
    "numb_weight_lr_fast(dur_A, dur_B, cens_A, cens_B)"
   ]
  },
  {
   "cell_type": "code",
   "execution_count": 920,
   "id": "c40d3374",
   "metadata": {},
   "outputs": [
    {
     "name": "stdout",
     "output_type": "stream",
     "text": [
      "[1. 1. 1. 1. 1. 1. 1. 1. 1.]\n"
     ]
    },
    {
     "data": {
      "text/plain": [
       "0.5281723126024873"
      ]
     },
     "execution_count": 920,
     "metadata": {},
     "output_type": "execute_result"
    }
   ],
   "source": [
    "weight_lr_fast(dur_A, dur_B, cens_A, cens_B)"
   ]
  },
  {
   "cell_type": "code",
   "execution_count": 913,
   "id": "da168f00",
   "metadata": {},
   "outputs": [
    {
     "data": {
      "text/plain": [
       "0.5281722982828967"
      ]
     },
     "execution_count": 913,
     "metadata": {},
     "output_type": "execute_result"
    }
   ],
   "source": [
    "crit.weight_lr_fast(dur_A, dur_B, cens_A, cens_B)"
   ]
  },
  {
   "cell_type": "code",
   "execution_count": 129,
   "id": "466a78ab",
   "metadata": {},
   "outputs": [
    {
     "data": {
      "text/plain": [
       "array([10,  9,  7,  4])"
      ]
     },
     "execution_count": 129,
     "metadata": {},
     "output_type": "execute_result"
    }
   ],
   "source": [
    "np.cumsum(np.array([1, 2, 3, 4])[::-1])[::-1]"
   ]
  },
  {
   "cell_type": "code",
   "execution_count": 215,
   "id": "9ec2a242",
   "metadata": {},
   "outputs": [
    {
     "name": "stdout",
     "output_type": "stream",
     "text": [
      "[[ 1.         -0.5         0.25      ]\n",
      " [ 1.          0.46153846  0.24852072]\n",
      " [ 1.          0.5         0.6136364 ]\n",
      " [ 1.          0.25        0.4017857 ]\n",
      " [ 1.         -0.33333334  0.22222222]\n",
      " [ 1.         -0.25        0.1875    ]\n",
      " [ 1.          0.          0.        ]\n",
      " [ 1.         -0.5         0.25      ]]\n",
      "0.1382314766966033 2.173665\n",
      "0.06359372376451176\n"
     ]
    },
    {
     "data": {
      "text/plain": [
       "2.173665"
      ]
     },
     "execution_count": 215,
     "metadata": {},
     "output_type": "execute_result"
    }
   ],
   "source": [
    "res = weight_lr_fast(dur_A, dur_B, cens_A, cens_B)\n",
    "((res[:, 0]*res[:, 0]*res[:, 2]).sum())"
   ]
  },
  {
   "cell_type": "code",
   "execution_count": 230,
   "id": "6a4ee3d8",
   "metadata": {},
   "outputs": [
    {
     "data": {
      "text/plain": [
       "2.173665016889572"
      ]
     },
     "execution_count": 230,
     "metadata": {},
     "output_type": "execute_result"
    }
   ],
   "source": [
    "sum(res[:, 0]*res[:, 0]*res[:, 2])"
   ]
  },
  {
   "cell_type": "code",
   "execution_count": 560,
   "id": "054ffb1a",
   "metadata": {},
   "outputs": [],
   "source": [
    "times_range = (times.min(), times.max())\n",
    "bins = times_range[1] - times_range[0] + 1\n",
    "n_1_j = np.histogram(dur_A, bins=bins,\n",
    "                     range=times_range)[0]\n",
    "n_2_j = np.histogram(dur_B, bins=bins, \n",
    "                     range=times_range)[0]\n",
    "O_1_j = np.histogram(dur_A*cens_A, bins=bins, #weights=cens_1,\n",
    "                     range=times_range)[0]\n",
    "O_2_j = np.histogram(dur_B*cens_B, bins=bins, #weights=cens_2,\n",
    "                     range=times_range)[0]"
   ]
  },
  {
   "cell_type": "code",
   "execution_count": 561,
   "id": "0e4b46d6",
   "metadata": {},
   "outputs": [
    {
     "name": "stdout",
     "output_type": "stream",
     "text": [
      "[0 0 1 ... 0 0 0] [0 1 0 ... 0 0 0] [5 0 1 ... 0 0 0] [1 1 0 ... 0 0 0]\n"
     ]
    }
   ],
   "source": [
    "print(n_1_j, n_2_j, O_1_j, O_2_j)"
   ]
  },
  {
   "cell_type": "code",
   "execution_count": 555,
   "id": "c1236edc",
   "metadata": {},
   "outputs": [
    {
     "data": {
      "text/plain": [
       "array([  2,   3,   4,   5,   3, 100,   3])"
      ]
     },
     "execution_count": 555,
     "metadata": {},
     "output_type": "execute_result"
    }
   ],
   "source": [
    "dur_A"
   ]
  },
  {
   "cell_type": "code",
   "execution_count": 695,
   "id": "60d29678",
   "metadata": {},
   "outputs": [
    {
     "name": "stdout",
     "output_type": "stream",
     "text": [
      "231 µs ± 7.52 µs per loop (mean ± std. dev. of 7 runs, 1,000 loops each)\n"
     ]
    }
   ],
   "source": [
    "%timeit np.histogram(dur_A_, bins=bins, range=times_range)[0]"
   ]
  },
  {
   "cell_type": "code",
   "execution_count": 696,
   "id": "23653018",
   "metadata": {},
   "outputs": [],
   "source": [
    "def get_freq(dur, times):\n",
    "    dur.sort()\n",
    "    n_1_j = np.zeros(times.shape[0])\n",
    "    ind = np.searchsorted(times, dur)\n",
    "    n_1_j[ind] = np.bincount(dur)[ind]\n",
    "    return n_1_j"
   ]
  },
  {
   "cell_type": "code",
   "execution_count": 697,
   "id": "00ac9942",
   "metadata": {},
   "outputs": [
    {
     "data": {
      "text/plain": [
       "array([1., 0., 1., 3., 1., 1., 0., 0., 0., 1.])"
      ]
     },
     "execution_count": 697,
     "metadata": {},
     "output_type": "execute_result"
    }
   ],
   "source": [
    "n_1_j"
   ]
  },
  {
   "cell_type": "code",
   "execution_count": 698,
   "id": "5f6bc59c",
   "metadata": {},
   "outputs": [
    {
     "name": "stdout",
     "output_type": "stream",
     "text": [
      "499 µs ± 2.9 µs per loop (mean ± std. dev. of 7 runs, 1,000 loops each)\n"
     ]
    }
   ],
   "source": [
    "%timeit get_freq(dur_A_, times)"
   ]
  },
  {
   "cell_type": "code",
   "execution_count": 2,
   "id": "92144bb1",
   "metadata": {},
   "outputs": [],
   "source": [
    "from numba.pycc import CC\n",
    "\n",
    "cc = CC('dist_my_module_1')\n",
    "cc._source_module = \"dist_my_module_1.code2compile\" \n",
    "# # Uncomment the following line to print out the compilation steps\n",
    "#cc.verbose = True\n",
    "\n",
    "@cc.export('mult_arr', 'f8[:](f8[:], f8[:])')\n",
    "@cc.export('multf', 'f8(f8, f8)')\n",
    "@cc.export('multi', 'i4(i4, i4)')\n",
    "def mult(a, b):\n",
    "    return (a + b)*2\n",
    "\n",
    "@cc.export('square', 'f8(f8)')\n",
    "def square(a):\n",
    "    return a ** 2\n",
    "\n",
    "@cc.export('centdiff_1d', 'f8[:](f8[:], f8)')\n",
    "def centdiff_1d(u, dx):\n",
    "    D = np.empty_like(u)\n",
    "    D[0] = 0\n",
    "    D[-1] = 0\n",
    "    for i in range(1, len(D) - 1):\n",
    "        D[i] = (u[i+1] - 2 * u[i] + u[i-1]) / dx**2\n",
    "    return D\n",
    "\n",
    "cc.compile()"
   ]
  },
  {
   "cell_type": "code",
   "execution_count": 3,
   "id": "f5f5b79d",
   "metadata": {},
   "outputs": [],
   "source": [
    "from dist_my_module_1 import centdiff_1d"
   ]
  },
  {
   "cell_type": "code",
   "execution_count": 4,
   "id": "a426ecfe",
   "metadata": {},
   "outputs": [
    {
     "data": {
      "text/plain": [
       "array([0., 0., 0.])"
      ]
     },
     "execution_count": 4,
     "metadata": {},
     "output_type": "execute_result"
    }
   ],
   "source": [
    "centdiff_1d(np.array([1.0, 2.0, 3.0], dtype=np.float64), 4)"
   ]
  },
  {
   "cell_type": "code",
   "execution_count": 25,
   "id": "3114078a",
   "metadata": {},
   "outputs": [
    {
     "data": {
      "text/plain": [
       "array([False, False, False, ...,  True,  True,  True])"
      ]
     },
     "execution_count": 25,
     "metadata": {},
     "output_type": "execute_result"
    }
   ],
   "source": [
    "dur_A_ * cens_A_ == dur_A_ & cens_A_"
   ]
  },
  {
   "cell_type": "code",
   "execution_count": null,
   "id": "835bb30f",
   "metadata": {},
   "outputs": [],
   "source": []
  },
  {
   "cell_type": "markdown",
   "id": "8ea986c9",
   "metadata": {},
   "source": [
    "### Быстрое разложение на признаки"
   ]
  },
  {
   "cell_type": "code",
   "execution_count": 7,
   "id": "9ed080da",
   "metadata": {},
   "outputs": [],
   "source": [
    "from survivors.datasets import load_pbc_dataset, load_onk_dataset"
   ]
  },
  {
   "cell_type": "code",
   "execution_count": 8,
   "id": "3ce147da",
   "metadata": {},
   "outputs": [],
   "source": [
    "X, y, features, categ, sch_nan = load_pbc_dataset()"
   ]
  },
  {
   "cell_type": "code",
   "execution_count": 10,
   "id": "f9334649",
   "metadata": {},
   "outputs": [],
   "source": [
    "X = X.reset_index(drop=True)\n",
    "X_tr = X.copy()\n",
    "X_tr[cnt.CENS_NAME] = y[cnt.CENS_NAME].astype(np.int32)\n",
    "X_tr[cnt.TIME_NAME] = y[cnt.TIME_NAME].astype(np.int32)"
   ]
  },
  {
   "cell_type": "code",
   "execution_count": 75,
   "id": "b097e912",
   "metadata": {},
   "outputs": [],
   "source": [
    "def get_combinations(df, features, target):\n",
    "    info = {1: 1, 2: 2}\n",
    "    args = np.array([], dtype=dict)\n",
    "    for feat in features:\n",
    "        t = info.copy()\n",
    "        t[\"type_attr\"] = \"\"\n",
    "        t[\"arr\"] = df.loc[:, [feat] + target].to_numpy().T\n",
    "        args = np.append(args, t)\n",
    "    return args\n",
    "\n",
    "def create_params(v_feature, name, target, info):\n",
    "    d = info.copy()\n",
    "    d[\"arr\"] = np.vstack((v_feature, target))\n",
    "    d[\"type_attr\"] = \"categ\" if name in categ else \"cont\"\n",
    "    return d\n",
    "    \n",
    "def get_comb_numpy(df, features, target):\n",
    "    X_tr = df.to_numpy().T\n",
    "    X = X_tr[:-2]\n",
    "    y = X_tr[-2:]\n",
    "    info = {1: 1, 2: 2}\n",
    "    return list(map(lambda *args: create_params(*args, y, info), X, features))\n",
    "\n",
    "    \n",
    "def get_comb_fast(df, features, target):\n",
    "    X_tr = df.to_numpy().T\n",
    "    info = {1: 1, 2: 2}\n",
    "    info[\"target\"] = X_tr[-2:]\n",
    "    def create_params_f(v_feature, name):\n",
    "        d = info.copy()\n",
    "        d[\"arr\"] = v_feature\n",
    "        d[\"type_attr\"] = \"categ\" if name in categ else \"cont\"\n",
    "        return d\n",
    "\n",
    "    return list(map(create_params_f, X_tr[:-2], features))\n",
    "\n",
    "\n",
    "def get_comb_fast_1(df, features):\n",
    "    info = {1: 1, 2: 2}\n",
    "    X = df.loc[:, features + [cnt.CENS_NAME, cnt.TIME_NAME]].to_numpy().T\n",
    "    # self.info[\"target\"] = X[-2:]\n",
    "\n",
    "    def create_params_f(v_feature, name):\n",
    "        d = info.copy()\n",
    "        d[\"arr\"] = np.vstack((v_feature, X[-2:]))\n",
    "        d[\"type_attr\"] = \"categ\" if name in categ else \"cont\"\n",
    "        return d\n",
    "\n",
    "    return list(map(create_params_f, X[:-2], features))"
   ]
  },
  {
   "cell_type": "code",
   "execution_count": 15,
   "id": "b565370e",
   "metadata": {},
   "outputs": [
    {
     "name": "stdout",
     "output_type": "stream",
     "text": [
      "6.83 ms ± 70.4 µs per loop (mean ± std. dev. of 7 runs, 100 loops each)\n"
     ]
    }
   ],
   "source": [
    "%timeit get_combinations(X_tr, features, [cnt.CENS_NAME, cnt.TIME_NAME])"
   ]
  },
  {
   "cell_type": "code",
   "execution_count": 21,
   "id": "e80981b7",
   "metadata": {},
   "outputs": [
    {
     "name": "stdout",
     "output_type": "stream",
     "text": [
      "45.3 µs ± 370 ns per loop (mean ± std. dev. of 7 runs, 10,000 loops each)\n"
     ]
    }
   ],
   "source": [
    "%timeit X_tr.to_numpy().T"
   ]
  },
  {
   "cell_type": "code",
   "execution_count": 22,
   "id": "508cdd44",
   "metadata": {},
   "outputs": [
    {
     "data": {
      "text/plain": [
       "array([[1.00000000e+00, 1.00000000e+00, 1.00000000e+00, ...,\n",
       "                   nan,            nan,            nan],\n",
       "       [5.87652293e+01, 5.64462697e+01, 7.00725530e+01, ...,\n",
       "        5.69993155e+01, 5.80013689e+01, 5.29993155e+01],\n",
       "       [1.00000000e+00, 1.00000000e+00, 0.00000000e+00, ...,\n",
       "        1.00000000e+00, 1.00000000e+00, 1.00000000e+00],\n",
       "       ...,\n",
       "       [4.00000000e+00, 3.00000000e+00, 4.00000000e+00, ...,\n",
       "        3.00000000e+00, 3.00000000e+00, 4.00000000e+00],\n",
       "       [1.00000000e+00, 0.00000000e+00, 1.00000000e+00, ...,\n",
       "        0.00000000e+00, 0.00000000e+00, 0.00000000e+00],\n",
       "       [4.00000000e+02, 4.50000000e+03, 1.01200000e+03, ...,\n",
       "        1.05500000e+03, 6.91000000e+02, 9.76000000e+02]])"
      ]
     },
     "execution_count": 22,
     "metadata": {},
     "output_type": "execute_result"
    }
   ],
   "source": [
    "X_tr.to_numpy().T"
   ]
  },
  {
   "cell_type": "code",
   "execution_count": 69,
   "id": "b6daa252",
   "metadata": {},
   "outputs": [
    {
     "name": "stdout",
     "output_type": "stream",
     "text": [
      "56.7 µs ± 549 ns per loop (mean ± std. dev. of 7 runs, 10,000 loops each)\n"
     ]
    }
   ],
   "source": [
    "%timeit get_comb_fast(X_tr, features, [cnt.CENS_NAME, cnt.TIME_NAME])"
   ]
  },
  {
   "cell_type": "code",
   "execution_count": 80,
   "id": "4cdae385",
   "metadata": {},
   "outputs": [
    {
     "ename": "UFuncTypeError",
     "evalue": "ufunc 'add' did not contain a loop with signature matching types (dtype('<U8'), dtype('<U4')) -> None",
     "output_type": "error",
     "traceback": [
      "\u001b[1;31m---------------------------------------------------------------------------\u001b[0m",
      "\u001b[1;31mUFuncTypeError\u001b[0m                            Traceback (most recent call last)",
      "Input \u001b[1;32mIn [80]\u001b[0m, in \u001b[0;36m<cell line: 1>\u001b[1;34m()\u001b[0m\n\u001b[1;32m----> 1\u001b[0m \u001b[43mget_comb_fast_1\u001b[49m\u001b[43m(\u001b[49m\u001b[43mX_tr\u001b[49m\u001b[43m,\u001b[49m\u001b[43m \u001b[49m\u001b[43mnp\u001b[49m\u001b[38;5;241;43m.\u001b[39;49m\u001b[43mrandom\u001b[49m\u001b[38;5;241;43m.\u001b[39;49m\u001b[43mchoice\u001b[49m\u001b[43m(\u001b[49m\u001b[43mfeatures\u001b[49m\u001b[43m,\u001b[49m\u001b[43m \u001b[49m\u001b[43msize\u001b[49m\u001b[38;5;241;43m=\u001b[39;49m\u001b[38;5;241;43m10\u001b[39;49m\u001b[43m,\u001b[49m\u001b[43m \u001b[49m\u001b[43mreplace\u001b[49m\u001b[38;5;241;43m=\u001b[39;49m\u001b[38;5;28;43;01mFalse\u001b[39;49;00m\u001b[43m)\u001b[49m\u001b[43m)\u001b[49m\n",
      "Input \u001b[1;32mIn [75]\u001b[0m, in \u001b[0;36mget_comb_fast_1\u001b[1;34m(df, features)\u001b[0m\n\u001b[0;32m     38\u001b[0m \u001b[38;5;28;01mdef\u001b[39;00m \u001b[38;5;21mget_comb_fast_1\u001b[39m(df, features):\n\u001b[0;32m     39\u001b[0m     info \u001b[38;5;241m=\u001b[39m {\u001b[38;5;241m1\u001b[39m: \u001b[38;5;241m1\u001b[39m, \u001b[38;5;241m2\u001b[39m: \u001b[38;5;241m2\u001b[39m}\n\u001b[1;32m---> 40\u001b[0m     X \u001b[38;5;241m=\u001b[39m df\u001b[38;5;241m.\u001b[39mloc[:, \u001b[43mfeatures\u001b[49m\u001b[43m \u001b[49m\u001b[38;5;241;43m+\u001b[39;49m\u001b[43m \u001b[49m\u001b[43m[\u001b[49m\u001b[43mcnt\u001b[49m\u001b[38;5;241;43m.\u001b[39;49m\u001b[43mCENS_NAME\u001b[49m\u001b[43m,\u001b[49m\u001b[43m \u001b[49m\u001b[43mcnt\u001b[49m\u001b[38;5;241;43m.\u001b[39;49m\u001b[43mTIME_NAME\u001b[49m\u001b[43m]\u001b[49m]\u001b[38;5;241m.\u001b[39mto_numpy()\u001b[38;5;241m.\u001b[39mT\n\u001b[0;32m     41\u001b[0m     \u001b[38;5;66;03m# self.info[\"target\"] = X[-2:]\u001b[39;00m\n\u001b[0;32m     43\u001b[0m     \u001b[38;5;28;01mdef\u001b[39;00m \u001b[38;5;21mcreate_params_f\u001b[39m(v_feature, name):\n",
      "\u001b[1;31mUFuncTypeError\u001b[0m: ufunc 'add' did not contain a loop with signature matching types (dtype('<U8'), dtype('<U4')) -> None"
     ]
    }
   ],
   "source": [
    "get_comb_fast_1(X_tr, features)"
   ]
  },
  {
   "cell_type": "code",
   "execution_count": 82,
   "id": "5162cca4",
   "metadata": {},
   "outputs": [
    {
     "data": {
      "text/plain": [
       "['protime',\n",
       " 'ascites',\n",
       " 'sex',\n",
       " 'chol',\n",
       " 'age',\n",
       " 'spiders',\n",
       " 'albumin',\n",
       " 'ast',\n",
       " 'stage',\n",
       " 'trig']"
      ]
     },
     "execution_count": 82,
     "metadata": {},
     "output_type": "execute_result"
    }
   ],
   "source": [
    "list(np.random.choice(features, size=10, replace=False))"
   ]
  },
  {
   "cell_type": "code",
   "execution_count": 4,
   "id": "e858e4ff",
   "metadata": {},
   "outputs": [
    {
     "data": {
      "text/plain": [
       "0.0"
      ]
     },
     "execution_count": 4,
     "metadata": {},
     "output_type": "execute_result"
    }
   ],
   "source": [
    "from scipy import stats\n",
    "\n",
    "stats.chi2.isf(min(1.1, 1.0), df=1)"
   ]
  },
  {
   "cell_type": "code",
   "execution_count": 5,
   "id": "2e99ca33",
   "metadata": {},
   "outputs": [
    {
     "name": "stdout",
     "output_type": "stream",
     "text": [
      "68.7 µs ± 394 ns per loop (mean ± std. dev. of 7 runs, 10,000 loops each)\n"
     ]
    }
   ],
   "source": [
    "%timeit stats.chi2.isf(min(1.1, 1.0), df=1)"
   ]
  },
  {
   "cell_type": "code",
   "execution_count": 6,
   "id": "a3d371c5",
   "metadata": {},
   "outputs": [
    {
     "name": "stdout",
     "output_type": "stream",
     "text": [
      "90.2 µs ± 562 ns per loop (mean ± std. dev. of 7 runs, 10,000 loops each)\n"
     ]
    }
   ],
   "source": [
    "%timeit stats.chi2.sf(0.5, df=1)"
   ]
  },
  {
   "cell_type": "code",
   "execution_count": 12,
   "id": "b07188da",
   "metadata": {},
   "outputs": [
    {
     "name": "stdout",
     "output_type": "stream",
     "text": [
      "18.5 µs ± 93.3 ns per loop (mean ± std. dev. of 7 runs, 100,000 loops each)\n"
     ]
    }
   ],
   "source": [
    "%timeit np.unique(X[\"age\"])"
   ]
  },
  {
   "cell_type": "code",
   "execution_count": 14,
   "id": "306dd40d",
   "metadata": {},
   "outputs": [
    {
     "name": "stdout",
     "output_type": "stream",
     "text": [
      "69.2 µs ± 462 ns per loop (mean ± std. dev. of 7 runs, 10,000 loops each)\n"
     ]
    }
   ],
   "source": [
    "%timeit sorted(set(X[\"age\"]))"
   ]
  },
  {
   "cell_type": "code",
   "execution_count": 17,
   "id": "3f660b97",
   "metadata": {},
   "outputs": [
    {
     "data": {
      "text/plain": [
       "True"
      ]
     },
     "execution_count": 17,
     "metadata": {},
     "output_type": "execute_result"
    }
   ],
   "source": [
    "np.any(np.array([1, 3, 4, 5]) <= 1)"
   ]
  },
  {
   "cell_type": "code",
   "execution_count": 113,
   "id": "4abdaace",
   "metadata": {},
   "outputs": [],
   "source": [
    "import numpy as np\n",
    "from scipy import stats\n",
    "from numba import njit, jit\n",
    "\n",
    "@njit('f8(f8[:], f8[:], i8[:], i8[:], i8)', cache=True)\n",
    "def lr_statistic(dur_1, dur_2, cens_1, cens_2, weightings):\n",
    "    times = np.unique(np.hstack((dur_1, dur_2)))\n",
    "    dur_1 = np.searchsorted(times, dur_1) + 1\n",
    "    dur_2 = np.searchsorted(times, dur_2) + 1\n",
    "    times_range = np.array([1, times.shape[0]], dtype = np.int32)\n",
    "        \n",
    "    bins = times_range[1] - times_range[0] + 1\n",
    "    n_1_j = np.histogram(dur_1, bins=bins, range=times_range)[0]\n",
    "    n_2_j = np.histogram(dur_2, bins=bins, range=times_range)[0]\n",
    "    O_1_j = np.histogram(dur_1 * cens_1, bins=bins, range=times_range)[0]\n",
    "    O_2_j = np.histogram(dur_2 * cens_2, bins=bins, range=times_range)[0]\n",
    "\n",
    "    N_1_j = np.cumsum(n_1_j[::-1])[::-1]\n",
    "    N_2_j = np.cumsum(n_2_j[::-1])[::-1]\n",
    "    ind = np.where(N_1_j * N_2_j != 0)\n",
    "    N_1_j = N_1_j[ind]\n",
    "    N_2_j = N_2_j[ind]\n",
    "    O_1_j = O_1_j[ind]\n",
    "    O_2_j = O_2_j[ind]\n",
    "\n",
    "    N_j = N_1_j + N_2_j\n",
    "    O_j = O_1_j + O_2_j\n",
    "    E_1_j = N_1_j * O_j / N_j\n",
    "    res = np.zeros((N_j.shape[0], 3), dtype=np.float32)\n",
    "    res[:, 1] = O_1_j - E_1_j\n",
    "    res[:, 2] = E_1_j * (N_j - O_j) * N_2_j / (N_j * (N_j - 1))\n",
    "    res[:, 0] = 1.0\n",
    "    # if np.any(N_j <= 1):\n",
    "    #     return 0.0\n",
    "    if weightings == 2:\n",
    "        res[:, 0] = N_j\n",
    "    elif weightings == 3:\n",
    "        res[:, 0] = np.sqrt(N_j)\n",
    "    elif weightings == 4:\n",
    "        res[:, 0] = np.cumprod((1.0 - O_j / (N_j + 1)))\n",
    "    logrank = np.power((res[:, 0] * res[:, 1]).sum(), 2) / ((res[:, 0] * res[:, 0] * res[:, 2]).sum())\n",
    "    return logrank\n",
    "\n",
    "def weight_lr_fast(dur_A, dur_B, cens_A=None, cens_B=None, weightings=\"\"):\n",
    "    \"\"\"\n",
    "    Count weighted log-rank criteria\n",
    "\n",
    "    Parameters\n",
    "    ----------\n",
    "    dur_A : array-like\n",
    "        Time of occurred events from first sample.\n",
    "    dur_B : array-like\n",
    "        Time of occurred events from second sample.\n",
    "    cens_A : array-like, optional\n",
    "        Indicate of occurred events from first sample.\n",
    "        The default is None (all events occurred).\n",
    "    cens_B : array-like, optional\n",
    "        Indicate of occurred events from second sample.\n",
    "        The default is None (all events occurred).\n",
    "    weightings : str, optional\n",
    "        Weights of criteria. The default is \"\" (log-rank).\n",
    "        Log-rank :math:'w = 1'\n",
    "        Wilcoxon :math:'w = N_j'\n",
    "        Tarone-ware :math:'w = \\\\sqrt(N_j)'\n",
    "        Peto-peto :math:'w = \\\\fraq{1 - O_j}{N_j + 1}'\n",
    "\n",
    "    Returns\n",
    "    -------\n",
    "    logrank : float\n",
    "        Chi2 statistic value of weighted log-rank test\n",
    "    # p-value : float\n",
    "    #     Chi2 p-value of weighted log-rank test\n",
    "    \"\"\"\n",
    "    try:\n",
    "        if cens_A is None:\n",
    "            cens_A = np.ones(dur_A.shape[0])\n",
    "        if cens_B is None:\n",
    "            cens_B = np.ones(dur_B.shape[0])\n",
    "        d = {\"logrank\": 1, \"wilcoxon\": 2, \"tarone-ware\": 3, \"peto\": 4}\n",
    "        weightings = d.get(weightings, 1)\n",
    "        logrank = lr_statistic(dur_A.astype(\"float64\"),\n",
    "                               dur_B.astype(\"float64\"),\n",
    "                               cens_A.astype(\"int64\"),\n",
    "                               cens_B.astype(\"int64\"),\n",
    "                               np.int64(weightings))\n",
    "        return logrank\n",
    "    except Exception as err:\n",
    "#         print(\"Error type:\", type(err))  # the exception instance\n",
    "#         print(\"Error args:\", err.args)  # arguments stored in .args\n",
    "#         print(\"Error:\", err)\n",
    "        return 0.0"
   ]
  },
  {
   "cell_type": "code",
   "execution_count": 119,
   "id": "d314ad04",
   "metadata": {},
   "outputs": [],
   "source": [
    "dur_A_ = np.random.uniform(0, 10000, 100)\n",
    "cens_A_ = np.random.choice(2, 100)\n",
    "dur_B_ = np.random.uniform(0, 10000, 100)\n",
    "cens_B_ = np.random.choice(2, 100)"
   ]
  },
  {
   "cell_type": "code",
   "execution_count": 120,
   "id": "75645e09",
   "metadata": {},
   "outputs": [
    {
     "name": "stdout",
     "output_type": "stream",
     "text": [
      "39.9 µs ± 169 ns per loop (mean ± std. dev. of 7 runs, 10,000 loops each)\n"
     ]
    }
   ],
   "source": [
    "%timeit crit.weight_lr_fast(dur_A_, dur_B_, cens_A_, cens_B_, \"peto\")"
   ]
  },
  {
   "cell_type": "code",
   "execution_count": 121,
   "id": "23eb2998",
   "metadata": {},
   "outputs": [
    {
     "name": "stdout",
     "output_type": "stream",
     "text": [
      "16.7 µs ± 40.1 ns per loop (mean ± std. dev. of 7 runs, 100,000 loops each)\n"
     ]
    }
   ],
   "source": [
    "%timeit weight_lr_fast(dur_A_, dur_B_, cens_A_, cens_B_, \"peto\")"
   ]
  },
  {
   "cell_type": "code",
   "execution_count": 117,
   "id": "47fd8824",
   "metadata": {},
   "outputs": [
    {
     "data": {
      "text/plain": [
       "0.5906829833984375"
      ]
     },
     "execution_count": 117,
     "metadata": {},
     "output_type": "execute_result"
    }
   ],
   "source": [
    "weight_lr_fast(dur_A_, dur_B_, cens_A_, cens_B_, \"peto\")"
   ]
  },
  {
   "cell_type": "code",
   "execution_count": 118,
   "id": "795e046a",
   "metadata": {},
   "outputs": [
    {
     "data": {
      "text/plain": [
       "0.5906829833984375"
      ]
     },
     "execution_count": 118,
     "metadata": {},
     "output_type": "execute_result"
    }
   ],
   "source": [
    "crit.weight_lr_fast(dur_A_, dur_B_, cens_A_, cens_B_, \"peto\")\n"
   ]
  },
  {
   "cell_type": "code",
   "execution_count": null,
   "id": "5dc7b907",
   "metadata": {},
   "outputs": [],
   "source": []
  }
 ],
 "metadata": {
  "kernelspec": {
   "display_name": "Python 3 (ipykernel)",
   "language": "python",
   "name": "python3"
  },
  "language_info": {
   "codemirror_mode": {
    "name": "ipython",
    "version": 3
   },
   "file_extension": ".py",
   "mimetype": "text/x-python",
   "name": "python",
   "nbconvert_exporter": "python",
   "pygments_lexer": "ipython3",
   "version": "3.10.4"
  }
 },
 "nbformat": 4,
 "nbformat_minor": 5
}
