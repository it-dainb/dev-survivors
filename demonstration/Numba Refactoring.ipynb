{
 "cells": [
  {
   "cell_type": "code",
   "execution_count": 53,
   "id": "f6609f87",
   "metadata": {},
   "outputs": [
    {
     "name": "stdout",
     "output_type": "stream",
     "text": [
      "The line_profiler extension is already loaded. To reload it, use:\n",
      "  %reload_ext line_profiler\n"
     ]
    }
   ],
   "source": [
    "import pandas as pd\n",
    "import numpy as np\n",
    "import os\n",
    "import time\n",
    "import copy\n",
    "import pathlib, tempfile\n",
    "\n",
    "import matplotlib.pyplot as plt\n",
    "import seaborn as sns\n",
    "sns.set()\n",
    "from graphviz import Digraph\n",
    "from joblib import Parallel, delayed\n",
    "from scipy import stats\n",
    "\n",
    "from survivors import metrics as metr\n",
    "from survivors import constants as cnt\n",
    "from survivors import criteria as crit\n",
    "\n",
    "%load_ext line_profiler"
   ]
  },
  {
   "cell_type": "code",
   "execution_count": 592,
   "id": "1cf28b19",
   "metadata": {},
   "outputs": [],
   "source": [
    "@jit\n",
    "def count_N_O(n_1_j, n_2_j, O_1_j, O_2_j):\n",
    "    N_1_j = np.cumsum(n_1_j[::-1])[::-1]\n",
    "    N_2_j = np.cumsum(n_2_j[::-1])[::-1]\n",
    "    ind = np.where(N_1_j * N_2_j != 0)\n",
    "    N_1_j = N_1_j[ind]\n",
    "    N_2_j = N_2_j[ind]\n",
    "    O_1_j = O_1_j[ind]\n",
    "    O_2_j = O_2_j[ind]\n",
    "\n",
    "    N_j = N_1_j + N_2_j\n",
    "    O_j = O_1_j + O_2_j\n",
    "    \n",
    "    E_1_j = N_1_j*O_j/N_j\n",
    "    res = np.zeros((N_j.shape[0], 3), dtype=np.float32)\n",
    "    res[:, 1] = O_1_j - E_1_j\n",
    "    res[:, 2] = E_1_j*(N_j - O_j) * N_2_j/(N_j*(N_j - 1))\n",
    "    return N_j, O_j, res\n",
    "\n",
    "@jit\n",
    "def get_lr(res):\n",
    "    return np.power((res[:, 0]*res[:, 1]).sum(), 2) / ((res[:, 0]*res[:, 0]*res[:, 2]).sum())\n",
    "\n",
    "def lr_statistic(dur_1, dur_2, cens_1, cens_2, times, weightings):\n",
    "    times_range = (times.min(), times.max())\n",
    "    bins = times_range[1] - times_range[0] + 1\n",
    "    n_1_j = np.histogram(dur_1, bins=bins,\n",
    "                         range=times_range)[0]\n",
    "    n_2_j = np.histogram(dur_2, bins=bins, \n",
    "                         range=times_range)[0]\n",
    "    O_1_j = np.histogram(dur_1*cens_1, bins=bins, #weights=cens_1,\n",
    "                         range=times_range)[0]\n",
    "    O_2_j = np.histogram(dur_2*cens_2, bins=bins, #weights=cens_2,\n",
    "                         range=times_range)[0]\n",
    "    N_j, O_j, res = count_N_O(n_1_j, n_2_j, O_1_j, O_2_j)\n",
    "    res[:, 0] = 1\n",
    "    if weightings == \"wilcoxon\":\n",
    "        res[:, 0] = N_j\n",
    "    elif weightings == \"tarone-ware\":\n",
    "        res[:, 0] = np.sqrt(N_j)\n",
    "    elif weightings == \"peto\":\n",
    "        res[:, 0] = np.cumprod((1.0 - float(O_j)/(N_j+1)))\n",
    "        \n",
    "    logrank = get_lr(res)\n",
    "    return logrank\n",
    "\n",
    "def weight_lr_fast(dur_A, dur_B, cens_A = None, cens_B = None, weightings = \"\"):\n",
    "    if cens_A is None:\n",
    "        cens_A = np.ones(dur_A.shape[0])\n",
    "    if cens_B is None:\n",
    "        cens_B = np.ones(dur_B.shape[0])\n",
    "    times = np.union1d(np.unique(dur_A), np.unique(dur_B))\n",
    "    logrank = lr_statistic(dur_A, dur_B, cens_A, cens_B, times, weightings)\n",
    "    pvalue = stats.chi2.sf(logrank, df=1)\n",
    "    return pvalue"
   ]
  },
  {
   "cell_type": "code",
   "execution_count": 620,
   "id": "eeb31646",
   "metadata": {},
   "outputs": [
    {
     "data": {
      "text/plain": [
       "array([   1,    2,    3, ..., 9997, 9998, 9999])"
      ]
     },
     "execution_count": 620,
     "metadata": {},
     "output_type": "execute_result"
    }
   ],
   "source": [
    "dur_A_ = np.random.choice(10000, 10000)\n",
    "cens_A_ = np.random.choice(2, 10000)\n",
    "dur_B_ = np.random.choice(10000, 10000)\n",
    "cens_B_ = np.random.choice(2, 10000)\n",
    "times = np.union1d(np.unique(dur_A_), np.unique(dur_B_))\n",
    "times"
   ]
  },
  {
   "cell_type": "code",
   "execution_count": 621,
   "id": "83db198c",
   "metadata": {},
   "outputs": [
    {
     "data": {
      "text/plain": [
       "0.03762169720052538"
      ]
     },
     "execution_count": 621,
     "metadata": {},
     "output_type": "execute_result"
    }
   ],
   "source": [
    "weight_lr_fast(dur_A_, dur_B_, cens_A_, cens_B_)"
   ]
  },
  {
   "cell_type": "code",
   "execution_count": 622,
   "id": "4727c0a1",
   "metadata": {},
   "outputs": [
    {
     "data": {
      "text/plain": [
       "0.03762169720052538"
      ]
     },
     "execution_count": 622,
     "metadata": {},
     "output_type": "execute_result"
    }
   ],
   "source": [
    "crit.weight_lr_fast(dur_A_, dur_B_, cens_A_, cens_B_)"
   ]
  },
  {
   "cell_type": "code",
   "execution_count": 623,
   "id": "dcdd742b",
   "metadata": {},
   "outputs": [],
   "source": [
    "times = np.array([0, 1, 2, 3, 4, 5, 6, 7, 8, 9])\n",
    "dur_A = np.array([0, 2, 3, 4, 5, 3, 9, 3])\n",
    "cens_A = np.array([1, 1, 0, 1, 0, 0, 0, 0])\n",
    "dur_B = np.array([4, 5, 6, 7, 8, 1, 3])\n",
    "cens_B = np.array([1, 1, 1, 0, 1, 1, 1])"
   ]
  },
  {
   "cell_type": "code",
   "execution_count": 624,
   "id": "02056122",
   "metadata": {},
   "outputs": [],
   "source": [
    "@jit\n",
    "def numb_coeffs_t_j(dur_A, dur_B, cens_A, cens_B, t_j, weightings):\n",
    "    N_1_j = (dur_A >= t_j).sum()\n",
    "    N_2_j = (dur_B >= t_j).sum()\n",
    "    if N_1_j == 0 or N_2_j == 0:\n",
    "        return 0, 0, 0\n",
    "    O_1_j = ((dur_A == t_j) * cens_A).sum()  # np.where(dur_A == t_j, cens_A,0).sum()\n",
    "    O_2_j = ((dur_B == t_j) * cens_B).sum()  # np.where(dur_B == t_j, cens_B,0).sum()\n",
    "    \n",
    "    N_j = N_1_j + N_2_j\n",
    "    O_j = O_1_j + O_2_j\n",
    "    E_1_j = N_1_j*O_j/N_j\n",
    "    w_j = 1\n",
    "    if weightings == \"wilcoxon\":\n",
    "        w_j = N_j\n",
    "    elif weightings == \"tarone-ware\":\n",
    "        w_j = np.sqrt(N_j)\n",
    "    elif weightings == \"peto\":\n",
    "        w_j = (1.0 - float(O_j)/(N_j+1))\n",
    "    \n",
    "    num = O_1_j - E_1_j\n",
    "    denom = E_1_j*(N_j - O_j) * N_2_j/(N_j*(N_j - 1))\n",
    "    return w_j, num, denom\n",
    "\n",
    "@jit\n",
    "def numb_lr_statistic(dur_A, dur_B, cens_A, cens_B, times, weightings):\n",
    "    res = np.zeros((times.shape[0], 3), dtype=np.float32)\n",
    "    for j, t_j in enumerate(times):\n",
    "        res[j] = numb_coeffs_t_j(dur_A, dur_B, cens_A, cens_B, t_j, weightings)\n",
    "    \n",
    "    if weightings == \"peto\":\n",
    "        res[:, 0] = np.cumprod(res[:, 0])\n",
    "#     print(res)\n",
    "    # logrank = np.dot(res[:, 0], res[:, 1])**2 / np.dot(res[:, 0]*res[:, 0], res[:, 2])\n",
    "    logrank = np.power((res[:, 0]*res[:, 1]).sum(), 2) / ((res[:, 0]*res[:, 0]*res[:, 2]).sum())\n",
    "#     print(np.power((res[:, 0]*res[:, 1]).sum(), 2), ((res[:, 0]*res[:, 0]*res[:, 2]).sum()))\n",
    "#     print(logrank)\n",
    "    return logrank\n",
    "\n",
    "def numb_weight_lr_fast(dur_A, dur_B, cens_A = None, cens_B = None, weightings = \"\"):\n",
    "    try:\n",
    "        if cens_A is None:\n",
    "            cens_A = np.ones(dur_A.shape[0])\n",
    "        if cens_B is None:\n",
    "            cens_B = np.ones(dur_B.shape[0])\n",
    "\n",
    "        #     a1 = np.unique(dur_A)\n",
    "        #     a2 = np.unique(dur_B)\n",
    "        #     times = np.unique(np.clip(np.union1d(a1,a2), 0, np.min([a1.max(), a2.max()])))\n",
    "        times = np.union1d(np.unique(dur_A), np.unique(dur_B))\n",
    "        logrank = numb_lr_statistic(dur_A, dur_B, cens_A, cens_B, times, weightings)\n",
    "        pvalue = stats.chi2.sf(logrank, df=1)\n",
    "        return pvalue\n",
    "    except:\n",
    "        return 1.0"
   ]
  },
  {
   "cell_type": "code",
   "execution_count": 625,
   "id": "ec7fccc9",
   "metadata": {},
   "outputs": [
    {
     "data": {
      "text/plain": [
       "0.5281722982828967"
      ]
     },
     "execution_count": 625,
     "metadata": {},
     "output_type": "execute_result"
    }
   ],
   "source": [
    "numb_weight_lr_fast(dur_A, dur_B, cens_A, cens_B)"
   ]
  },
  {
   "cell_type": "code",
   "execution_count": 626,
   "id": "9db3067e",
   "metadata": {},
   "outputs": [
    {
     "data": {
      "text/plain": [
       "0.5931646391562364"
      ]
     },
     "execution_count": 626,
     "metadata": {},
     "output_type": "execute_result"
    }
   ],
   "source": [
    "weight_lr_fast(dur_A, dur_B, cens_A, cens_B)"
   ]
  },
  {
   "cell_type": "code",
   "execution_count": 627,
   "id": "e614cc89",
   "metadata": {},
   "outputs": [
    {
     "data": {
      "text/plain": [
       "0.5281722982828967"
      ]
     },
     "execution_count": 627,
     "metadata": {},
     "output_type": "execute_result"
    }
   ],
   "source": [
    "crit.weight_lr_fast(dur_A, dur_B, cens_A, cens_B)"
   ]
  },
  {
   "cell_type": "code",
   "execution_count": 129,
   "id": "77f7d3d6",
   "metadata": {},
   "outputs": [
    {
     "data": {
      "text/plain": [
       "array([10,  9,  7,  4])"
      ]
     },
     "execution_count": 129,
     "metadata": {},
     "output_type": "execute_result"
    }
   ],
   "source": [
    "np.cumsum(np.array([1, 2, 3, 4])[::-1])[::-1]"
   ]
  },
  {
   "cell_type": "code",
   "execution_count": 215,
   "id": "7b2b8628",
   "metadata": {},
   "outputs": [
    {
     "name": "stdout",
     "output_type": "stream",
     "text": [
      "[[ 1.         -0.5         0.25      ]\n",
      " [ 1.          0.46153846  0.24852072]\n",
      " [ 1.          0.5         0.6136364 ]\n",
      " [ 1.          0.25        0.4017857 ]\n",
      " [ 1.         -0.33333334  0.22222222]\n",
      " [ 1.         -0.25        0.1875    ]\n",
      " [ 1.          0.          0.        ]\n",
      " [ 1.         -0.5         0.25      ]]\n",
      "0.1382314766966033 2.173665\n",
      "0.06359372376451176\n"
     ]
    },
    {
     "data": {
      "text/plain": [
       "2.173665"
      ]
     },
     "execution_count": 215,
     "metadata": {},
     "output_type": "execute_result"
    }
   ],
   "source": [
    "res = weight_lr_fast(dur_A, dur_B, cens_A, cens_B)\n",
    "((res[:, 0]*res[:, 0]*res[:, 2]).sum())"
   ]
  },
  {
   "cell_type": "code",
   "execution_count": 230,
   "id": "d7667d9d",
   "metadata": {},
   "outputs": [
    {
     "data": {
      "text/plain": [
       "2.173665016889572"
      ]
     },
     "execution_count": 230,
     "metadata": {},
     "output_type": "execute_result"
    }
   ],
   "source": [
    "sum(res[:, 0]*res[:, 0]*res[:, 2])"
   ]
  },
  {
   "cell_type": "code",
   "execution_count": 560,
   "id": "ff12d0dd",
   "metadata": {},
   "outputs": [],
   "source": [
    "times_range = (times.min(), times.max())\n",
    "bins = times_range[1] - times_range[0] + 1\n",
    "n_1_j = np.histogram(dur_A, bins=bins,\n",
    "                     range=times_range)[0]\n",
    "n_2_j = np.histogram(dur_B, bins=bins, \n",
    "                     range=times_range)[0]\n",
    "O_1_j = np.histogram(dur_A*cens_A, bins=bins, #weights=cens_1,\n",
    "                     range=times_range)[0]\n",
    "O_2_j = np.histogram(dur_B*cens_B, bins=bins, #weights=cens_2,\n",
    "                     range=times_range)[0]"
   ]
  },
  {
   "cell_type": "code",
   "execution_count": 561,
   "id": "c00f090f",
   "metadata": {},
   "outputs": [
    {
     "name": "stdout",
     "output_type": "stream",
     "text": [
      "[0 0 1 ... 0 0 0] [0 1 0 ... 0 0 0] [5 0 1 ... 0 0 0] [1 1 0 ... 0 0 0]\n"
     ]
    }
   ],
   "source": [
    "print(n_1_j, n_2_j, O_1_j, O_2_j)"
   ]
  },
  {
   "cell_type": "code",
   "execution_count": 555,
   "id": "c40c9fad",
   "metadata": {},
   "outputs": [
    {
     "data": {
      "text/plain": [
       "array([  2,   3,   4,   5,   3, 100,   3])"
      ]
     },
     "execution_count": 555,
     "metadata": {},
     "output_type": "execute_result"
    }
   ],
   "source": [
    "dur_A"
   ]
  },
  {
   "cell_type": "code",
   "execution_count": 659,
   "id": "1755dfa1",
   "metadata": {},
   "outputs": [],
   "source": [
    "class _A_(object):\n",
    "    __slots__ = (\"a\", \"b\", \"c\")\n",
    "    def __init__(self):\n",
    "        self.a = 3\n",
    "        self.b = 3\n",
    "        self.c = 3\n",
    "        \n",
    "    def find(self, param):\n",
    "        if param in self.__dict__:\n",
    "            return getattr(self, param, np.nan)"
   ]
  },
  {
   "cell_type": "code",
   "execution_count": 660,
   "id": "76c90450",
   "metadata": {},
   "outputs": [],
   "source": [
    "_a_ = _A_()"
   ]
  },
  {
   "cell_type": "code",
   "execution_count": 661,
   "id": "f57b987b",
   "metadata": {},
   "outputs": [
    {
     "ename": "AttributeError",
     "evalue": "'_A_' object has no attribute '__dict__'",
     "output_type": "error",
     "traceback": [
      "\u001b[1;31m---------------------------------------------------------------------------\u001b[0m",
      "\u001b[1;31mAttributeError\u001b[0m                            Traceback (most recent call last)",
      "Input \u001b[1;32mIn [661]\u001b[0m, in \u001b[0;36m<cell line: 1>\u001b[1;34m()\u001b[0m\n\u001b[1;32m----> 1\u001b[0m \u001b[43m_a_\u001b[49m\u001b[38;5;241;43m.\u001b[39;49m\u001b[43mfind\u001b[49m\u001b[43m(\u001b[49m\u001b[38;5;124;43m\"\u001b[39;49m\u001b[38;5;124;43mc\u001b[39;49m\u001b[38;5;124;43m\"\u001b[39;49m\u001b[43m)\u001b[49m\n",
      "Input \u001b[1;32mIn [659]\u001b[0m, in \u001b[0;36m_A_.find\u001b[1;34m(self, param)\u001b[0m\n\u001b[0;32m      8\u001b[0m \u001b[38;5;28;01mdef\u001b[39;00m \u001b[38;5;21mfind\u001b[39m(\u001b[38;5;28mself\u001b[39m, param):\n\u001b[1;32m----> 9\u001b[0m     \u001b[38;5;28;01mif\u001b[39;00m param \u001b[38;5;129;01min\u001b[39;00m \u001b[38;5;28;43mself\u001b[39;49m\u001b[38;5;241;43m.\u001b[39;49m\u001b[38;5;18;43m__dict__\u001b[39;49m:\n\u001b[0;32m     10\u001b[0m         \u001b[38;5;28;01mreturn\u001b[39;00m \u001b[38;5;28mgetattr\u001b[39m(\u001b[38;5;28mself\u001b[39m, param, np\u001b[38;5;241m.\u001b[39mnan)\n",
      "\u001b[1;31mAttributeError\u001b[0m: '_A_' object has no attribute '__dict__'"
     ]
    }
   ],
   "source": [
    "_a_.find(\"c\")"
   ]
  },
  {
   "cell_type": "code",
   "execution_count": 662,
   "id": "09d73267",
   "metadata": {},
   "outputs": [
    {
     "ename": "AttributeError",
     "evalue": "'_A_' object has no attribute '__dict__'",
     "output_type": "error",
     "traceback": [
      "\u001b[1;31m---------------------------------------------------------------------------\u001b[0m",
      "\u001b[1;31mAttributeError\u001b[0m                            Traceback (most recent call last)",
      "Input \u001b[1;32mIn [662]\u001b[0m, in \u001b[0;36m<cell line: 1>\u001b[1;34m()\u001b[0m\n\u001b[1;32m----> 1\u001b[0m \u001b[38;5;124m\"\u001b[39m\u001b[38;5;124mc\u001b[39m\u001b[38;5;124m\"\u001b[39m \u001b[38;5;129;01min\u001b[39;00m \u001b[43m_a_\u001b[49m\u001b[38;5;241;43m.\u001b[39;49m\u001b[38;5;18;43m__dict__\u001b[39;49m\n",
      "\u001b[1;31mAttributeError\u001b[0m: '_A_' object has no attribute '__dict__'"
     ]
    }
   ],
   "source": [
    "\"c\" in _a_.__dict__"
   ]
  },
  {
   "cell_type": "code",
   "execution_count": null,
   "id": "8757b0aa",
   "metadata": {},
   "outputs": [],
   "source": []
  }
 ],
 "metadata": {
  "kernelspec": {
   "display_name": "Python 3 (ipykernel)",
   "language": "python",
   "name": "python3"
  },
  "language_info": {
   "codemirror_mode": {
    "name": "ipython",
    "version": 3
   },
   "file_extension": ".py",
   "mimetype": "text/x-python",
   "name": "python",
   "nbconvert_exporter": "python",
   "pygments_lexer": "ipython3",
   "version": "3.10.4"
  }
 },
 "nbformat": 4,
 "nbformat_minor": 5
}
