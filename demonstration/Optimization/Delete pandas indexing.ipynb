{
 "cells": [
  {
   "cell_type": "code",
   "execution_count": 1,
   "id": "b0dc37a6",
   "metadata": {},
   "outputs": [
    {
     "name": "stdout",
     "output_type": "stream",
     "text": [
      "Scalene extension successfully loaded. Note: Scalene currently only\n",
      "supports CPU+GPU profiling inside Jupyter notebooks. For full Scalene\n",
      "profiling, use the command line version.\n"
     ]
    }
   ],
   "source": [
    "import pandas as pd\n",
    "import numpy as np\n",
    "import os\n",
    "import time\n",
    "import copy\n",
    "import pathlib, tempfile\n",
    "\n",
    "import matplotlib.pyplot as plt\n",
    "import seaborn as sns\n",
    "\n",
    "custom_params = {\"axes.spines.right\": False, 'grid.color': 'lightgray', 'axes.grid': True, \"axes.spines.top\": False}\n",
    "sns.set_theme(style=\"ticks\", rc=custom_params)\n",
    "\n",
    "from survivors import metrics as metr\n",
    "import survivors.datasets as ds\n",
    "import survivors.constants as cnt\n",
    "\n",
    "%load_ext line_profiler\n",
    "%load_ext scalene"
   ]
  },
  {
   "cell_type": "code",
   "execution_count": 2,
   "id": "aa28fefc",
   "metadata": {},
   "outputs": [],
   "source": [
    "from sklearn.model_selection import train_test_split, StratifiedKFold\n",
    "from survivors.experiments.grid import generate_sample, prepare_sample, count_metric\n",
    "\n",
    "X, y, features, categ, sch_nan = ds.load_gbsg_dataset()\n",
    "\n",
    "df = X.copy()\n",
    "df[\"time\"] = y[\"time\"]\n",
    "df[\"cens\"] = y[\"cens\"]"
   ]
  },
  {
   "cell_type": "code",
   "execution_count": 3,
   "id": "1621eb66",
   "metadata": {},
   "outputs": [
    {
     "name": "stdout",
     "output_type": "stream",
     "text": [
      "547 µs ± 1.47 µs per loop (mean ± std. dev. of 7 runs, 1,000 loops each)\n",
      "171 µs ± 423 ns per loop (mean ± std. dev. of 7 runs, 10,000 loops each)\n"
     ]
    }
   ],
   "source": [
    "def get_comb_fast(df, features):\n",
    "    X = df[features + [cnt.CENS_NAME, cnt.TIME_NAME]].to_numpy().T\n",
    "\n",
    "    def create_params_f(v_feature, name):\n",
    "        d = {}\n",
    "        d[\"arr\"] = np.vstack((v_feature, X[-2:]))\n",
    "        d[\"type_attr\"] = \"categ\"\n",
    "        return d\n",
    "\n",
    "    return list(map(create_params_f, X[:-2], features))\n",
    "\n",
    "def get_comb_fastx3(df, features):\n",
    "    l = dict(zip(df.columns, df.values.T))\n",
    "    def create_params_f(name):\n",
    "        d = {}\n",
    "        d[\"arr\"] = np.vstack((l[name], l[cnt.CENS_NAME], l[cnt.TIME_NAME]))\n",
    "        d[\"type_attr\"] = \"categ\"\n",
    "        return d\n",
    "\n",
    "    return list(map(create_params_f, features))\n",
    "\n",
    "%timeit get_comb_fast(df, features)\n",
    "%timeit get_comb_fastx3(df, features)"
   ]
  },
  {
   "cell_type": "code",
   "execution_count": null,
   "id": "7a3f872d",
   "metadata": {},
   "outputs": [],
   "source": []
  },
  {
   "cell_type": "code",
   "execution_count": 6,
   "id": "d3332b85",
   "metadata": {},
   "outputs": [
    {
     "name": "stdout",
     "output_type": "stream",
     "text": [
      "1.35 ms ± 92.5 µs per loop (mean ± std. dev. of 7 runs, 1,000 loops each)\n",
      "231 µs ± 1.14 µs per loop (mean ± std. dev. of 7 runs, 1,000 loops each)\n"
     ]
    }
   ],
   "source": [
    "def get_and_mean(X, features):\n",
    "    X_sub = X.loc[:, features]\n",
    "    shape = X_sub.shape\n",
    "    features_predict = X_sub.mean(axis=0).to_dict()\n",
    "    lists = X_sub[[\"time\", \"cens\"]].to_dict(orient=\"list\")\n",
    "\n",
    "def get_and_mean_fast(X, features):\n",
    "    shape = (X.shape[0], len(features))\n",
    "    l = dict(zip(X.columns, X.values.T))\n",
    "    lists = {k: v for k, v in l.items() if k in [\"time\", \"cens\"]}\n",
    "    features_predict = {k: np.mean(v) for k, v in l.items() if k in features}\n",
    "#     X_sub.mean(axis=0).to_dict()\n",
    "#     features_predict = dict(zip(X.columns, X.values.mean(axis=0)))\n",
    "#     features_predict = {k: v for k, v in features_predict.items() if k in features}\n",
    "#     features_predict = {k: np.mean(lists[k]) for k in features}\n",
    "#     features_predict = {k: np.mean(v) for k, v in lists.items() if k in features}\n",
    "#     print(shape, features_predict)\n",
    "#     print(lists)\n",
    "    \n",
    "%timeit get_and_mean(df, features[1:-1] + [\"time\", \"cens\"])\n",
    "%timeit get_and_mean_fast(df, features[1:-1] + [\"time\", \"cens\"])"
   ]
  },
  {
   "cell_type": "code",
   "execution_count": null,
   "id": "a2d83aeb",
   "metadata": {},
   "outputs": [],
   "source": []
  }
 ],
 "metadata": {
  "kernelspec": {
   "display_name": "Python 3 (ipykernel)",
   "language": "python",
   "name": "python3"
  },
  "language_info": {
   "codemirror_mode": {
    "name": "ipython",
    "version": 3
   },
   "file_extension": ".py",
   "mimetype": "text/x-python",
   "name": "python",
   "nbconvert_exporter": "python",
   "pygments_lexer": "ipython3",
   "version": "3.10.4"
  }
 },
 "nbformat": 4,
 "nbformat_minor": 5
}
