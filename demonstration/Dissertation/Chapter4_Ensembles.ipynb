{
 "cells": [
  {
   "cell_type": "code",
   "execution_count": null,
   "id": "29cef8de",
   "metadata": {},
   "outputs": [],
   "source": [
    "from survivors.ensemble import ParallelBootstrapCRAID\n",
    "\n",
    "class PBCRAID(ParallelBootstrapCRAID):\n",
    "    def tolerance_find_best(self, ens_metric_name=\"bic\"):\n",
    "        self.ens_metric_name = ens_metric_name\n",
    "\n",
    "        self.is_ci = self.ens_metric_name.upper().find(\"CI\") >= 0\n",
    "        self.is_ibs = self.ens_metric_name.upper().find(\"IBS\") >= 0\n",
    "        self.is_auprc = self.ens_metric_name.upper().find(\"AUPRC\") >= 0\n",
    "        self.is_iauc = self.ens_metric_name.upper().find(\"IAUC\") >= 0\n",
    "\n",
    "        ens_metr_arr = np.zeros(self.n_estimators)\n",
    "\n",
    "        self.prepare_for_tolerance()\n",
    "        for i in range(self.n_estimators):\n",
    "            self.tolerance_iter = i\n",
    "            self.predict_by_i(i)\n",
    "            ens_metr_arr[i] = self.score_oob()\n",
    "\n",
    "        descend_metr = self.ens_metric_name in metr.DESCEND_METRICS\n",
    "        if descend_metr:\n",
    "            best_index = np.argmin(ens_metr_arr)\n",
    "        else:\n",
    "            best_index = np.argmax(ens_metr_arr)\n",
    "        self.select_model(0, best_index + 1)\n",
    "        print(ens_metr_arr)\n",
    "        print(f\"fitted: {len(self.models)} models.\")\n",
    "        return ens_metr_arr\n",
    "        \n",
    "        \n",
    "param_bstr = {'aggreg_func': 'mean',\n",
    "             'categ': categ, 'criterion': 'logrank', \n",
    "             'depth': 5, 'ens_metric_name': 'CI', 'l_reg': 0, 'leaf_model': \n",
    "             'base_zero_after', 'max_features': 0.3, 'min_samples_leaf': 0.01, 'n_estimators': 50, \n",
    "             'n_jobs': 50, 'size_sample': 0.6, 'weighted_tree': False}\n",
    "\n",
    "\n",
    "bstr = PBCRAID(**param_bstr)\n",
    "bstr.fit(X_tr, y_tr)\n",
    "ens_metr_arr = bstr.tolerance_find_best(param_bstr[\"ens_metric_name\"])"
   ]
  },
  {
   "cell_type": "code",
   "execution_count": null,
   "id": "efa9febb",
   "metadata": {},
   "outputs": [],
   "source": [
    "axis_font = {'fontname':'Times New Roman', 'size':'16'}\n",
    "sns.set_context(rc={'lines.linewidth':2})\n",
    "\n",
    "plt.subplots(figsize=(10, 6))\n",
    "plt.plot(range(1, ens_metr_arr.shape[0]+1), ens_metr_arr, 'o-', label=\"Качество на OOB выборке\")\n",
    "plt.vlines(x=2, ymin=ens_metr_arr.min(), ymax=ens_metr_arr.max(), color=\"green\", linewidth=3, label=\"Размер=2 по итеративному алгоритму\")\n",
    "plt.vlines(x=31, ymin=ens_metr_arr.min(), ymax=ens_metr_arr.max(), color=\"red\", linewidth=3, label=\"Размер=31 по толерантному алгоритму\")\n",
    "plt.ylabel(\"Concordance index\", **axis_font)\n",
    "plt.xlabel(\"Размер ансамбля\", **axis_font)\n",
    "plt.legend(prop={'size': 16, 'family':'Times New Roman'})"
   ]
  }
 ],
 "metadata": {
  "kernelspec": {
   "display_name": "Python 3 (ipykernel)",
   "language": "python",
   "name": "python3"
  },
  "language_info": {
   "codemirror_mode": {
    "name": "ipython",
    "version": 3
   },
   "file_extension": ".py",
   "mimetype": "text/x-python",
   "name": "python",
   "nbconvert_exporter": "python",
   "pygments_lexer": "ipython3",
   "version": "3.10.4"
  }
 },
 "nbformat": 4,
 "nbformat_minor": 5
}
