{
 "cells": [
  {
   "cell_type": "code",
   "execution_count": 15,
   "id": "93ab9e56",
   "metadata": {},
   "outputs": [],
   "source": [
    "import numpy as np\n",
    "import pandas as pd\n",
    "import os\n",
    "\n",
    "from survivors.tree import CRAID\n",
    "from survivors.experiments import grid as exp\n",
    "from survivors import datasets as ds\n",
    "from survivors.tree.stratified_model import LEAF_MODEL_DICT, LeafModel\n",
    "\n",
    "from sksurv.linear_model import CoxPHSurvivalAnalysis\n",
    "\n",
    "import matplotlib.pyplot as plt\n",
    "import seaborn as sns\n",
    "sns.set()"
   ]
  },
  {
   "cell_type": "code",
   "execution_count": 16,
   "id": "09681fd2",
   "metadata": {},
   "outputs": [
    {
     "data": {
      "text/plain": [
       "{'base': survivors.tree.stratified_model.LeafModel,\n",
       " 'only_hazard': survivors.tree.stratified_model.LeafOnlyHazardModel,\n",
       " 'only_survive': survivors.tree.stratified_model.LeafOnlySurviveModel}"
      ]
     },
     "execution_count": 16,
     "metadata": {},
     "output_type": "execute_result"
    }
   ],
   "source": [
    "LEAF_MODEL_DICT"
   ]
  },
  {
   "cell_type": "code",
   "execution_count": 7,
   "id": "251240b7",
   "metadata": {},
   "outputs": [],
   "source": [
    "DATASETS_LOAD = {\n",
    "    \"GBSG\": ds.load_gbsg_dataset\n",
    "}"
   ]
  },
  {
   "cell_type": "code",
   "execution_count": 13,
   "id": "eec35df8",
   "metadata": {},
   "outputs": [],
   "source": [
    "GBSG_PARAMS = {\n",
    "    \"TREE\": {\n",
    "        \"depth\": [15],\n",
    "        \"criterion\": [\"peto\", \"tarone-ware\", \"wilcoxon\", \"logrank\"],\n",
    "        \"min_samples_leaf\": [10, 15, 20],\n",
    "        'cut': [True, False],\n",
    "        \"woe\": [False],\n",
    "        \"signif\": [0.05, 0.1, 0.15],\n",
    "        \"max_features\": [1.0],\n",
    "        \"leaf_model\": [LeafOnlyHazardModel, LeafOnlySurviveModel]\n",
    "    },\n",
    "    \"COX\": {\n",
    "        \"alpha\": [100, 10, 1, 0.1, 0.01, 0.001],\n",
    "        \"ties\": [\"breslow\", \"efron\"]\n",
    "    }\n",
    "}\n",
    "\n",
    "PARAMS = {\n",
    "    \"GBSG\": GBSG_PARAMS\n",
    "}"
   ]
  },
  {
   "cell_type": "code",
   "execution_count": 14,
   "id": "3c0acea7",
   "metadata": {},
   "outputs": [
    {
     "name": "stdout",
     "output_type": "stream",
     "text": [
      "<class 'sksurv.linear_model.coxph.CoxPHSurvivalAnalysis'> {'alpha': [100, 10, 1, 0.1, 0.01, 0.001], 'ties': ['breslow', 'efron']}\n"
     ]
    },
    {
     "name": "stderr",
     "output_type": "stream",
     "text": [
      "C:\\ProgramData\\Anaconda3\\envs\\survive\\lib\\site-packages\\survivors-1.4.4-py3.10.egg\\survivors\\metrics.py:191: RuntimeWarning: invalid value encountered in true_divide\n",
      "  true_pos = cumsum_tp / cumsum_tp[-1]\n",
      "C:\\ProgramData\\Anaconda3\\envs\\survive\\lib\\site-packages\\survivors-1.4.4-py3.10.egg\\survivors\\metrics.py:192: RuntimeWarning: invalid value encountered in true_divide\n",
      "  false_pos = cumsum_fp / n_controls\n",
      "C:\\ProgramData\\Anaconda3\\envs\\survive\\lib\\site-packages\\survivors-1.4.4-py3.10.egg\\survivors\\experiments\\grid.py:178: FutureWarning: The frame.append method is deprecated and will be removed from pandas in a future version. Use pandas.concat instead.\n",
      "  self.result_table = self.result_table.append(curr_dict, ignore_index=True)\n"
     ]
    },
    {
     "name": "stdout",
     "output_type": "stream",
     "text": [
      "EXECUTION TIME OF CoxPHSurvivalAnalysis: 1.9755704402923584 {'CI': 0.6154394599170574, 'CI_CENS': 0.6790139214207016, 'IBS': 0.17627597375372073, 'IAUC': 0.7158428167004255}\n"
     ]
    },
    {
     "name": "stderr",
     "output_type": "stream",
     "text": [
      "C:\\ProgramData\\Anaconda3\\envs\\survive\\lib\\site-packages\\survivors-1.4.4-py3.10.egg\\survivors\\experiments\\grid.py:178: FutureWarning: The frame.append method is deprecated and will be removed from pandas in a future version. Use pandas.concat instead.\n",
      "  self.result_table = self.result_table.append(curr_dict, ignore_index=True)\n"
     ]
    },
    {
     "name": "stdout",
     "output_type": "stream",
     "text": [
      "EXECUTION TIME OF CoxPHSurvivalAnalysis: 1.501523733139038 {'CI': 0.6153749114193066, 'CI_CENS': 0.6789831700400611, 'IBS': 0.17627519853951296, 'IAUC': 0.7158424117065577}\n"
     ]
    },
    {
     "name": "stderr",
     "output_type": "stream",
     "text": [
      "C:\\ProgramData\\Anaconda3\\envs\\survive\\lib\\site-packages\\survivors-1.4.4-py3.10.egg\\survivors\\experiments\\grid.py:178: FutureWarning: The frame.append method is deprecated and will be removed from pandas in a future version. Use pandas.concat instead.\n",
      "  self.result_table = self.result_table.append(curr_dict, ignore_index=True)\n"
     ]
    },
    {
     "name": "stdout",
     "output_type": "stream",
     "text": [
      "EXECUTION TIME OF CoxPHSurvivalAnalysis: 1.507941722869873 {'CI': 0.6142454437292754, 'CI_CENS': 0.6786899551619647, 'IBS': 0.17366900002658497, 'IAUC': 0.7145591624024381}\n"
     ]
    },
    {
     "name": "stderr",
     "output_type": "stream",
     "text": [
      "C:\\ProgramData\\Anaconda3\\envs\\survive\\lib\\site-packages\\survivors-1.4.4-py3.10.egg\\survivors\\experiments\\grid.py:178: FutureWarning: The frame.append method is deprecated and will be removed from pandas in a future version. Use pandas.concat instead.\n",
      "  self.result_table = self.result_table.append(curr_dict, ignore_index=True)\n"
     ]
    },
    {
     "name": "stdout",
     "output_type": "stream",
     "text": [
      "EXECUTION TIME OF CoxPHSurvivalAnalysis: 1.4908547401428223 {'CI': 0.6142238803869574, 'CI_CENS': 0.6786839930781967, 'IBS': 0.17366782755517804, 'IAUC': 0.7145701240816478}\n"
     ]
    },
    {
     "name": "stderr",
     "output_type": "stream",
     "text": [
      "C:\\ProgramData\\Anaconda3\\envs\\survive\\lib\\site-packages\\survivors-1.4.4-py3.10.egg\\survivors\\experiments\\grid.py:178: FutureWarning: The frame.append method is deprecated and will be removed from pandas in a future version. Use pandas.concat instead.\n",
      "  self.result_table = self.result_table.append(curr_dict, ignore_index=True)\n"
     ]
    },
    {
     "name": "stdout",
     "output_type": "stream",
     "text": [
      "EXECUTION TIME OF CoxPHSurvivalAnalysis: 1.5046985149383545 {'CI': 0.6128146433170878, 'CI_CENS': 0.6764870570100012, 'IBS': 0.17329799213013336, 'IAUC': 0.7123261669133749}\n"
     ]
    },
    {
     "name": "stderr",
     "output_type": "stream",
     "text": [
      "C:\\ProgramData\\Anaconda3\\envs\\survive\\lib\\site-packages\\survivors-1.4.4-py3.10.egg\\survivors\\experiments\\grid.py:178: FutureWarning: The frame.append method is deprecated and will be removed from pandas in a future version. Use pandas.concat instead.\n",
      "  self.result_table = self.result_table.append(curr_dict, ignore_index=True)\n"
     ]
    },
    {
     "name": "stdout",
     "output_type": "stream",
     "text": [
      "EXECUTION TIME OF CoxPHSurvivalAnalysis: 1.4910917282104492 {'CI': 0.612835564984403, 'CI_CENS': 0.6765635907261707, 'IBS': 0.17329692517257972, 'IAUC': 0.7123553520104211}\n"
     ]
    },
    {
     "name": "stderr",
     "output_type": "stream",
     "text": [
      "C:\\ProgramData\\Anaconda3\\envs\\survive\\lib\\site-packages\\survivors-1.4.4-py3.10.egg\\survivors\\experiments\\grid.py:178: FutureWarning: The frame.append method is deprecated and will be removed from pandas in a future version. Use pandas.concat instead.\n",
      "  self.result_table = self.result_table.append(curr_dict, ignore_index=True)\n"
     ]
    },
    {
     "name": "stdout",
     "output_type": "stream",
     "text": [
      "EXECUTION TIME OF CoxPHSurvivalAnalysis: 1.5163533687591553 {'CI': 0.6127501142714046, 'CI_CENS': 0.6765123986068499, 'IBS': 0.17326685755727236, 'IAUC': 0.7124209615978475}\n"
     ]
    },
    {
     "name": "stderr",
     "output_type": "stream",
     "text": [
      "C:\\ProgramData\\Anaconda3\\envs\\survive\\lib\\site-packages\\survivors-1.4.4-py3.10.egg\\survivors\\experiments\\grid.py:178: FutureWarning: The frame.append method is deprecated and will be removed from pandas in a future version. Use pandas.concat instead.\n",
      "  self.result_table = self.result_table.append(curr_dict, ignore_index=True)\n"
     ]
    },
    {
     "name": "stdout",
     "output_type": "stream",
     "text": [
      "EXECUTION TIME OF CoxPHSurvivalAnalysis: 1.5060997009277344 {'CI': 0.6128146119151053, 'CI_CENS': 0.6765522313094988, 'IBS': 0.17326581413032766, 'IAUC': 0.7124606471793337}\n"
     ]
    },
    {
     "name": "stderr",
     "output_type": "stream",
     "text": [
      "C:\\ProgramData\\Anaconda3\\envs\\survive\\lib\\site-packages\\survivors-1.4.4-py3.10.egg\\survivors\\experiments\\grid.py:178: FutureWarning: The frame.append method is deprecated and will be removed from pandas in a future version. Use pandas.concat instead.\n",
      "  self.result_table = self.result_table.append(curr_dict, ignore_index=True)\n"
     ]
    },
    {
     "name": "stdout",
     "output_type": "stream",
     "text": [
      "EXECUTION TIME OF CoxPHSurvivalAnalysis: 1.4922428131103516 {'CI': 0.6127718570982161, 'CI_CENS': 0.6765155302959784, 'IBS': 0.1732638646143368, 'IAUC': 0.7124552704453864}\n"
     ]
    },
    {
     "name": "stderr",
     "output_type": "stream",
     "text": [
      "C:\\ProgramData\\Anaconda3\\envs\\survive\\lib\\site-packages\\survivors-1.4.4-py3.10.egg\\survivors\\experiments\\grid.py:178: FutureWarning: The frame.append method is deprecated and will be removed from pandas in a future version. Use pandas.concat instead.\n",
      "  self.result_table = self.result_table.append(curr_dict, ignore_index=True)\n"
     ]
    },
    {
     "name": "stdout",
     "output_type": "stream",
     "text": [
      "EXECUTION TIME OF CoxPHSurvivalAnalysis: 1.5024089813232422 {'CI': 0.6128145400836404, 'CI_CENS': 0.6765508223376229, 'IBS': 0.17326282374838947, 'IAUC': 0.7124608187913546}\n"
     ]
    },
    {
     "name": "stderr",
     "output_type": "stream",
     "text": [
      "C:\\ProgramData\\Anaconda3\\envs\\survive\\lib\\site-packages\\survivors-1.4.4-py3.10.egg\\survivors\\experiments\\grid.py:178: FutureWarning: The frame.append method is deprecated and will be removed from pandas in a future version. Use pandas.concat instead.\n",
      "  self.result_table = self.result_table.append(curr_dict, ignore_index=True)\n"
     ]
    },
    {
     "name": "stdout",
     "output_type": "stream",
     "text": [
      "EXECUTION TIME OF CoxPHSurvivalAnalysis: 1.4519574642181396 {'CI': 0.6127718570982161, 'CI_CENS': 0.6765155302959784, 'IBS': 0.17326356662257947, 'IAUC': 0.7124552704453864}\n"
     ]
    },
    {
     "name": "stderr",
     "output_type": "stream",
     "text": [
      "C:\\ProgramData\\Anaconda3\\envs\\survive\\lib\\site-packages\\survivors-1.4.4-py3.10.egg\\survivors\\experiments\\grid.py:178: FutureWarning: The frame.append method is deprecated and will be removed from pandas in a future version. Use pandas.concat instead.\n",
      "  self.result_table = self.result_table.append(curr_dict, ignore_index=True)\n"
     ]
    },
    {
     "name": "stdout",
     "output_type": "stream",
     "text": [
      "EXECUTION TIME OF CoxPHSurvivalAnalysis: 1.4839320182800293 {'CI': 0.6128145400836404, 'CI_CENS': 0.6765508223376229, 'IBS': 0.1732625260149306, 'IAUC': 0.7124608187913546}\n",
      "<class 'survivors.tree.decision_tree.CRAID'> {'depth': [15], 'criterion': ['peto', 'tarone-ware', 'wilcoxon', 'logrank'], 'min_samples_leaf': [10, 15, 20], 'cut': [True, False], 'woe': [False], 'signif': [0.05, 0.1, 0.15], 'max_features': [1.0]}\n"
     ]
    },
    {
     "name": "stderr",
     "output_type": "stream",
     "text": [
      "C:\\ProgramData\\Anaconda3\\envs\\survive\\lib\\site-packages\\survivors-1.4.4-py3.10.egg\\survivors\\experiments\\grid.py:178: FutureWarning: The frame.append method is deprecated and will be removed from pandas in a future version. Use pandas.concat instead.\n",
      "  self.result_table = self.result_table.append(curr_dict, ignore_index=True)\n"
     ]
    },
    {
     "name": "stdout",
     "output_type": "stream",
     "text": [
      "EXECUTION TIME OF CRAID: 7.276182413101196 {'CI': 0.591162123268238, 'CI_CENS': 0.6556814934907267, 'IBS': 0.18338725897031943, 'IAUC': 0.682898132544081}\n"
     ]
    },
    {
     "name": "stderr",
     "output_type": "stream",
     "text": [
      "C:\\ProgramData\\Anaconda3\\envs\\survive\\lib\\site-packages\\survivors-1.4.4-py3.10.egg\\survivors\\experiments\\grid.py:178: FutureWarning: The frame.append method is deprecated and will be removed from pandas in a future version. Use pandas.concat instead.\n",
      "  self.result_table = self.result_table.append(curr_dict, ignore_index=True)\n"
     ]
    },
    {
     "name": "stdout",
     "output_type": "stream",
     "text": [
      "EXECUTION TIME OF CRAID: 5.845824480056763 {'CI': 0.5824230115517205, 'CI_CENS': 0.6328037530400079, 'IBS': 0.20036011048578678, 'IAUC': 0.6569913127425443}\n"
     ]
    },
    {
     "name": "stderr",
     "output_type": "stream",
     "text": [
      "C:\\ProgramData\\Anaconda3\\envs\\survive\\lib\\site-packages\\survivors-1.4.4-py3.10.egg\\survivors\\experiments\\grid.py:178: FutureWarning: The frame.append method is deprecated and will be removed from pandas in a future version. Use pandas.concat instead.\n",
      "  self.result_table = self.result_table.append(curr_dict, ignore_index=True)\n"
     ]
    },
    {
     "name": "stdout",
     "output_type": "stream",
     "text": [
      "EXECUTION TIME OF CRAID: 6.591992139816284 {'CI': 0.598719611161843, 'CI_CENS': 0.6534195587724652, 'IBS': 0.18622070985154177, 'IAUC': 0.6743260835011091}\n"
     ]
    },
    {
     "name": "stderr",
     "output_type": "stream",
     "text": [
      "C:\\ProgramData\\Anaconda3\\envs\\survive\\lib\\site-packages\\survivors-1.4.4-py3.10.egg\\survivors\\experiments\\grid.py:178: FutureWarning: The frame.append method is deprecated and will be removed from pandas in a future version. Use pandas.concat instead.\n",
      "  self.result_table = self.result_table.append(curr_dict, ignore_index=True)\n"
     ]
    },
    {
     "name": "stdout",
     "output_type": "stream",
     "text": [
      "EXECUTION TIME OF CRAID: 3.4055936336517334 {'CI': 0.5934977210284933, 'CI_CENS': 0.6588675001151277, 'IBS': 0.18363656287300745, 'IAUC': 0.6867992996300702}\n"
     ]
    },
    {
     "name": "stderr",
     "output_type": "stream",
     "text": [
      "C:\\ProgramData\\Anaconda3\\envs\\survive\\lib\\site-packages\\survivors-1.4.4-py3.10.egg\\survivors\\experiments\\grid.py:178: FutureWarning: The frame.append method is deprecated and will be removed from pandas in a future version. Use pandas.concat instead.\n",
      "  self.result_table = self.result_table.append(curr_dict, ignore_index=True)\n"
     ]
    },
    {
     "name": "stdout",
     "output_type": "stream",
     "text": [
      "EXECUTION TIME OF CRAID: 4.5120344161987305 {'CI': 0.5843968463621458, 'CI_CENS': 0.6278258782827308, 'IBS': 0.19683698336253846, 'IAUC': 0.6596357756230617}\n"
     ]
    },
    {
     "name": "stderr",
     "output_type": "stream",
     "text": [
      "C:\\ProgramData\\Anaconda3\\envs\\survive\\lib\\site-packages\\survivors-1.4.4-py3.10.egg\\survivors\\experiments\\grid.py:178: FutureWarning: The frame.append method is deprecated and will be removed from pandas in a future version. Use pandas.concat instead.\n",
      "  self.result_table = self.result_table.append(curr_dict, ignore_index=True)\n"
     ]
    },
    {
     "name": "stdout",
     "output_type": "stream",
     "text": [
      "EXECUTION TIME OF CRAID: 4.749138832092285 {'CI': 0.5973594094388172, 'CI_CENS': 0.6474355116385632, 'IBS': 0.1818060045935, 'IAUC': 0.6796441299923257}\n"
     ]
    },
    {
     "name": "stderr",
     "output_type": "stream",
     "text": [
      "C:\\ProgramData\\Anaconda3\\envs\\survive\\lib\\site-packages\\survivors-1.4.4-py3.10.egg\\survivors\\experiments\\grid.py:178: FutureWarning: The frame.append method is deprecated and will be removed from pandas in a future version. Use pandas.concat instead.\n",
      "  self.result_table = self.result_table.append(curr_dict, ignore_index=True)\n"
     ]
    },
    {
     "name": "stdout",
     "output_type": "stream",
     "text": [
      "EXECUTION TIME OF CRAID: 3.2489700317382812 {'CI': 0.5993878115968824, 'CI_CENS': 0.6513744768415684, 'IBS': 0.18300319047156113, 'IAUC': 0.6821374041805887}\n"
     ]
    },
    {
     "name": "stderr",
     "output_type": "stream",
     "text": [
      "C:\\ProgramData\\Anaconda3\\envs\\survive\\lib\\site-packages\\survivors-1.4.4-py3.10.egg\\survivors\\experiments\\grid.py:178: FutureWarning: The frame.append method is deprecated and will be removed from pandas in a future version. Use pandas.concat instead.\n",
      "  self.result_table = self.result_table.append(curr_dict, ignore_index=True)\n"
     ]
    },
    {
     "name": "stdout",
     "output_type": "stream",
     "text": [
      "EXECUTION TIME OF CRAID: 3.68731427192688 {'CI': 0.5924484873672797, 'CI_CENS': 0.6464711524986919, 'IBS': 0.18591916518320778, 'IAUC': 0.6783366477804412}\n"
     ]
    },
    {
     "name": "stderr",
     "output_type": "stream",
     "text": [
      "C:\\ProgramData\\Anaconda3\\envs\\survive\\lib\\site-packages\\survivors-1.4.4-py3.10.egg\\survivors\\experiments\\grid.py:178: FutureWarning: The frame.append method is deprecated and will be removed from pandas in a future version. Use pandas.concat instead.\n",
      "  self.result_table = self.result_table.append(curr_dict, ignore_index=True)\n"
     ]
    },
    {
     "name": "stdout",
     "output_type": "stream",
     "text": [
      "EXECUTION TIME OF CRAID: 3.7020316123962402 {'CI': 0.5918290372854399, 'CI_CENS': 0.6446683706705088, 'IBS': 0.18544712201868033, 'IAUC': 0.6785460673487489}\n"
     ]
    },
    {
     "name": "stderr",
     "output_type": "stream",
     "text": [
      "C:\\ProgramData\\Anaconda3\\envs\\survive\\lib\\site-packages\\survivors-1.4.4-py3.10.egg\\survivors\\experiments\\grid.py:178: FutureWarning: The frame.append method is deprecated and will be removed from pandas in a future version. Use pandas.concat instead.\n",
      "  self.result_table = self.result_table.append(curr_dict, ignore_index=True)\n"
     ]
    },
    {
     "name": "stdout",
     "output_type": "stream",
     "text": [
      "EXECUTION TIME OF CRAID: 3.889655351638794 {'CI': 0.5847124773567474, 'CI_CENS': 0.6306383146366817, 'IBS': 0.19367029615516648, 'IAUC': 0.6466860861721466}\n"
     ]
    },
    {
     "name": "stderr",
     "output_type": "stream",
     "text": [
      "C:\\ProgramData\\Anaconda3\\envs\\survive\\lib\\site-packages\\survivors-1.4.4-py3.10.egg\\survivors\\experiments\\grid.py:178: FutureWarning: The frame.append method is deprecated and will be removed from pandas in a future version. Use pandas.concat instead.\n",
      "  self.result_table = self.result_table.append(curr_dict, ignore_index=True)\n"
     ]
    },
    {
     "name": "stdout",
     "output_type": "stream",
     "text": [
      "EXECUTION TIME OF CRAID: 3.98361873626709 {'CI': 0.5928345283062879, 'CI_CENS': 0.6466233884128154, 'IBS': 0.19010011691882162, 'IAUC': 0.6545957025166644}\n"
     ]
    },
    {
     "name": "stderr",
     "output_type": "stream",
     "text": [
      "C:\\ProgramData\\Anaconda3\\envs\\survive\\lib\\site-packages\\survivors-1.4.4-py3.10.egg\\survivors\\experiments\\grid.py:178: FutureWarning: The frame.append method is deprecated and will be removed from pandas in a future version. Use pandas.concat instead.\n",
      "  self.result_table = self.result_table.append(curr_dict, ignore_index=True)\n"
     ]
    },
    {
     "name": "stdout",
     "output_type": "stream",
     "text": [
      "EXECUTION TIME OF CRAID: 5.7084126472473145 {'CI': 0.5802419019446402, 'CI_CENS': 0.6274533568261715, 'IBS': 0.19839781646306123, 'IAUC': 0.6426192498355469}\n"
     ]
    },
    {
     "name": "stderr",
     "output_type": "stream",
     "text": [
      "C:\\ProgramData\\Anaconda3\\envs\\survive\\lib\\site-packages\\survivors-1.4.4-py3.10.egg\\survivors\\experiments\\grid.py:178: FutureWarning: The frame.append method is deprecated and will be removed from pandas in a future version. Use pandas.concat instead.\n",
      "  self.result_table = self.result_table.append(curr_dict, ignore_index=True)\n"
     ]
    },
    {
     "name": "stdout",
     "output_type": "stream",
     "text": [
      "EXECUTION TIME OF CRAID: 3.642561912536621 {'CI': 0.5840671194580832, 'CI_CENS': 0.6338881415221541, 'IBS': 0.19014850684645085, 'IAUC': 0.6566165458186068}\n"
     ]
    },
    {
     "name": "stderr",
     "output_type": "stream",
     "text": [
      "C:\\ProgramData\\Anaconda3\\envs\\survive\\lib\\site-packages\\survivors-1.4.4-py3.10.egg\\survivors\\experiments\\grid.py:178: FutureWarning: The frame.append method is deprecated and will be removed from pandas in a future version. Use pandas.concat instead.\n",
      "  self.result_table = self.result_table.append(curr_dict, ignore_index=True)\n"
     ]
    },
    {
     "name": "stdout",
     "output_type": "stream",
     "text": [
      "EXECUTION TIME OF CRAID: 3.9804880619049072 {'CI': 0.5907924886540077, 'CI_CENS': 0.6357924997679457, 'IBS': 0.18906091687395862, 'IAUC': 0.6508889522182628}\n"
     ]
    },
    {
     "name": "stderr",
     "output_type": "stream",
     "text": [
      "C:\\ProgramData\\Anaconda3\\envs\\survive\\lib\\site-packages\\survivors-1.4.4-py3.10.egg\\survivors\\experiments\\grid.py:178: FutureWarning: The frame.append method is deprecated and will be removed from pandas in a future version. Use pandas.concat instead.\n",
      "  self.result_table = self.result_table.append(curr_dict, ignore_index=True)\n"
     ]
    },
    {
     "name": "stdout",
     "output_type": "stream",
     "text": [
      "EXECUTION TIME OF CRAID: 4.357407569885254 {'CI': 0.5875404017378896, 'CI_CENS': 0.6422293707059918, 'IBS': 0.19212261246795076, 'IAUC': 0.6649889693289754}\n"
     ]
    },
    {
     "name": "stderr",
     "output_type": "stream",
     "text": [
      "C:\\ProgramData\\Anaconda3\\envs\\survive\\lib\\site-packages\\survivors-1.4.4-py3.10.egg\\survivors\\experiments\\grid.py:178: FutureWarning: The frame.append method is deprecated and will be removed from pandas in a future version. Use pandas.concat instead.\n",
      "  self.result_table = self.result_table.append(curr_dict, ignore_index=True)\n"
     ]
    },
    {
     "name": "stdout",
     "output_type": "stream",
     "text": [
      "EXECUTION TIME OF CRAID: 3.264343023300171 {'CI': 0.5878874597822538, 'CI_CENS': 0.6355158372184212, 'IBS': 0.18985341908354206, 'IAUC': 0.6577060480079796}\n"
     ]
    },
    {
     "name": "stderr",
     "output_type": "stream",
     "text": [
      "C:\\ProgramData\\Anaconda3\\envs\\survive\\lib\\site-packages\\survivors-1.4.4-py3.10.egg\\survivors\\experiments\\grid.py:178: FutureWarning: The frame.append method is deprecated and will be removed from pandas in a future version. Use pandas.concat instead.\n",
      "  self.result_table = self.result_table.append(curr_dict, ignore_index=True)\n"
     ]
    },
    {
     "name": "stdout",
     "output_type": "stream",
     "text": [
      "EXECUTION TIME OF CRAID: 3.4061882495880127 {'CI': 0.5913371886485405, 'CI_CENS': 0.6393476738787258, 'IBS': 0.18817015917204571, 'IAUC': 0.6579690927080064}\n"
     ]
    },
    {
     "name": "stderr",
     "output_type": "stream",
     "text": [
      "C:\\ProgramData\\Anaconda3\\envs\\survive\\lib\\site-packages\\survivors-1.4.4-py3.10.egg\\survivors\\experiments\\grid.py:178: FutureWarning: The frame.append method is deprecated and will be removed from pandas in a future version. Use pandas.concat instead.\n",
      "  self.result_table = self.result_table.append(curr_dict, ignore_index=True)\n"
     ]
    },
    {
     "name": "stdout",
     "output_type": "stream",
     "text": [
      "EXECUTION TIME OF CRAID: 3.8114304542541504 {'CI': 0.5973112632871846, 'CI_CENS': 0.6499233996171343, 'IBS': 0.1849664288819495, 'IAUC': 0.6764388006689664}\n"
     ]
    },
    {
     "name": "stderr",
     "output_type": "stream",
     "text": [
      "C:\\ProgramData\\Anaconda3\\envs\\survive\\lib\\site-packages\\survivors-1.4.4-py3.10.egg\\survivors\\experiments\\grid.py:178: FutureWarning: The frame.append method is deprecated and will be removed from pandas in a future version. Use pandas.concat instead.\n",
      "  self.result_table = self.result_table.append(curr_dict, ignore_index=True)\n"
     ]
    },
    {
     "name": "stdout",
     "output_type": "stream",
     "text": [
      "EXECUTION TIME OF CRAID: 3.842825412750244 {'CI': 0.5921848477161367, 'CI_CENS': 0.6461135521015452, 'IBS': 0.1866048194018855, 'IAUC': 0.6743892014598177}\n"
     ]
    },
    {
     "name": "stderr",
     "output_type": "stream",
     "text": [
      "C:\\ProgramData\\Anaconda3\\envs\\survive\\lib\\site-packages\\survivors-1.4.4-py3.10.egg\\survivors\\experiments\\grid.py:178: FutureWarning: The frame.append method is deprecated and will be removed from pandas in a future version. Use pandas.concat instead.\n",
      "  self.result_table = self.result_table.append(curr_dict, ignore_index=True)\n"
     ]
    },
    {
     "name": "stdout",
     "output_type": "stream",
     "text": [
      "EXECUTION TIME OF CRAID: 5.9064977169036865 {'CI': 0.585421969338443, 'CI_CENS': 0.6366503191984197, 'IBS': 0.19493768962359032, 'IAUC': 0.6522644569661324}\n"
     ]
    },
    {
     "name": "stderr",
     "output_type": "stream",
     "text": [
      "C:\\ProgramData\\Anaconda3\\envs\\survive\\lib\\site-packages\\survivors-1.4.4-py3.10.egg\\survivors\\experiments\\grid.py:178: FutureWarning: The frame.append method is deprecated and will be removed from pandas in a future version. Use pandas.concat instead.\n",
      "  self.result_table = self.result_table.append(curr_dict, ignore_index=True)\n"
     ]
    },
    {
     "name": "stdout",
     "output_type": "stream",
     "text": [
      "EXECUTION TIME OF CRAID: 6.227842569351196 {'CI': 0.5882879794889628, 'CI_CENS': 0.6352969396721682, 'IBS': 0.19722280052810565, 'IAUC': 0.655415672280901}\n"
     ]
    },
    {
     "name": "stderr",
     "output_type": "stream",
     "text": [
      "C:\\ProgramData\\Anaconda3\\envs\\survive\\lib\\site-packages\\survivors-1.4.4-py3.10.egg\\survivors\\experiments\\grid.py:178: FutureWarning: The frame.append method is deprecated and will be removed from pandas in a future version. Use pandas.concat instead.\n",
      "  self.result_table = self.result_table.append(curr_dict, ignore_index=True)\n"
     ]
    },
    {
     "name": "stdout",
     "output_type": "stream",
     "text": [
      "EXECUTION TIME OF CRAID: 3.411996364593506 {'CI': 0.5903450815630326, 'CI_CENS': 0.63799932040216, 'IBS': 0.18529046125573706, 'IAUC': 0.6716582917034818}\n"
     ]
    },
    {
     "name": "stderr",
     "output_type": "stream",
     "text": [
      "C:\\ProgramData\\Anaconda3\\envs\\survive\\lib\\site-packages\\survivors-1.4.4-py3.10.egg\\survivors\\experiments\\grid.py:178: FutureWarning: The frame.append method is deprecated and will be removed from pandas in a future version. Use pandas.concat instead.\n",
      "  self.result_table = self.result_table.append(curr_dict, ignore_index=True)\n"
     ]
    },
    {
     "name": "stdout",
     "output_type": "stream",
     "text": [
      "EXECUTION TIME OF CRAID: 4.037670135498047 {'CI': 0.5994993479536362, 'CI_CENS': 0.6534020388759846, 'IBS': 0.18535221219325415, 'IAUC': 0.6843098723172575}\n"
     ]
    },
    {
     "name": "stderr",
     "output_type": "stream",
     "text": [
      "C:\\ProgramData\\Anaconda3\\envs\\survive\\lib\\site-packages\\survivors-1.4.4-py3.10.egg\\survivors\\experiments\\grid.py:178: FutureWarning: The frame.append method is deprecated and will be removed from pandas in a future version. Use pandas.concat instead.\n",
      "  self.result_table = self.result_table.append(curr_dict, ignore_index=True)\n"
     ]
    },
    {
     "name": "stdout",
     "output_type": "stream",
     "text": [
      "EXECUTION TIME OF CRAID: 4.895556449890137 {'CI': 0.5941642139055181, 'CI_CENS': 0.6437495269451399, 'IBS': 0.18106719540601662, 'IAUC': 0.6795802904580002}\n"
     ]
    },
    {
     "name": "stderr",
     "output_type": "stream",
     "text": [
      "C:\\ProgramData\\Anaconda3\\envs\\survive\\lib\\site-packages\\survivors-1.4.4-py3.10.egg\\survivors\\experiments\\grid.py:178: FutureWarning: The frame.append method is deprecated and will be removed from pandas in a future version. Use pandas.concat instead.\n",
      "  self.result_table = self.result_table.append(curr_dict, ignore_index=True)\n"
     ]
    },
    {
     "name": "stdout",
     "output_type": "stream",
     "text": [
      "EXECUTION TIME OF CRAID: 3.0082602500915527 {'CI': 0.5798296906905687, 'CI_CENS': 0.635557396594036, 'IBS': 0.19021185763800602, 'IAUC': 0.6532166007724379}\n"
     ]
    },
    {
     "name": "stderr",
     "output_type": "stream",
     "text": [
      "C:\\ProgramData\\Anaconda3\\envs\\survive\\lib\\site-packages\\survivors-1.4.4-py3.10.egg\\survivors\\experiments\\grid.py:178: FutureWarning: The frame.append method is deprecated and will be removed from pandas in a future version. Use pandas.concat instead.\n",
      "  self.result_table = self.result_table.append(curr_dict, ignore_index=True)\n"
     ]
    },
    {
     "name": "stdout",
     "output_type": "stream",
     "text": [
      "EXECUTION TIME OF CRAID: 3.3633129596710205 {'CI': 0.5881731358332875, 'CI_CENS': 0.6338757497958176, 'IBS': 0.18794772334125875, 'IAUC': 0.6678956317628166}\n"
     ]
    },
    {
     "name": "stderr",
     "output_type": "stream",
     "text": [
      "C:\\ProgramData\\Anaconda3\\envs\\survive\\lib\\site-packages\\survivors-1.4.4-py3.10.egg\\survivors\\experiments\\grid.py:178: FutureWarning: The frame.append method is deprecated and will be removed from pandas in a future version. Use pandas.concat instead.\n",
      "  self.result_table = self.result_table.append(curr_dict, ignore_index=True)\n"
     ]
    },
    {
     "name": "stdout",
     "output_type": "stream",
     "text": [
      "EXECUTION TIME OF CRAID: 3.7751259803771973 {'CI': 0.5949659032161508, 'CI_CENS': 0.6509353998905925, 'IBS': 0.18120629797418458, 'IAUC': 0.6962894261246997}\n"
     ]
    },
    {
     "name": "stderr",
     "output_type": "stream",
     "text": [
      "C:\\ProgramData\\Anaconda3\\envs\\survive\\lib\\site-packages\\survivors-1.4.4-py3.10.egg\\survivors\\experiments\\grid.py:178: FutureWarning: The frame.append method is deprecated and will be removed from pandas in a future version. Use pandas.concat instead.\n",
      "  self.result_table = self.result_table.append(curr_dict, ignore_index=True)\n"
     ]
    },
    {
     "name": "stdout",
     "output_type": "stream",
     "text": [
      "EXECUTION TIME OF CRAID: 4.144909858703613 {'CI': 0.5953065760916634, 'CI_CENS': 0.644794874527045, 'IBS': 0.1931774632953646, 'IAUC': 0.6647377333162836}\n"
     ]
    },
    {
     "name": "stderr",
     "output_type": "stream",
     "text": [
      "C:\\ProgramData\\Anaconda3\\envs\\survive\\lib\\site-packages\\survivors-1.4.4-py3.10.egg\\survivors\\experiments\\grid.py:178: FutureWarning: The frame.append method is deprecated and will be removed from pandas in a future version. Use pandas.concat instead.\n",
      "  self.result_table = self.result_table.append(curr_dict, ignore_index=True)\n"
     ]
    },
    {
     "name": "stdout",
     "output_type": "stream",
     "text": [
      "EXECUTION TIME OF CRAID: 4.4871180057525635 {'CI': 0.5807426394608978, 'CI_CENS': 0.63546863970102, 'IBS': 0.19332245704532652, 'IAUC': 0.6556687506656131}\n"
     ]
    },
    {
     "name": "stderr",
     "output_type": "stream",
     "text": [
      "C:\\ProgramData\\Anaconda3\\envs\\survive\\lib\\site-packages\\survivors-1.4.4-py3.10.egg\\survivors\\experiments\\grid.py:178: FutureWarning: The frame.append method is deprecated and will be removed from pandas in a future version. Use pandas.concat instead.\n",
      "  self.result_table = self.result_table.append(curr_dict, ignore_index=True)\n"
     ]
    },
    {
     "name": "stdout",
     "output_type": "stream",
     "text": [
      "EXECUTION TIME OF CRAID: 5.297574996948242 {'CI': 0.5821482095795947, 'CI_CENS': 0.6342695246497526, 'IBS': 0.19440672690660393, 'IAUC': 0.6558372113512747}\n"
     ]
    },
    {
     "name": "stderr",
     "output_type": "stream",
     "text": [
      "C:\\ProgramData\\Anaconda3\\envs\\survive\\lib\\site-packages\\survivors-1.4.4-py3.10.egg\\survivors\\experiments\\grid.py:178: FutureWarning: The frame.append method is deprecated and will be removed from pandas in a future version. Use pandas.concat instead.\n",
      "  self.result_table = self.result_table.append(curr_dict, ignore_index=True)\n"
     ]
    },
    {
     "name": "stdout",
     "output_type": "stream",
     "text": [
      "EXECUTION TIME OF CRAID: 3.625418186187744 {'CI': 0.5920372709474184, 'CI_CENS': 0.6470855775588245, 'IBS': 0.18901691028373196, 'IAUC': 0.6664702801774363}\n"
     ]
    },
    {
     "name": "stderr",
     "output_type": "stream",
     "text": [
      "C:\\ProgramData\\Anaconda3\\envs\\survive\\lib\\site-packages\\survivors-1.4.4-py3.10.egg\\survivors\\experiments\\grid.py:178: FutureWarning: The frame.append method is deprecated and will be removed from pandas in a future version. Use pandas.concat instead.\n",
      "  self.result_table = self.result_table.append(curr_dict, ignore_index=True)\n"
     ]
    },
    {
     "name": "stdout",
     "output_type": "stream",
     "text": [
      "EXECUTION TIME OF CRAID: 3.969398260116577 {'CI': 0.5874498845975957, 'CI_CENS': 0.6368457217284789, 'IBS': 0.1929833566191924, 'IAUC': 0.6568207275173903}\n"
     ]
    },
    {
     "name": "stderr",
     "output_type": "stream",
     "text": [
      "C:\\ProgramData\\Anaconda3\\envs\\survive\\lib\\site-packages\\survivors-1.4.4-py3.10.egg\\survivors\\experiments\\grid.py:178: FutureWarning: The frame.append method is deprecated and will be removed from pandas in a future version. Use pandas.concat instead.\n",
      "  self.result_table = self.result_table.append(curr_dict, ignore_index=True)\n"
     ]
    },
    {
     "name": "stdout",
     "output_type": "stream",
     "text": [
      "EXECUTION TIME OF CRAID: 4.290625095367432 {'CI': 0.5938731367183011, 'CI_CENS': 0.6480990010217569, 'IBS': 0.19217540768216215, 'IAUC': 0.672086777253277}\n"
     ]
    },
    {
     "name": "stderr",
     "output_type": "stream",
     "text": [
      "C:\\ProgramData\\Anaconda3\\envs\\survive\\lib\\site-packages\\survivors-1.4.4-py3.10.egg\\survivors\\experiments\\grid.py:178: FutureWarning: The frame.append method is deprecated and will be removed from pandas in a future version. Use pandas.concat instead.\n",
      "  self.result_table = self.result_table.append(curr_dict, ignore_index=True)\n"
     ]
    },
    {
     "name": "stdout",
     "output_type": "stream",
     "text": [
      "EXECUTION TIME OF CRAID: 3.3485329151153564 {'CI': 0.5872285112704902, 'CI_CENS': 0.6377615885732348, 'IBS': 0.19093534351501512, 'IAUC': 0.6581834516235547}\n"
     ]
    },
    {
     "name": "stderr",
     "output_type": "stream",
     "text": [
      "C:\\ProgramData\\Anaconda3\\envs\\survive\\lib\\site-packages\\survivors-1.4.4-py3.10.egg\\survivors\\experiments\\grid.py:178: FutureWarning: The frame.append method is deprecated and will be removed from pandas in a future version. Use pandas.concat instead.\n",
      "  self.result_table = self.result_table.append(curr_dict, ignore_index=True)\n"
     ]
    },
    {
     "name": "stdout",
     "output_type": "stream",
     "text": [
      "EXECUTION TIME OF CRAID: 3.530860662460327 {'CI': 0.5858169550249462, 'CI_CENS': 0.6313833201725142, 'IBS': 0.1931278058611467, 'IAUC': 0.6555057301367109}\n"
     ]
    },
    {
     "name": "stderr",
     "output_type": "stream",
     "text": [
      "C:\\ProgramData\\Anaconda3\\envs\\survive\\lib\\site-packages\\survivors-1.4.4-py3.10.egg\\survivors\\experiments\\grid.py:178: FutureWarning: The frame.append method is deprecated and will be removed from pandas in a future version. Use pandas.concat instead.\n",
      "  self.result_table = self.result_table.append(curr_dict, ignore_index=True)\n"
     ]
    },
    {
     "name": "stdout",
     "output_type": "stream",
     "text": [
      "EXECUTION TIME OF CRAID: 3.624758720397949 {'CI': 0.6011501920773505, 'CI_CENS': 0.6503595541004985, 'IBS': 0.18749746011860347, 'IAUC': 0.678282226160369}\n"
     ]
    },
    {
     "name": "stderr",
     "output_type": "stream",
     "text": [
      "C:\\ProgramData\\Anaconda3\\envs\\survive\\lib\\site-packages\\survivors-1.4.4-py3.10.egg\\survivors\\experiments\\grid.py:178: FutureWarning: The frame.append method is deprecated and will be removed from pandas in a future version. Use pandas.concat instead.\n",
      "  self.result_table = self.result_table.append(curr_dict, ignore_index=True)\n"
     ]
    },
    {
     "name": "stdout",
     "output_type": "stream",
     "text": [
      "EXECUTION TIME OF CRAID: 3.3903863430023193 {'CI': 0.5837826598482406, 'CI_CENS': 0.6390957626792504, 'IBS': 0.1864760767204709, 'IAUC': 0.6708296198432561}\n"
     ]
    },
    {
     "name": "stderr",
     "output_type": "stream",
     "text": [
      "C:\\ProgramData\\Anaconda3\\envs\\survive\\lib\\site-packages\\survivors-1.4.4-py3.10.egg\\survivors\\experiments\\grid.py:178: FutureWarning: The frame.append method is deprecated and will be removed from pandas in a future version. Use pandas.concat instead.\n",
      "  self.result_table = self.result_table.append(curr_dict, ignore_index=True)\n"
     ]
    },
    {
     "name": "stdout",
     "output_type": "stream",
     "text": [
      "EXECUTION TIME OF CRAID: 5.060409307479858 {'CI': 0.5921116655557873, 'CI_CENS': 0.6470002294843424, 'IBS': 0.18875240640265378, 'IAUC': 0.6723973952994268}\n"
     ]
    },
    {
     "name": "stderr",
     "output_type": "stream",
     "text": [
      "C:\\ProgramData\\Anaconda3\\envs\\survive\\lib\\site-packages\\survivors-1.4.4-py3.10.egg\\survivors\\experiments\\grid.py:178: FutureWarning: The frame.append method is deprecated and will be removed from pandas in a future version. Use pandas.concat instead.\n",
      "  self.result_table = self.result_table.append(curr_dict, ignore_index=True)\n"
     ]
    },
    {
     "name": "stdout",
     "output_type": "stream",
     "text": [
      "EXECUTION TIME OF CRAID: 7.177262306213379 {'CI': 0.5849393628919382, 'CI_CENS': 0.6234441625134431, 'IBS': 0.19972771575070375, 'IAUC': 0.6450469702455106}\n"
     ]
    },
    {
     "name": "stderr",
     "output_type": "stream",
     "text": [
      "C:\\ProgramData\\Anaconda3\\envs\\survive\\lib\\site-packages\\survivors-1.4.4-py3.10.egg\\survivors\\experiments\\grid.py:178: FutureWarning: The frame.append method is deprecated and will be removed from pandas in a future version. Use pandas.concat instead.\n",
      "  self.result_table = self.result_table.append(curr_dict, ignore_index=True)\n"
     ]
    },
    {
     "name": "stdout",
     "output_type": "stream",
     "text": [
      "EXECUTION TIME OF CRAID: 3.381833076477051 {'CI': 0.5895506819368934, 'CI_CENS': 0.6417276306899851, 'IBS': 0.18887417075090343, 'IAUC': 0.676704326090007}\n"
     ]
    },
    {
     "name": "stderr",
     "output_type": "stream",
     "text": [
      "C:\\ProgramData\\Anaconda3\\envs\\survive\\lib\\site-packages\\survivors-1.4.4-py3.10.egg\\survivors\\experiments\\grid.py:178: FutureWarning: The frame.append method is deprecated and will be removed from pandas in a future version. Use pandas.concat instead.\n",
      "  self.result_table = self.result_table.append(curr_dict, ignore_index=True)\n"
     ]
    },
    {
     "name": "stdout",
     "output_type": "stream",
     "text": [
      "EXECUTION TIME OF CRAID: 3.8337342739105225 {'CI': 0.5909763072256433, 'CI_CENS': 0.6493266270599646, 'IBS': 0.18488647012953963, 'IAUC': 0.6840353288469345}\n"
     ]
    },
    {
     "name": "stderr",
     "output_type": "stream",
     "text": [
      "C:\\ProgramData\\Anaconda3\\envs\\survive\\lib\\site-packages\\survivors-1.4.4-py3.10.egg\\survivors\\experiments\\grid.py:178: FutureWarning: The frame.append method is deprecated and will be removed from pandas in a future version. Use pandas.concat instead.\n",
      "  self.result_table = self.result_table.append(curr_dict, ignore_index=True)\n"
     ]
    },
    {
     "name": "stdout",
     "output_type": "stream",
     "text": [
      "EXECUTION TIME OF CRAID: 4.5995495319366455 {'CI': 0.6015994006551365, 'CI_CENS': 0.6558008354779284, 'IBS': 0.18331124301555396, 'IAUC': 0.682145516631044}\n"
     ]
    },
    {
     "name": "stderr",
     "output_type": "stream",
     "text": [
      "C:\\ProgramData\\Anaconda3\\envs\\survive\\lib\\site-packages\\survivors-1.4.4-py3.10.egg\\survivors\\experiments\\grid.py:178: FutureWarning: The frame.append method is deprecated and will be removed from pandas in a future version. Use pandas.concat instead.\n",
      "  self.result_table = self.result_table.append(curr_dict, ignore_index=True)\n"
     ]
    },
    {
     "name": "stdout",
     "output_type": "stream",
     "text": [
      "EXECUTION TIME OF CRAID: 3.286241292953491 {'CI': 0.5882451678127898, 'CI_CENS': 0.6365175436974904, 'IBS': 0.18562366584596174, 'IAUC': 0.6709540360865321}\n"
     ]
    },
    {
     "name": "stderr",
     "output_type": "stream",
     "text": [
      "C:\\ProgramData\\Anaconda3\\envs\\survive\\lib\\site-packages\\survivors-1.4.4-py3.10.egg\\survivors\\experiments\\grid.py:178: FutureWarning: The frame.append method is deprecated and will be removed from pandas in a future version. Use pandas.concat instead.\n",
      "  self.result_table = self.result_table.append(curr_dict, ignore_index=True)\n"
     ]
    },
    {
     "name": "stdout",
     "output_type": "stream",
     "text": [
      "EXECUTION TIME OF CRAID: 3.4454026222229004 {'CI': 0.5981508647059222, 'CI_CENS': 0.6550521157286154, 'IBS': 0.18253659566219738, 'IAUC': 0.6830819847686379}\n"
     ]
    },
    {
     "name": "stderr",
     "output_type": "stream",
     "text": [
      "C:\\ProgramData\\Anaconda3\\envs\\survive\\lib\\site-packages\\survivors-1.4.4-py3.10.egg\\survivors\\experiments\\grid.py:178: FutureWarning: The frame.append method is deprecated and will be removed from pandas in a future version. Use pandas.concat instead.\n",
      "  self.result_table = self.result_table.append(curr_dict, ignore_index=True)\n"
     ]
    },
    {
     "name": "stdout",
     "output_type": "stream",
     "text": [
      "EXECUTION TIME OF CRAID: 3.849853277206421 {'CI': 0.5984983625289424, 'CI_CENS': 0.6563279039413887, 'IBS': 0.18217032245231107, 'IAUC': 0.6870169145394369}\n"
     ]
    },
    {
     "name": "stderr",
     "output_type": "stream",
     "text": [
      "C:\\ProgramData\\Anaconda3\\envs\\survive\\lib\\site-packages\\survivors-1.4.4-py3.10.egg\\survivors\\experiments\\grid.py:178: FutureWarning: The frame.append method is deprecated and will be removed from pandas in a future version. Use pandas.concat instead.\n",
      "  self.result_table = self.result_table.append(curr_dict, ignore_index=True)\n"
     ]
    },
    {
     "name": "stdout",
     "output_type": "stream",
     "text": [
      "EXECUTION TIME OF CRAID: 4.209575414657593 {'CI': 0.5842911986142536, 'CI_CENS': 0.6315481256740209, 'IBS': 0.1966349732276368, 'IAUC': 0.6592296612609492}\n"
     ]
    },
    {
     "name": "stderr",
     "output_type": "stream",
     "text": [
      "C:\\ProgramData\\Anaconda3\\envs\\survive\\lib\\site-packages\\survivors-1.4.4-py3.10.egg\\survivors\\experiments\\grid.py:178: FutureWarning: The frame.append method is deprecated and will be removed from pandas in a future version. Use pandas.concat instead.\n",
      "  self.result_table = self.result_table.append(curr_dict, ignore_index=True)\n"
     ]
    },
    {
     "name": "stdout",
     "output_type": "stream",
     "text": [
      "EXECUTION TIME OF CRAID: 4.761666774749756 {'CI': 0.582456740576057, 'CI_CENS': 0.6306022335804587, 'IBS': 0.20212794998020756, 'IAUC': 0.6560118295814856}\n"
     ]
    },
    {
     "name": "stderr",
     "output_type": "stream",
     "text": [
      "C:\\ProgramData\\Anaconda3\\envs\\survive\\lib\\site-packages\\survivors-1.4.4-py3.10.egg\\survivors\\experiments\\grid.py:178: FutureWarning: The frame.append method is deprecated and will be removed from pandas in a future version. Use pandas.concat instead.\n",
      "  self.result_table = self.result_table.append(curr_dict, ignore_index=True)\n"
     ]
    },
    {
     "name": "stdout",
     "output_type": "stream",
     "text": [
      "EXECUTION TIME OF CRAID: 5.433833122253418 {'CI': 0.573354160131389, 'CI_CENS': 0.6174799939309208, 'IBS': 0.19580742489647132, 'IAUC': 0.6609857459019925}\n"
     ]
    },
    {
     "name": "stderr",
     "output_type": "stream",
     "text": [
      "C:\\ProgramData\\Anaconda3\\envs\\survive\\lib\\site-packages\\survivors-1.4.4-py3.10.egg\\survivors\\experiments\\grid.py:178: FutureWarning: The frame.append method is deprecated and will be removed from pandas in a future version. Use pandas.concat instead.\n",
      "  self.result_table = self.result_table.append(curr_dict, ignore_index=True)\n"
     ]
    },
    {
     "name": "stdout",
     "output_type": "stream",
     "text": [
      "EXECUTION TIME OF CRAID: 3.625042676925659 {'CI': 0.5874025769363097, 'CI_CENS': 0.6443426098243428, 'IBS': 0.1938733262225599, 'IAUC': 0.6613670485650738}\n"
     ]
    },
    {
     "name": "stderr",
     "output_type": "stream",
     "text": [
      "C:\\ProgramData\\Anaconda3\\envs\\survive\\lib\\site-packages\\survivors-1.4.4-py3.10.egg\\survivors\\experiments\\grid.py:178: FutureWarning: The frame.append method is deprecated and will be removed from pandas in a future version. Use pandas.concat instead.\n",
      "  self.result_table = self.result_table.append(curr_dict, ignore_index=True)\n"
     ]
    },
    {
     "name": "stdout",
     "output_type": "stream",
     "text": [
      "EXECUTION TIME OF CRAID: 3.9529666900634766 {'CI': 0.5884836867454021, 'CI_CENS': 0.6328448513625634, 'IBS': 0.19495394013708173, 'IAUC': 0.6618285706189954}\n"
     ]
    },
    {
     "name": "stderr",
     "output_type": "stream",
     "text": [
      "C:\\ProgramData\\Anaconda3\\envs\\survive\\lib\\site-packages\\survivors-1.4.4-py3.10.egg\\survivors\\experiments\\grid.py:178: FutureWarning: The frame.append method is deprecated and will be removed from pandas in a future version. Use pandas.concat instead.\n",
      "  self.result_table = self.result_table.append(curr_dict, ignore_index=True)\n"
     ]
    },
    {
     "name": "stdout",
     "output_type": "stream",
     "text": [
      "EXECUTION TIME OF CRAID: 4.321061849594116 {'CI': 0.58229606582081, 'CI_CENS': 0.6324099405521897, 'IBS': 0.20093522783023526, 'IAUC': 0.646113431555773}\n"
     ]
    },
    {
     "name": "stderr",
     "output_type": "stream",
     "text": [
      "C:\\ProgramData\\Anaconda3\\envs\\survive\\lib\\site-packages\\survivors-1.4.4-py3.10.egg\\survivors\\experiments\\grid.py:178: FutureWarning: The frame.append method is deprecated and will be removed from pandas in a future version. Use pandas.concat instead.\n",
      "  self.result_table = self.result_table.append(curr_dict, ignore_index=True)\n"
     ]
    },
    {
     "name": "stdout",
     "output_type": "stream",
     "text": [
      "EXECUTION TIME OF CRAID: 3.2720706462860107 {'CI': 0.5894974679175153, 'CI_CENS': 0.6393156213395963, 'IBS': 0.1879303061409976, 'IAUC': 0.6669753457078197}\n"
     ]
    },
    {
     "name": "stderr",
     "output_type": "stream",
     "text": [
      "C:\\ProgramData\\Anaconda3\\envs\\survive\\lib\\site-packages\\survivors-1.4.4-py3.10.egg\\survivors\\experiments\\grid.py:178: FutureWarning: The frame.append method is deprecated and will be removed from pandas in a future version. Use pandas.concat instead.\n",
      "  self.result_table = self.result_table.append(curr_dict, ignore_index=True)\n"
     ]
    },
    {
     "name": "stdout",
     "output_type": "stream",
     "text": [
      "EXECUTION TIME OF CRAID: 3.511493444442749 {'CI': 0.591987100777903, 'CI_CENS': 0.6340512353650513, 'IBS': 0.18951097994188768, 'IAUC': 0.6672737542689549}\n"
     ]
    },
    {
     "name": "stderr",
     "output_type": "stream",
     "text": [
      "C:\\ProgramData\\Anaconda3\\envs\\survive\\lib\\site-packages\\survivors-1.4.4-py3.10.egg\\survivors\\experiments\\grid.py:178: FutureWarning: The frame.append method is deprecated and will be removed from pandas in a future version. Use pandas.concat instead.\n",
      "  self.result_table = self.result_table.append(curr_dict, ignore_index=True)\n"
     ]
    },
    {
     "name": "stdout",
     "output_type": "stream",
     "text": [
      "EXECUTION TIME OF CRAID: 3.6907453536987305 {'CI': 0.5938764778968768, 'CI_CENS': 0.6500494221538127, 'IBS': 0.18548370855357166, 'IAUC': 0.6779718258281482}\n"
     ]
    },
    {
     "name": "stderr",
     "output_type": "stream",
     "text": [
      "C:\\ProgramData\\Anaconda3\\envs\\survive\\lib\\site-packages\\survivors-1.4.4-py3.10.egg\\survivors\\experiments\\grid.py:178: FutureWarning: The frame.append method is deprecated and will be removed from pandas in a future version. Use pandas.concat instead.\n",
      "  self.result_table = self.result_table.append(curr_dict, ignore_index=True)\n"
     ]
    },
    {
     "name": "stdout",
     "output_type": "stream",
     "text": [
      "EXECUTION TIME OF CRAID: 3.541328191757202 {'CI': 0.5784658268867497, 'CI_CENS': 0.6335508767262957, 'IBS': 0.19069402350801967, 'IAUC': 0.6551709675692899}\n"
     ]
    },
    {
     "name": "stderr",
     "output_type": "stream",
     "text": [
      "C:\\ProgramData\\Anaconda3\\envs\\survive\\lib\\site-packages\\survivors-1.4.4-py3.10.egg\\survivors\\experiments\\grid.py:178: FutureWarning: The frame.append method is deprecated and will be removed from pandas in a future version. Use pandas.concat instead.\n",
      "  self.result_table = self.result_table.append(curr_dict, ignore_index=True)\n"
     ]
    },
    {
     "name": "stdout",
     "output_type": "stream",
     "text": [
      "EXECUTION TIME OF CRAID: 5.87892746925354 {'CI': 0.5875542758953034, 'CI_CENS': 0.6386189534005702, 'IBS': 0.19651882022658101, 'IAUC': 0.653899724640165}\n"
     ]
    },
    {
     "name": "stderr",
     "output_type": "stream",
     "text": [
      "C:\\ProgramData\\Anaconda3\\envs\\survive\\lib\\site-packages\\survivors-1.4.4-py3.10.egg\\survivors\\experiments\\grid.py:178: FutureWarning: The frame.append method is deprecated and will be removed from pandas in a future version. Use pandas.concat instead.\n",
      "  self.result_table = self.result_table.append(curr_dict, ignore_index=True)\n"
     ]
    },
    {
     "name": "stdout",
     "output_type": "stream",
     "text": [
      "EXECUTION TIME OF CRAID: 5.470014333724976 {'CI': 0.5809200678237543, 'CI_CENS': 0.6339305542814283, 'IBS': 0.19861971719913502, 'IAUC': 0.6523611499336583}\n"
     ]
    },
    {
     "name": "stderr",
     "output_type": "stream",
     "text": [
      "C:\\ProgramData\\Anaconda3\\envs\\survive\\lib\\site-packages\\survivors-1.4.4-py3.10.egg\\survivors\\experiments\\grid.py:178: FutureWarning: The frame.append method is deprecated and will be removed from pandas in a future version. Use pandas.concat instead.\n",
      "  self.result_table = self.result_table.append(curr_dict, ignore_index=True)\n"
     ]
    },
    {
     "name": "stdout",
     "output_type": "stream",
     "text": [
      "EXECUTION TIME OF CRAID: 3.183211088180542 {'CI': 0.5822648251504177, 'CI_CENS': 0.6366377762734952, 'IBS': 0.18872866508942154, 'IAUC': 0.6593319619195481}\n"
     ]
    },
    {
     "name": "stderr",
     "output_type": "stream",
     "text": [
      "C:\\ProgramData\\Anaconda3\\envs\\survive\\lib\\site-packages\\survivors-1.4.4-py3.10.egg\\survivors\\experiments\\grid.py:178: FutureWarning: The frame.append method is deprecated and will be removed from pandas in a future version. Use pandas.concat instead.\n",
      "  self.result_table = self.result_table.append(curr_dict, ignore_index=True)\n"
     ]
    },
    {
     "name": "stdout",
     "output_type": "stream",
     "text": [
      "EXECUTION TIME OF CRAID: 4.405553340911865 {'CI': 0.5880069272942585, 'CI_CENS': 0.644321337440176, 'IBS': 0.1908996172885103, 'IAUC': 0.6707196278219032}\n"
     ]
    },
    {
     "name": "stderr",
     "output_type": "stream",
     "text": [
      "C:\\ProgramData\\Anaconda3\\envs\\survive\\lib\\site-packages\\survivors-1.4.4-py3.10.egg\\survivors\\experiments\\grid.py:178: FutureWarning: The frame.append method is deprecated and will be removed from pandas in a future version. Use pandas.concat instead.\n",
      "  self.result_table = self.result_table.append(curr_dict, ignore_index=True)\n"
     ]
    },
    {
     "name": "stdout",
     "output_type": "stream",
     "text": [
      "EXECUTION TIME OF CRAID: 4.640332221984863 {'CI': 0.589432025005854, 'CI_CENS': 0.6454482736154178, 'IBS': 0.19092427402445042, 'IAUC': 0.67020746997047}\n"
     ]
    },
    {
     "name": "stderr",
     "output_type": "stream",
     "text": [
      "C:\\ProgramData\\Anaconda3\\envs\\survive\\lib\\site-packages\\survivors-1.4.4-py3.10.egg\\survivors\\experiments\\grid.py:178: FutureWarning: The frame.append method is deprecated and will be removed from pandas in a future version. Use pandas.concat instead.\n",
      "  self.result_table = self.result_table.append(curr_dict, ignore_index=True)\n"
     ]
    },
    {
     "name": "stdout",
     "output_type": "stream",
     "text": [
      "EXECUTION TIME OF CRAID: 3.044950485229492 {'CI': 0.5825965860209472, 'CI_CENS': 0.6414144201902385, 'IBS': 0.19081627454338607, 'IAUC': 0.6578910764042167}\n"
     ]
    },
    {
     "name": "stderr",
     "output_type": "stream",
     "text": [
      "C:\\ProgramData\\Anaconda3\\envs\\survive\\lib\\site-packages\\survivors-1.4.4-py3.10.egg\\survivors\\experiments\\grid.py:178: FutureWarning: The frame.append method is deprecated and will be removed from pandas in a future version. Use pandas.concat instead.\n",
      "  self.result_table = self.result_table.append(curr_dict, ignore_index=True)\n"
     ]
    },
    {
     "name": "stdout",
     "output_type": "stream",
     "text": [
      "EXECUTION TIME OF CRAID: 3.7187910079956055 {'CI': 0.5887028030516961, 'CI_CENS': 0.6468248029465534, 'IBS': 0.18520480070879533, 'IAUC': 0.6749546329075504}\n"
     ]
    },
    {
     "name": "stderr",
     "output_type": "stream",
     "text": [
      "C:\\ProgramData\\Anaconda3\\envs\\survive\\lib\\site-packages\\survivors-1.4.4-py3.10.egg\\survivors\\experiments\\grid.py:178: FutureWarning: The frame.append method is deprecated and will be removed from pandas in a future version. Use pandas.concat instead.\n",
      "  self.result_table = self.result_table.append(curr_dict, ignore_index=True)\n"
     ]
    },
    {
     "name": "stdout",
     "output_type": "stream",
     "text": [
      "EXECUTION TIME OF CRAID: 3.662468194961548 {'CI': 0.585766125266318, 'CI_CENS': 0.6351900076540969, 'IBS': 0.18922713509467032, 'IAUC': 0.6644882022158128}\n"
     ]
    },
    {
     "name": "stderr",
     "output_type": "stream",
     "text": [
      "C:\\ProgramData\\Anaconda3\\envs\\survive\\lib\\site-packages\\survivors-1.4.4-py3.10.egg\\survivors\\experiments\\grid.py:178: FutureWarning: The frame.append method is deprecated and will be removed from pandas in a future version. Use pandas.concat instead.\n",
      "  self.result_table = self.result_table.append(curr_dict, ignore_index=True)\n"
     ]
    },
    {
     "name": "stdout",
     "output_type": "stream",
     "text": [
      "EXECUTION TIME OF CRAID: 3.6713457107543945 {'CI': 0.5887410267798726, 'CI_CENS': 0.6410571771867846, 'IBS': 0.18841468721866964, 'IAUC': 0.6587743865032142}\n"
     ]
    },
    {
     "name": "stderr",
     "output_type": "stream",
     "text": [
      "C:\\ProgramData\\Anaconda3\\envs\\survive\\lib\\site-packages\\survivors-1.4.4-py3.10.egg\\survivors\\experiments\\grid.py:178: FutureWarning: The frame.append method is deprecated and will be removed from pandas in a future version. Use pandas.concat instead.\n",
      "  self.result_table = self.result_table.append(curr_dict, ignore_index=True)\n"
     ]
    },
    {
     "name": "stdout",
     "output_type": "stream",
     "text": [
      "EXECUTION TIME OF CRAID: 4.533456325531006 {'CI': 0.5638621714180799, 'CI_CENS': 0.6165869823502704, 'IBS': 0.21198982411501013, 'IAUC': 0.6270956065478431}\n"
     ]
    },
    {
     "name": "stderr",
     "output_type": "stream",
     "text": [
      "C:\\ProgramData\\Anaconda3\\envs\\survive\\lib\\site-packages\\survivors-1.4.4-py3.10.egg\\survivors\\experiments\\grid.py:178: FutureWarning: The frame.append method is deprecated and will be removed from pandas in a future version. Use pandas.concat instead.\n",
      "  self.result_table = self.result_table.append(curr_dict, ignore_index=True)\n"
     ]
    },
    {
     "name": "stdout",
     "output_type": "stream",
     "text": [
      "EXECUTION TIME OF CRAID: 5.05153226852417 {'CI': 0.5750706133466184, 'CI_CENS': 0.6289494491236581, 'IBS': 0.20686273010276385, 'IAUC': 0.6409377075169246}\n"
     ]
    },
    {
     "name": "stderr",
     "output_type": "stream",
     "text": [
      "C:\\ProgramData\\Anaconda3\\envs\\survive\\lib\\site-packages\\survivors-1.4.4-py3.10.egg\\survivors\\experiments\\grid.py:178: FutureWarning: The frame.append method is deprecated and will be removed from pandas in a future version. Use pandas.concat instead.\n",
      "  self.result_table = self.result_table.append(curr_dict, ignore_index=True)\n"
     ]
    },
    {
     "name": "stdout",
     "output_type": "stream",
     "text": [
      "EXECUTION TIME OF CRAID: 3.593292474746704 {'CI': 0.5848056162543711, 'CI_CENS': 0.6366269925002952, 'IBS': 0.18882894524425467, 'IAUC': 0.6657236993045674}\n"
     ]
    },
    {
     "name": "stderr",
     "output_type": "stream",
     "text": [
      "C:\\ProgramData\\Anaconda3\\envs\\survive\\lib\\site-packages\\survivors-1.4.4-py3.10.egg\\survivors\\experiments\\grid.py:178: FutureWarning: The frame.append method is deprecated and will be removed from pandas in a future version. Use pandas.concat instead.\n",
      "  self.result_table = self.result_table.append(curr_dict, ignore_index=True)\n"
     ]
    },
    {
     "name": "stdout",
     "output_type": "stream",
     "text": [
      "EXECUTION TIME OF CRAID: 4.016983985900879 {'CI': 0.5763482906427541, 'CI_CENS': 0.6238667031279135, 'IBS': 0.19806282699335104, 'IAUC': 0.6440875965528401}\n"
     ]
    },
    {
     "name": "stderr",
     "output_type": "stream",
     "text": [
      "C:\\ProgramData\\Anaconda3\\envs\\survive\\lib\\site-packages\\survivors-1.4.4-py3.10.egg\\survivors\\experiments\\grid.py:178: FutureWarning: The frame.append method is deprecated and will be removed from pandas in a future version. Use pandas.concat instead.\n",
      "  self.result_table = self.result_table.append(curr_dict, ignore_index=True)\n"
     ]
    },
    {
     "name": "stdout",
     "output_type": "stream",
     "text": [
      "EXECUTION TIME OF CRAID: 4.215091705322266 {'CI': 0.5719593088163664, 'CI_CENS': 0.6207359274785619, 'IBS': 0.19665638514734046, 'IAUC': 0.6461864502191301}\n"
     ]
    },
    {
     "name": "stderr",
     "output_type": "stream",
     "text": [
      "C:\\ProgramData\\Anaconda3\\envs\\survive\\lib\\site-packages\\survivors-1.4.4-py3.10.egg\\survivors\\experiments\\grid.py:178: FutureWarning: The frame.append method is deprecated and will be removed from pandas in a future version. Use pandas.concat instead.\n",
      "  self.result_table = self.result_table.append(curr_dict, ignore_index=True)\n"
     ]
    },
    {
     "name": "stdout",
     "output_type": "stream",
     "text": [
      "EXECUTION TIME OF CRAID: 3.200863838195801 {'CI': 0.5802106351736296, 'CI_CENS': 0.6286153654722169, 'IBS': 0.19068436148185625, 'IAUC': 0.6533380805159241}\n"
     ]
    },
    {
     "name": "stderr",
     "output_type": "stream",
     "text": [
      "C:\\ProgramData\\Anaconda3\\envs\\survive\\lib\\site-packages\\survivors-1.4.4-py3.10.egg\\survivors\\experiments\\grid.py:178: FutureWarning: The frame.append method is deprecated and will be removed from pandas in a future version. Use pandas.concat instead.\n",
      "  self.result_table = self.result_table.append(curr_dict, ignore_index=True)\n"
     ]
    },
    {
     "name": "stdout",
     "output_type": "stream",
     "text": [
      "EXECUTION TIME OF CRAID: 3.4682974815368652 {'CI': 0.5825094493628145, 'CI_CENS': 0.6280271500577432, 'IBS': 0.19160283442565365, 'IAUC': 0.6547782613465198}\n"
     ]
    },
    {
     "name": "stderr",
     "output_type": "stream",
     "text": [
      "C:\\ProgramData\\Anaconda3\\envs\\survive\\lib\\site-packages\\survivors-1.4.4-py3.10.egg\\survivors\\experiments\\grid.py:178: FutureWarning: The frame.append method is deprecated and will be removed from pandas in a future version. Use pandas.concat instead.\n",
      "  self.result_table = self.result_table.append(curr_dict, ignore_index=True)\n"
     ]
    },
    {
     "name": "stdout",
     "output_type": "stream",
     "text": [
      "EXECUTION TIME OF CRAID: 3.6860718727111816 {'CI': 0.5810897084387325, 'CI_CENS': 0.6337534105997669, 'IBS': 0.19159218520766297, 'IAUC': 0.6568059925169049}\n"
     ]
    },
    {
     "data": {
      "text/html": [
       "<div>\n",
       "<style scoped>\n",
       "    .dataframe tbody tr th:only-of-type {\n",
       "        vertical-align: middle;\n",
       "    }\n",
       "\n",
       "    .dataframe tbody tr th {\n",
       "        vertical-align: top;\n",
       "    }\n",
       "\n",
       "    .dataframe thead th {\n",
       "        text-align: right;\n",
       "    }\n",
       "</style>\n",
       "<table border=\"1\" class=\"dataframe\">\n",
       "  <thead>\n",
       "    <tr style=\"text-align: right;\">\n",
       "      <th></th>\n",
       "      <th>METHOD</th>\n",
       "      <th>PARAMS</th>\n",
       "      <th>TIME</th>\n",
       "      <th>CI</th>\n",
       "      <th>CI_CENS</th>\n",
       "      <th>IBS</th>\n",
       "      <th>IAUC</th>\n",
       "      <th>CRIT</th>\n",
       "      <th>CI_mean</th>\n",
       "      <th>CI_CENS_mean</th>\n",
       "      <th>IBS_mean</th>\n",
       "      <th>IAUC_mean</th>\n",
       "    </tr>\n",
       "  </thead>\n",
       "  <tbody>\n",
       "    <tr>\n",
       "      <th>0</th>\n",
       "      <td>CoxPHSurvivalAnalysis</td>\n",
       "      <td>{'alpha': 100, 'ties': 'breslow'}</td>\n",
       "      <td>1.97557</td>\n",
       "      <td>[0.624920601312725, 0.6418584641858465, 0.5930...</td>\n",
       "      <td>[0.6967719174457576, 0.7014293276866067, 0.636...</td>\n",
       "      <td>[0.166706791183753, 0.2363090111355482, 0.1736...</td>\n",
       "      <td>[0.7518174830769936, 0.7624115315442699, 0.593...</td>\n",
       "      <td></td>\n",
       "      <td>0.615439</td>\n",
       "      <td>0.679014</td>\n",
       "      <td>0.176276</td>\n",
       "      <td>0.715843</td>\n",
       "    </tr>\n",
       "    <tr>\n",
       "      <th>1</th>\n",
       "      <td>CoxPHSurvivalAnalysis</td>\n",
       "      <td>{'alpha': 100, 'ties': 'efron'}</td>\n",
       "      <td>1.501524</td>\n",
       "      <td>[0.624920601312725, 0.6414282641428264, 0.5930...</td>\n",
       "      <td>[0.6967719174457576, 0.7010764072701606, 0.636...</td>\n",
       "      <td>[0.16670556768052996, 0.23631171306864446, 0.1...</td>\n",
       "      <td>[0.7518174830769936, 0.762268394505642, 0.5939...</td>\n",
       "      <td></td>\n",
       "      <td>0.615375</td>\n",
       "      <td>0.678983</td>\n",
       "      <td>0.176275</td>\n",
       "      <td>0.715842</td>\n",
       "    </tr>\n",
       "    <tr>\n",
       "      <th>2</th>\n",
       "      <td>CoxPHSurvivalAnalysis</td>\n",
       "      <td>{'alpha': 10, 'ties': 'breslow'}</td>\n",
       "      <td>1.507942</td>\n",
       "      <td>[0.6130637306796528, 0.6445472144547214, 0.595...</td>\n",
       "      <td>[0.6846004586346799, 0.7077818951826363, 0.643...</td>\n",
       "      <td>[0.16648779092422508, 0.22910348451393922, 0.1...</td>\n",
       "      <td>[0.7282996550518602, 0.7712366726049878, 0.603...</td>\n",
       "      <td></td>\n",
       "      <td>0.614245</td>\n",
       "      <td>0.678690</td>\n",
       "      <td>0.173669</td>\n",
       "      <td>0.714559</td>\n",
       "    </tr>\n",
       "    <tr>\n",
       "      <th>3</th>\n",
       "      <td>CoxPHSurvivalAnalysis</td>\n",
       "      <td>{'alpha': 10, 'ties': 'efron'}</td>\n",
       "      <td>1.490855</td>\n",
       "      <td>[0.6130637306796528, 0.6445472144547214, 0.595...</td>\n",
       "      <td>[0.6846004586346799, 0.7079583553908594, 0.643...</td>\n",
       "      <td>[0.16648773373917708, 0.22910409708541143, 0.1...</td>\n",
       "      <td>[0.7282996550518602, 0.771370065776222, 0.6037...</td>\n",
       "      <td></td>\n",
       "      <td>0.614224</td>\n",
       "      <td>0.678684</td>\n",
       "      <td>0.173668</td>\n",
       "      <td>0.714570</td>\n",
       "    </tr>\n",
       "    <tr>\n",
       "      <th>4</th>\n",
       "      <td>CoxPHSurvivalAnalysis</td>\n",
       "      <td>{'alpha': 1, 'ties': 'breslow'}</td>\n",
       "      <td>1.504699</td>\n",
       "      <td>[0.6090408638577176, 0.6447623144762314, 0.597...</td>\n",
       "      <td>[0.6796613159287352, 0.7063702135168519, 0.645...</td>\n",
       "      <td>[0.16708092230486665, 0.2273464284655653, 0.17...</td>\n",
       "      <td>[0.7182093657156474, 0.7696379514981029, 0.607...</td>\n",
       "      <td></td>\n",
       "      <td>0.612815</td>\n",
       "      <td>0.676487</td>\n",
       "      <td>0.173298</td>\n",
       "      <td>0.712326</td>\n",
       "    </tr>\n",
       "    <tr>\n",
       "      <th>...</th>\n",
       "      <td>...</td>\n",
       "      <td>...</td>\n",
       "      <td>...</td>\n",
       "      <td>...</td>\n",
       "      <td>...</td>\n",
       "      <td>...</td>\n",
       "      <td>...</td>\n",
       "      <td>...</td>\n",
       "      <td>...</td>\n",
       "      <td>...</td>\n",
       "      <td>...</td>\n",
       "      <td>...</td>\n",
       "    </tr>\n",
       "    <tr>\n",
       "      <th>79</th>\n",
       "      <td>CRAID</td>\n",
       "      <td>{'criterion': 'logrank', 'cut': False, 'depth'...</td>\n",
       "      <td>4.016984</td>\n",
       "      <td>[0.5756404827440186, 0.6155624865562487, 0.556...</td>\n",
       "      <td>[0.6208325983418592, 0.6779601199929416, 0.590...</td>\n",
       "      <td>[0.18945818039915882, 0.2463214642080489, 0.19...</td>\n",
       "      <td>[0.6118906419058273, 0.71189924828201, 0.57438...</td>\n",
       "      <td>logrank</td>\n",
       "      <td>0.576348</td>\n",
       "      <td>0.623867</td>\n",
       "      <td>0.198063</td>\n",
       "      <td>0.644088</td>\n",
       "    </tr>\n",
       "    <tr>\n",
       "      <th>80</th>\n",
       "      <td>CRAID</td>\n",
       "      <td>{'criterion': 'logrank', 'cut': False, 'depth'...</td>\n",
       "      <td>4.215092</td>\n",
       "      <td>[0.5498623756087233, 0.6173370617337062, 0.569...</td>\n",
       "      <td>[0.5831716352090316, 0.6754896770778189, 0.607...</td>\n",
       "      <td>[0.19555943096254433, 0.24068414278838077, 0.1...</td>\n",
       "      <td>[0.5962510752964231, 0.7223121362332173, 0.581...</td>\n",
       "      <td>logrank</td>\n",
       "      <td>0.571959</td>\n",
       "      <td>0.620736</td>\n",
       "      <td>0.196656</td>\n",
       "      <td>0.646186</td>\n",
       "    </tr>\n",
       "    <tr>\n",
       "      <th>81</th>\n",
       "      <td>CRAID</td>\n",
       "      <td>{'criterion': 'logrank', 'cut': False, 'depth'...</td>\n",
       "      <td>3.200864</td>\n",
       "      <td>[0.5727291975439339, 0.6138416863841686, 0.556...</td>\n",
       "      <td>[0.6026636091021345, 0.6806070231162873, 0.583...</td>\n",
       "      <td>[0.1878597407606006, 0.23831781400105154, 0.18...</td>\n",
       "      <td>[0.6202272627702666, 0.7150829661660761, 0.560...</td>\n",
       "      <td>logrank</td>\n",
       "      <td>0.580211</td>\n",
       "      <td>0.628615</td>\n",
       "      <td>0.190684</td>\n",
       "      <td>0.653338</td>\n",
       "    </tr>\n",
       "    <tr>\n",
       "      <th>82</th>\n",
       "      <td>CRAID</td>\n",
       "      <td>{'criterion': 'logrank', 'cut': False, 'depth'...</td>\n",
       "      <td>3.468297</td>\n",
       "      <td>[0.5824687698496718, 0.6117982361798237, 0.557...</td>\n",
       "      <td>[0.6174810372199683, 0.6763719781189341, 0.598...</td>\n",
       "      <td>[0.18757068114544947, 0.23761569799768248, 0.1...</td>\n",
       "      <td>[0.6447499914534083, 0.7135567032578402, 0.572...</td>\n",
       "      <td>logrank</td>\n",
       "      <td>0.582509</td>\n",
       "      <td>0.628027</td>\n",
       "      <td>0.191603</td>\n",
       "      <td>0.654778</td>\n",
       "    </tr>\n",
       "    <tr>\n",
       "      <th>83</th>\n",
       "      <td>CRAID</td>\n",
       "      <td>{'criterion': 'logrank', 'cut': False, 'depth'...</td>\n",
       "      <td>3.686072</td>\n",
       "      <td>[0.5754287529112851, 0.6117982361798237, 0.557...</td>\n",
       "      <td>[0.6130710883753748, 0.6763719781189341, 0.599...</td>\n",
       "      <td>[0.1968530698283642, 0.23761569799768248, 0.18...</td>\n",
       "      <td>[0.6254936704664749, 0.7135567032578402, 0.581...</td>\n",
       "      <td>logrank</td>\n",
       "      <td>0.581090</td>\n",
       "      <td>0.633753</td>\n",
       "      <td>0.191592</td>\n",
       "      <td>0.656806</td>\n",
       "    </tr>\n",
       "  </tbody>\n",
       "</table>\n",
       "<p>84 rows × 12 columns</p>\n",
       "</div>"
      ],
      "text/plain": [
       "                   METHOD                                             PARAMS  \\\n",
       "0   CoxPHSurvivalAnalysis                  {'alpha': 100, 'ties': 'breslow'}   \n",
       "1   CoxPHSurvivalAnalysis                    {'alpha': 100, 'ties': 'efron'}   \n",
       "2   CoxPHSurvivalAnalysis                   {'alpha': 10, 'ties': 'breslow'}   \n",
       "3   CoxPHSurvivalAnalysis                     {'alpha': 10, 'ties': 'efron'}   \n",
       "4   CoxPHSurvivalAnalysis                    {'alpha': 1, 'ties': 'breslow'}   \n",
       "..                    ...                                                ...   \n",
       "79                  CRAID  {'criterion': 'logrank', 'cut': False, 'depth'...   \n",
       "80                  CRAID  {'criterion': 'logrank', 'cut': False, 'depth'...   \n",
       "81                  CRAID  {'criterion': 'logrank', 'cut': False, 'depth'...   \n",
       "82                  CRAID  {'criterion': 'logrank', 'cut': False, 'depth'...   \n",
       "83                  CRAID  {'criterion': 'logrank', 'cut': False, 'depth'...   \n",
       "\n",
       "        TIME                                                 CI  \\\n",
       "0    1.97557  [0.624920601312725, 0.6418584641858465, 0.5930...   \n",
       "1   1.501524  [0.624920601312725, 0.6414282641428264, 0.5930...   \n",
       "2   1.507942  [0.6130637306796528, 0.6445472144547214, 0.595...   \n",
       "3   1.490855  [0.6130637306796528, 0.6445472144547214, 0.595...   \n",
       "4   1.504699  [0.6090408638577176, 0.6447623144762314, 0.597...   \n",
       "..       ...                                                ...   \n",
       "79  4.016984  [0.5756404827440186, 0.6155624865562487, 0.556...   \n",
       "80  4.215092  [0.5498623756087233, 0.6173370617337062, 0.569...   \n",
       "81  3.200864  [0.5727291975439339, 0.6138416863841686, 0.556...   \n",
       "82  3.468297  [0.5824687698496718, 0.6117982361798237, 0.557...   \n",
       "83  3.686072  [0.5754287529112851, 0.6117982361798237, 0.557...   \n",
       "\n",
       "                                              CI_CENS  \\\n",
       "0   [0.6967719174457576, 0.7014293276866067, 0.636...   \n",
       "1   [0.6967719174457576, 0.7010764072701606, 0.636...   \n",
       "2   [0.6846004586346799, 0.7077818951826363, 0.643...   \n",
       "3   [0.6846004586346799, 0.7079583553908594, 0.643...   \n",
       "4   [0.6796613159287352, 0.7063702135168519, 0.645...   \n",
       "..                                                ...   \n",
       "79  [0.6208325983418592, 0.6779601199929416, 0.590...   \n",
       "80  [0.5831716352090316, 0.6754896770778189, 0.607...   \n",
       "81  [0.6026636091021345, 0.6806070231162873, 0.583...   \n",
       "82  [0.6174810372199683, 0.6763719781189341, 0.598...   \n",
       "83  [0.6130710883753748, 0.6763719781189341, 0.599...   \n",
       "\n",
       "                                                  IBS  \\\n",
       "0   [0.166706791183753, 0.2363090111355482, 0.1736...   \n",
       "1   [0.16670556768052996, 0.23631171306864446, 0.1...   \n",
       "2   [0.16648779092422508, 0.22910348451393922, 0.1...   \n",
       "3   [0.16648773373917708, 0.22910409708541143, 0.1...   \n",
       "4   [0.16708092230486665, 0.2273464284655653, 0.17...   \n",
       "..                                                ...   \n",
       "79  [0.18945818039915882, 0.2463214642080489, 0.19...   \n",
       "80  [0.19555943096254433, 0.24068414278838077, 0.1...   \n",
       "81  [0.1878597407606006, 0.23831781400105154, 0.18...   \n",
       "82  [0.18757068114544947, 0.23761569799768248, 0.1...   \n",
       "83  [0.1968530698283642, 0.23761569799768248, 0.18...   \n",
       "\n",
       "                                                 IAUC     CRIT   CI_mean  \\\n",
       "0   [0.7518174830769936, 0.7624115315442699, 0.593...           0.615439   \n",
       "1   [0.7518174830769936, 0.762268394505642, 0.5939...           0.615375   \n",
       "2   [0.7282996550518602, 0.7712366726049878, 0.603...           0.614245   \n",
       "3   [0.7282996550518602, 0.771370065776222, 0.6037...           0.614224   \n",
       "4   [0.7182093657156474, 0.7696379514981029, 0.607...           0.612815   \n",
       "..                                                ...      ...       ...   \n",
       "79  [0.6118906419058273, 0.71189924828201, 0.57438...  logrank  0.576348   \n",
       "80  [0.5962510752964231, 0.7223121362332173, 0.581...  logrank  0.571959   \n",
       "81  [0.6202272627702666, 0.7150829661660761, 0.560...  logrank  0.580211   \n",
       "82  [0.6447499914534083, 0.7135567032578402, 0.572...  logrank  0.582509   \n",
       "83  [0.6254936704664749, 0.7135567032578402, 0.581...  logrank  0.581090   \n",
       "\n",
       "    CI_CENS_mean  IBS_mean  IAUC_mean  \n",
       "0       0.679014  0.176276   0.715843  \n",
       "1       0.678983  0.176275   0.715842  \n",
       "2       0.678690  0.173669   0.714559  \n",
       "3       0.678684  0.173668   0.714570  \n",
       "4       0.676487  0.173298   0.712326  \n",
       "..           ...       ...        ...  \n",
       "79      0.623867  0.198063   0.644088  \n",
       "80      0.620736  0.196656   0.646186  \n",
       "81      0.628615  0.190684   0.653338  \n",
       "82      0.628027  0.191603   0.654778  \n",
       "83      0.633753  0.191592   0.656806  \n",
       "\n",
       "[84 rows x 12 columns]"
      ]
     },
     "execution_count": 14,
     "metadata": {},
     "output_type": "execute_result"
    }
   ],
   "source": [
    "def run(dataset=\"GBSG\", dir_path=None):\n",
    "    if dir_path is None:\n",
    "        dir_path = os.getcwd() + \"\\\\\"\n",
    "    lst_metrics = [\"CI\", \"CI_CENS\", \"IBS\", \"IAUC\"]\n",
    "    if not (dataset in DATASETS_LOAD):\n",
    "        print(\"DATASET %s IS NOT DEFINED\" % (dataset))\n",
    "    X, y, features, categ, sch_nan = DATASETS_LOAD[dataset]()\n",
    "    experim = exp.Experiments(folds=5, dataset_name=dataset)\n",
    "    experim.set_metrics(lst_metrics)\n",
    "    \n",
    "    experim.add_method(CoxPHSurvivalAnalysis, PARAMS[dataset][\"COX\"])\n",
    "    \n",
    "    experim.add_method(CRAID, PARAMS[dataset][\"TREE\"])\n",
    "    experim.run(X, y, dir_path=dir_path, verbose=1)\n",
    "    df_full = experim.get_result()\n",
    "    return df_full\n",
    "\n",
    "run(dataset=\"GBSG\", dir_path=None)"
   ]
  },
  {
   "cell_type": "code",
   "execution_count": null,
   "id": "a556a6f9",
   "metadata": {},
   "outputs": [],
   "source": []
  }
 ],
 "metadata": {
  "kernelspec": {
   "display_name": "Python 3 (ipykernel)",
   "language": "python",
   "name": "python3"
  },
  "language_info": {
   "codemirror_mode": {
    "name": "ipython",
    "version": 3
   },
   "file_extension": ".py",
   "mimetype": "text/x-python",
   "name": "python",
   "nbconvert_exporter": "python",
   "pygments_lexer": "ipython3",
   "version": "3.10.4"
  }
 },
 "nbformat": 4,
 "nbformat_minor": 5
}
