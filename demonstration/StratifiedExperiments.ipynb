{
 "cells": [
  {
   "cell_type": "code",
   "execution_count": 2,
   "id": "93ab9e56",
   "metadata": {},
   "outputs": [],
   "source": [
    "import numpy as np\n",
    "import pandas as pd\n",
    "import os\n",
    "\n",
    "from survivors.tree import CRAID\n",
    "from survivors.experiments import grid as exp\n",
    "from survivors import datasets as ds\n",
    "from survivors.tree.stratified_model import LeafModel, LeafOnlySurviveModel\n",
    "\n",
    "from sksurv.linear_model import CoxPHSurvivalAnalysis\n",
    "\n",
    "import matplotlib.pyplot as plt\n",
    "import seaborn as sns\n",
    "sns.set()"
   ]
  },
  {
   "cell_type": "code",
   "execution_count": 3,
   "id": "933ea664",
   "metadata": {},
   "outputs": [],
   "source": [
    "DATASETS_LOAD = {\n",
    "    \"GBSG\": ds.load_gbsg_dataset\n",
    "}"
   ]
  },
  {
   "cell_type": "code",
   "execution_count": 4,
   "id": "e7117d06",
   "metadata": {},
   "outputs": [],
   "source": [
    "GBSG_PARAMS = {\n",
    "    \"TREE\": {\n",
    "        \"depth\": [15],\n",
    "        \"criterion\": [\"logrank\"],\n",
    "        \"min_samples_leaf\": [10, 15, 20],\n",
    "        'cut': [True, False],\n",
    "        \"woe\": [False],\n",
    "        \"signif\": [0.05, 0.1, 0.15],\n",
    "        \"max_features\": [1.0],\n",
    "        \"leaf_model\": [LeafOnlySurviveModel]\n",
    "    },\n",
    "    \"COX\": {\n",
    "        \"alpha\": [100, 10, 1, 0.1, 0.01, 0.001],\n",
    "        \"ties\": [\"breslow\", \"efron\"]\n",
    "    },\n",
    "    \"OnlyKM\": {}\n",
    "}\n",
    "\n",
    "PARAMS = {\n",
    "    \"GBSG\": GBSG_PARAMS\n",
    "}"
   ]
  },
  {
   "cell_type": "code",
   "execution_count": 5,
   "id": "76e900d6",
   "metadata": {
    "scrolled": false
   },
   "outputs": [
    {
     "name": "stdout",
     "output_type": "stream",
     "text": [
      "<class 'sksurv.linear_model.coxph.CoxPHSurvivalAnalysis'> {'alpha': [100, 10, 1, 0.1, 0.01, 0.001], 'ties': ['breslow', 'efron']}\n"
     ]
    },
    {
     "name": "stderr",
     "output_type": "stream",
     "text": [
      "C:\\ProgramData\\Anaconda3\\envs\\survive\\lib\\site-packages\\survivors-1.4.4-py3.10.egg\\survivors\\metrics.py:191: RuntimeWarning: invalid value encountered in true_divide\n",
      "  true_pos = cumsum_tp / cumsum_tp[-1]\n",
      "C:\\ProgramData\\Anaconda3\\envs\\survive\\lib\\site-packages\\survivors-1.4.4-py3.10.egg\\survivors\\metrics.py:192: RuntimeWarning: invalid value encountered in true_divide\n",
      "  false_pos = cumsum_fp / n_controls\n",
      "C:\\ProgramData\\Anaconda3\\envs\\survive\\lib\\site-packages\\survivors-1.4.4-py3.10.egg\\survivors\\experiments\\grid.py:186: FutureWarning: The frame.append method is deprecated and will be removed from pandas in a future version. Use pandas.concat instead.\n",
      "  self.result_table = self.result_table.append(curr_dict, ignore_index=True)\n"
     ]
    },
    {
     "name": "stdout",
     "output_type": "stream",
     "text": [
      "EXECUTION TIME OF CoxPHSurvivalAnalysis: 1.9371042251586914 {'IBS': 0.17627597375372073, 'IAUC': 0.7158428167004255}\n"
     ]
    },
    {
     "name": "stderr",
     "output_type": "stream",
     "text": [
      "C:\\ProgramData\\Anaconda3\\envs\\survive\\lib\\site-packages\\survivors-1.4.4-py3.10.egg\\survivors\\experiments\\grid.py:186: FutureWarning: The frame.append method is deprecated and will be removed from pandas in a future version. Use pandas.concat instead.\n",
      "  self.result_table = self.result_table.append(curr_dict, ignore_index=True)\n"
     ]
    },
    {
     "name": "stdout",
     "output_type": "stream",
     "text": [
      "EXECUTION TIME OF CoxPHSurvivalAnalysis: 1.5404226779937744 {'IBS': 0.17627519853951296, 'IAUC': 0.7158424117065577}\n"
     ]
    },
    {
     "name": "stderr",
     "output_type": "stream",
     "text": [
      "C:\\ProgramData\\Anaconda3\\envs\\survive\\lib\\site-packages\\survivors-1.4.4-py3.10.egg\\survivors\\experiments\\grid.py:186: FutureWarning: The frame.append method is deprecated and will be removed from pandas in a future version. Use pandas.concat instead.\n",
      "  self.result_table = self.result_table.append(curr_dict, ignore_index=True)\n"
     ]
    },
    {
     "name": "stdout",
     "output_type": "stream",
     "text": [
      "EXECUTION TIME OF CoxPHSurvivalAnalysis: 1.5433170795440674 {'IBS': 0.17366900002658497, 'IAUC': 0.7145591624024381}\n"
     ]
    },
    {
     "name": "stderr",
     "output_type": "stream",
     "text": [
      "C:\\ProgramData\\Anaconda3\\envs\\survive\\lib\\site-packages\\survivors-1.4.4-py3.10.egg\\survivors\\experiments\\grid.py:186: FutureWarning: The frame.append method is deprecated and will be removed from pandas in a future version. Use pandas.concat instead.\n",
      "  self.result_table = self.result_table.append(curr_dict, ignore_index=True)\n"
     ]
    },
    {
     "name": "stdout",
     "output_type": "stream",
     "text": [
      "EXECUTION TIME OF CoxPHSurvivalAnalysis: 1.549124002456665 {'IBS': 0.17366782755517804, 'IAUC': 0.7145701240816478}\n"
     ]
    },
    {
     "name": "stderr",
     "output_type": "stream",
     "text": [
      "C:\\ProgramData\\Anaconda3\\envs\\survive\\lib\\site-packages\\survivors-1.4.4-py3.10.egg\\survivors\\experiments\\grid.py:186: FutureWarning: The frame.append method is deprecated and will be removed from pandas in a future version. Use pandas.concat instead.\n",
      "  self.result_table = self.result_table.append(curr_dict, ignore_index=True)\n"
     ]
    },
    {
     "name": "stdout",
     "output_type": "stream",
     "text": [
      "EXECUTION TIME OF CoxPHSurvivalAnalysis: 1.500079870223999 {'IBS': 0.17329799213013336, 'IAUC': 0.7123261669133749}\n"
     ]
    },
    {
     "name": "stderr",
     "output_type": "stream",
     "text": [
      "C:\\ProgramData\\Anaconda3\\envs\\survive\\lib\\site-packages\\survivors-1.4.4-py3.10.egg\\survivors\\experiments\\grid.py:186: FutureWarning: The frame.append method is deprecated and will be removed from pandas in a future version. Use pandas.concat instead.\n",
      "  self.result_table = self.result_table.append(curr_dict, ignore_index=True)\n"
     ]
    },
    {
     "name": "stdout",
     "output_type": "stream",
     "text": [
      "EXECUTION TIME OF CoxPHSurvivalAnalysis: 1.53737211227417 {'IBS': 0.17329692517257972, 'IAUC': 0.7123553520104211}\n"
     ]
    },
    {
     "name": "stderr",
     "output_type": "stream",
     "text": [
      "C:\\ProgramData\\Anaconda3\\envs\\survive\\lib\\site-packages\\survivors-1.4.4-py3.10.egg\\survivors\\experiments\\grid.py:186: FutureWarning: The frame.append method is deprecated and will be removed from pandas in a future version. Use pandas.concat instead.\n",
      "  self.result_table = self.result_table.append(curr_dict, ignore_index=True)\n"
     ]
    },
    {
     "name": "stdout",
     "output_type": "stream",
     "text": [
      "EXECUTION TIME OF CoxPHSurvivalAnalysis: 1.4945099353790283 {'IBS': 0.17326685755727236, 'IAUC': 0.7124209615978475}\n"
     ]
    },
    {
     "name": "stderr",
     "output_type": "stream",
     "text": [
      "C:\\ProgramData\\Anaconda3\\envs\\survive\\lib\\site-packages\\survivors-1.4.4-py3.10.egg\\survivors\\experiments\\grid.py:186: FutureWarning: The frame.append method is deprecated and will be removed from pandas in a future version. Use pandas.concat instead.\n",
      "  self.result_table = self.result_table.append(curr_dict, ignore_index=True)\n"
     ]
    },
    {
     "name": "stdout",
     "output_type": "stream",
     "text": [
      "EXECUTION TIME OF CoxPHSurvivalAnalysis: 1.5460608005523682 {'IBS': 0.17326581413032766, 'IAUC': 0.7124606471793337}\n"
     ]
    },
    {
     "name": "stderr",
     "output_type": "stream",
     "text": [
      "C:\\ProgramData\\Anaconda3\\envs\\survive\\lib\\site-packages\\survivors-1.4.4-py3.10.egg\\survivors\\experiments\\grid.py:186: FutureWarning: The frame.append method is deprecated and will be removed from pandas in a future version. Use pandas.concat instead.\n",
      "  self.result_table = self.result_table.append(curr_dict, ignore_index=True)\n"
     ]
    },
    {
     "name": "stdout",
     "output_type": "stream",
     "text": [
      "EXECUTION TIME OF CoxPHSurvivalAnalysis: 1.5258302688598633 {'IBS': 0.1732638646143368, 'IAUC': 0.7124552704453864}\n"
     ]
    },
    {
     "name": "stderr",
     "output_type": "stream",
     "text": [
      "C:\\ProgramData\\Anaconda3\\envs\\survive\\lib\\site-packages\\survivors-1.4.4-py3.10.egg\\survivors\\experiments\\grid.py:186: FutureWarning: The frame.append method is deprecated and will be removed from pandas in a future version. Use pandas.concat instead.\n",
      "  self.result_table = self.result_table.append(curr_dict, ignore_index=True)\n"
     ]
    },
    {
     "name": "stdout",
     "output_type": "stream",
     "text": [
      "EXECUTION TIME OF CoxPHSurvivalAnalysis: 1.541759729385376 {'IBS': 0.17326282374838947, 'IAUC': 0.7124608187913546}\n"
     ]
    },
    {
     "name": "stderr",
     "output_type": "stream",
     "text": [
      "C:\\ProgramData\\Anaconda3\\envs\\survive\\lib\\site-packages\\survivors-1.4.4-py3.10.egg\\survivors\\experiments\\grid.py:186: FutureWarning: The frame.append method is deprecated and will be removed from pandas in a future version. Use pandas.concat instead.\n",
      "  self.result_table = self.result_table.append(curr_dict, ignore_index=True)\n"
     ]
    },
    {
     "name": "stdout",
     "output_type": "stream",
     "text": [
      "EXECUTION TIME OF CoxPHSurvivalAnalysis: 1.5301487445831299 {'IBS': 0.17326356662257947, 'IAUC': 0.7124552704453864}\n"
     ]
    },
    {
     "name": "stderr",
     "output_type": "stream",
     "text": [
      "C:\\ProgramData\\Anaconda3\\envs\\survive\\lib\\site-packages\\survivors-1.4.4-py3.10.egg\\survivors\\experiments\\grid.py:186: FutureWarning: The frame.append method is deprecated and will be removed from pandas in a future version. Use pandas.concat instead.\n",
      "  self.result_table = self.result_table.append(curr_dict, ignore_index=True)\n"
     ]
    },
    {
     "name": "stdout",
     "output_type": "stream",
     "text": [
      "EXECUTION TIME OF CoxPHSurvivalAnalysis: 1.5685539245605469 {'IBS': 0.1732625260149306, 'IAUC': 0.7124608187913546}\n",
      "<class 'survivors.tree.stratified_model.LeafOnlySurviveModel'> {}\n"
     ]
    },
    {
     "name": "stderr",
     "output_type": "stream",
     "text": [
      "C:\\ProgramData\\Anaconda3\\envs\\survive\\lib\\site-packages\\survivors-1.4.4-py3.10.egg\\survivors\\experiments\\grid.py:186: FutureWarning: The frame.append method is deprecated and will be removed from pandas in a future version. Use pandas.concat instead.\n",
      "  self.result_table = self.result_table.append(curr_dict, ignore_index=True)\n"
     ]
    },
    {
     "name": "stdout",
     "output_type": "stream",
     "text": [
      "EXECUTION TIME OF LeafOnlySurviveModel: 0.9689803123474121 {'IBS': 0.2026394485772715, 'IAUC': 0.4903515333635816}\n",
      "<class 'survivors.tree.decision_tree.CRAID'> {'depth': [15], 'criterion': ['logrank'], 'min_samples_leaf': [10, 15, 20], 'cut': [True, False], 'woe': [False], 'signif': [0.05, 0.1, 0.15], 'max_features': [1.0], 'leaf_model': [<class 'survivors.tree.stratified_model.LeafOnlySurviveModel'>], 'categ': [['htreat', 'menostat', 'tumgrad']]}\n"
     ]
    },
    {
     "name": "stderr",
     "output_type": "stream",
     "text": [
      "C:\\ProgramData\\Anaconda3\\envs\\survive\\lib\\site-packages\\survivors-1.4.4-py3.10.egg\\survivors\\experiments\\grid.py:186: FutureWarning: The frame.append method is deprecated and will be removed from pandas in a future version. Use pandas.concat instead.\n",
      "  self.result_table = self.result_table.append(curr_dict, ignore_index=True)\n"
     ]
    },
    {
     "name": "stdout",
     "output_type": "stream",
     "text": [
      "EXECUTION TIME OF CRAID: 6.728844404220581 {'IBS': 0.19167666988232118, 'IAUC': 0.6601435740667887}\n"
     ]
    },
    {
     "name": "stderr",
     "output_type": "stream",
     "text": [
      "C:\\ProgramData\\Anaconda3\\envs\\survive\\lib\\site-packages\\survivors-1.4.4-py3.10.egg\\survivors\\experiments\\grid.py:186: FutureWarning: The frame.append method is deprecated and will be removed from pandas in a future version. Use pandas.concat instead.\n",
      "  self.result_table = self.result_table.append(curr_dict, ignore_index=True)\n"
     ]
    },
    {
     "name": "stdout",
     "output_type": "stream",
     "text": [
      "EXECUTION TIME OF CRAID: 5.349739074707031 {'IBS': 0.19879450024866227, 'IAUC': 0.6532644592198159}\n"
     ]
    },
    {
     "name": "stderr",
     "output_type": "stream",
     "text": [
      "C:\\ProgramData\\Anaconda3\\envs\\survive\\lib\\site-packages\\survivors-1.4.4-py3.10.egg\\survivors\\experiments\\grid.py:186: FutureWarning: The frame.append method is deprecated and will be removed from pandas in a future version. Use pandas.concat instead.\n",
      "  self.result_table = self.result_table.append(curr_dict, ignore_index=True)\n"
     ]
    },
    {
     "name": "stdout",
     "output_type": "stream",
     "text": [
      "EXECUTION TIME OF CRAID: 4.853820085525513 {'IBS': 0.20025459098723858, 'IAUC': 0.6492173328605403}\n"
     ]
    },
    {
     "name": "stderr",
     "output_type": "stream",
     "text": [
      "C:\\ProgramData\\Anaconda3\\envs\\survive\\lib\\site-packages\\survivors-1.4.4-py3.10.egg\\survivors\\experiments\\grid.py:186: FutureWarning: The frame.append method is deprecated and will be removed from pandas in a future version. Use pandas.concat instead.\n",
      "  self.result_table = self.result_table.append(curr_dict, ignore_index=True)\n"
     ]
    },
    {
     "name": "stdout",
     "output_type": "stream",
     "text": [
      "EXECUTION TIME OF CRAID: 2.559779167175293 {'IBS': 0.1887010291584047, 'IAUC': 0.6595388958581978}\n"
     ]
    },
    {
     "name": "stderr",
     "output_type": "stream",
     "text": [
      "C:\\ProgramData\\Anaconda3\\envs\\survive\\lib\\site-packages\\survivors-1.4.4-py3.10.egg\\survivors\\experiments\\grid.py:186: FutureWarning: The frame.append method is deprecated and will be removed from pandas in a future version. Use pandas.concat instead.\n",
      "  self.result_table = self.result_table.append(curr_dict, ignore_index=True)\n"
     ]
    },
    {
     "name": "stdout",
     "output_type": "stream",
     "text": [
      "EXECUTION TIME OF CRAID: 3.6855366230010986 {'IBS': 0.18937522950973779, 'IAUC': 0.6734886863749004}\n"
     ]
    },
    {
     "name": "stderr",
     "output_type": "stream",
     "text": [
      "C:\\ProgramData\\Anaconda3\\envs\\survive\\lib\\site-packages\\survivors-1.4.4-py3.10.egg\\survivors\\experiments\\grid.py:186: FutureWarning: The frame.append method is deprecated and will be removed from pandas in a future version. Use pandas.concat instead.\n",
      "  self.result_table = self.result_table.append(curr_dict, ignore_index=True)\n"
     ]
    },
    {
     "name": "stdout",
     "output_type": "stream",
     "text": [
      "EXECUTION TIME OF CRAID: 4.0783305168151855 {'IBS': 0.19225848401814774, 'IAUC': 0.6662321015271109}\n"
     ]
    },
    {
     "name": "stderr",
     "output_type": "stream",
     "text": [
      "C:\\ProgramData\\Anaconda3\\envs\\survive\\lib\\site-packages\\survivors-1.4.4-py3.10.egg\\survivors\\experiments\\grid.py:186: FutureWarning: The frame.append method is deprecated and will be removed from pandas in a future version. Use pandas.concat instead.\n",
      "  self.result_table = self.result_table.append(curr_dict, ignore_index=True)\n"
     ]
    },
    {
     "name": "stdout",
     "output_type": "stream",
     "text": [
      "EXECUTION TIME OF CRAID: 2.4271905422210693 {'IBS': 0.19078863861236922, 'IAUC': 0.658000798629904}\n"
     ]
    },
    {
     "name": "stderr",
     "output_type": "stream",
     "text": [
      "C:\\ProgramData\\Anaconda3\\envs\\survive\\lib\\site-packages\\survivors-1.4.4-py3.10.egg\\survivors\\experiments\\grid.py:186: FutureWarning: The frame.append method is deprecated and will be removed from pandas in a future version. Use pandas.concat instead.\n",
      "  self.result_table = self.result_table.append(curr_dict, ignore_index=True)\n"
     ]
    },
    {
     "name": "stdout",
     "output_type": "stream",
     "text": [
      "EXECUTION TIME OF CRAID: 3.0139827728271484 {'IBS': 0.18307114788985585, 'IAUC': 0.6754745376364732}\n"
     ]
    },
    {
     "name": "stderr",
     "output_type": "stream",
     "text": [
      "C:\\ProgramData\\Anaconda3\\envs\\survive\\lib\\site-packages\\survivors-1.4.4-py3.10.egg\\survivors\\experiments\\grid.py:186: FutureWarning: The frame.append method is deprecated and will be removed from pandas in a future version. Use pandas.concat instead.\n",
      "  self.result_table = self.result_table.append(curr_dict, ignore_index=True)\n"
     ]
    },
    {
     "name": "stdout",
     "output_type": "stream",
     "text": [
      "EXECUTION TIME OF CRAID: 3.1252403259277344 {'IBS': 0.18999553057139304, 'IAUC': 0.6601859429920163}\n"
     ]
    },
    {
     "name": "stderr",
     "output_type": "stream",
     "text": [
      "C:\\ProgramData\\Anaconda3\\envs\\survive\\lib\\site-packages\\survivors-1.4.4-py3.10.egg\\survivors\\experiments\\grid.py:186: FutureWarning: The frame.append method is deprecated and will be removed from pandas in a future version. Use pandas.concat instead.\n",
      "  self.result_table = self.result_table.append(curr_dict, ignore_index=True)\n"
     ]
    },
    {
     "name": "stdout",
     "output_type": "stream",
     "text": [
      "EXECUTION TIME OF CRAID: 2.8016884326934814 {'IBS': 0.1937585922085572, 'IAUC': 0.6589381618190415}\n"
     ]
    },
    {
     "name": "stderr",
     "output_type": "stream",
     "text": [
      "C:\\ProgramData\\Anaconda3\\envs\\survive\\lib\\site-packages\\survivors-1.4.4-py3.10.egg\\survivors\\experiments\\grid.py:186: FutureWarning: The frame.append method is deprecated and will be removed from pandas in a future version. Use pandas.concat instead.\n",
      "  self.result_table = self.result_table.append(curr_dict, ignore_index=True)\n"
     ]
    },
    {
     "name": "stdout",
     "output_type": "stream",
     "text": [
      "EXECUTION TIME OF CRAID: 3.1672780513763428 {'IBS': 0.20667515466916084, 'IAUC': 0.6397158197083366}\n"
     ]
    },
    {
     "name": "stderr",
     "output_type": "stream",
     "text": [
      "C:\\ProgramData\\Anaconda3\\envs\\survive\\lib\\site-packages\\survivors-1.4.4-py3.10.egg\\survivors\\experiments\\grid.py:186: FutureWarning: The frame.append method is deprecated and will be removed from pandas in a future version. Use pandas.concat instead.\n",
      "  self.result_table = self.result_table.append(curr_dict, ignore_index=True)\n"
     ]
    },
    {
     "name": "stdout",
     "output_type": "stream",
     "text": [
      "EXECUTION TIME OF CRAID: 3.7013304233551025 {'IBS': 0.20992874203416384, 'IAUC': 0.6365491666299459}\n"
     ]
    },
    {
     "name": "stderr",
     "output_type": "stream",
     "text": [
      "C:\\ProgramData\\Anaconda3\\envs\\survive\\lib\\site-packages\\survivors-1.4.4-py3.10.egg\\survivors\\experiments\\grid.py:186: FutureWarning: The frame.append method is deprecated and will be removed from pandas in a future version. Use pandas.concat instead.\n",
      "  self.result_table = self.result_table.append(curr_dict, ignore_index=True)\n"
     ]
    },
    {
     "name": "stdout",
     "output_type": "stream",
     "text": [
      "EXECUTION TIME OF CRAID: 2.6288821697235107 {'IBS': 0.18833757136544962, 'IAUC': 0.6838657851424381}\n"
     ]
    },
    {
     "name": "stderr",
     "output_type": "stream",
     "text": [
      "C:\\ProgramData\\Anaconda3\\envs\\survive\\lib\\site-packages\\survivors-1.4.4-py3.10.egg\\survivors\\experiments\\grid.py:186: FutureWarning: The frame.append method is deprecated and will be removed from pandas in a future version. Use pandas.concat instead.\n",
      "  self.result_table = self.result_table.append(curr_dict, ignore_index=True)\n"
     ]
    },
    {
     "name": "stdout",
     "output_type": "stream",
     "text": [
      "EXECUTION TIME OF CRAID: 2.7711658477783203 {'IBS': 0.19658216351378682, 'IAUC': 0.6593017748439214}\n"
     ]
    },
    {
     "name": "stderr",
     "output_type": "stream",
     "text": [
      "C:\\ProgramData\\Anaconda3\\envs\\survive\\lib\\site-packages\\survivors-1.4.4-py3.10.egg\\survivors\\experiments\\grid.py:186: FutureWarning: The frame.append method is deprecated and will be removed from pandas in a future version. Use pandas.concat instead.\n",
      "  self.result_table = self.result_table.append(curr_dict, ignore_index=True)\n"
     ]
    },
    {
     "name": "stdout",
     "output_type": "stream",
     "text": [
      "EXECUTION TIME OF CRAID: 3.0486574172973633 {'IBS': 0.1996087076462088, 'IAUC': 0.6574668395237951}\n"
     ]
    },
    {
     "name": "stderr",
     "output_type": "stream",
     "text": [
      "C:\\ProgramData\\Anaconda3\\envs\\survive\\lib\\site-packages\\survivors-1.4.4-py3.10.egg\\survivors\\experiments\\grid.py:186: FutureWarning: The frame.append method is deprecated and will be removed from pandas in a future version. Use pandas.concat instead.\n",
      "  self.result_table = self.result_table.append(curr_dict, ignore_index=True)\n"
     ]
    },
    {
     "name": "stdout",
     "output_type": "stream",
     "text": [
      "EXECUTION TIME OF CRAID: 2.3753907680511475 {'IBS': 0.18871094371301597, 'IAUC': 0.6686417640150418}\n"
     ]
    },
    {
     "name": "stderr",
     "output_type": "stream",
     "text": [
      "C:\\ProgramData\\Anaconda3\\envs\\survive\\lib\\site-packages\\survivors-1.4.4-py3.10.egg\\survivors\\experiments\\grid.py:186: FutureWarning: The frame.append method is deprecated and will be removed from pandas in a future version. Use pandas.concat instead.\n",
      "  self.result_table = self.result_table.append(curr_dict, ignore_index=True)\n"
     ]
    },
    {
     "name": "stdout",
     "output_type": "stream",
     "text": [
      "EXECUTION TIME OF CRAID: 2.64084792137146 {'IBS': 0.19437733564927212, 'IAUC': 0.6534136209265986}\n",
      "EXECUTION TIME OF CRAID: 2.7297873497009277 {'IBS': 0.19324974775176826, 'IAUC': 0.6636217537868727}\n"
     ]
    },
    {
     "name": "stderr",
     "output_type": "stream",
     "text": [
      "C:\\ProgramData\\Anaconda3\\envs\\survive\\lib\\site-packages\\survivors-1.4.4-py3.10.egg\\survivors\\experiments\\grid.py:186: FutureWarning: The frame.append method is deprecated and will be removed from pandas in a future version. Use pandas.concat instead.\n",
      "  self.result_table = self.result_table.append(curr_dict, ignore_index=True)\n"
     ]
    }
   ],
   "source": [
    "def run(dataset=\"GBSG\"):\n",
    "    lst_metrics = [\"IBS\", \"IAUC\"]\n",
    "    if not (dataset in DATASETS_LOAD):\n",
    "        print(\"DATASET %s IS NOT DEFINED\" % (dataset))\n",
    "    X, y, features, categ, sch_nan = DATASETS_LOAD[dataset]()\n",
    "    experim = exp.Experiments(folds=5, dataset_name=dataset)\n",
    "    experim.set_metrics(lst_metrics)\n",
    "    \n",
    "    experim.add_method(CoxPHSurvivalAnalysis, PARAMS[dataset][\"COX\"])\n",
    "    experim.add_method(LeafOnlySurviveModel, PARAMS[dataset][\"OnlyKM\"])\n",
    "    \n",
    "    PARAMS[dataset][\"TREE\"][\"categ\"] = [categ]\n",
    "    experim.add_method(CRAID, PARAMS[dataset][\"TREE\"])\n",
    "    experim.run(X, y, verbose=1)\n",
    "    df_full = experim.get_result()\n",
    "    return df_full\n",
    "\n",
    "df_result = run(dataset=\"GBSG\")"
   ]
  },
  {
   "cell_type": "code",
   "execution_count": 38,
   "id": "d06e8410",
   "metadata": {},
   "outputs": [
    {
     "data": {
      "text/html": [
       "<div>\n",
       "<style scoped>\n",
       "    .dataframe tbody tr th:only-of-type {\n",
       "        vertical-align: middle;\n",
       "    }\n",
       "\n",
       "    .dataframe tbody tr th {\n",
       "        vertical-align: top;\n",
       "    }\n",
       "\n",
       "    .dataframe thead th {\n",
       "        text-align: right;\n",
       "    }\n",
       "</style>\n",
       "<table border=\"1\" class=\"dataframe\">\n",
       "  <thead>\n",
       "    <tr style=\"text-align: right;\">\n",
       "      <th></th>\n",
       "      <th>METHOD</th>\n",
       "      <th>PARAMS</th>\n",
       "      <th>TIME</th>\n",
       "      <th>IBS</th>\n",
       "      <th>IAUC</th>\n",
       "      <th>CRIT</th>\n",
       "      <th>IBS_mean</th>\n",
       "      <th>IAUC_mean</th>\n",
       "    </tr>\n",
       "  </thead>\n",
       "  <tbody>\n",
       "    <tr>\n",
       "      <th>0</th>\n",
       "      <td>CoxPHSurvivalAnalysis</td>\n",
       "      <td>{'alpha': 100, 'ties': 'breslow'}</td>\n",
       "      <td>1.473728</td>\n",
       "      <td>[0.166706791183753, 0.2363090111355482, 0.1736...</td>\n",
       "      <td>[0.7518174830769936, 0.7624115315442699, 0.593...</td>\n",
       "      <td></td>\n",
       "      <td>0.176276</td>\n",
       "      <td>0.715843</td>\n",
       "    </tr>\n",
       "    <tr>\n",
       "      <th>1</th>\n",
       "      <td>CoxPHSurvivalAnalysis</td>\n",
       "      <td>{'alpha': 100, 'ties': 'efron'}</td>\n",
       "      <td>1.500647</td>\n",
       "      <td>[0.16670556768052996, 0.23631171306864446, 0.1...</td>\n",
       "      <td>[0.7518174830769936, 0.762268394505642, 0.5939...</td>\n",
       "      <td></td>\n",
       "      <td>0.176275</td>\n",
       "      <td>0.715842</td>\n",
       "    </tr>\n",
       "    <tr>\n",
       "      <th>2</th>\n",
       "      <td>CoxPHSurvivalAnalysis</td>\n",
       "      <td>{'alpha': 10, 'ties': 'breslow'}</td>\n",
       "      <td>1.513359</td>\n",
       "      <td>[0.16648779092422508, 0.22910348451393922, 0.1...</td>\n",
       "      <td>[0.7282996550518602, 0.7712366726049878, 0.603...</td>\n",
       "      <td></td>\n",
       "      <td>0.173669</td>\n",
       "      <td>0.714559</td>\n",
       "    </tr>\n",
       "    <tr>\n",
       "      <th>3</th>\n",
       "      <td>CoxPHSurvivalAnalysis</td>\n",
       "      <td>{'alpha': 10, 'ties': 'efron'}</td>\n",
       "      <td>1.549696</td>\n",
       "      <td>[0.16648773373917708, 0.22910409708541143, 0.1...</td>\n",
       "      <td>[0.7282996550518602, 0.771370065776222, 0.6037...</td>\n",
       "      <td></td>\n",
       "      <td>0.173668</td>\n",
       "      <td>0.714570</td>\n",
       "    </tr>\n",
       "    <tr>\n",
       "      <th>4</th>\n",
       "      <td>CoxPHSurvivalAnalysis</td>\n",
       "      <td>{'alpha': 1, 'ties': 'breslow'}</td>\n",
       "      <td>1.759854</td>\n",
       "      <td>[0.16708092230486665, 0.2273464284655653, 0.17...</td>\n",
       "      <td>[0.7182093657156474, 0.7696379514981029, 0.607...</td>\n",
       "      <td></td>\n",
       "      <td>0.173298</td>\n",
       "      <td>0.712326</td>\n",
       "    </tr>\n",
       "    <tr>\n",
       "      <th>5</th>\n",
       "      <td>CoxPHSurvivalAnalysis</td>\n",
       "      <td>{'alpha': 1, 'ties': 'efron'}</td>\n",
       "      <td>1.609581</td>\n",
       "      <td>[0.16708159995432809, 0.22734677282734164, 0.1...</td>\n",
       "      <td>[0.7183429238503086, 0.7696379514981029, 0.607...</td>\n",
       "      <td></td>\n",
       "      <td>0.173297</td>\n",
       "      <td>0.712355</td>\n",
       "    </tr>\n",
       "    <tr>\n",
       "      <th>6</th>\n",
       "      <td>CoxPHSurvivalAnalysis</td>\n",
       "      <td>{'alpha': 0.1, 'ties': 'breslow'}</td>\n",
       "      <td>1.468943</td>\n",
       "      <td>[0.1671817246974266, 0.22714241822671402, 0.17...</td>\n",
       "      <td>[0.7178751090907264, 0.7698329414756925, 0.608...</td>\n",
       "      <td></td>\n",
       "      <td>0.173267</td>\n",
       "      <td>0.712421</td>\n",
       "    </tr>\n",
       "    <tr>\n",
       "      <th>7</th>\n",
       "      <td>CoxPHSurvivalAnalysis</td>\n",
       "      <td>{'alpha': 0.1, 'ties': 'efron'}</td>\n",
       "      <td>1.500174</td>\n",
       "      <td>[0.16718251174183427, 0.2271427432997731, 0.17...</td>\n",
       "      <td>[0.7178751090907264, 0.7698329414756925, 0.608...</td>\n",
       "      <td></td>\n",
       "      <td>0.173266</td>\n",
       "      <td>0.712461</td>\n",
       "    </tr>\n",
       "    <tr>\n",
       "      <th>8</th>\n",
       "      <td>CoxPHSurvivalAnalysis</td>\n",
       "      <td>{'alpha': 0.01, 'ties': 'breslow'}</td>\n",
       "      <td>1.484223</td>\n",
       "      <td>[0.16719242635742768, 0.2271216828946212, 0.17...</td>\n",
       "      <td>[0.7177342760420453, 0.7698329414756925, 0.608...</td>\n",
       "      <td></td>\n",
       "      <td>0.173264</td>\n",
       "      <td>0.712455</td>\n",
       "    </tr>\n",
       "    <tr>\n",
       "      <th>9</th>\n",
       "      <td>CoxPHSurvivalAnalysis</td>\n",
       "      <td>{'alpha': 0.01, 'ties': 'efron'}</td>\n",
       "      <td>1.509401</td>\n",
       "      <td>[0.16719322486066115, 0.22712200618597866, 0.1...</td>\n",
       "      <td>[0.7177342760420453, 0.7698606832055334, 0.608...</td>\n",
       "      <td></td>\n",
       "      <td>0.173263</td>\n",
       "      <td>0.712461</td>\n",
       "    </tr>\n",
       "    <tr>\n",
       "      <th>10</th>\n",
       "      <td>CoxPHSurvivalAnalysis</td>\n",
       "      <td>{'alpha': 0.001, 'ties': 'breslow'}</td>\n",
       "      <td>1.531425</td>\n",
       "      <td>[0.16719350304067135, 0.22711960595951897, 0.1...</td>\n",
       "      <td>[0.7177342760420453, 0.7698329414756925, 0.608...</td>\n",
       "      <td></td>\n",
       "      <td>0.173264</td>\n",
       "      <td>0.712455</td>\n",
       "    </tr>\n",
       "    <tr>\n",
       "      <th>11</th>\n",
       "      <td>CoxPHSurvivalAnalysis</td>\n",
       "      <td>{'alpha': 0.001, 'ties': 'efron'}</td>\n",
       "      <td>1.562366</td>\n",
       "      <td>[0.1671943026952066, 0.2271199290742944, 0.170...</td>\n",
       "      <td>[0.7177342760420453, 0.7698606832055334, 0.608...</td>\n",
       "      <td></td>\n",
       "      <td>0.173263</td>\n",
       "      <td>0.712461</td>\n",
       "    </tr>\n",
       "    <tr>\n",
       "      <th>12</th>\n",
       "      <td>LeafOnlySurviveModel</td>\n",
       "      <td>{}</td>\n",
       "      <td>0.937642</td>\n",
       "      <td>[0.1960263378525828, 0.2741755417117006, 0.191...</td>\n",
       "      <td>[0.5, 0.5, 0.45175766681790797, 0.5, 0.5]</td>\n",
       "      <td></td>\n",
       "      <td>0.202639</td>\n",
       "      <td>0.490352</td>\n",
       "    </tr>\n",
       "    <tr>\n",
       "      <th>13</th>\n",
       "      <td>CRAID</td>\n",
       "      <td>{'categ': ['htreat', 'menostat', 'tumgrad'], '...</td>\n",
       "      <td>6.244807</td>\n",
       "      <td>[0.15939954421586786, 0.2505155970468969, 0.21...</td>\n",
       "      <td>[0.7551909224296649, 0.7253384011046344, 0.509...</td>\n",
       "      <td>logrank</td>\n",
       "      <td>0.191677</td>\n",
       "      <td>0.660144</td>\n",
       "    </tr>\n",
       "    <tr>\n",
       "      <th>14</th>\n",
       "      <td>CRAID</td>\n",
       "      <td>{'categ': ['htreat', 'menostat', 'tumgrad'], '...</td>\n",
       "      <td>5.291891</td>\n",
       "      <td>[0.18839621092236172, 0.2736311487585313, 0.20...</td>\n",
       "      <td>[0.6779898688821825, 0.7062093219912841, 0.559...</td>\n",
       "      <td>logrank</td>\n",
       "      <td>0.198795</td>\n",
       "      <td>0.653264</td>\n",
       "    </tr>\n",
       "    <tr>\n",
       "      <th>15</th>\n",
       "      <td>CRAID</td>\n",
       "      <td>{'categ': ['htreat', 'menostat', 'tumgrad'], '...</td>\n",
       "      <td>4.719928</td>\n",
       "      <td>[0.16594562643261596, 0.2740227515981243, 0.21...</td>\n",
       "      <td>[0.7373657411278516, 0.7091969665516588, 0.505...</td>\n",
       "      <td>logrank</td>\n",
       "      <td>0.200255</td>\n",
       "      <td>0.649217</td>\n",
       "    </tr>\n",
       "    <tr>\n",
       "      <th>16</th>\n",
       "      <td>CRAID</td>\n",
       "      <td>{'categ': ['htreat', 'menostat', 'tumgrad'], '...</td>\n",
       "      <td>2.547161</td>\n",
       "      <td>[0.1640833065075432, 0.2439910683789888, 0.202...</td>\n",
       "      <td>[0.7422575559924348, 0.7181523030087502, 0.526...</td>\n",
       "      <td>logrank</td>\n",
       "      <td>0.188701</td>\n",
       "      <td>0.659539</td>\n",
       "    </tr>\n",
       "    <tr>\n",
       "      <th>17</th>\n",
       "      <td>CRAID</td>\n",
       "      <td>{'categ': ['htreat', 'menostat', 'tumgrad'], '...</td>\n",
       "      <td>3.610774</td>\n",
       "      <td>[0.1665278891084179, 0.2652845850779034, 0.182...</td>\n",
       "      <td>[0.7495608733205952, 0.7038130907528429, 0.592...</td>\n",
       "      <td>logrank</td>\n",
       "      <td>0.189375</td>\n",
       "      <td>0.673489</td>\n",
       "    </tr>\n",
       "    <tr>\n",
       "      <th>18</th>\n",
       "      <td>CRAID</td>\n",
       "      <td>{'categ': ['htreat', 'menostat', 'tumgrad'], '...</td>\n",
       "      <td>4.070395</td>\n",
       "      <td>[0.17109020664137595, 0.2652845850779034, 0.18...</td>\n",
       "      <td>[0.7326858206043296, 0.7038130907528429, 0.592...</td>\n",
       "      <td>logrank</td>\n",
       "      <td>0.192258</td>\n",
       "      <td>0.666232</td>\n",
       "    </tr>\n",
       "    <tr>\n",
       "      <th>19</th>\n",
       "      <td>CRAID</td>\n",
       "      <td>{'categ': ['htreat', 'menostat', 'tumgrad'], '...</td>\n",
       "      <td>2.390921</td>\n",
       "      <td>[0.16682298455538236, 0.25319514145892225, 0.2...</td>\n",
       "      <td>[0.731118829195557, 0.7018245626369158, 0.5269...</td>\n",
       "      <td>logrank</td>\n",
       "      <td>0.190789</td>\n",
       "      <td>0.658001</td>\n",
       "    </tr>\n",
       "    <tr>\n",
       "      <th>20</th>\n",
       "      <td>CRAID</td>\n",
       "      <td>{'categ': ['htreat', 'menostat', 'tumgrad'], '...</td>\n",
       "      <td>2.906604</td>\n",
       "      <td>[0.15878646207362687, 0.23716553187895384, 0.1...</td>\n",
       "      <td>[0.7422912296247158, 0.718501434234323, 0.5924...</td>\n",
       "      <td>logrank</td>\n",
       "      <td>0.183071</td>\n",
       "      <td>0.675475</td>\n",
       "    </tr>\n",
       "    <tr>\n",
       "      <th>21</th>\n",
       "      <td>CRAID</td>\n",
       "      <td>{'categ': ['htreat', 'menostat', 'tumgrad'], '...</td>\n",
       "      <td>3.111932</td>\n",
       "      <td>[0.15878646207362687, 0.2505047208345005, 0.20...</td>\n",
       "      <td>[0.7422912296247158, 0.6999971472599059, 0.543...</td>\n",
       "      <td>logrank</td>\n",
       "      <td>0.189996</td>\n",
       "      <td>0.660186</td>\n",
       "    </tr>\n",
       "    <tr>\n",
       "      <th>22</th>\n",
       "      <td>CRAID</td>\n",
       "      <td>{'categ': ['htreat', 'menostat', 'tumgrad'], '...</td>\n",
       "      <td>2.828453</td>\n",
       "      <td>[0.18612603890464222, 0.24524104093666171, 0.1...</td>\n",
       "      <td>[0.6758255708566164, 0.6859765970810807, 0.593...</td>\n",
       "      <td>logrank</td>\n",
       "      <td>0.193759</td>\n",
       "      <td>0.658938</td>\n",
       "    </tr>\n",
       "    <tr>\n",
       "      <th>23</th>\n",
       "      <td>CRAID</td>\n",
       "      <td>{'categ': ['htreat', 'menostat', 'tumgrad'], '...</td>\n",
       "      <td>3.219116</td>\n",
       "      <td>[0.21195600938341372, 0.2637804485985266, 0.18...</td>\n",
       "      <td>[0.6299862500084809, 0.6727830658757691, 0.589...</td>\n",
       "      <td>logrank</td>\n",
       "      <td>0.206675</td>\n",
       "      <td>0.639716</td>\n",
       "    </tr>\n",
       "    <tr>\n",
       "      <th>24</th>\n",
       "      <td>CRAID</td>\n",
       "      <td>{'categ': ['htreat', 'menostat', 'tumgrad'], '...</td>\n",
       "      <td>3.751234</td>\n",
       "      <td>[0.1974979144114845, 0.27944022560088955, 0.19...</td>\n",
       "      <td>[0.6248064797102069, 0.6533975644942795, 0.585...</td>\n",
       "      <td>logrank</td>\n",
       "      <td>0.209929</td>\n",
       "      <td>0.636549</td>\n",
       "    </tr>\n",
       "    <tr>\n",
       "      <th>25</th>\n",
       "      <td>CRAID</td>\n",
       "      <td>{'categ': ['htreat', 'menostat', 'tumgrad'], '...</td>\n",
       "      <td>2.594797</td>\n",
       "      <td>[0.18269122330628887, 0.2383066451729124, 0.18...</td>\n",
       "      <td>[0.6982507882749921, 0.7226543270195733, 0.590...</td>\n",
       "      <td>logrank</td>\n",
       "      <td>0.188338</td>\n",
       "      <td>0.683866</td>\n",
       "    </tr>\n",
       "    <tr>\n",
       "      <th>26</th>\n",
       "      <td>CRAID</td>\n",
       "      <td>{'categ': ['htreat', 'menostat', 'tumgrad'], '...</td>\n",
       "      <td>2.750303</td>\n",
       "      <td>[0.19278848901130843, 0.2383066451729124, 0.19...</td>\n",
       "      <td>[0.6729051006103797, 0.7226543270195733, 0.573...</td>\n",
       "      <td>logrank</td>\n",
       "      <td>0.196582</td>\n",
       "      <td>0.659302</td>\n",
       "    </tr>\n",
       "    <tr>\n",
       "      <th>27</th>\n",
       "      <td>CRAID</td>\n",
       "      <td>{'categ': ['htreat', 'menostat', 'tumgrad'], '...</td>\n",
       "      <td>3.047208</td>\n",
       "      <td>[0.19718924586162379, 0.2523962623226542, 0.19...</td>\n",
       "      <td>[0.679065222047508, 0.699831366403044, 0.58145...</td>\n",
       "      <td>logrank</td>\n",
       "      <td>0.199609</td>\n",
       "      <td>0.657467</td>\n",
       "    </tr>\n",
       "    <tr>\n",
       "      <th>28</th>\n",
       "      <td>CRAID</td>\n",
       "      <td>{'categ': ['htreat', 'menostat', 'tumgrad'], '...</td>\n",
       "      <td>2.375249</td>\n",
       "      <td>[0.1736431909461982, 0.2421648514409139, 0.188...</td>\n",
       "      <td>[0.6934801224431024, 0.7145210643106995, 0.561...</td>\n",
       "      <td>logrank</td>\n",
       "      <td>0.188711</td>\n",
       "      <td>0.668642</td>\n",
       "    </tr>\n",
       "    <tr>\n",
       "      <th>29</th>\n",
       "      <td>CRAID</td>\n",
       "      <td>{'categ': ['htreat', 'menostat', 'tumgrad'], '...</td>\n",
       "      <td>2.656651</td>\n",
       "      <td>[0.19530617488166713, 0.24146273543754485, 0.1...</td>\n",
       "      <td>[0.6389611063932273, 0.7130407697693976, 0.572...</td>\n",
       "      <td>logrank</td>\n",
       "      <td>0.194377</td>\n",
       "      <td>0.653414</td>\n",
       "    </tr>\n",
       "    <tr>\n",
       "      <th>30</th>\n",
       "      <td>CRAID</td>\n",
       "      <td>{'categ': ['htreat', 'menostat', 'tumgrad'], '...</td>\n",
       "      <td>2.73467</td>\n",
       "      <td>[0.19684175350858427, 0.24146273543754485, 0.1...</td>\n",
       "      <td>[0.6634619750545873, 0.7130407697693976, 0.581...</td>\n",
       "      <td>logrank</td>\n",
       "      <td>0.193250</td>\n",
       "      <td>0.663622</td>\n",
       "    </tr>\n",
       "  </tbody>\n",
       "</table>\n",
       "</div>"
      ],
      "text/plain": [
       "                   METHOD                                             PARAMS  \\\n",
       "0   CoxPHSurvivalAnalysis                  {'alpha': 100, 'ties': 'breslow'}   \n",
       "1   CoxPHSurvivalAnalysis                    {'alpha': 100, 'ties': 'efron'}   \n",
       "2   CoxPHSurvivalAnalysis                   {'alpha': 10, 'ties': 'breslow'}   \n",
       "3   CoxPHSurvivalAnalysis                     {'alpha': 10, 'ties': 'efron'}   \n",
       "4   CoxPHSurvivalAnalysis                    {'alpha': 1, 'ties': 'breslow'}   \n",
       "5   CoxPHSurvivalAnalysis                      {'alpha': 1, 'ties': 'efron'}   \n",
       "6   CoxPHSurvivalAnalysis                  {'alpha': 0.1, 'ties': 'breslow'}   \n",
       "7   CoxPHSurvivalAnalysis                    {'alpha': 0.1, 'ties': 'efron'}   \n",
       "8   CoxPHSurvivalAnalysis                 {'alpha': 0.01, 'ties': 'breslow'}   \n",
       "9   CoxPHSurvivalAnalysis                   {'alpha': 0.01, 'ties': 'efron'}   \n",
       "10  CoxPHSurvivalAnalysis                {'alpha': 0.001, 'ties': 'breslow'}   \n",
       "11  CoxPHSurvivalAnalysis                  {'alpha': 0.001, 'ties': 'efron'}   \n",
       "12   LeafOnlySurviveModel                                                 {}   \n",
       "13                  CRAID  {'categ': ['htreat', 'menostat', 'tumgrad'], '...   \n",
       "14                  CRAID  {'categ': ['htreat', 'menostat', 'tumgrad'], '...   \n",
       "15                  CRAID  {'categ': ['htreat', 'menostat', 'tumgrad'], '...   \n",
       "16                  CRAID  {'categ': ['htreat', 'menostat', 'tumgrad'], '...   \n",
       "17                  CRAID  {'categ': ['htreat', 'menostat', 'tumgrad'], '...   \n",
       "18                  CRAID  {'categ': ['htreat', 'menostat', 'tumgrad'], '...   \n",
       "19                  CRAID  {'categ': ['htreat', 'menostat', 'tumgrad'], '...   \n",
       "20                  CRAID  {'categ': ['htreat', 'menostat', 'tumgrad'], '...   \n",
       "21                  CRAID  {'categ': ['htreat', 'menostat', 'tumgrad'], '...   \n",
       "22                  CRAID  {'categ': ['htreat', 'menostat', 'tumgrad'], '...   \n",
       "23                  CRAID  {'categ': ['htreat', 'menostat', 'tumgrad'], '...   \n",
       "24                  CRAID  {'categ': ['htreat', 'menostat', 'tumgrad'], '...   \n",
       "25                  CRAID  {'categ': ['htreat', 'menostat', 'tumgrad'], '...   \n",
       "26                  CRAID  {'categ': ['htreat', 'menostat', 'tumgrad'], '...   \n",
       "27                  CRAID  {'categ': ['htreat', 'menostat', 'tumgrad'], '...   \n",
       "28                  CRAID  {'categ': ['htreat', 'menostat', 'tumgrad'], '...   \n",
       "29                  CRAID  {'categ': ['htreat', 'menostat', 'tumgrad'], '...   \n",
       "30                  CRAID  {'categ': ['htreat', 'menostat', 'tumgrad'], '...   \n",
       "\n",
       "        TIME                                                IBS  \\\n",
       "0   1.473728  [0.166706791183753, 0.2363090111355482, 0.1736...   \n",
       "1   1.500647  [0.16670556768052996, 0.23631171306864446, 0.1...   \n",
       "2   1.513359  [0.16648779092422508, 0.22910348451393922, 0.1...   \n",
       "3   1.549696  [0.16648773373917708, 0.22910409708541143, 0.1...   \n",
       "4   1.759854  [0.16708092230486665, 0.2273464284655653, 0.17...   \n",
       "5   1.609581  [0.16708159995432809, 0.22734677282734164, 0.1...   \n",
       "6   1.468943  [0.1671817246974266, 0.22714241822671402, 0.17...   \n",
       "7   1.500174  [0.16718251174183427, 0.2271427432997731, 0.17...   \n",
       "8   1.484223  [0.16719242635742768, 0.2271216828946212, 0.17...   \n",
       "9   1.509401  [0.16719322486066115, 0.22712200618597866, 0.1...   \n",
       "10  1.531425  [0.16719350304067135, 0.22711960595951897, 0.1...   \n",
       "11  1.562366  [0.1671943026952066, 0.2271199290742944, 0.170...   \n",
       "12  0.937642  [0.1960263378525828, 0.2741755417117006, 0.191...   \n",
       "13  6.244807  [0.15939954421586786, 0.2505155970468969, 0.21...   \n",
       "14  5.291891  [0.18839621092236172, 0.2736311487585313, 0.20...   \n",
       "15  4.719928  [0.16594562643261596, 0.2740227515981243, 0.21...   \n",
       "16  2.547161  [0.1640833065075432, 0.2439910683789888, 0.202...   \n",
       "17  3.610774  [0.1665278891084179, 0.2652845850779034, 0.182...   \n",
       "18  4.070395  [0.17109020664137595, 0.2652845850779034, 0.18...   \n",
       "19  2.390921  [0.16682298455538236, 0.25319514145892225, 0.2...   \n",
       "20  2.906604  [0.15878646207362687, 0.23716553187895384, 0.1...   \n",
       "21  3.111932  [0.15878646207362687, 0.2505047208345005, 0.20...   \n",
       "22  2.828453  [0.18612603890464222, 0.24524104093666171, 0.1...   \n",
       "23  3.219116  [0.21195600938341372, 0.2637804485985266, 0.18...   \n",
       "24  3.751234  [0.1974979144114845, 0.27944022560088955, 0.19...   \n",
       "25  2.594797  [0.18269122330628887, 0.2383066451729124, 0.18...   \n",
       "26  2.750303  [0.19278848901130843, 0.2383066451729124, 0.19...   \n",
       "27  3.047208  [0.19718924586162379, 0.2523962623226542, 0.19...   \n",
       "28  2.375249  [0.1736431909461982, 0.2421648514409139, 0.188...   \n",
       "29  2.656651  [0.19530617488166713, 0.24146273543754485, 0.1...   \n",
       "30   2.73467  [0.19684175350858427, 0.24146273543754485, 0.1...   \n",
       "\n",
       "                                                 IAUC     CRIT  IBS_mean  \\\n",
       "0   [0.7518174830769936, 0.7624115315442699, 0.593...           0.176276   \n",
       "1   [0.7518174830769936, 0.762268394505642, 0.5939...           0.176275   \n",
       "2   [0.7282996550518602, 0.7712366726049878, 0.603...           0.173669   \n",
       "3   [0.7282996550518602, 0.771370065776222, 0.6037...           0.173668   \n",
       "4   [0.7182093657156474, 0.7696379514981029, 0.607...           0.173298   \n",
       "5   [0.7183429238503086, 0.7696379514981029, 0.607...           0.173297   \n",
       "6   [0.7178751090907264, 0.7698329414756925, 0.608...           0.173267   \n",
       "7   [0.7178751090907264, 0.7698329414756925, 0.608...           0.173266   \n",
       "8   [0.7177342760420453, 0.7698329414756925, 0.608...           0.173264   \n",
       "9   [0.7177342760420453, 0.7698606832055334, 0.608...           0.173263   \n",
       "10  [0.7177342760420453, 0.7698329414756925, 0.608...           0.173264   \n",
       "11  [0.7177342760420453, 0.7698606832055334, 0.608...           0.173263   \n",
       "12          [0.5, 0.5, 0.45175766681790797, 0.5, 0.5]           0.202639   \n",
       "13  [0.7551909224296649, 0.7253384011046344, 0.509...  logrank  0.191677   \n",
       "14  [0.6779898688821825, 0.7062093219912841, 0.559...  logrank  0.198795   \n",
       "15  [0.7373657411278516, 0.7091969665516588, 0.505...  logrank  0.200255   \n",
       "16  [0.7422575559924348, 0.7181523030087502, 0.526...  logrank  0.188701   \n",
       "17  [0.7495608733205952, 0.7038130907528429, 0.592...  logrank  0.189375   \n",
       "18  [0.7326858206043296, 0.7038130907528429, 0.592...  logrank  0.192258   \n",
       "19  [0.731118829195557, 0.7018245626369158, 0.5269...  logrank  0.190789   \n",
       "20  [0.7422912296247158, 0.718501434234323, 0.5924...  logrank  0.183071   \n",
       "21  [0.7422912296247158, 0.6999971472599059, 0.543...  logrank  0.189996   \n",
       "22  [0.6758255708566164, 0.6859765970810807, 0.593...  logrank  0.193759   \n",
       "23  [0.6299862500084809, 0.6727830658757691, 0.589...  logrank  0.206675   \n",
       "24  [0.6248064797102069, 0.6533975644942795, 0.585...  logrank  0.209929   \n",
       "25  [0.6982507882749921, 0.7226543270195733, 0.590...  logrank  0.188338   \n",
       "26  [0.6729051006103797, 0.7226543270195733, 0.573...  logrank  0.196582   \n",
       "27  [0.679065222047508, 0.699831366403044, 0.58145...  logrank  0.199609   \n",
       "28  [0.6934801224431024, 0.7145210643106995, 0.561...  logrank  0.188711   \n",
       "29  [0.6389611063932273, 0.7130407697693976, 0.572...  logrank  0.194377   \n",
       "30  [0.6634619750545873, 0.7130407697693976, 0.581...  logrank  0.193250   \n",
       "\n",
       "    IAUC_mean  \n",
       "0    0.715843  \n",
       "1    0.715842  \n",
       "2    0.714559  \n",
       "3    0.714570  \n",
       "4    0.712326  \n",
       "5    0.712355  \n",
       "6    0.712421  \n",
       "7    0.712461  \n",
       "8    0.712455  \n",
       "9    0.712461  \n",
       "10   0.712455  \n",
       "11   0.712461  \n",
       "12   0.490352  \n",
       "13   0.660144  \n",
       "14   0.653264  \n",
       "15   0.649217  \n",
       "16   0.659539  \n",
       "17   0.673489  \n",
       "18   0.666232  \n",
       "19   0.658001  \n",
       "20   0.675475  \n",
       "21   0.660186  \n",
       "22   0.658938  \n",
       "23   0.639716  \n",
       "24   0.636549  \n",
       "25   0.683866  \n",
       "26   0.659302  \n",
       "27   0.657467  \n",
       "28   0.668642  \n",
       "29   0.653414  \n",
       "30   0.663622  "
      ]
     },
     "execution_count": 38,
     "metadata": {},
     "output_type": "execute_result"
    }
   ],
   "source": [
    "df_result"
   ]
  },
  {
   "cell_type": "code",
   "execution_count": null,
   "id": "bbcefa2d",
   "metadata": {},
   "outputs": [],
   "source": []
  }
 ],
 "metadata": {
  "kernelspec": {
   "display_name": "Python 3 (ipykernel)",
   "language": "python",
   "name": "python3"
  },
  "language_info": {
   "codemirror_mode": {
    "name": "ipython",
    "version": 3
   },
   "file_extension": ".py",
   "mimetype": "text/x-python",
   "name": "python",
   "nbconvert_exporter": "python",
   "pygments_lexer": "ipython3",
   "version": "3.10.4"
  }
 },
 "nbformat": 4,
 "nbformat_minor": 5
}
