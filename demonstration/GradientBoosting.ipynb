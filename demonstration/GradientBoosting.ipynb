{
 "cells": [
  {
   "cell_type": "code",
   "execution_count": 1,
   "id": "75ee3969",
   "metadata": {},
   "outputs": [
    {
     "name": "stdout",
     "output_type": "stream",
     "text": [
      "Scalene extension successfully loaded. Note: Scalene currently only\n",
      "supports CPU+GPU profiling inside Jupyter notebooks. For full Scalene\n",
      "profiling, use the command line version.\n"
     ]
    }
   ],
   "source": [
    "import pandas as pd\n",
    "import numpy as np\n",
    "import os\n",
    "import time\n",
    "import copy\n",
    "import pathlib, tempfile\n",
    "\n",
    "import matplotlib.pyplot as plt\n",
    "import seaborn as sns\n",
    "sns.set()\n",
    "from graphviz import Digraph\n",
    "from joblib import Parallel, delayed\n",
    "from scipy import stats\n",
    "\n",
    "from survivors import metrics as metr\n",
    "from survivors import constants as cnt\n",
    "from survivors import criteria as crit\n",
    "from numba import njit, jit, int32, float64\n",
    "from lifelines import KaplanMeierFitter, NelsonAalenFitter\n",
    "\n",
    "import cProfile\n",
    "import pstats\n",
    "\n",
    "%load_ext line_profiler\n",
    "%load_ext scalene"
   ]
  },
  {
   "cell_type": "code",
   "execution_count": 2,
   "id": "125e0066",
   "metadata": {},
   "outputs": [],
   "source": [
    "import survivors.datasets as ds\n",
    "from survivors.tree import CRAID\n",
    "\n",
    "param = {'criterion': 'peto', 'cut': True, 'depth': 10,\n",
    "         'max_features': 1.0, 'min_samples_leaf': 5, \n",
    "         'signif': 0.05}\n",
    "\n",
    "X, y, features, categ, sch_nan = ds.load_pbc_dataset()\n",
    "param[\"categ\"] = categ\n",
    "\n",
    "# cr = CRAID(**param)\n",
    "# cr.fit(X, y)\n",
    "\n",
    "# pred_cens = cr.predict(X, target=\"cens\")"
   ]
  },
  {
   "cell_type": "code",
   "execution_count": 12,
   "id": "a66393c1",
   "metadata": {},
   "outputs": [
    {
     "data": {
      "text/plain": [
       "['trt', 'sex', 'ascites', 'hepato', 'spiders']"
      ]
     },
     "execution_count": 12,
     "metadata": {},
     "output_type": "execute_result"
    }
   ],
   "source": [
    "categ"
   ]
  },
  {
   "cell_type": "code",
   "execution_count": 125,
   "id": "acf5384d",
   "metadata": {},
   "outputs": [],
   "source": [
    "# def coxph_negative_gradient(cnp.npy_uint8[:] event,\n",
    "#                             cnp.npy_double[:] time,\n",
    "#                             cnp.npy_double[:] y_pred):\n",
    "#     cdef cnp.npy_double s\n",
    "#     cdef int i\n",
    "#     cdef int j\n",
    "#     cdef cnp.npy_intp n_samples = event.shape[0]\n",
    "\n",
    "#     cdef cnp.ndarray[cnp.npy_double, ndim=1] gradient = cnp.PyArray_EMPTY(1, &n_samples, cnp.NPY_DOUBLE, 0)\n",
    "#     cdef cnp.npy_double[:] exp_tsj = cnp.PyArray_ZEROS(1, &n_samples, cnp.NPY_DOUBLE, 0)\n",
    "\n",
    "#     cdef cnp.npy_double[:] exp_pred = np.exp(y_pred)\n",
    "#     with nogil:\n",
    "#         for i in range(n_samples):\n",
    "#             for j in range(n_samples):\n",
    "#                 if time[j] >= time[i]:\n",
    "#                     exp_tsj[i] += exp_pred[j]\n",
    "\n",
    "#         for i in range(n_samples):\n",
    "#             s = 0\n",
    "#             for j in range(n_samples):\n",
    "#                 if event[j] and time[i] >= time[j]:\n",
    "#                     s += exp_pred[i] / exp_tsj[j]\n",
    "#             gradient[i] = event[i] - s\n",
    "\n",
    "#     return gradient\n",
    "\n",
    "from numba import njit, jit\n",
    "\n",
    "@jit  # ('f8(i8[:], f8[:], f8[:])')\n",
    "def coxph_negative_gradient(event, time, y_pred):\n",
    "    n_samples = event.shape[0]\n",
    "\n",
    "    gradient = np.zeros(n_samples, dtype=float)\n",
    "    exp_tsj = np.zeros(n_samples, dtype=float)\n",
    "\n",
    "    exp_pred = np.exp(y_pred)\n",
    "    for i in range(n_samples):\n",
    "        for j in range(n_samples):\n",
    "            if time[j] >= time[i]:\n",
    "                exp_tsj[i] += exp_pred[j]\n",
    "\n",
    "    for i in range(n_samples):\n",
    "        s = 0\n",
    "        for j in range(n_samples):\n",
    "            if event[j] and time[i] >= time[j]:\n",
    "                s += exp_pred[i] / exp_tsj[j]\n",
    "        gradient[i] = event[i] - s\n",
    "\n",
    "    return gradient\n",
    "\n",
    "@jit\n",
    "def fast_coxph_negative_gradient(event, time, y_pred):\n",
    "    n_samples = event.shape[0]\n",
    "    r = np.repeat(time[:, np.newaxis], n_samples, axis=1)\n",
    "    exp_pred = np.exp(y_pred)\n",
    "    exp_tsj = exp_pred.dot(r >= r.T)\n",
    "\n",
    "    shared_j = event/exp_tsj\n",
    "    gradient = event - exp_pred*shared_j.dot(r <= r.T)\n",
    "    \n",
    "    return gradient"
   ]
  },
  {
   "cell_type": "code",
   "execution_count": 128,
   "id": "ac3352c0",
   "metadata": {},
   "outputs": [
    {
     "name": "stdout",
     "output_type": "stream",
     "text": [
      "569 µs ± 4.47 µs per loop (mean ± std. dev. of 7 runs, 1,000 loops each)\n"
     ]
    }
   ],
   "source": [
    "%timeit coxph_negative_gradient(y[\"cens\"], y[\"time\"], pred_cens)"
   ]
  },
  {
   "cell_type": "code",
   "execution_count": 129,
   "id": "f804c504",
   "metadata": {},
   "outputs": [
    {
     "name": "stdout",
     "output_type": "stream",
     "text": [
      "1.98 ms ± 5.39 µs per loop (mean ± std. dev. of 7 runs, 1,000 loops each)\n"
     ]
    }
   ],
   "source": [
    "%timeit fast_coxph_negative_gradient(y[\"cens\"], y[\"time\"], pred_cens)"
   ]
  },
  {
   "cell_type": "code",
   "execution_count": 28,
   "id": "f673be7e",
   "metadata": {},
   "outputs": [
    {
     "data": {
      "text/plain": [
       "array([[ 1.        ,  1.        ,  0.85628939],\n",
       "       [ 0.        ,  0.16470588, -0.93795051],\n",
       "       [ 1.        ,  0.625     ,  0.73621406],\n",
       "       ...,\n",
       "       [ 0.        ,  0.16470588, -0.16909675],\n",
       "       [ 0.        ,  0.16470588, -0.09234032],\n",
       "       [ 0.        ,  0.01724138, -0.13255543]])"
      ]
     },
     "execution_count": 28,
     "metadata": {},
     "output_type": "execute_result"
    }
   ],
   "source": [
    "np.vstack([y[\"cens\"], pred_cens, grad]).T"
   ]
  },
  {
   "cell_type": "code",
   "execution_count": 29,
   "id": "55d42917",
   "metadata": {},
   "outputs": [
    {
     "data": {
      "text/plain": [
       "nan"
      ]
     },
     "execution_count": 29,
     "metadata": {},
     "output_type": "execute_result"
    }
   ],
   "source": [
    "np.nan * 0"
   ]
  },
  {
   "cell_type": "code",
   "execution_count": null,
   "id": "af011f34",
   "metadata": {},
   "outputs": [],
   "source": [
    "from sksurv.ensemble import RandomSurvivalForest"
   ]
  },
  {
   "cell_type": "code",
   "execution_count": 281,
   "id": "209a3598",
   "metadata": {},
   "outputs": [],
   "source": [
    "import numpy as np\n",
    "from survivors.metrics import ibs, iauc, ipa, get_survival_func\n",
    "from survivors.constants import get_y\n",
    "\n",
    "from lifelines import KaplanMeierFitter\n",
    "from lifelines import NelsonAalenFitter\n",
    "\n",
    "bins = np.array([1, 10, 100, 1000])\n",
    "\n",
    "y_train = get_y(np.array([1, 0]), np.array([100, 100]))\n",
    "y_test_1 = get_y(np.array([1]), np.array([100]))\n",
    "y_test_2 = get_y(np.array([0]), np.array([100]))\n",
    "y_test_3 = get_y(np.array([1]), np.array([50]))\n",
    "\n",
    "kmf_train = KaplanMeierFitter()\n",
    "kmf_train.fit(y_train['time'], event_observed=y_train['cens'])\n",
    "sf_train = kmf_train.survival_function_at_times(bins).to_numpy()[np.newaxis, :]"
   ]
  },
  {
   "cell_type": "code",
   "execution_count": 282,
   "id": "2ace070a",
   "metadata": {},
   "outputs": [
    {
     "data": {
      "text/plain": [
       "0.23648648648648649"
      ]
     },
     "execution_count": 282,
     "metadata": {},
     "output_type": "execute_result"
    }
   ],
   "source": [
    "ibs(y_train, y_test_3, sf_train, bins)"
   ]
  },
  {
   "cell_type": "code",
   "execution_count": 212,
   "id": "37b83bb9",
   "metadata": {},
   "outputs": [],
   "source": [
    "class KaplanMeier:\n",
    "    def __init__(self):\n",
    "        self.timeline = None\n",
    "        self.survival_function = None\n",
    "        self.confidence_interval_ = None\n",
    "        self.alpha = 0.05\n",
    "\n",
    "    def fit(self, durations, right_censor, weights=None):\n",
    "        if weights is None:\n",
    "            weights = np.ones(right_censor.shape)\n",
    "        self.timeline = np.unique(durations)\n",
    "\n",
    "        dur_ = np.searchsorted(self.timeline, durations)\n",
    "        hist_dur = np.bincount(dur_, weights=weights)\n",
    "        self.hist_cens = np.bincount(dur_, weights=right_censor*weights)\n",
    "        self.cumul_hist_dur = np.cumsum(hist_dur[::-1])[::-1]\n",
    "        self.survival_function = np.hstack([1.0, np.cumprod((1.0 - self.hist_cens / (self.cumul_hist_dur)))])\n",
    "\n",
    "    def count_confidence_interval(self):\n",
    "        ''' exponential Greenwood: https://www.math.wustl.edu/~sawyer/handouts/greenwood.pdf '''\n",
    "        z = ss.norm.ppf(1 - self.alpha / 2)\n",
    "        cumulative_sq_ = np.sqrt(np.hstack([0.0, np.cumsum(self.hist_cens / (self.cumul_hist_dur * (self.cumul_hist_dur - self.hist_cens)))]))\n",
    "        np.nan_to_num(cumulative_sq_, copy=False, nan=0)\n",
    "        v = np.log(self.survival_function)\n",
    "        np.nan_to_num(v, copy=False, nan=0)\n",
    "        self.confidence_interval_ = np.vstack([np.exp(v * np.exp(- z * cumulative_sq_ / v)),\n",
    "                                               np.exp(v * np.exp(+ z * cumulative_sq_ / v))]).T\n",
    "        np.nan_to_num(self.confidence_interval_, copy=False, nan=1)\n",
    "\n",
    "    def get_confidence_interval_(self):\n",
    "        if self.confidence_interval_ is None:\n",
    "            self.count_confidence_interval()\n",
    "        return self.confidence_interval_\n",
    "\n",
    "    def survival_function_at_times(self, times):\n",
    "        place_bin = np.digitize(times, self.timeline)\n",
    "        return self.survival_function[np.clip(place_bin, 0, None)]"
   ]
  },
  {
   "cell_type": "code",
   "execution_count": 348,
   "id": "9f8c9ae4",
   "metadata": {},
   "outputs": [],
   "source": [
    "# @jit()\n",
    "# def _brier_score(ti, t, s, g_t, g_ti, d):\n",
    "#     if (ti <= t) and d == 1:\n",
    "#         return np.power(s, 2) * 1./g_ti\n",
    "#     if ti > t:\n",
    "#         return np.power(1 - s, 2) * 1./g_t\n",
    "#     return 0.\n",
    "\n",
    "@jit()\n",
    "def _brier_score(ti, t, s, g_t, g_ti, d):\n",
    "    return np.where(ti > t, \n",
    "                    np.power(1 - s, 2) * 1./g_t, \n",
    "                    np.where(d == 1, \n",
    "                             np.power(s, 2) * 1./g_ti, \n",
    "                             0.0))\n",
    "\n",
    "def _inverse_censoring_metric(func):\n",
    "    def metric(survival_train, survival_test, estimate, times):\n",
    "        ipcw = KaplanMeier()\n",
    "        ipcw.fit(survival_train[\"time\"], 1 - survival_train[\"cens\"])\n",
    "        g_t = ipcw.survival_function_at_times(times)\n",
    "        g_ti = ipcw.survival_function_at_times(survival_test[\"time\"])\n",
    "        arr = np.zeros_like(estimate, dtype=float)\n",
    "        \n",
    "        for i, t in enumerate(times):\n",
    "            arr[:,i] = func(survival_test[\"time\"], t, estimate[:,i], g_t[i], g_ti, survival_test[\"cens\"])\n",
    "        return arr\n",
    "    return metric\n",
    "\n",
    "def _integrated_metric(func):\n",
    "    def metric(survival_train, survival_test, estimate, times):\n",
    "        scores = func(survival_train, survival_test, estimate, times)\n",
    "        integral = np.trapz(scores, times)\n",
    "        return integral / (times[-1] - times[0])\n",
    "    return metric"
   ]
  },
  {
   "cell_type": "code",
   "execution_count": 349,
   "id": "f3299741",
   "metadata": {},
   "outputs": [],
   "source": [
    "ibs__ = _inverse_censoring_metric(_brier_score)"
   ]
  },
  {
   "cell_type": "code",
   "execution_count": 350,
   "id": "62c86078",
   "metadata": {},
   "outputs": [],
   "source": [
    "ibs_ = _integrated_metric(ibs__)"
   ]
  },
  {
   "cell_type": "code",
   "execution_count": 287,
   "id": "e8835799",
   "metadata": {},
   "outputs": [
    {
     "name": "stdout",
     "output_type": "stream",
     "text": [
      "[[0.   0.   0.25 0.25]]\n"
     ]
    },
    {
     "data": {
      "text/plain": [
       "array([0.23648649])"
      ]
     },
     "execution_count": 287,
     "metadata": {},
     "output_type": "execute_result"
    }
   ],
   "source": [
    "ibs_(y_train, y_test_3, sf_train, bins)"
   ]
  },
  {
   "cell_type": "code",
   "execution_count": null,
   "id": "b1e03d23",
   "metadata": {},
   "outputs": [],
   "source": []
  },
  {
   "cell_type": "code",
   "execution_count": null,
   "id": "b370aaa4",
   "metadata": {},
   "outputs": [],
   "source": []
  },
  {
   "cell_type": "code",
   "execution_count": 312,
   "id": "f4e413a5",
   "metadata": {},
   "outputs": [],
   "source": [
    "from survivors.experiments.grid import generate_sample\n",
    "\n",
    "X, y, features, categ, sch_nan = ds.load_pbc_dataset()\n",
    "gen = generate_sample(X, y, 5)\n",
    "X_train, y_train, X_test, y_test, bins = next(gen)\n",
    "\n",
    "cr = CRAID(**param)\n",
    "cr.fit(X_train, y_train)\n",
    "\n",
    "pred_sf = cr.predict_at_times(X_test, bins, mode=\"surv\")"
   ]
  },
  {
   "cell_type": "code",
   "execution_count": 356,
   "id": "ebbd5c37",
   "metadata": {},
   "outputs": [],
   "source": [
    "pred_hf = cr.predict_at_times(X_test, bins, mode=\"hazard\")"
   ]
  },
  {
   "cell_type": "code",
   "execution_count": 353,
   "id": "9afd2001",
   "metadata": {},
   "outputs": [
    {
     "name": "stdout",
     "output_type": "stream",
     "text": [
      "22.1 ms ± 361 µs per loop (mean ± std. dev. of 7 runs, 10 loops each)\n"
     ]
    }
   ],
   "source": [
    "%timeit ibs_(y_train, y_test, pred_sf, bins)"
   ]
  },
  {
   "cell_type": "code",
   "execution_count": 354,
   "id": "76cdfbe5",
   "metadata": {},
   "outputs": [
    {
     "name": "stdout",
     "output_type": "stream",
     "text": [
      "31 ms ± 623 µs per loop (mean ± std. dev. of 7 runs, 10 loops each)\n"
     ]
    }
   ],
   "source": [
    "%timeit ibs(y_train, y_test, pred_sf, bins, axis=0)"
   ]
  },
  {
   "cell_type": "code",
   "execution_count": 355,
   "id": "32caa307",
   "metadata": {},
   "outputs": [],
   "source": [
    "def loglikelihood(time, cens, sf, cumhf, bins):\n",
    "    index_times = np.digitize(time, bins, right=True) - 1\n",
    "    hf = np.hstack((cumhf[:, 0][np.newaxis].T, np.diff(cumhf)))\n",
    "    sf_by_times = np.take_along_axis(sf, index_times[:, np.newaxis], axis=1)[:, 0] + 1e-10\n",
    "    hf_by_times = (np.take_along_axis(hf, index_times[:, np.newaxis], axis=1)[:, 0] + 1e-10)**cens\n",
    "    likelihood = np.sum(np.log(sf_by_times) + np.log(hf_by_times))\n",
    "    return likelihood\n",
    "\n",
    "def kl(time, cens, sf, cumhf, bins):\n",
    "    index_times = np.digitize(time, bins, right=True) - 1\n",
    "    hf = np.hstack((cumhf[:, 0][np.newaxis].T, np.diff(cumhf)))\n",
    "    sf_by_times = np.take_along_axis(sf, index_times[:, np.newaxis], axis=1)[:, 0] + 1e-10\n",
    "    hf_by_times = (np.take_along_axis(hf, index_times[:, np.newaxis], axis=1)[:, 0] + 1e-10)**cens\n",
    "    likelihood = np.sum(np.log(sf_by_times) + np.log(hf_by_times))\n",
    "    return likelihood"
   ]
  },
  {
   "cell_type": "code",
   "execution_count": 357,
   "id": "55b35369",
   "metadata": {},
   "outputs": [
    {
     "data": {
      "text/plain": [
       "-1099.563431516333"
      ]
     },
     "execution_count": 357,
     "metadata": {},
     "output_type": "execute_result"
    }
   ],
   "source": [
    "loglikelihood(y_test[\"time\"], y_test[\"cens\"], pred_sf, pred_hf, bins)"
   ]
  },
  {
   "cell_type": "code",
   "execution_count": 360,
   "id": "0c63fbfb",
   "metadata": {},
   "outputs": [
    {
     "data": {
      "text/plain": [
       "array([ 0,  0,  0, ...,  0,  1, 12], dtype=int64)"
      ]
     },
     "execution_count": 360,
     "metadata": {},
     "output_type": "execute_result"
    }
   ],
   "source": [
    "y_test[\"time\"], bins\n",
    "np.bincount(index_times)"
   ]
  },
  {
   "cell_type": "code",
   "execution_count": 390,
   "id": "a58ec5c6",
   "metadata": {},
   "outputs": [
    {
     "data": {
      "text/plain": [
       "array([103.07480247,  87.3916971 ,  36.01652794, 108.36656156,\n",
       "        86.50062991,   0.        ,   5.05844785,  87.3916971 ,\n",
       "        86.50062991,  86.50062991,  36.01652794, 103.07480247,\n",
       "         0.        , 111.14680412,  87.3916971 ,   0.        ,\n",
       "        86.50062991, 103.07480247,  87.3916971 , 103.07480247,\n",
       "        36.01652794,  86.50062991,  86.50062991, 108.36656156,\n",
       "         0.        ,  86.50062991, 103.07480247, 103.07480247,\n",
       "        72.20241692,  86.50062991,  86.50062991, 108.36656156,\n",
       "         0.        ,  87.3916971 ,  87.3916971 ,  72.20241692,\n",
       "       103.07480247,  86.50062991,  36.01652794,  36.01652794,\n",
       "        86.50062991, 108.36656156,  87.3916971 ,  86.50062991,\n",
       "        72.20241692, 103.07480247,   0.        , 108.36656156,\n",
       "        36.01652794,  36.01652794,  87.3916971 ,  87.3916971 ,\n",
       "         0.        ,   0.        ,   5.05844785,   0.        ,\n",
       "        72.20241692,  36.01652794,   0.        ,  68.7309792 ,\n",
       "        68.7309792 ,  36.01652794,   0.        ,   0.        ,\n",
       "        87.3916971 ,   5.05844785,  87.3916971 , 108.36656156,\n",
       "         0.        ,   0.        ,   5.05844785,  68.7309792 ,\n",
       "         0.        ,  86.50062991,   0.        ,  86.50062991,\n",
       "        86.50062991,   0.        ,  36.01652794,  36.01652794,\n",
       "        68.7309792 ,   0.        , 108.36656156,   0.        ])"
      ]
     },
     "execution_count": 390,
     "metadata": {},
     "output_type": "execute_result"
    }
   ],
   "source": [
    "# Kullback–Leibler divergence\n",
    "\n",
    "index_times = np.digitize(y_test[\"time\"], bins, right=True) - 1\n",
    "arr = np.zeros_like(pred_hf, dtype=int)\n",
    "arr[np.arange(arr.shape[0]), index_times] = 1\n",
    "hf = np.hstack((pred_hf[:, 0][np.newaxis].T, np.diff(pred_hf)))\n",
    "\n",
    "np.sum(hf * np.log((hf + 1e-20)/(arr + 1e-20)), axis=1)"
   ]
  },
  {
   "cell_type": "code",
   "execution_count": 394,
   "id": "0b7eaa2b",
   "metadata": {},
   "outputs": [
    {
     "data": {
      "text/plain": [
       "array([0.00091614, 0.00281556, 0.01873142, 0.13838038, 0.83915649])"
      ]
     },
     "execution_count": 394,
     "metadata": {},
     "output_type": "execute_result"
    }
   ],
   "source": [
    "def arc_x4(weights):\n",
    "    scaled = 1 + weights**4\n",
    "    return scaled/sum(scaled)\n",
    "\n",
    "wei = np.array([-0.1, -1.2, -2.1, -3.5, -5.5])\n",
    "arc_x4(wei)"
   ]
  },
  {
   "cell_type": "code",
   "execution_count": 396,
   "id": "61bc9b79",
   "metadata": {},
   "outputs": [
    {
     "data": {
      "text/plain": [
       "645.0"
      ]
     },
     "execution_count": 396,
     "metadata": {},
     "output_type": "execute_result"
    }
   ],
   "source": []
  },
  {
   "cell_type": "code",
   "execution_count": 50,
   "id": "e0381894",
   "metadata": {},
   "outputs": [],
   "source": [
    "from survivors.ensemble import BoostingCRAID\n",
    "\n",
    "def loglikelihood_i(time, cens, sf, cumhf, bins):\n",
    "    index_times = np.digitize(time, bins, right=True) - 1\n",
    "    hf = np.hstack((cumhf[:, 0][np.newaxis].T, np.diff(cumhf)))\n",
    "    sf_by_times = np.take_along_axis(sf, index_times[:, np.newaxis], axis=1)[:, 0] + 1e-10\n",
    "    hf_by_times = (np.take_along_axis(hf, index_times[:, np.newaxis], axis=1)[:, 0] + 1e-10)**cens\n",
    "    return np.log(sf_by_times) + np.log(hf_by_times)\n",
    "\n",
    "def values_to_hist(values):\n",
    "    unq, idx = np.unique(values, return_inverse=True)\n",
    "    # calculate the weighted frequencies of these indices\n",
    "    freqs_idx = np.bincount(idx)\n",
    "    # reconstruct the array of frequencies of the elements\n",
    "    return freqs_idx[idx]\n",
    "\n",
    "def arc_x4(weights):\n",
    "    scaled = 1 + weights**4\n",
    "    return scaled/sum(scaled)\n",
    "\n",
    "class ProbBoostingCRAID(BoostingCRAID):\n",
    "    def __init__(self, **kwargs):\n",
    "        super().__init__(**kwargs)\n",
    "        self.name = \"ProbBoostingCRAID\"\n",
    "    \n",
    "    def fit(self, X, y):\n",
    "        self.features = X.columns\n",
    "        X = X.reset_index(drop=True)\n",
    "        X[cnt.CENS_NAME] = y[cnt.CENS_NAME].astype(np.int32)\n",
    "        X[cnt.TIME_NAME] = y[cnt.TIME_NAME].astype(np.float32)\n",
    "        \n",
    "        self.X_train = X\n",
    "        self.X_train[\"ind_start\"] = self.X_train.index\n",
    "        self.y_train = y\n",
    "        \n",
    "        self.weights = np.ones(self.X_train.shape[0], dtype=float)\n",
    "        self.bettas = []\n",
    "        self.l_weights = []\n",
    "        self.update_params()\n",
    "        \n",
    "        for i in range(self.n_estimators):\n",
    "            prob_weights = arc_x4(self.weights)\n",
    "            x_sub = self.X_train.sample(n=self.size_sample, weights=prob_weights,  # self.weights\n",
    "                                        replace=self.bootstrap, random_state=i)\n",
    "            x_oob = self.X_train.loc[self.X_train.index.difference(x_sub.index), :]\n",
    "\n",
    "            x_sub = x_sub.reset_index(drop=True)\n",
    "            X_sub_tr, y_sub_tr = cnt.pd_to_xy(x_sub)\n",
    "            if self.weighted_tree:\n",
    "                X_sub_tr[\"weights_obs\"] = prob_weights[x_sub['ind_start']]  # self.weights\n",
    "\n",
    "            model = CRAID(features=self.features, random_state=i, **self.tree_kwargs)\n",
    "            model.fit(X_sub_tr, y_sub_tr)\n",
    "            \n",
    "            wei_i, betta_i = self.count_model_weights(model, X_sub_tr, y_sub_tr)\n",
    "            self.add_model(model, x_oob, wei_i, betta_i)\n",
    "            self.update_weight(x_sub['ind_start'], wei_i)\n",
    "            \n",
    "            # print(betta_i)\n",
    "            self.ens_metr[i] = self.score_oob()\n",
    "            \n",
    "            if not (self.tolerance) and i > 0:\n",
    "                print(f\"METRIC: {self.ens_metr[i-1]} -> +1 model METRIC: {self.ens_metr[i]}\")\n",
    "                if self.descend_metr:\n",
    "                    stop = self.ens_metr[i-1] < self.ens_metr[i]\n",
    "                else:\n",
    "                    stop = self.ens_metr[i-1] > self.ens_metr[i]\n",
    "                if stop:\n",
    "                    self.select_model(0, len(self.models)-1)\n",
    "                    break\n",
    "        \n",
    "        if self.tolerance:\n",
    "            self.tolerance_find_best()\n",
    "        print('fitted:', len(self.models), 'models.')\n",
    "    \n",
    "    def count_model_weights(self, model, X_sub, y_sub):\n",
    "        if self.all_weight:\n",
    "            X_sub = self.X_train\n",
    "            y_sub = self.y_train\n",
    "        \n",
    "        pred_sf = model.predict_at_times(X_sub, bins=self.bins, mode=\"surv\")\n",
    "        pred_hf = model.predict_at_times(X_sub, bins=self.bins, mode=\"hazard\")\n",
    "        \n",
    "        time_hist = values_to_hist(y_sub[\"time\"])\n",
    "        lp_ti = np.log(time_hist / y_sub[\"time\"].shape)\n",
    "        lp_xi_ti = np.log(1 / time_hist)\n",
    "        likel = loglikelihood_i(y_sub[\"time\"], y_sub[\"cens\"], pred_sf, pred_hf, self.bins)\n",
    "        \n",
    "        lp_xi = lp_ti + lp_xi_ti - likel\n",
    "        wei = - np.exp(-lp_xi)\n",
    "        betta = np.sum(likel)\n",
    "        return wei, betta\n",
    "    \n",
    "    def update_weight(self, index, wei_i):\n",
    "        if self.all_weight:\n",
    "            self.weights = self.weights + wei_i\n",
    "        else:\n",
    "            self.weights[index] = (self.weights[index] - wei_i)\n",
    "        # self.weights = self.weights / np.sum(self.weights)\n",
    "        self.weights = (self.weights - self.weights.min()) / (self.weights.max() - self.weights.min())\n",
    "        \n",
    "    def get_aggreg(self, x):\n",
    "        if self.aggreg_func == 'median':\n",
    "            return np.median(x, axis=0)\n",
    "        elif self.aggreg_func == 'wei':\n",
    "            inv_wei = -1 / np.array(self.bettas)\n",
    "            wei = inv_wei/sum(inv_wei)\n",
    "            return np.sum((x.T*wei).T, axis=0)\n",
    "        return np.mean(x, axis=0)"
   ]
  },
  {
   "cell_type": "code",
   "execution_count": 51,
   "id": "916520e0",
   "metadata": {},
   "outputs": [
    {
     "name": "stdout",
     "output_type": "stream",
     "text": [
      "[0.6505 0.6904 0.7138 0.7394 0.7561 0.7691 0.7911 0.7886 0.7996 0.8016\n",
      " 0.8043 0.8018 0.805  0.8084 0.8075]\n",
      "fitted: 14 models.\n"
     ]
    },
    {
     "data": {
      "text/plain": [
       "-795.0394890758902"
      ]
     },
     "execution_count": 51,
     "metadata": {},
     "output_type": "execute_result"
    }
   ],
   "source": [
    "from survivors.experiments.grid import generate_sample\n",
    "\n",
    "param = {\n",
    "    \"aggreg_func\": 'wei',\n",
    "    \"criterion\": \"weights\",\n",
    "    \"depth\": 5, \n",
    "    \"ens_metric_name\": \"roc\",\n",
    "    \"max_features\": \"sqrt\",\n",
    "    \"min_samples_leaf\": 1,\n",
    "    \"n_estimators\": 15,\n",
    "    \"size_sample\": 0.5,\n",
    "    \"all_weight\": False,\n",
    "    \"leaf_model\": \"base_fast\"\n",
    "}\n",
    "\n",
    "X, y, features, categ, sch_nan = ds.load_pbc_dataset()\n",
    "gen = generate_sample(X, y, 5)\n",
    "X_train, y_train, X_test, y_test, bins = next(gen)\n",
    "\n",
    "prb = ProbBoostingCRAID(**param)\n",
    "prb.fit(X_train, y_train)\n",
    "\n",
    "pred_sf = prb.predict_at_times(X_test, bins=bins, mode=\"surv\")\n",
    "pred_hf = prb.predict_at_times(X_test, bins=bins, mode=\"hazard\")\n",
    "\n",
    "np.sum(loglikelihood_i(y_test[\"time\"], y_test[\"cens\"], pred_sf, pred_hf, bins))"
   ]
  },
  {
   "cell_type": "code",
   "execution_count": 146,
   "id": "227b664e",
   "metadata": {},
   "outputs": [
    {
     "data": {
      "text/plain": [
       "[843.677177487109,\n",
       " 1128.4243320246874,\n",
       " 976.7412198817369,\n",
       " 1124.4976005335884,\n",
       " 773.0267519903804,\n",
       " 1062.5846902799788,\n",
       " 884.7021519288851,\n",
       " 726.4325516435139,\n",
       " 825.9051592548383,\n",
       " 799.8801451723468,\n",
       " 1014.1193201824256,\n",
       " 932.0453037013289,\n",
       " 1036.669474339849,\n",
       " 1095.0846413858062,\n",
       " 1080.4951369594746]"
      ]
     },
     "execution_count": 146,
     "metadata": {},
     "output_type": "execute_result"
    }
   ],
   "source": [
    "prb.bettas"
   ]
  },
  {
   "cell_type": "code",
   "execution_count": 139,
   "id": "dec2bf55",
   "metadata": {},
   "outputs": [
    {
     "data": {
      "text/plain": [
       "array([0.0738521 , 0.05521622, 0.06379103, 0.05540904, 0.08060177,\n",
       "       0.05863752, 0.07042746, 0.08577166, 0.07544126, 0.07789583,\n",
       "       0.06143984, 0.06685011, 0.06010337, 0.05689727, 0.05766553])"
      ]
     },
     "execution_count": 139,
     "metadata": {},
     "output_type": "execute_result"
    }
   ],
   "source": [
    "inv_wei = -1/np.array(prb.bettas)\n",
    "wei = inv_wei/sum(inv_wei)\n",
    "wei"
   ]
  },
  {
   "cell_type": "code",
   "execution_count": 119,
   "id": "429622e8",
   "metadata": {},
   "outputs": [
    {
     "data": {
      "text/plain": [
       "array([[nan, nan, nan, ..., nan, nan, nan],\n",
       "       [nan, nan, nan, ..., nan, nan, nan],\n",
       "       [nan, nan, nan, ..., nan, nan, nan],\n",
       "       ...,\n",
       "       [nan, nan, nan, ..., nan, nan, nan],\n",
       "       [nan, nan, nan, ..., nan, nan, nan],\n",
       "       [nan, nan, nan, ..., nan, nan, nan]])"
      ]
     },
     "execution_count": 119,
     "metadata": {},
     "output_type": "execute_result"
    }
   ],
   "source": [
    "pred_sf"
   ]
  },
  {
   "cell_type": "code",
   "execution_count": null,
   "id": "8d47c7bc",
   "metadata": {},
   "outputs": [],
   "source": []
  },
  {
   "cell_type": "code",
   "execution_count": 70,
   "id": "c1acd193",
   "metadata": {},
   "outputs": [],
   "source": [
    "def load_all_hdfail_dataset():\n",
    "    df = pd.read_csv('./hdfail.csv')\n",
    "#     df = df[df[\"time\"] < 4000].reset_index()\n",
    "#     df[\"time\"] = np.log(1 + df[\"time\"])\n",
    "    df = df.rename({\"time\": cnt.TIME_NAME, \"event\": cnt.CENS_NAME}, axis=1)\n",
    "    categ = ['Disk Family', 'Disk Interface', 'Hard Disk Model', 'Manufacturer']\n",
    "    sign = list(set(df.columns) - set(['fac_type', cnt.CENS_NAME, cnt.TIME_NAME, 'pid']))\n",
    "    y = cnt.get_y(df[cnt.CENS_NAME], df[cnt.TIME_NAME])\n",
    "    X = df.loc[:, sign]\n",
    "    return X, y, sign, categ, []"
   ]
  },
  {
   "cell_type": "code",
   "execution_count": 71,
   "id": "14e78938",
   "metadata": {},
   "outputs": [
    {
     "name": "stderr",
     "output_type": "stream",
     "text": [
      "C:\\ProgramData\\Anaconda3\\envs\\survive\\lib\\site-packages\\lifelines\\fitters\\coxph_fitter.py:1608: ConvergenceWarning: Newton-Rhaphson failed to converge sufficiently. Please see the following tips in the lifelines documentation: https://lifelines.readthedocs.io/en/latest/Examples.html#problems-with-convergence-in-the-cox-proportional-hazard-model\n",
      "  warnings.warn(\n",
      "C:\\ProgramData\\Anaconda3\\envs\\survive\\lib\\site-packages\\lifelines\\utils\\printer.py:62: FutureWarning: In future versions `DataFrame.to_latex` is expected to utilise the base implementation of `Styler.to_latex` for formatting and rendering. The arguments signature may therefore change. It is recommended instead to use `DataFrame.style.to_latex` which also contains additional functionality.\n",
      "  return summary_df[columns].to_latex(float_format=\"%.\" + str(self.decimals) + \"f\")\n"
     ]
    },
    {
     "data": {
      "text/html": [
       "<div>\n",
       "<style scoped>\n",
       "    .dataframe tbody tr th:only-of-type {\n",
       "        vertical-align: middle;\n",
       "    }\n",
       "\n",
       "    .dataframe tbody tr th {\n",
       "        vertical-align: top;\n",
       "    }\n",
       "\n",
       "    .dataframe thead th {\n",
       "        text-align: right;\n",
       "    }\n",
       "</style>\n",
       "<table border=\"1\" class=\"dataframe\">\n",
       "  <tbody>\n",
       "    <tr>\n",
       "      <th>model</th>\n",
       "      <td>lifelines.CoxPHFitter</td>\n",
       "    </tr>\n",
       "    <tr>\n",
       "      <th>duration col</th>\n",
       "      <td>'time'</td>\n",
       "    </tr>\n",
       "    <tr>\n",
       "      <th>event col</th>\n",
       "      <td>'cens'</td>\n",
       "    </tr>\n",
       "    <tr>\n",
       "      <th>baseline estimation</th>\n",
       "      <td>breslow</td>\n",
       "    </tr>\n",
       "    <tr>\n",
       "      <th>number of observations</th>\n",
       "      <td>51782</td>\n",
       "    </tr>\n",
       "    <tr>\n",
       "      <th>number of events observed</th>\n",
       "      <td>2867</td>\n",
       "    </tr>\n",
       "    <tr>\n",
       "      <th>partial log-likelihood</th>\n",
       "      <td>-27423.34</td>\n",
       "    </tr>\n",
       "    <tr>\n",
       "      <th>time fit was run</th>\n",
       "      <td>2023-03-01 13:35:43 UTC</td>\n",
       "    </tr>\n",
       "  </tbody>\n",
       "</table>\n",
       "</div><table border=\"1\" class=\"dataframe\">\n",
       "  <thead>\n",
       "    <tr style=\"text-align: right;\">\n",
       "      <th style=\"min-width: 12px;\"></th>\n",
       "      <th style=\"min-width: 12px;\">coef</th>\n",
       "      <th style=\"min-width: 12px;\">exp(coef)</th>\n",
       "      <th style=\"min-width: 12px;\">se(coef)</th>\n",
       "      <th style=\"min-width: 12px;\">coef lower 95%</th>\n",
       "      <th style=\"min-width: 12px;\">coef upper 95%</th>\n",
       "      <th style=\"min-width: 12px;\">exp(coef) lower 95%</th>\n",
       "      <th style=\"min-width: 12px;\">exp(coef) upper 95%</th>\n",
       "      <th style=\"min-width: 12px;\">cmp to</th>\n",
       "      <th style=\"min-width: 12px;\">z</th>\n",
       "      <th style=\"min-width: 12px;\">p</th>\n",
       "      <th style=\"min-width: 12px;\">-log2(p)</th>\n",
       "    </tr>\n",
       "  </thead>\n",
       "  <tbody>\n",
       "    <tr>\n",
       "      <th>Weight</th>\n",
       "      <td>-0.00</td>\n",
       "      <td>1.00</td>\n",
       "      <td>0.00</td>\n",
       "      <td>-0.00</td>\n",
       "      <td>0.00</td>\n",
       "      <td>1.00</td>\n",
       "      <td>1.00</td>\n",
       "      <td>0.00</td>\n",
       "      <td>-0.47</td>\n",
       "      <td>0.64</td>\n",
       "      <td>0.64</td>\n",
       "    </tr>\n",
       "    <tr>\n",
       "      <th>num_temp</th>\n",
       "      <td>-0.01</td>\n",
       "      <td>0.99</td>\n",
       "      <td>0.00</td>\n",
       "      <td>-0.02</td>\n",
       "      <td>0.00</td>\n",
       "      <td>0.98</td>\n",
       "      <td>1.00</td>\n",
       "      <td>0.00</td>\n",
       "      <td>-1.47</td>\n",
       "      <td>0.14</td>\n",
       "      <td>2.83</td>\n",
       "    </tr>\n",
       "    <tr>\n",
       "      <th>Required Power For Spinup</th>\n",
       "      <td>0.00</td>\n",
       "      <td>1.00</td>\n",
       "      <td>0.00</td>\n",
       "      <td>-0.00</td>\n",
       "      <td>0.00</td>\n",
       "      <td>1.00</td>\n",
       "      <td>1.00</td>\n",
       "      <td>0.00</td>\n",
       "      <td>0.45</td>\n",
       "      <td>0.65</td>\n",
       "      <td>0.62</td>\n",
       "    </tr>\n",
       "    <tr>\n",
       "      <th>Rotational Speed</th>\n",
       "      <td>0.00</td>\n",
       "      <td>1.00</td>\n",
       "      <td>0.00</td>\n",
       "      <td>-0.00</td>\n",
       "      <td>0.00</td>\n",
       "      <td>1.00</td>\n",
       "      <td>1.00</td>\n",
       "      <td>0.00</td>\n",
       "      <td>0.22</td>\n",
       "      <td>0.82</td>\n",
       "      <td>0.28</td>\n",
       "    </tr>\n",
       "    <tr>\n",
       "      <th>Power Required (Seek)</th>\n",
       "      <td>0.03</td>\n",
       "      <td>1.03</td>\n",
       "      <td>0.08</td>\n",
       "      <td>-0.13</td>\n",
       "      <td>0.19</td>\n",
       "      <td>0.88</td>\n",
       "      <td>1.21</td>\n",
       "      <td>0.00</td>\n",
       "      <td>0.33</td>\n",
       "      <td>0.74</td>\n",
       "      <td>0.43</td>\n",
       "    </tr>\n",
       "    <tr>\n",
       "      <th>Number Of Heads</th>\n",
       "      <td>0.09</td>\n",
       "      <td>1.09</td>\n",
       "      <td>0.46</td>\n",
       "      <td>-0.82</td>\n",
       "      <td>1.00</td>\n",
       "      <td>0.44</td>\n",
       "      <td>2.71</td>\n",
       "      <td>0.00</td>\n",
       "      <td>0.19</td>\n",
       "      <td>0.85</td>\n",
       "      <td>0.23</td>\n",
       "    </tr>\n",
       "    <tr>\n",
       "      <th>Disk Interface</th>\n",
       "      <td>1.28</td>\n",
       "      <td>3.59</td>\n",
       "      <td>1.77</td>\n",
       "      <td>-2.20</td>\n",
       "      <td>4.75</td>\n",
       "      <td>0.11</td>\n",
       "      <td>116.12</td>\n",
       "      <td>0.00</td>\n",
       "      <td>0.72</td>\n",
       "      <td>0.47</td>\n",
       "      <td>1.08</td>\n",
       "    </tr>\n",
       "    <tr>\n",
       "      <th>Full Stroke Seek Time</th>\n",
       "      <td>0.04</td>\n",
       "      <td>1.04</td>\n",
       "      <td>0.05</td>\n",
       "      <td>-0.06</td>\n",
       "      <td>0.13</td>\n",
       "      <td>0.95</td>\n",
       "      <td>1.14</td>\n",
       "      <td>0.00</td>\n",
       "      <td>0.80</td>\n",
       "      <td>0.42</td>\n",
       "      <td>1.24</td>\n",
       "    </tr>\n",
       "    <tr>\n",
       "      <th>index</th>\n",
       "      <td>0.00</td>\n",
       "      <td>1.00</td>\n",
       "      <td>0.00</td>\n",
       "      <td>-0.00</td>\n",
       "      <td>0.00</td>\n",
       "      <td>1.00</td>\n",
       "      <td>1.00</td>\n",
       "      <td>0.00</td>\n",
       "      <td>0.71</td>\n",
       "      <td>0.48</td>\n",
       "      <td>1.06</td>\n",
       "    </tr>\n",
       "    <tr>\n",
       "      <th>Buffer-Host Max. Rate</th>\n",
       "      <td>0.01</td>\n",
       "      <td>1.01</td>\n",
       "      <td>0.01</td>\n",
       "      <td>-0.01</td>\n",
       "      <td>0.02</td>\n",
       "      <td>0.99</td>\n",
       "      <td>1.02</td>\n",
       "      <td>0.00</td>\n",
       "      <td>0.89</td>\n",
       "      <td>0.38</td>\n",
       "      <td>1.41</td>\n",
       "    </tr>\n",
       "    <tr>\n",
       "      <th>Number Of Disks</th>\n",
       "      <td>-0.38</td>\n",
       "      <td>0.68</td>\n",
       "      <td>0.95</td>\n",
       "      <td>-2.23</td>\n",
       "      <td>1.47</td>\n",
       "      <td>0.11</td>\n",
       "      <td>4.36</td>\n",
       "      <td>0.00</td>\n",
       "      <td>-0.40</td>\n",
       "      <td>0.69</td>\n",
       "      <td>0.54</td>\n",
       "    </tr>\n",
       "    <tr>\n",
       "      <th>Power Required (Idle)</th>\n",
       "      <td>-0.06</td>\n",
       "      <td>0.94</td>\n",
       "      <td>0.14</td>\n",
       "      <td>-0.33</td>\n",
       "      <td>0.21</td>\n",
       "      <td>0.72</td>\n",
       "      <td>1.24</td>\n",
       "      <td>0.00</td>\n",
       "      <td>-0.42</td>\n",
       "      <td>0.68</td>\n",
       "      <td>0.57</td>\n",
       "    </tr>\n",
       "    <tr>\n",
       "      <th>Buffer Size</th>\n",
       "      <td>0.00</td>\n",
       "      <td>1.00</td>\n",
       "      <td>0.00</td>\n",
       "      <td>-0.00</td>\n",
       "      <td>0.00</td>\n",
       "      <td>1.00</td>\n",
       "      <td>1.00</td>\n",
       "      <td>0.00</td>\n",
       "      <td>1.33</td>\n",
       "      <td>0.18</td>\n",
       "      <td>2.44</td>\n",
       "    </tr>\n",
       "    <tr>\n",
       "      <th>Average Rotational Latency</th>\n",
       "      <td>-17.70</td>\n",
       "      <td>0.00</td>\n",
       "      <td>51.54</td>\n",
       "      <td>-118.73</td>\n",
       "      <td>83.32</td>\n",
       "      <td>0.00</td>\n",
       "      <td>1.54e+36</td>\n",
       "      <td>0.00</td>\n",
       "      <td>-0.34</td>\n",
       "      <td>0.73</td>\n",
       "      <td>0.45</td>\n",
       "    </tr>\n",
       "    <tr>\n",
       "      <th>Form Factor</th>\n",
       "      <td>29.86</td>\n",
       "      <td>9.28e+12</td>\n",
       "      <td>47.86</td>\n",
       "      <td>-63.95</td>\n",
       "      <td>123.67</td>\n",
       "      <td>0.00</td>\n",
       "      <td>5.13e+53</td>\n",
       "      <td>0.00</td>\n",
       "      <td>0.62</td>\n",
       "      <td>0.53</td>\n",
       "      <td>0.91</td>\n",
       "    </tr>\n",
       "    <tr>\n",
       "      <th>Rotation Time</th>\n",
       "      <td>8.80</td>\n",
       "      <td>6604.07</td>\n",
       "      <td>25.73</td>\n",
       "      <td>-41.64</td>\n",
       "      <td>59.23</td>\n",
       "      <td>0.00</td>\n",
       "      <td>5.30e+25</td>\n",
       "      <td>0.00</td>\n",
       "      <td>0.34</td>\n",
       "      <td>0.73</td>\n",
       "      <td>0.45</td>\n",
       "    </tr>\n",
       "    <tr>\n",
       "      <th>Acoustic (Idle)</th>\n",
       "      <td>0.13</td>\n",
       "      <td>1.14</td>\n",
       "      <td>1.75</td>\n",
       "      <td>-3.29</td>\n",
       "      <td>3.56</td>\n",
       "      <td>0.04</td>\n",
       "      <td>35.29</td>\n",
       "      <td>0.00</td>\n",
       "      <td>0.08</td>\n",
       "      <td>0.94</td>\n",
       "      <td>0.09</td>\n",
       "    </tr>\n",
       "    <tr>\n",
       "      <th>Capacity</th>\n",
       "      <td>0.00</td>\n",
       "      <td>1.00</td>\n",
       "      <td>0.00</td>\n",
       "      <td>-0.00</td>\n",
       "      <td>0.00</td>\n",
       "      <td>1.00</td>\n",
       "      <td>1.00</td>\n",
       "      <td>0.00</td>\n",
       "      <td>0.44</td>\n",
       "      <td>0.66</td>\n",
       "      <td>0.60</td>\n",
       "    </tr>\n",
       "    <tr>\n",
       "      <th>Acoustic (Min performance and volume)</th>\n",
       "      <td>1.18</td>\n",
       "      <td>3.24</td>\n",
       "      <td>1.96</td>\n",
       "      <td>-2.67</td>\n",
       "      <td>5.02</td>\n",
       "      <td>0.07</td>\n",
       "      <td>151.08</td>\n",
       "      <td>0.00</td>\n",
       "      <td>0.60</td>\n",
       "      <td>0.55</td>\n",
       "      <td>0.87</td>\n",
       "    </tr>\n",
       "    <tr>\n",
       "      <th>Acoustic (Max performance and volume)</th>\n",
       "      <td>-1.21</td>\n",
       "      <td>0.30</td>\n",
       "      <td>0.85</td>\n",
       "      <td>-2.88</td>\n",
       "      <td>0.45</td>\n",
       "      <td>0.06</td>\n",
       "      <td>1.57</td>\n",
       "      <td>0.00</td>\n",
       "      <td>-1.43</td>\n",
       "      <td>0.15</td>\n",
       "      <td>2.70</td>\n",
       "    </tr>\n",
       "    <tr>\n",
       "      <th>Depth</th>\n",
       "      <td>0.48</td>\n",
       "      <td>1.61</td>\n",
       "      <td>0.49</td>\n",
       "      <td>-0.48</td>\n",
       "      <td>1.43</td>\n",
       "      <td>0.62</td>\n",
       "      <td>4.20</td>\n",
       "      <td>0.00</td>\n",
       "      <td>0.98</td>\n",
       "      <td>0.33</td>\n",
       "      <td>1.61</td>\n",
       "    </tr>\n",
       "    <tr>\n",
       "      <th>Average Seek Time</th>\n",
       "      <td>0.03</td>\n",
       "      <td>1.03</td>\n",
       "      <td>0.03</td>\n",
       "      <td>-0.03</td>\n",
       "      <td>0.09</td>\n",
       "      <td>0.97</td>\n",
       "      <td>1.09</td>\n",
       "      <td>0.00</td>\n",
       "      <td>1.02</td>\n",
       "      <td>0.31</td>\n",
       "      <td>1.69</td>\n",
       "    </tr>\n",
       "    <tr>\n",
       "      <th>Width</th>\n",
       "      <td>-1.70</td>\n",
       "      <td>0.18</td>\n",
       "      <td>1.49</td>\n",
       "      <td>-4.61</td>\n",
       "      <td>1.21</td>\n",
       "      <td>0.01</td>\n",
       "      <td>3.37</td>\n",
       "      <td>0.00</td>\n",
       "      <td>-1.14</td>\n",
       "      <td>0.25</td>\n",
       "      <td>1.98</td>\n",
       "    </tr>\n",
       "    <tr>\n",
       "      <th>Manufacturer</th>\n",
       "      <td>0.19</td>\n",
       "      <td>1.21</td>\n",
       "      <td>0.33</td>\n",
       "      <td>-0.45</td>\n",
       "      <td>0.83</td>\n",
       "      <td>0.64</td>\n",
       "      <td>2.29</td>\n",
       "      <td>0.00</td>\n",
       "      <td>0.57</td>\n",
       "      <td>0.57</td>\n",
       "      <td>0.82</td>\n",
       "    </tr>\n",
       "    <tr>\n",
       "      <th>Drive Ready Time (typical)</th>\n",
       "      <td>-0.03</td>\n",
       "      <td>0.97</td>\n",
       "      <td>0.02</td>\n",
       "      <td>-0.07</td>\n",
       "      <td>0.01</td>\n",
       "      <td>0.93</td>\n",
       "      <td>1.01</td>\n",
       "      <td>0.00</td>\n",
       "      <td>-1.40</td>\n",
       "      <td>0.16</td>\n",
       "      <td>2.64</td>\n",
       "    </tr>\n",
       "    <tr>\n",
       "      <th>Power Required (Standby)</th>\n",
       "      <td>-0.06</td>\n",
       "      <td>0.94</td>\n",
       "      <td>0.34</td>\n",
       "      <td>-0.73</td>\n",
       "      <td>0.61</td>\n",
       "      <td>0.48</td>\n",
       "      <td>1.84</td>\n",
       "      <td>0.00</td>\n",
       "      <td>-0.17</td>\n",
       "      <td>0.86</td>\n",
       "      <td>0.21</td>\n",
       "    </tr>\n",
       "    <tr>\n",
       "      <th>Height</th>\n",
       "      <td>0.07</td>\n",
       "      <td>1.07</td>\n",
       "      <td>0.14</td>\n",
       "      <td>-0.19</td>\n",
       "      <td>0.34</td>\n",
       "      <td>0.82</td>\n",
       "      <td>1.40</td>\n",
       "      <td>0.00</td>\n",
       "      <td>0.53</td>\n",
       "      <td>0.59</td>\n",
       "      <td>0.75</td>\n",
       "    </tr>\n",
       "    <tr>\n",
       "      <th>Hard Disk Model</th>\n",
       "      <td>-0.04</td>\n",
       "      <td>0.96</td>\n",
       "      <td>0.02</td>\n",
       "      <td>-0.08</td>\n",
       "      <td>-0.01</td>\n",
       "      <td>0.93</td>\n",
       "      <td>0.99</td>\n",
       "      <td>0.00</td>\n",
       "      <td>-2.58</td>\n",
       "      <td>0.01</td>\n",
       "      <td>6.67</td>\n",
       "    </tr>\n",
       "    <tr>\n",
       "      <th>Disk Family</th>\n",
       "      <td>0.03</td>\n",
       "      <td>1.03</td>\n",
       "      <td>0.03</td>\n",
       "      <td>-0.03</td>\n",
       "      <td>0.10</td>\n",
       "      <td>0.97</td>\n",
       "      <td>1.10</td>\n",
       "      <td>0.00</td>\n",
       "      <td>0.98</td>\n",
       "      <td>0.33</td>\n",
       "      <td>1.62</td>\n",
       "    </tr>\n",
       "    <tr>\n",
       "      <th>Track To Track Seek Time</th>\n",
       "      <td>-0.10</td>\n",
       "      <td>0.91</td>\n",
       "      <td>0.31</td>\n",
       "      <td>-0.71</td>\n",
       "      <td>0.52</td>\n",
       "      <td>0.49</td>\n",
       "      <td>1.68</td>\n",
       "      <td>0.00</td>\n",
       "      <td>-0.31</td>\n",
       "      <td>0.75</td>\n",
       "      <td>0.41</td>\n",
       "    </tr>\n",
       "  </tbody>\n",
       "</table><br><div>\n",
       "<style scoped>\n",
       "    .dataframe tbody tr th:only-of-type {\n",
       "        vertical-align: middle;\n",
       "    }\n",
       "\n",
       "    .dataframe tbody tr th {\n",
       "        vertical-align: top;\n",
       "    }\n",
       "\n",
       "    .dataframe thead th {\n",
       "        text-align: right;\n",
       "    }\n",
       "</style>\n",
       "<table border=\"1\" class=\"dataframe\">\n",
       "  <tbody>\n",
       "    <tr>\n",
       "      <th>Concordance</th>\n",
       "      <td>0.80</td>\n",
       "    </tr>\n",
       "    <tr>\n",
       "      <th>Partial AIC</th>\n",
       "      <td>54906.67</td>\n",
       "    </tr>\n",
       "    <tr>\n",
       "      <th>log-likelihood ratio test</th>\n",
       "      <td>1218.93 on 30 df</td>\n",
       "    </tr>\n",
       "    <tr>\n",
       "      <th>-log2(p) of ll-ratio test</th>\n",
       "      <td>786.06</td>\n",
       "    </tr>\n",
       "  </tbody>\n",
       "</table>\n",
       "</div>"
      ],
      "text/latex": [
       "\\begin{tabular}{lrrrrrrrrrrr}\n",
       "\\toprule\n",
       "{} &   coef &        exp(coef) &  se(coef) &  coef lower 95\\% &  coef upper 95\\% &  exp(coef) lower 95\\% &                                exp(coef) upper 95\\% &  cmp to &     z &    p &  -log2(p) \\\\\n",
       "covariate                             &        &                  &           &                 &                 &                      &                                                    &         &       &      &           \\\\\n",
       "\\midrule\n",
       "Weight                                &  -0.00 &             1.00 &      0.00 &           -0.00 &            0.00 &                 1.00 &                                               1.00 &    0.00 & -0.47 & 0.64 &      0.64 \\\\\n",
       "num\\_temp                              &  -0.01 &             0.99 &      0.00 &           -0.02 &            0.00 &                 0.98 &                                               1.00 &    0.00 & -1.47 & 0.14 &      2.83 \\\\\n",
       "Required Power For Spinup             &   0.00 &             1.00 &      0.00 &           -0.00 &            0.00 &                 1.00 &                                               1.00 &    0.00 &  0.45 & 0.65 &      0.62 \\\\\n",
       "Rotational Speed                      &   0.00 &             1.00 &      0.00 &           -0.00 &            0.00 &                 1.00 &                                               1.00 &    0.00 &  0.22 & 0.82 &      0.28 \\\\\n",
       "Power Required (Seek)                 &   0.03 &             1.03 &      0.08 &           -0.13 &            0.19 &                 0.88 &                                               1.21 &    0.00 &  0.33 & 0.74 &      0.43 \\\\\n",
       "Number Of Heads                       &   0.09 &             1.09 &      0.46 &           -0.82 &            1.00 &                 0.44 &                                               2.71 &    0.00 &  0.19 & 0.85 &      0.23 \\\\\n",
       "Disk Interface                        &   1.28 &             3.59 &      1.77 &           -2.20 &            4.75 &                 0.11 &                                             116.12 &    0.00 &  0.72 & 0.47 &      1.08 \\\\\n",
       "Full Stroke Seek Time                 &   0.04 &             1.04 &      0.05 &           -0.06 &            0.13 &                 0.95 &                                               1.14 &    0.00 &  0.80 & 0.42 &      1.24 \\\\\n",
       "index                                 &   0.00 &             1.00 &      0.00 &           -0.00 &            0.00 &                 1.00 &                                               1.00 &    0.00 &  0.71 & 0.48 &      1.06 \\\\\n",
       "Buffer-Host Max. Rate                 &   0.01 &             1.01 &      0.01 &           -0.01 &            0.02 &                 0.99 &                                               1.02 &    0.00 &  0.89 & 0.38 &      1.41 \\\\\n",
       "Number Of Disks                       &  -0.38 &             0.68 &      0.95 &           -2.23 &            1.47 &                 0.11 &                                               4.36 &    0.00 & -0.40 & 0.69 &      0.54 \\\\\n",
       "Power Required (Idle)                 &  -0.06 &             0.94 &      0.14 &           -0.33 &            0.21 &                 0.72 &                                               1.24 &    0.00 & -0.42 & 0.68 &      0.57 \\\\\n",
       "Buffer Size                           &   0.00 &             1.00 &      0.00 &           -0.00 &            0.00 &                 1.00 &                                               1.00 &    0.00 &  1.33 & 0.18 &      2.44 \\\\\n",
       "Average Rotational Latency            & -17.70 &             0.00 &     51.54 &         -118.73 &           83.32 &                 0.00 &           1540038911246301063530714605706805248.00 &    0.00 & -0.34 & 0.73 &      0.45 \\\\\n",
       "Form Factor                           &  29.86 & 9281637940972.17 &     47.86 &          -63.95 &          123.67 &                 0.00 & 51300040050699671936333671020772669936132225833... &    0.00 &  0.62 & 0.53 &      0.91 \\\\\n",
       "Rotation Time                         &   8.80 &          6604.07 &     25.73 &          -41.64 &           59.23 &                 0.00 &                      53016924375777630492819456.00 &    0.00 &  0.34 & 0.73 &      0.45 \\\\\n",
       "Acoustic (Idle)                       &   0.13 &             1.14 &      1.75 &           -3.29 &            3.56 &                 0.04 &                                              35.29 &    0.00 &  0.08 & 0.94 &      0.09 \\\\\n",
       "Capacity                              &   0.00 &             1.00 &      0.00 &           -0.00 &            0.00 &                 1.00 &                                               1.00 &    0.00 &  0.44 & 0.66 &      0.60 \\\\\n",
       "Acoustic (Min performance and volume) &   1.18 &             3.24 &      1.96 &           -2.67 &            5.02 &                 0.07 &                                             151.08 &    0.00 &  0.60 & 0.55 &      0.87 \\\\\n",
       "Acoustic (Max performance and volume) &  -1.21 &             0.30 &      0.85 &           -2.88 &            0.45 &                 0.06 &                                               1.57 &    0.00 & -1.43 & 0.15 &      2.70 \\\\\n",
       "Depth                                 &   0.48 &             1.61 &      0.49 &           -0.48 &            1.43 &                 0.62 &                                               4.20 &    0.00 &  0.98 & 0.33 &      1.61 \\\\\n",
       "Average Seek Time                     &   0.03 &             1.03 &      0.03 &           -0.03 &            0.09 &                 0.97 &                                               1.09 &    0.00 &  1.02 & 0.31 &      1.69 \\\\\n",
       "Width                                 &  -1.70 &             0.18 &      1.49 &           -4.61 &            1.21 &                 0.01 &                                               3.37 &    0.00 & -1.14 & 0.25 &      1.98 \\\\\n",
       "Manufacturer                          &   0.19 &             1.21 &      0.33 &           -0.45 &            0.83 &                 0.64 &                                               2.29 &    0.00 &  0.57 & 0.57 &      0.82 \\\\\n",
       "Drive Ready Time (typical)            &  -0.03 &             0.97 &      0.02 &           -0.07 &            0.01 &                 0.93 &                                               1.01 &    0.00 & -1.40 & 0.16 &      2.64 \\\\\n",
       "Power Required (Standby)              &  -0.06 &             0.94 &      0.34 &           -0.73 &            0.61 &                 0.48 &                                               1.84 &    0.00 & -0.17 & 0.86 &      0.21 \\\\\n",
       "Height                                &   0.07 &             1.07 &      0.14 &           -0.19 &            0.34 &                 0.82 &                                               1.40 &    0.00 &  0.53 & 0.59 &      0.75 \\\\\n",
       "Hard Disk Model                       &  -0.04 &             0.96 &      0.02 &           -0.08 &           -0.01 &                 0.93 &                                               0.99 &    0.00 & -2.58 & 0.01 &      6.67 \\\\\n",
       "Disk Family                           &   0.03 &             1.03 &      0.03 &           -0.03 &            0.10 &                 0.97 &                                               1.10 &    0.00 &  0.98 & 0.33 &      1.62 \\\\\n",
       "Track To Track Seek Time              &  -0.10 &             0.91 &      0.31 &           -0.71 &            0.52 &                 0.49 &                                               1.68 &    0.00 & -0.31 & 0.75 &      0.41 \\\\\n",
       "\\bottomrule\n",
       "\\end{tabular}\n"
      ],
      "text/plain": [
       "<lifelines.CoxPHFitter: fitted with 51782 total observations, 48915 right-censored observations>\n",
       "             duration col = 'time'\n",
       "                event col = 'cens'\n",
       "      baseline estimation = breslow\n",
       "   number of observations = 51782\n",
       "number of events observed = 2867\n",
       "   partial log-likelihood = -27423.34\n",
       "         time fit was run = 2023-03-01 13:35:43 UTC\n",
       "\n",
       "---\n",
       "                                        coef  exp(coef)   se(coef)   coef lower 95%   coef upper 95%  exp(coef) lower 95%  exp(coef) upper 95%\n",
       "covariate                                                                                                                                     \n",
       "Weight                                 -0.00       1.00       0.00            -0.00             0.00                 1.00                 1.00\n",
       "num_temp                               -0.01       0.99       0.00            -0.02             0.00                 0.98                 1.00\n",
       "Required Power For Spinup               0.00       1.00       0.00            -0.00             0.00                 1.00                 1.00\n",
       "Rotational Speed                        0.00       1.00       0.00            -0.00             0.00                 1.00                 1.00\n",
       "Power Required (Seek)                   0.03       1.03       0.08            -0.13             0.19                 0.88                 1.21\n",
       "Number Of Heads                         0.09       1.09       0.46            -0.82             1.00                 0.44                 2.71\n",
       "Disk Interface                          1.28       3.59       1.77            -2.20             4.75                 0.11               116.12\n",
       "Full Stroke Seek Time                   0.04       1.04       0.05            -0.06             0.13                 0.95                 1.14\n",
       "index                                   0.00       1.00       0.00            -0.00             0.00                 1.00                 1.00\n",
       "Buffer-Host Max. Rate                   0.01       1.01       0.01            -0.01             0.02                 0.99                 1.02\n",
       "Number Of Disks                        -0.38       0.68       0.95            -2.23             1.47                 0.11                 4.36\n",
       "Power Required (Idle)                  -0.06       0.94       0.14            -0.33             0.21                 0.72                 1.24\n",
       "Buffer Size                             0.00       1.00       0.00            -0.00             0.00                 1.00                 1.00\n",
       "Average Rotational Latency            -17.70       0.00      51.54          -118.73            83.32                 0.00             1.54e+36\n",
       "Form Factor                            29.86   9.28e+12      47.86           -63.95           123.67                 0.00             5.13e+53\n",
       "Rotation Time                           8.80    6604.07      25.73           -41.64            59.23                 0.00             5.30e+25\n",
       "Acoustic (Idle)                         0.13       1.14       1.75            -3.29             3.56                 0.04                35.29\n",
       "Capacity                                0.00       1.00       0.00            -0.00             0.00                 1.00                 1.00\n",
       "Acoustic (Min performance and volume)   1.18       3.24       1.96            -2.67             5.02                 0.07               151.08\n",
       "Acoustic (Max performance and volume)  -1.21       0.30       0.85            -2.88             0.45                 0.06                 1.57\n",
       "Depth                                   0.48       1.61       0.49            -0.48             1.43                 0.62                 4.20\n",
       "Average Seek Time                       0.03       1.03       0.03            -0.03             0.09                 0.97                 1.09\n",
       "Width                                  -1.70       0.18       1.49            -4.61             1.21                 0.01                 3.37\n",
       "Manufacturer                            0.19       1.21       0.33            -0.45             0.83                 0.64                 2.29\n",
       "Drive Ready Time (typical)             -0.03       0.97       0.02            -0.07             0.01                 0.93                 1.01\n",
       "Power Required (Standby)               -0.06       0.94       0.34            -0.73             0.61                 0.48                 1.84\n",
       "Height                                  0.07       1.07       0.14            -0.19             0.34                 0.82                 1.40\n",
       "Hard Disk Model                        -0.04       0.96       0.02            -0.08            -0.01                 0.93                 0.99\n",
       "Disk Family                             0.03       1.03       0.03            -0.03             0.10                 0.97                 1.10\n",
       "Track To Track Seek Time               -0.10       0.91       0.31            -0.71             0.52                 0.49                 1.68\n",
       "\n",
       "                                        cmp to     z    p   -log2(p)\n",
       "covariate                                                           \n",
       "Weight                                    0.00 -0.47 0.64       0.64\n",
       "num_temp                                  0.00 -1.47 0.14       2.83\n",
       "Required Power For Spinup                 0.00  0.45 0.65       0.62\n",
       "Rotational Speed                          0.00  0.22 0.82       0.28\n",
       "Power Required (Seek)                     0.00  0.33 0.74       0.43\n",
       "Number Of Heads                           0.00  0.19 0.85       0.23\n",
       "Disk Interface                            0.00  0.72 0.47       1.08\n",
       "Full Stroke Seek Time                     0.00  0.80 0.42       1.24\n",
       "index                                     0.00  0.71 0.48       1.06\n",
       "Buffer-Host Max. Rate                     0.00  0.89 0.38       1.41\n",
       "Number Of Disks                           0.00 -0.40 0.69       0.54\n",
       "Power Required (Idle)                     0.00 -0.42 0.68       0.57\n",
       "Buffer Size                               0.00  1.33 0.18       2.44\n",
       "Average Rotational Latency                0.00 -0.34 0.73       0.45\n",
       "Form Factor                               0.00  0.62 0.53       0.91\n",
       "Rotation Time                             0.00  0.34 0.73       0.45\n",
       "Acoustic (Idle)                           0.00  0.08 0.94       0.09\n",
       "Capacity                                  0.00  0.44 0.66       0.60\n",
       "Acoustic (Min performance and volume)     0.00  0.60 0.55       0.87\n",
       "Acoustic (Max performance and volume)     0.00 -1.43 0.15       2.70\n",
       "Depth                                     0.00  0.98 0.33       1.61\n",
       "Average Seek Time                         0.00  1.02 0.31       1.69\n",
       "Width                                     0.00 -1.14 0.25       1.98\n",
       "Manufacturer                              0.00  0.57 0.57       0.82\n",
       "Drive Ready Time (typical)                0.00 -1.40 0.16       2.64\n",
       "Power Required (Standby)                  0.00 -0.17 0.86       0.21\n",
       "Height                                    0.00  0.53 0.59       0.75\n",
       "Hard Disk Model                           0.00 -2.58 0.01       6.67\n",
       "Disk Family                               0.00  0.98 0.33       1.62\n",
       "Track To Track Seek Time                  0.00 -0.31 0.75       0.41\n",
       "---\n",
       "Concordance = 0.80\n",
       "Partial AIC = 54906.67\n",
       "log-likelihood ratio test = 1218.93 on 30 df\n",
       "-log2(p) of ll-ratio test = 786.06"
      ]
     },
     "metadata": {},
     "output_type": "display_data"
    }
   ],
   "source": [
    "from lifelines import WeibullAFTFitter, CoxPHFitter\n",
    "\n",
    "X, y, features, categ, sch_nan = load_all_hdfail_dataset()\n",
    "\n",
    "X[cnt.TIME_NAME] = y[cnt.TIME_NAME]\n",
    "X[cnt.CENS_NAME] = y[cnt.CENS_NAME]\n",
    "X = X.fillna(0)\n",
    "\n",
    "model = CoxPHFitter()  # WeibullAFTFitter()\n",
    "model.fit(X, cnt.TIME_NAME, cnt.CENS_NAME)\n",
    "model.print_summary()"
   ]
  },
  {
   "cell_type": "code",
   "execution_count": 74,
   "id": "cde55874",
   "metadata": {},
   "outputs": [
    {
     "data": {
      "text/plain": [
       "array([48915,  2867], dtype=int64)"
      ]
     },
     "execution_count": 74,
     "metadata": {},
     "output_type": "execute_result"
    }
   ],
   "source": [
    "np.bincount(y[\"cens\"])"
   ]
  },
  {
   "cell_type": "code",
   "execution_count": 556,
   "id": "4e1a781b",
   "metadata": {},
   "outputs": [],
   "source": [
    "def loglikelihood_i(time, cens, sf, cumhf, bins):\n",
    "    index_times = np.digitize(time, bins, right=True) - 1\n",
    "    hf = np.hstack((cumhf[:, 0][np.newaxis].T, np.diff(cumhf)))\n",
    "    sf_by_times = np.take_along_axis(sf, index_times[:, np.newaxis], axis=1)[:, 0] + 1e-10\n",
    "    hf_by_times = (np.take_along_axis(hf, index_times[:, np.newaxis], axis=1)[:, 0] + 1e-10) ** cens\n",
    "    return np.log(sf_by_times) + np.log(hf_by_times)\n",
    "\n",
    "\n",
    "def values_to_hist(values):\n",
    "    unq, idx = np.unique(values, return_inverse=True)\n",
    "    # calculate the weighted frequencies of these indices\n",
    "    freqs_idx = np.bincount(idx)\n",
    "    # reconstruct the array of frequencies of the elements\n",
    "    return freqs_idx[idx]\n",
    "\n",
    "\n",
    "class ProbBoostingCRAID(BoostingCRAID):\n",
    "    def __init__(self, **kwargs):\n",
    "        super().__init__(**kwargs)\n",
    "        self.name = \"ProbBoostingCRAID\"\n",
    "\n",
    "    def count_model_weights(self, model, X_sub, y_sub):\n",
    "        if self.all_weight:\n",
    "            X_sub = self.X_train\n",
    "            y_sub = self.y_train\n",
    "\n",
    "        pred_sf = model.predict_at_times(X_sub, bins=self.bins, mode=\"surv\")\n",
    "        pred_hf = model.predict_at_times(X_sub, bins=self.bins, mode=\"hazard\")\n",
    "\n",
    "        time_hist = values_to_hist(y_sub[\"time\"])\n",
    "        lp_ti = np.log(time_hist / y_sub[\"time\"].shape)\n",
    "        lp_xi_ti = np.log(1 / time_hist)\n",
    "        likel = loglikelihood_i(y_sub[\"time\"], y_sub[\"cens\"], pred_sf, pred_hf, self.bins)\n",
    "\n",
    "        lp_xi = lp_ti + lp_xi_ti - likel\n",
    "        wei = - np.exp(-lp_xi)\n",
    "        betta = np.sum(likel)\n",
    "        return wei, betta\n",
    "\n",
    "    def update_weight(self, index, wei_i):\n",
    "        if self.all_weight:\n",
    "            self.weights = self.weights + wei_i\n",
    "        else:\n",
    "            self.weights[index] = (self.weights[index] + wei_i)\n",
    "        self.weights = (self.weights - self.weights.min()) / (self.weights.max() - self.weights.min())\n",
    "\n",
    "    def get_aggreg(self, x):\n",
    "        if self.aggreg_func == 'median':\n",
    "            return np.median(x, axis=0)\n",
    "        elif self.aggreg_func == 'wei':\n",
    "            inv_wei = -1/np.array(self.bettas)\n",
    "            wei = inv_wei/sum(inv_wei)\n",
    "            return np.sum((x.T*wei).T, axis=0)\n",
    "        return np.mean(x, axis=0)"
   ]
  },
  {
   "cell_type": "markdown",
   "id": "fd4fdad8",
   "metadata": {},
   "source": [
    "### COMPARISON OF RSF AND GRBOOST ON ONK"
   ]
  },
  {
   "cell_type": "code",
   "execution_count": 482,
   "id": "0b290790",
   "metadata": {},
   "outputs": [
    {
     "name": "stderr",
     "output_type": "stream",
     "text": [
      "C:\\ProgramData\\Anaconda3\\envs\\survive\\lib\\site-packages\\openpyxl\\styles\\stylesheet.py:226: UserWarning: Workbook contains no default style, apply openpyxl's default\n",
      "  warn(\"Workbook contains no default style, apply openpyxl's default\")\n",
      "C:\\ProgramData\\Anaconda3\\envs\\survive\\lib\\site-packages\\openpyxl\\styles\\stylesheet.py:226: UserWarning: Workbook contains no default style, apply openpyxl's default\n",
      "  warn(\"Workbook contains no default style, apply openpyxl's default\")\n",
      "C:\\ProgramData\\Anaconda3\\envs\\survive\\lib\\site-packages\\openpyxl\\styles\\stylesheet.py:226: UserWarning: Workbook contains no default style, apply openpyxl's default\n",
      "  warn(\"Workbook contains no default style, apply openpyxl's default\")\n",
      "C:\\ProgramData\\Anaconda3\\envs\\survive\\lib\\site-packages\\openpyxl\\styles\\stylesheet.py:226: UserWarning: Workbook contains no default style, apply openpyxl's default\n",
      "  warn(\"Workbook contains no default style, apply openpyxl's default\")\n"
     ]
    },
    {
     "name": "stdout",
     "output_type": "stream",
     "text": [
      "DIAG {'C20': 0, 'C50.4': 1, 'C61': 2}\n"
     ]
    }
   ],
   "source": [
    "X, y, features, categ, sch_nan = ds.load_onk_dataset()"
   ]
  },
  {
   "cell_type": "code",
   "execution_count": 217,
   "id": "83bea158",
   "metadata": {},
   "outputs": [],
   "source": [
    "from sklearn.model_selection import train_test_split\n",
    "\n",
    "def prepare_sample(X, y, train_index, test_index):\n",
    "    X_train, X_test = X.iloc[train_index, :], X.iloc[test_index, :]\n",
    "    y_train, y_test = y[train_index], y[test_index]\n",
    "    bins = cnt.get_bins(time=y_train[cnt.TIME_NAME], cens=y_train[cnt.CENS_NAME])\n",
    "    y_train[cnt.TIME_NAME] = np.clip(y_train[cnt.TIME_NAME], bins.min() - 1, bins.max() + 1)\n",
    "    y_test[cnt.TIME_NAME] = np.clip(y_test[cnt.TIME_NAME], bins.min(), bins.max())\n",
    "    return X_train, y_train, X_test, y_test, bins\n",
    "\n",
    "X_TR, X_HO = train_test_split(X, stratify=y[cnt.CENS_NAME],\n",
    "                              test_size=0.33, random_state=42)\n",
    "X_tr, y_tr, X_HO, y_HO, bins = prepare_sample(X, y, X_TR.index, X_HO.index)"
   ]
  },
  {
   "cell_type": "code",
   "execution_count": 400,
   "id": "0d1b6417",
   "metadata": {},
   "outputs": [],
   "source": [
    "from sksurv.ensemble import GradientBoostingSurvivalAnalysis\n",
    "\n",
    "gb_params = {'learning_rate': 0.5, 'loss': 'coxph', \n",
    "             'max_depth': 20, 'max_features': 'sqrt', \n",
    "             'min_samples_leaf': 20, 'n_estimators': 100, 'random_state': 123}\n",
    "\n",
    "gbsa = GradientBoostingSurvivalAnalysis(**gb_params)\n",
    "\n",
    "X_tr_gb = X_tr.fillna(0).replace(np.nan, 0)\n",
    "X_HO_gb = X_HO.fillna(0).replace(np.nan, 0)\n",
    "\n",
    "gbsa.fit(X_tr_gb, y_tr)\n",
    "survs = gbsa.predict_survival_function(X_HO_gb)\n",
    "hazards = gbsa.predict_cumulative_hazard_function(X_HO_gb)\n",
    "\n",
    "tr_survs = gbsa.predict_survival_function(X_tr_gb)\n",
    "tr_pred_surv_gbsa = np.array(list(map(lambda x: x(bins), tr_survs)))\n",
    "\n",
    "pred_surv_gbsa = np.array(list(map(lambda x: x(bins), survs)))\n",
    "pred_haz_gbsa = np.array(list(map(lambda x: x(bins), hazards)))\n",
    "pred_time_gbsa = -1*gbsa.predict(X_HO_gb)"
   ]
  },
  {
   "cell_type": "code",
   "execution_count": 761,
   "id": "737b688b",
   "metadata": {},
   "outputs": [
    {
     "name": "stdout",
     "output_type": "stream",
     "text": [
      "[0.2164 0.1783 0.1665 0.1673 0.1628 0.163  0.1633 0.1609 0.1599 0.1565\n",
      " 0.1561 0.1548 0.1524 0.1512 0.1497 0.1496 0.1478 0.1456 0.1446 0.1453\n",
      " 0.1445 0.1444 0.1444 0.1441 0.1439 0.1432 0.143  0.1422 0.1416 0.1408\n",
      " 0.1411 0.141  0.1403 0.1398 0.1395 0.139  0.1397 0.1395 0.1392 0.1393\n",
      " 0.1391 0.1391 0.1387 0.1385 0.1385 0.1385 0.1385 0.1382 0.1382 0.1384\n",
      " 0.1382 0.1382 0.1382 0.1382 0.1383 0.1383 0.138  0.138  0.1383 0.1382\n",
      " 0.138  0.138  0.138  0.138  0.138  0.1382 0.1381 0.1381 0.1382 0.1382\n",
      " 0.1381 0.1378 0.1376 0.1376 0.1372 0.1369 0.1369 0.1368 0.1366 0.1367\n",
      " 0.1368 0.1367 0.1367 0.1366 0.1363 0.1363 0.1363 0.1364 0.1363 0.1364\n",
      " 0.1365 0.1365 0.1365 0.1364 0.1364 0.1364 0.1362 0.1361 0.1361 0.1361\n",
      " 0.1361 0.1362 0.1362 0.1362 0.1362 0.1363 0.1365 0.1366 0.1368 0.1367\n",
      " 0.1366 0.1367 0.1367 0.1366 0.1367 0.1364 0.1364 0.1364 0.1364 0.1363\n",
      " 0.1364 0.1364 0.1363 0.1361 0.1361 0.136  0.1359 0.1358 0.1359 0.136\n",
      " 0.136  0.1359 0.1359 0.1357 0.1357 0.1358 0.1357 0.1356 0.1356 0.1356\n",
      " 0.1355 0.1354 0.1354 0.1356 0.1354 0.1353 0.1352 0.1352 0.1353 0.1353\n",
      " 0.1353 0.1353 0.1354 0.1355 0.1355 0.1355 0.1356 0.1356 0.1356 0.1356\n",
      " 0.1356 0.1356 0.1355 0.1355 0.1355 0.1356 0.1354 0.1353 0.1353 0.1353\n",
      " 0.1355 0.1354 0.1353 0.1353 0.1351 0.1351 0.135  0.1351 0.135  0.135\n",
      " 0.135  0.1351 0.1352 0.1352 0.1352 0.1351 0.1352 0.1352 0.1352 0.1351\n",
      " 0.135  0.1349 0.135  0.1348 0.1347 0.1347 0.1346 0.1345 0.1344 0.1345]\n",
      "fitted: 199 models.\n"
     ]
    }
   ],
   "source": [
    "proboost_params = {'aggreg_func': 'wei', 'all_weight': True, 'categ': ['Диагноз'], \n",
    "                   'criterion': 'tarone-ware', 'depth': 10, 'ens_metric_name': 'ibs', \n",
    "                   'leaf_model': 'base_fast', 'max_features': 0.5, 'min_samples_leaf': 10, \n",
    "                   'n_estimators': 200, 'n_jobs': 2, 'size_sample': 0.7}\n",
    "\n",
    "proboost = ProbBoostingCRAID(**proboost_params)\n",
    "proboost.fit(X_tr, y_tr)"
   ]
  },
  {
   "cell_type": "code",
   "execution_count": 762,
   "id": "a03b139e",
   "metadata": {},
   "outputs": [
    {
     "data": {
      "image/png": "[encoded data removed]",
      "text/plain": [
       "<Figure size 432x288 with 1 Axes>"
      ]
     },
     "metadata": {
      "needs_background": "light"
     },
     "output_type": "display_data"
    },
    {
     "data": {
      "image/png": "[encoded data removed]",
      "text/plain": [
       "<Figure size 432x288 with 1 Axes>"
      ]
     },
     "metadata": {
      "needs_background": "light"
     },
     "output_type": "display_data"
    }
   ],
   "source": [
    "plt.scatter(np.arange(proboost.weights.shape[0]), proboost.weights)\n",
    "plt.show()\n",
    "plt.hist(proboost.weights)\n",
    "plt.show()"
   ]
  },
  {
   "cell_type": "code",
   "execution_count": 763,
   "id": "04fd78e5",
   "metadata": {
    "scrolled": true
   },
   "outputs": [],
   "source": [
    "# for w in proboost.l_weights[:10]:\n",
    "#     plt.figure(figsize=(14, 7))\n",
    "#     plt.scatter(range(w.shape[0]), w, alpha=0.5)\n",
    "#     plt.show()"
   ]
  },
  {
   "cell_type": "code",
   "execution_count": 764,
   "id": "889fccb4",
   "metadata": {},
   "outputs": [],
   "source": [
    "# # pred_bettas = proboost.bettas.copy()\n",
    "# proboost.bettas = pred_bettas.copy()\n",
    "# proboost.bettas = proboost.bettas - np.linspace(0, 3000, len(proboost.bettas))"
   ]
  },
  {
   "cell_type": "code",
   "execution_count": 765,
   "id": "f7453e27",
   "metadata": {},
   "outputs": [
    {
     "data": {
      "text/plain": [
       "[<matplotlib.lines.Line2D at 0x1e57b86fcd0>]"
      ]
     },
     "execution_count": 765,
     "metadata": {},
     "output_type": "execute_result"
    },
    {
     "data": {
      "image/png": "[encoded data removed]",
      "text/plain": [
       "<Figure size 432x288 with 1 Axes>"
      ]
     },
     "metadata": {
      "needs_background": "light"
     },
     "output_type": "display_data"
    }
   ],
   "source": [
    "inv_wei = -1/np.array(proboost.bettas)\n",
    "plt.plot(inv_wei/sum(inv_wei))"
   ]
  },
  {
   "cell_type": "code",
   "execution_count": 766,
   "id": "3fe3f5e8",
   "metadata": {},
   "outputs": [],
   "source": [
    "tr_pred_surv_proboost = proboost.predict_at_times(X_tr, bins=bins, mode=\"surv\")\n",
    "\n",
    "pred_surv_proboost = proboost.predict_at_times(X_HO, bins=bins, mode=\"surv\")\n",
    "pred_time_proboost = proboost.predict(X_HO, target=cnt.TIME_NAME)\n",
    "pred_haz_proboost = proboost.predict_at_times(X_HO, bins=bins, mode=\"hazard\")"
   ]
  },
  {
   "cell_type": "code",
   "execution_count": 767,
   "id": "1a700299",
   "metadata": {},
   "outputs": [
    {
     "name": "stdout",
     "output_type": "stream",
     "text": [
      "TRAIN GB: 0.040758365855872156\n",
      "TRAIN PR: 0.08248698469300031\n",
      "TEST GB: 0.11512669052794938\n",
      "TEST PR: 0.1273250272043748\n"
     ]
    }
   ],
   "source": [
    "print(\"TRAIN GB:\", metr.ibs(y_tr, y_tr, tr_pred_surv_gbsa, bins, axis=-1))\n",
    "print(\"TRAIN PR:\", metr.ibs(y_tr, y_tr, tr_pred_surv_proboost, bins, axis=-1))\n",
    "\n",
    "print(\"TEST GB:\", metr.ibs(y_tr, y_HO, pred_surv_gbsa, bins, axis=-1))\n",
    "print(\"TEST PR:\", metr.ibs(y_tr, y_HO, pred_surv_proboost, bins, axis=-1))\n",
    "\n",
    "ibs_gbsa_obs = metr.ibs(y_tr, y_HO, pred_surv_gbsa, bins, axis=0)\n",
    "ibs_proboost_obs = metr.ibs(y_tr, y_HO, pred_surv_proboost, bins, axis=0)"
   ]
  },
  {
   "cell_type": "code",
   "execution_count": 768,
   "id": "5b51d44e",
   "metadata": {},
   "outputs": [
    {
     "data": {
      "text/plain": [
       "[<matplotlib.lines.Line2D at 0x1e53964b490>]"
      ]
     },
     "execution_count": 768,
     "metadata": {},
     "output_type": "execute_result"
    },
    {
     "data": {
      "image/png": "[encoded data removed]",
      "text/plain": [
       "<Figure size 432x288 with 1 Axes>"
      ]
     },
     "metadata": {
      "needs_background": "light"
     },
     "output_type": "display_data"
    }
   ],
   "source": [
    "plt.plot(metr.ibs(y_tr, y_HO, pred_surv_gbsa, bins, axis=1))\n",
    "plt.plot(metr.ibs(y_tr, y_HO, pred_surv_proboost, bins, axis=1))"
   ]
  },
  {
   "cell_type": "code",
   "execution_count": 769,
   "id": "180c3095",
   "metadata": {},
   "outputs": [],
   "source": [
    "import matplotlib.pyplot as plt\n",
    "\n",
    "def print_true_pred(y_true, y_preds, labels):\n",
    "    fig, ax = plt.subplots()\n",
    "    \n",
    "    for y_pred, label in zip(y_preds, labels):\n",
    "        ax.plot(y_pred, label = label)\n",
    "    ax.hlines(1.0, 0, y_true[\"time\"], color = 'r')\n",
    "    ax.hlines(0.0, y_true[\"time\"], len(y_preds[0]), color = 'r')\n",
    "    ax.vlines(y_true[\"time\"], 0, 1, \n",
    "                  color = 'r', \n",
    "                  linestyles = ('solid' if y_true[\"cens\"] else 'dashed'),\n",
    "                  linewidth = 2, \n",
    "                  label = \"True\")\n",
    "    ax.legend()\n",
    "    plt.show()"
   ]
  },
  {
   "cell_type": "code",
   "execution_count": 770,
   "id": "5fff4547",
   "metadata": {},
   "outputs": [
    {
     "data": {
      "image/png": "[encoded data removed]",
      "text/plain": [
       "<Figure size 432x288 with 1 Axes>"
      ]
     },
     "metadata": {
      "needs_background": "light"
     },
     "output_type": "display_data"
    },
    {
     "data": {
      "image/png": "[encoded data removed]",
      "text/plain": [
       "<Figure size 432x288 with 1 Axes>"
      ]
     },
     "metadata": {
      "needs_background": "light"
     },
     "output_type": "display_data"
    },
    {
     "data": {
      "image/png": "[encoded data removed]",
      "text/plain": [
       "<Figure size 432x288 with 1 Axes>"
      ]
     },
     "metadata": {
      "needs_background": "light"
     },
     "output_type": "display_data"
    },
    {
     "data": {
      "image/png": "[encoded data removed]",
      "text/plain": [
       "<Figure size 432x288 with 1 Axes>"
      ]
     },
     "metadata": {
      "needs_background": "light"
     },
     "output_type": "display_data"
    },
    {
     "data": {
      "image/png": "[encoded data removed]",
      "text/plain": [
       "<Figure size 432x288 with 1 Axes>"
      ]
     },
     "metadata": {
      "needs_background": "light"
     },
     "output_type": "display_data"
    },
    {
     "data": {
      "image/png": "[encoded data removed]",
      "text/plain": [
       "<Figure size 432x288 with 1 Axes>"
      ]
     },
     "metadata": {
      "needs_background": "light"
     },
     "output_type": "display_data"
    }
   ],
   "source": [
    "for i in [0, 1, 10, 25, 100, 262]:\n",
    "    print_true_pred(y_HO[i], \n",
    "                    [pred_surv_gbsa[i], \n",
    "                     pred_surv_proboost[i]],\n",
    "                    [f\"GBSA {ibs_gbsa_obs[i]}\", \n",
    "                     f\"proboost {ibs_proboost_obs[i]}\"])"
   ]
  },
  {
   "cell_type": "markdown",
   "id": "6c2bad34",
   "metadata": {},
   "source": [
    "#### Выводы\n",
    "\n",
    "1. ibs ниже для 'all_weight': True (до 0.128)\n",
    "2. Веса моделей без зависимостей\n",
    "3. Веса наблюдений почти одинаковы\n",
    "4. При искусственной регуляризации на поздние деревья прогноз не меняется.\n",
    "5. Не может обучиться на тренировочной\n",
    "\n",
    "TRAIN GB: 0.040758365855872156\n",
    "\n",
    "TRAIN PR: 0.08463218453732083\n",
    "\n",
    "TEST GB: 0.11512669052794938\n",
    "\n",
    "TEST PR: 0.13008129686938671\n",
    "\n",
    "6. Самые важные по gbsa (>0.05): ['Вес', 'Рост', 'Возраст', 'Индекс_массы', 'Диагноз',\n",
    "    'Кол_во_Лекарственная_противоопухолевая_терапия',\n",
    "    'Кол_во_Лекарственная_противоопухолевая_терапия_Первая_линия']"
   ]
  },
  {
   "cell_type": "code",
   "execution_count": 480,
   "id": "d77d1fb2",
   "metadata": {},
   "outputs": [
    {
     "data": {
      "text/plain": [
       "Index(['Вес', 'Рост', 'Возраст', 'Индекс_массы', 'Диагноз',\n",
       "       'Кол_во_Лекарственная_противоопухолевая_терапия',\n",
       "       'Кол_во_Лекарственная_противоопухолевая_терапия_Первая_линия'],\n",
       "      dtype='object')"
      ]
     },
     "execution_count": 480,
     "metadata": {},
     "output_type": "execute_result"
    }
   ],
   "source": [
    "# gbsa.feature_importances_[np.argsort(gbsa.feature_importances_)[::-1]]\n",
    "X_tr.columns[gbsa.feature_importances_ > 0.05]"
   ]
  },
  {
   "cell_type": "code",
   "execution_count": null,
   "id": "380c1dd9",
   "metadata": {},
   "outputs": [],
   "source": []
  }
 ],
 "metadata": {
  "kernelspec": {
   "display_name": "Python 3 (ipykernel)",
   "language": "python",
   "name": "python3"
  },
  "language_info": {
   "codemirror_mode": {
    "name": "ipython",
    "version": 3
   },
   "file_extension": ".py",
   "mimetype": "text/x-python",
   "name": "python",
   "nbconvert_exporter": "python",
   "pygments_lexer": "ipython3",
   "version": "3.10.4"
  }
 },
 "nbformat": 4,
 "nbformat_minor": 5
}
