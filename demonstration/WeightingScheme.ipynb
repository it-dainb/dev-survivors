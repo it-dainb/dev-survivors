{
 "cells": [
  {
   "cell_type": "code",
   "execution_count": 1,
   "id": "2e2ef8d0",
   "metadata": {},
   "outputs": [
    {
     "name": "stdout",
     "output_type": "stream",
     "text": [
      "Scalene extension successfully loaded. Note: Scalene currently only\n",
      "supports CPU+GPU profiling inside Jupyter notebooks. For full Scalene\n",
      "profiling, use the command line version.\n"
     ]
    }
   ],
   "source": [
    "import pandas as pd\n",
    "import numpy as np\n",
    "import os\n",
    "import time\n",
    "import copy\n",
    "import pathlib, tempfile\n",
    "\n",
    "import matplotlib.pyplot as plt\n",
    "import seaborn as sns\n",
    "sns.set()\n",
    "from graphviz import Digraph\n",
    "from joblib import Parallel, delayed\n",
    "from scipy import stats\n",
    "\n",
    "from survivors import metrics as metr\n",
    "from survivors import constants as cnt\n",
    "from survivors import criteria as crit\n",
    "from numba import njit, jit, int32, float64\n",
    "from lifelines import KaplanMeierFitter, NelsonAalenFitter\n",
    "\n",
    "import survivors.datasets as ds\n",
    "\n",
    "import cProfile\n",
    "import pstats\n",
    "\n",
    "%load_ext line_profiler\n",
    "%load_ext scalene"
   ]
  },
  {
   "cell_type": "code",
   "execution_count": 160,
   "id": "dbd05621",
   "metadata": {},
   "outputs": [
    {
     "name": "stdout",
     "output_type": "stream",
     "text": [
      "(2, 5) (5, 2)\n"
     ]
    },
    {
     "data": {
      "text/plain": [
       "array([[0.46363636, 1.25454545, 2.12727273, 3.05454545, 4.31818182],\n",
       "       [0.17586207, 0.47586207, 0.80689655, 1.15862069, 1.63793103],\n",
       "       [0.13421053, 0.36315789, 0.61578947, 0.88421053, 1.25      ],\n",
       "       [0.11590909, 0.31363636, 0.53181818, 0.76363636, 1.07954545],\n",
       "       [0.09272727, 0.25090909, 0.42545455, 0.61090909, 0.86363636]])"
      ]
     },
     "execution_count": 160,
     "metadata": {},
     "output_type": "execute_result"
    }
   ],
   "source": [
    "a = np.array([1, 2, 3, 4, 5])\n",
    "b = np.array([0.1, 0.9, 0.8, 0.4, 0.5])\n",
    "\n",
    "sf = np.array([[[0.5, 0.1, 0.05],\n",
    "                [0.6, 0.1, 0.05],\n",
    "                [0.7, 0.1, 0.05],\n",
    "                [0.8, 0.1, 0.05],\n",
    "                [0.9, 0.1, 0.05]],\n",
    "               [[0.5, 0.2, 0.0],\n",
    "                [0.6, 0.2, 0.0],\n",
    "                [0.7, 0.2, 0.0],\n",
    "                [0.8, 0.2, 0.0],\n",
    "                [0.9, 0.2, 0.0]]])\n",
    "\n",
    "# sf = np.array([[[0.5],\n",
    "#                 [0.6],\n",
    "#                 [0.7],\n",
    "#                 [0.8],\n",
    "#                 [0.9],\n",
    "#                [[0.1],\n",
    "#                 [0.2],\n",
    "#                 [0.3],\n",
    "#                 [0.4],\n",
    "#                 [0.5]]]])\n",
    "\n",
    "sf = np.array([[0.5, 0.6, 0.7, 0.8, 0.9],\n",
    "               [0.1, 0.2, 0.3, 0.4, 0.5]])\n",
    "\n",
    "weights = np.vstack([a, b]).T\n",
    "print(sf.shape, weights.shape)\n",
    "np.sum((sf.T*weights).T, axis=0) / np.sum(weights, axis=1).reshape(-1, 1)"
   ]
  },
  {
   "cell_type": "code",
   "execution_count": 150,
   "id": "5777435d",
   "metadata": {},
   "outputs": [
    {
     "data": {
      "text/plain": [
       "array([3.  , 0.54])"
      ]
     },
     "execution_count": 150,
     "metadata": {},
     "output_type": "execute_result"
    }
   ],
   "source": [
    "np.mean(weights, axis=0)"
   ]
  },
  {
   "cell_type": "code",
   "execution_count": 156,
   "id": "4abdbdd6",
   "metadata": {},
   "outputs": [
    {
     "data": {
      "text/plain": [
       "array([[0.5       , 0.10909091, 0.04545455],\n",
       "       [0.6       , 0.13103448, 0.03448276],\n",
       "       [0.7       , 0.12105263, 0.03947368],\n",
       "       [0.8       , 0.10909091, 0.04545455],\n",
       "       [0.9       , 0.10909091, 0.04545455]])"
      ]
     },
     "execution_count": 156,
     "metadata": {},
     "output_type": "execute_result"
    }
   ],
   "source": [
    "np.sum((sf.T*weights).T, axis=0) / np.sum(weights, axis=1).reshape(-1, 1)"
   ]
  },
  {
   "cell_type": "code",
   "execution_count": 118,
   "id": "d2f770a5",
   "metadata": {},
   "outputs": [
    {
     "data": {
      "text/plain": [
       "(3, 5, 5)"
      ]
     },
     "execution_count": 118,
     "metadata": {},
     "output_type": "execute_result"
    }
   ],
   "source": [
    "np.dot(sf.T, weights.T).shape"
   ]
  },
  {
   "cell_type": "code",
   "execution_count": 122,
   "id": "a45dca0c",
   "metadata": {},
   "outputs": [
    {
     "data": {
      "text/plain": [
       "(3, 5, 2)"
      ]
     },
     "execution_count": 122,
     "metadata": {},
     "output_type": "execute_result"
    }
   ],
   "source": [
    "sf.T.shape"
   ]
  },
  {
   "cell_type": "code",
   "execution_count": 121,
   "id": "f4badcf7",
   "metadata": {},
   "outputs": [
    {
     "ename": "ValueError",
     "evalue": "matmul: Input operand 1 has a mismatch in its core dimension 0, with gufunc signature (n?,k),(k,m?)->(n?,m?) (size 5 is different from 2)",
     "output_type": "error",
     "traceback": [
      "\u001b[1;31m---------------------------------------------------------------------------\u001b[0m",
      "\u001b[1;31mValueError\u001b[0m                                Traceback (most recent call last)",
      "Input \u001b[1;32mIn [121]\u001b[0m, in \u001b[0;36m<cell line: 1>\u001b[1;34m()\u001b[0m\n\u001b[1;32m----> 1\u001b[0m (\u001b[43mweights\u001b[49m\u001b[43m \u001b[49m\u001b[38;5;241;43m@\u001b[39;49m\u001b[43m \u001b[49m\u001b[43msf\u001b[49m)\n",
      "\u001b[1;31mValueError\u001b[0m: matmul: Input operand 1 has a mismatch in its core dimension 0, with gufunc signature (n?,k),(k,m?)->(n?,m?) (size 5 is different from 2)"
     ]
    }
   ],
   "source": [
    "(weights @ sf)"
   ]
  },
  {
   "cell_type": "code",
   "execution_count": 141,
   "id": "2a4c4dc2",
   "metadata": {},
   "outputs": [
    {
     "data": {
      "text/plain": [
       "(2, 5, 3, 5, 2)"
      ]
     },
     "execution_count": 141,
     "metadata": {},
     "output_type": "execute_result"
    }
   ],
   "source": [
    "np.tensordot(weights.T, sf.T, axes=0).shape"
   ]
  },
  {
   "cell_type": "code",
   "execution_count": 210,
   "id": "5afd6ba2",
   "metadata": {},
   "outputs": [],
   "source": [
    "from survivors.tree import CRAID\n",
    "\n",
    "class IBSCRAID(CRAID):\n",
    "    def __init__(self, **kwargs):\n",
    "        super().__init__(**kwargs)\n",
    "        self.ibs_leaf = None\n",
    "        \n",
    "    def set_ibs_by_leaf(self, X, y):\n",
    "        numbs = self.predict(X, target=\"numb\").astype(\"int\")\n",
    "        sf = self.predict_at_times(X, self.bins, mode=\"surv\")\n",
    "        ibs_v = metr.ibs(y, y, sf, self.bins, axis=0)\n",
    "\n",
    "        counts = np.bincount(numbs)\n",
    "        self.ibs_leaf = np.bincount(numbs, weights=ibs_v)\n",
    "        self.ibs_leaf[counts>0]/=counts[counts>0]\n",
    "        self.ibs_mean = np.mean(ibs_v)\n",
    "    \n",
    "    def get_ibs_by_leaf(self, X, divide=False):\n",
    "        numbs = self.predict(X, target=\"numb\").astype(\"int\")\n",
    "        if divide:\n",
    "            return self.ibs_leaf[numbs] / self.ibs_mean\n",
    "        return self.ibs_leaf[numbs]\n",
    "    \n",
    "    def fit(self, X, y):\n",
    "        super().fit(X, y)\n",
    "        self.set_ibs_by_leaf(X, y)"
   ]
  },
  {
   "cell_type": "code",
   "execution_count": 378,
   "id": "5dc3621e",
   "metadata": {},
   "outputs": [
    {
     "data": {
      "text/plain": [
       "array([[ 1.   , -0.25 , -0.425],\n",
       "       [ 2.   , -0.1  , -0.475],\n",
       "       [ 3.   , -0.4  , -0.275]])"
      ]
     },
     "execution_count": 378,
     "metadata": {},
     "output_type": "execute_result"
    }
   ],
   "source": [
    "a = np.array([[1, 0.5, 0.3],\n",
    "          [2, 0.8, 0.1],\n",
    "          [3, 0.2, 0.9]])\n",
    "(a - np.array([0, 1, 2])) / np.array([1, 2, 4])"
   ]
  },
  {
   "cell_type": "code",
   "execution_count": 412,
   "id": "6e4f4e2f",
   "metadata": {},
   "outputs": [],
   "source": [
    "from survivors.ensemble import BoostingCRAID\n",
    "from scipy.stats import norm\n",
    "\n",
    "class IBSBoostingCRAID(BoostingCRAID):\n",
    "    def __init__(self, **kwargs):\n",
    "        super().__init__(**kwargs)\n",
    "        self.name = \"IBSBoostingCRAID\"\n",
    "    \n",
    "    def fit(self, X, y):\n",
    "        self.features = X.columns\n",
    "        X = X.reset_index(drop=True)\n",
    "        X[cnt.CENS_NAME] = y[cnt.CENS_NAME].astype(np.int32)\n",
    "        X[cnt.TIME_NAME] = y[cnt.TIME_NAME].astype(np.float32)\n",
    "        \n",
    "        self.X_train = X\n",
    "        self.X_train[\"ind_start\"] = self.X_train.index\n",
    "        self.y_train = y\n",
    "        \n",
    "        self.weights = np.zeros(self.X_train.shape[0], dtype=float)\n",
    "        self.bettas = []\n",
    "        self.l_weights = []\n",
    "        self.ibs_means = []\n",
    "        self.ibs_stds = []\n",
    "        self.update_params()\n",
    "        \n",
    "        for i in range(self.n_estimators):\n",
    "            if self.with_arc:\n",
    "                prob_weights = arc_x4(self.weights)\n",
    "            else:\n",
    "                prob_weights = self.weights\n",
    "            if i == 0:\n",
    "                self.ibs_means.append(0.0)\n",
    "                self.ibs_stds.append(1.0)\n",
    "            else:\n",
    "                self.ibs_means.append(np.mean(self.weights))\n",
    "                self.ibs_stds.append(np.std(self.weights))\n",
    "            prob_weights = norm.cdf((self.weights - self.ibs_means[-1]) / self.ibs_stds[-1])\n",
    "                \n",
    "            x_sub = self.X_train.sample(n=self.size_sample, weights=prob_weights,  # self.weights\n",
    "                                        replace=self.bootstrap, random_state=i)\n",
    "            x_oob = self.X_train.loc[self.X_train.index.difference(x_sub.index), :]\n",
    "\n",
    "            x_sub = x_sub.reset_index(drop=True)\n",
    "            X_sub_tr, y_sub_tr = cnt.pd_to_xy(x_sub)\n",
    "            if self.weighted_tree:\n",
    "                X_sub_tr[\"weights_obs\"] = prob_weights[x_sub['ind_start']]  # self.weights\n",
    "\n",
    "            model = IBSCRAID(features=self.features, random_state=i, **self.tree_kwargs)\n",
    "            model.fit(X_sub_tr, y_sub_tr)\n",
    "            \n",
    "            wei_i, betta_i = self.count_model_weights(model, X_sub_tr, y_sub_tr)\n",
    "            self.add_model(model, x_oob, wei_i, betta_i)\n",
    "            self.update_weight(x_sub['ind_start'], wei_i)\n",
    "            self.ens_metr[i] = self.score_oob()\n",
    "        \n",
    "        if self.tolerance:\n",
    "            self.tolerance_find_best()\n",
    "        print('fitted:', len(self.models), 'models.')\n",
    "    \n",
    "    def predict(self, x_test, aggreg=True, **kwargs):\n",
    "        res = []\n",
    "        weights = None\n",
    "        if self.aggreg_func == \"obs_wei\":\n",
    "            weights = [np.zeros(x_test.shape[0])]\n",
    "        for i in range(len(self.models)):\n",
    "            res.append(self.models[i].predict(x_test, **kwargs))\n",
    "            if self.aggreg_func == \"obs_wei\":\n",
    "                weights.append(self.models[i].get_ibs_by_leaf(x_test))\n",
    "                \n",
    "        res = np.array(res)\n",
    "        if self.aggreg_func == \"obs_wei\":\n",
    "            weights = np.vstack(weights[:-1]).T\n",
    "            weights = np.cumsum(weights, axis=1)\n",
    "            weights = norm.cdf((weights - np.array(self.ibs_means)) / np.array(self.ibs_stds))\n",
    "        if aggreg:\n",
    "            res = self.get_aggreg(res, weights)\n",
    "        return res\n",
    "    \n",
    "    def select_model(self, start, end):\n",
    "        self.ibs_means = self.ibs_means[start:end]\n",
    "        self.ibs_stds = self.ibs_stds[start:end]\n",
    "        super().select_model(start, end)\n",
    "        \n",
    "    def predict_at_times(self, x_test, bins, aggreg=True, mode=\"surv\"):\n",
    "        res = []\n",
    "        weights = None\n",
    "        if self.aggreg_func == \"obs_wei\":\n",
    "            weights = [np.zeros(x_test.shape[0])]\n",
    "        for i in range(len(self.models)):\n",
    "            res.append(self.models[i].predict_at_times(x_test, bins=bins,\n",
    "                                                       mode=mode)[np.newaxis, :])\n",
    "            if self.aggreg_func == \"obs_wei\":\n",
    "                weights.append(self.models[i].get_ibs_by_leaf(x_test))\n",
    "                \n",
    "        res = np.vstack(res)\n",
    "        if self.aggreg_func == \"obs_wei\":\n",
    "            weights = np.vstack(weights[:-1]).T\n",
    "            weights = np.cumsum(weights, axis=1)\n",
    "            weights = norm.cdf((weights - np.array(self.ibs_means)) / np.array(self.ibs_stds))\n",
    "        print(res.shape, weights.shape)\n",
    "        if aggreg:\n",
    "            res = self.get_aggreg(res, weights)\n",
    "        return res\n",
    "    \n",
    "    def count_model_weights(self, model, X_sub, y_sub):\n",
    "        if self.all_weight:\n",
    "            X_sub = self.X_train\n",
    "            y_sub = self.y_train\n",
    "\n",
    "        wei = model.get_ibs_by_leaf(X_sub)\n",
    "        betta = 1/np.mean(wei)\n",
    "        \n",
    "        return wei, betta\n",
    "\n",
    "    def update_weight(self, index, wei_i):\n",
    "        if self.all_weight:\n",
    "            self.weights = self.weights + wei_i\n",
    "        else:\n",
    "            self.weights[index] = (self.weights[index] + wei_i)\n",
    "        # self.weights = (self.weights - self.weights.min())\n",
    "        # self.weights = (self.weights - self.weights.min()) / (self.weights.max() - self.weights.min())\n",
    "\n",
    "    def get_aggreg(self, x, wei=None):\n",
    "        if self.aggreg_func == 'median':\n",
    "            return np.median(x, axis=0)\n",
    "        if self.aggreg_func == 'moda':\n",
    "            res = np.median(x > 0.5, axis=0)\n",
    "            return res\n",
    "        if self.aggreg_func == 'complex':\n",
    "            #a = np.max(x, axis=0)\n",
    "            b = np.min(x, axis=0)\n",
    "            res = np.mean(x, axis=0)\n",
    "            #res[a == 1] = 1\n",
    "            res[res < 0.01] = 0\n",
    "            return res\n",
    "        elif self.aggreg_func == 'softmax':\n",
    "            inv_wei = np.exp(np.array(self.bettas))\n",
    "            wei = inv_wei/sum(inv_wei)\n",
    "            return np.sum((x.T*wei).T, axis=0)\n",
    "        elif self.aggreg_func == 'wei':\n",
    "            inv_wei = 1/np.array(self.bettas)\n",
    "            wei = inv_wei/sum(inv_wei)\n",
    "            return np.sum((x.T*wei).T, axis=0)\n",
    "        elif self.aggreg_func == \"obs_wei\":\n",
    "            wei_s = np.sum(wei, axis=1)\n",
    "            if len(x.shape) > 2:\n",
    "                wei_s = wei_s.reshape(-1, 1)\n",
    "            return np.sum((x.T*wei).T, axis=0) / wei_s\n",
    "            #return (wei @ x) / np.sum(wei, axis=1).reshape(-1, 1)\n",
    "        return np.mean(x, axis=0)\n"
   ]
  },
  {
   "cell_type": "code",
   "execution_count": 413,
   "id": "24504b7c",
   "metadata": {},
   "outputs": [
    {
     "name": "stderr",
     "output_type": "stream",
     "text": [
      "C:\\ProgramData\\Anaconda3\\envs\\survive\\lib\\site-packages\\openpyxl\\styles\\stylesheet.py:226: UserWarning: Workbook contains no default style, apply openpyxl's default\n",
      "  warn(\"Workbook contains no default style, apply openpyxl's default\")\n",
      "C:\\ProgramData\\Anaconda3\\envs\\survive\\lib\\site-packages\\openpyxl\\styles\\stylesheet.py:226: UserWarning: Workbook contains no default style, apply openpyxl's default\n",
      "  warn(\"Workbook contains no default style, apply openpyxl's default\")\n",
      "C:\\ProgramData\\Anaconda3\\envs\\survive\\lib\\site-packages\\openpyxl\\styles\\stylesheet.py:226: UserWarning: Workbook contains no default style, apply openpyxl's default\n",
      "  warn(\"Workbook contains no default style, apply openpyxl's default\")\n",
      "C:\\ProgramData\\Anaconda3\\envs\\survive\\lib\\site-packages\\openpyxl\\styles\\stylesheet.py:226: UserWarning: Workbook contains no default style, apply openpyxl's default\n",
      "  warn(\"Workbook contains no default style, apply openpyxl's default\")\n"
     ]
    },
    {
     "name": "stdout",
     "output_type": "stream",
     "text": [
      "DIAG {'C20': 0, 'C50.4': 1, 'C61': 2}\n"
     ]
    }
   ],
   "source": [
    "from survivors.experiments.grid import generate_sample\n",
    "\n",
    "X, y, features, categ, sch_nan = ds.load_onk_dataset()\n",
    "\n",
    "for X_tr, y_tr, X_HO, y_HO, bins in generate_sample(X, y, 5, \"CV+HOLD-OUT\"):\n",
    "    pass"
   ]
  },
  {
   "cell_type": "code",
   "execution_count": 429,
   "id": "a997a003",
   "metadata": {},
   "outputs": [
    {
     "name": "stdout",
     "output_type": "stream",
     "text": [
      "[0.2161 0.186  0.1715 0.1613 0.1634 0.1615 0.1573 0.1555 0.1544 0.1563]\n",
      "fitted: 9 models.\n",
      "35.08046054840088\n"
     ]
    }
   ],
   "source": [
    "proboost_params = {'balance': None, \n",
    "                   \"with_arc\": False,\n",
    "                   'aggreg_func': \"obs_wei\", 'all_weight': True, 'categ': ['Диагноз'], \n",
    "                   'criterion': 'confidence', 'depth': 10, 'ens_metric_name': 'ibs', \n",
    "                   'leaf_model': 'base_fast', 'max_features': 0.7, 'min_samples_leaf': 5, \n",
    "                   'n_estimators': 10, 'n_jobs': 2, 'size_sample': 0.5}\n",
    "\n",
    "start_time = time.time()\n",
    "proboost = IBSBoostingCRAID(**proboost_params)\n",
    "proboost.fit(X_tr, y_tr)\n",
    "\n",
    "print(time.time() - start_time)"
   ]
  },
  {
   "cell_type": "code",
   "execution_count": 430,
   "id": "a802730f",
   "metadata": {},
   "outputs": [
    {
     "data": {
      "image/png": "[encoded data removed]",
      "text/plain": [
       "<Figure size 720x360 with 2 Axes>"
      ]
     },
     "metadata": {
      "needs_background": "light"
     },
     "output_type": "display_data"
    }
   ],
   "source": [
    "fig, axes = plt.subplots(figsize=(10, 5), ncols=2)\n",
    "axes[0].scatter(np.arange(proboost.weights.shape[0]), \n",
    "                proboost.weights,\n",
    "                c = np.where(proboost.y_train[\"cens\"], \"orange\", \"blue\"))\n",
    "axes[1].hist(proboost.weights, orientation=\"horizontal\")\n",
    "plt.show()"
   ]
  },
  {
   "cell_type": "code",
   "execution_count": 431,
   "id": "fa21da6c",
   "metadata": {},
   "outputs": [
    {
     "name": "stdout",
     "output_type": "stream",
     "text": [
      "(9, 2264, 822) (2264, 9)\n",
      "(9, 1116, 822) (1116, 9)\n",
      "(9, 1116, 822) (1116, 9)\n"
     ]
    }
   ],
   "source": [
    "tr_pred_surv_proboost = proboost.predict_at_times(X_tr, bins=bins, mode=\"surv\")\n",
    "\n",
    "pred_surv_proboost = proboost.predict_at_times(X_HO, bins=bins, mode=\"surv\")\n",
    "#pred_time_proboost = proboost.predict(X_HO, target=cnt.TIME_NAME)\n",
    "pred_haz_proboost = proboost.predict_at_times(X_HO, bins=bins, mode=\"hazard\")"
   ]
  },
  {
   "cell_type": "code",
   "execution_count": 432,
   "id": "fe92f64a",
   "metadata": {},
   "outputs": [],
   "source": [
    "pred_time_proboost = proboost.predict(X_HO, target=cnt.TIME_NAME)"
   ]
  },
  {
   "cell_type": "code",
   "execution_count": 433,
   "id": "e669679b",
   "metadata": {},
   "outputs": [
    {
     "name": "stdout",
     "output_type": "stream",
     "text": [
      "TRAIN PR: 0.08648453687013388\n",
      "TEST PR: 0.14320886124650614\n"
     ]
    }
   ],
   "source": [
    "print(\"TRAIN PR:\", metr.ibs(y_tr, y_tr, tr_pred_surv_proboost, bins, axis=-1))\n",
    "print(\"TEST PR:\", metr.ibs(y_tr, y_HO, pred_surv_proboost, bins, axis=-1))"
   ]
  },
  {
   "cell_type": "code",
   "execution_count": 434,
   "id": "59e2a556",
   "metadata": {},
   "outputs": [
    {
     "data": {
      "text/plain": [
       "[0.0,\n",
       " 0.06714986246762214,\n",
       " 0.13351556501081263,\n",
       " 0.19668583149611532,\n",
       " 0.23764111409452018,\n",
       " 0.29420620333442055,\n",
       " 0.36067783412828197,\n",
       " 0.41600784611230246,\n",
       " 0.4782140493475392]"
      ]
     },
     "execution_count": 434,
     "metadata": {},
     "output_type": "execute_result"
    }
   ],
   "source": [
    "proboost.ibs_means"
   ]
  },
  {
   "cell_type": "code",
   "execution_count": 435,
   "id": "e663961d",
   "metadata": {},
   "outputs": [
    {
     "data": {
      "text/plain": [
       "array([ 18.18506793,  89.83288152, 430.51851748, ...,  15.51639819,\n",
       "        40.87725365,  76.8047937 ])"
      ]
     },
     "execution_count": 435,
     "metadata": {},
     "output_type": "execute_result"
    }
   ],
   "source": [
    "pred_time_proboost"
   ]
  },
  {
   "cell_type": "code",
   "execution_count": 436,
   "id": "013a892b",
   "metadata": {},
   "outputs": [
    {
     "data": {
      "text/plain": [
       "array([  1.,   7., 357., ...,   2.,  14.,  44.])"
      ]
     },
     "execution_count": 436,
     "metadata": {},
     "output_type": "execute_result"
    }
   ],
   "source": [
    "y_HO[\"time\"]"
   ]
  },
  {
   "cell_type": "code",
   "execution_count": 438,
   "id": "c38a0479",
   "metadata": {},
   "outputs": [],
   "source": [
    "res = []\n",
    "weights = None\n",
    "if proboost.aggreg_func == \"obs_wei\":\n",
    "    weights = [np.zeros(X_HO.shape[0])]\n",
    "for i in range(len(proboost.models)):\n",
    "    res.append(proboost.models[i].predict(X_HO, target=cnt.TIME_NAME))\n",
    "    if proboost.aggreg_func == \"obs_wei\":\n",
    "        weights.append(proboost.models[i].get_ibs_by_leaf(X_HO))\n",
    "\n",
    "res = np.array(res)\n",
    "if proboost.aggreg_func == \"obs_wei\":\n",
    "    weights = np.vstack(weights[:-1]).T\n",
    "    weights = np.cumsum(weights, axis=1)\n",
    "    weights = norm.cdf((weights - np.array(proboost.ibs_means)) / np.array(proboost.ibs_stds))"
   ]
  },
  {
   "cell_type": "code",
   "execution_count": 469,
   "id": "83bc2e8f",
   "metadata": {},
   "outputs": [
    {
     "data": {
      "text/plain": [
       "array([0.5       , 0.93231822, 0.99993847, 0.99542244, 0.983065  ,\n",
       "       0.95260141, 0.89306973, 0.83029409, 0.88019199])"
      ]
     },
     "execution_count": 469,
     "metadata": {},
     "output_type": "execute_result"
    }
   ],
   "source": [
    "weights[7]"
   ]
  },
  {
   "cell_type": "code",
   "execution_count": 470,
   "id": "a5c33866",
   "metadata": {},
   "outputs": [
    {
     "data": {
      "text/plain": [
       "array([265.222229  , 693.1428833 , 347.2727356 , 409.6000061 ,\n",
       "       410.875     , 433.        , 273.42855835, 368.5       ,\n",
       "       365.09091187])"
      ]
     },
     "execution_count": 470,
     "metadata": {},
     "output_type": "execute_result"
    }
   ],
   "source": [
    "res[:, 7]"
   ]
  },
  {
   "cell_type": "code",
   "execution_count": 461,
   "id": "a319a0ce",
   "metadata": {},
   "outputs": [
    {
     "data": {
      "text/plain": [
       "array([ 16.32708759,  83.1344909 , 434.85983972, ...,  26.18814325,\n",
       "        37.4535739 ,  80.27115504])"
      ]
     },
     "execution_count": 461,
     "metadata": {},
     "output_type": "execute_result"
    }
   ],
   "source": [
    "np.sum((res.T*1/weights).T, axis=0) / np.sum(1/weights, axis=1)"
   ]
  },
  {
   "cell_type": "code",
   "execution_count": 471,
   "id": "fbca275f",
   "metadata": {},
   "outputs": [
    {
     "data": {
      "text/plain": [
       "404.3874271384731"
      ]
     },
     "execution_count": 471,
     "metadata": {},
     "output_type": "execute_result"
    }
   ],
   "source": [
    "pred_time_proboost[7]"
   ]
  },
  {
   "cell_type": "code",
   "execution_count": 468,
   "id": "fd781080",
   "metadata": {},
   "outputs": [
    {
     "data": {
      "text/plain": [
       "(True, 466.)"
      ]
     },
     "execution_count": 468,
     "metadata": {},
     "output_type": "execute_result"
    }
   ],
   "source": [
    "y_HO[7]"
   ]
  },
  {
   "cell_type": "code",
   "execution_count": null,
   "id": "7e5ae465",
   "metadata": {},
   "outputs": [],
   "source": []
  }
 ],
 "metadata": {
  "kernelspec": {
   "display_name": "Python 3 (ipykernel)",
   "language": "python",
   "name": "python3"
  },
  "language_info": {
   "codemirror_mode": {
    "name": "ipython",
    "version": 3
   },
   "file_extension": ".py",
   "mimetype": "text/x-python",
   "name": "python",
   "nbconvert_exporter": "python",
   "pygments_lexer": "ipython3",
   "version": "3.10.4"
  }
 },
 "nbformat": 4,
 "nbformat_minor": 5
}
