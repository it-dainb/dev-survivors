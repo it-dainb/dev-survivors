{
 "cells": [
  {
   "cell_type": "code",
   "execution_count": 1,
   "id": "717ee263",
   "metadata": {},
   "outputs": [
    {
     "name": "stdout",
     "output_type": "stream",
     "text": [
      "Scalene extension successfully loaded. Note: Scalene currently only\n",
      "supports CPU+GPU profiling inside Jupyter notebooks. For full Scalene\n",
      "profiling, use the command line version.\n"
     ]
    }
   ],
   "source": [
    "import pandas as pd\n",
    "import numpy as np\n",
    "import os\n",
    "import time\n",
    "import copy\n",
    "import pathlib, tempfile\n",
    "\n",
    "import matplotlib.pyplot as plt\n",
    "import seaborn as sns\n",
    "sns.set()\n",
    "from graphviz import Digraph\n",
    "from joblib import Parallel, delayed\n",
    "from scipy import stats\n",
    "\n",
    "from survivors import metrics as metr\n",
    "from survivors import constants as cnt\n",
    "from survivors import criteria as crit\n",
    "from numba import njit, jit, int32, float64\n",
    "from lifelines import KaplanMeierFitter, NelsonAalenFitter\n",
    "\n",
    "import survivors.datasets as ds\n",
    "\n",
    "import cProfile\n",
    "import pstats\n",
    "\n",
    "%load_ext line_profiler\n",
    "%load_ext scalene"
   ]
  },
  {
   "cell_type": "code",
   "execution_count": 160,
   "id": "e365dd18",
   "metadata": {},
   "outputs": [
    {
     "name": "stdout",
     "output_type": "stream",
     "text": [
      "(2, 5) (5, 2)\n"
     ]
    },
    {
     "data": {
      "text/plain": [
       "array([[0.46363636, 1.25454545, 2.12727273, 3.05454545, 4.31818182],\n",
       "       [0.17586207, 0.47586207, 0.80689655, 1.15862069, 1.63793103],\n",
       "       [0.13421053, 0.36315789, 0.61578947, 0.88421053, 1.25      ],\n",
       "       [0.11590909, 0.31363636, 0.53181818, 0.76363636, 1.07954545],\n",
       "       [0.09272727, 0.25090909, 0.42545455, 0.61090909, 0.86363636]])"
      ]
     },
     "execution_count": 160,
     "metadata": {},
     "output_type": "execute_result"
    }
   ],
   "source": [
    "a = np.array([1, 2, 3, 4, 5])\n",
    "b = np.array([0.1, 0.9, 0.8, 0.4, 0.5])\n",
    "\n",
    "sf = np.array([[[0.5, 0.1, 0.05],\n",
    "                [0.6, 0.1, 0.05],\n",
    "                [0.7, 0.1, 0.05],\n",
    "                [0.8, 0.1, 0.05],\n",
    "                [0.9, 0.1, 0.05]],\n",
    "               [[0.5, 0.2, 0.0],\n",
    "                [0.6, 0.2, 0.0],\n",
    "                [0.7, 0.2, 0.0],\n",
    "                [0.8, 0.2, 0.0],\n",
    "                [0.9, 0.2, 0.0]]])\n",
    "\n",
    "# sf = np.array([[[0.5],\n",
    "#                 [0.6],\n",
    "#                 [0.7],\n",
    "#                 [0.8],\n",
    "#                 [0.9],\n",
    "#                [[0.1],\n",
    "#                 [0.2],\n",
    "#                 [0.3],\n",
    "#                 [0.4],\n",
    "#                 [0.5]]]])\n",
    "\n",
    "sf = np.array([[0.5, 0.6, 0.7, 0.8, 0.9],\n",
    "               [0.1, 0.2, 0.3, 0.4, 0.5]])\n",
    "\n",
    "weights = np.vstack([a, b]).T\n",
    "print(sf.shape, weights.shape)\n",
    "np.sum((sf.T*weights).T, axis=0) / np.sum(weights, axis=1).reshape(-1, 1)"
   ]
  },
  {
   "cell_type": "code",
   "execution_count": 150,
   "id": "032a24f2",
   "metadata": {},
   "outputs": [
    {
     "data": {
      "text/plain": [
       "array([3.  , 0.54])"
      ]
     },
     "execution_count": 150,
     "metadata": {},
     "output_type": "execute_result"
    }
   ],
   "source": [
    "np.mean(weights, axis=0)"
   ]
  },
  {
   "cell_type": "code",
   "execution_count": 156,
   "id": "324a9daf",
   "metadata": {},
   "outputs": [
    {
     "data": {
      "text/plain": [
       "array([[0.5       , 0.10909091, 0.04545455],\n",
       "       [0.6       , 0.13103448, 0.03448276],\n",
       "       [0.7       , 0.12105263, 0.03947368],\n",
       "       [0.8       , 0.10909091, 0.04545455],\n",
       "       [0.9       , 0.10909091, 0.04545455]])"
      ]
     },
     "execution_count": 156,
     "metadata": {},
     "output_type": "execute_result"
    }
   ],
   "source": [
    "np.sum((sf.T*weights).T, axis=0) / np.sum(weights, axis=1).reshape(-1, 1)"
   ]
  },
  {
   "cell_type": "code",
   "execution_count": 118,
   "id": "afbfeed0",
   "metadata": {},
   "outputs": [
    {
     "data": {
      "text/plain": [
       "(3, 5, 5)"
      ]
     },
     "execution_count": 118,
     "metadata": {},
     "output_type": "execute_result"
    }
   ],
   "source": [
    "np.dot(sf.T, weights.T).shape"
   ]
  },
  {
   "cell_type": "code",
   "execution_count": 122,
   "id": "3850746c",
   "metadata": {},
   "outputs": [
    {
     "data": {
      "text/plain": [
       "(3, 5, 2)"
      ]
     },
     "execution_count": 122,
     "metadata": {},
     "output_type": "execute_result"
    }
   ],
   "source": [
    "sf.T.shape"
   ]
  },
  {
   "cell_type": "code",
   "execution_count": 121,
   "id": "8ba98489",
   "metadata": {},
   "outputs": [
    {
     "ename": "ValueError",
     "evalue": "matmul: Input operand 1 has a mismatch in its core dimension 0, with gufunc signature (n?,k),(k,m?)->(n?,m?) (size 5 is different from 2)",
     "output_type": "error",
     "traceback": [
      "\u001b[1;31m---------------------------------------------------------------------------\u001b[0m",
      "\u001b[1;31mValueError\u001b[0m                                Traceback (most recent call last)",
      "Input \u001b[1;32mIn [121]\u001b[0m, in \u001b[0;36m<cell line: 1>\u001b[1;34m()\u001b[0m\n\u001b[1;32m----> 1\u001b[0m (\u001b[43mweights\u001b[49m\u001b[43m \u001b[49m\u001b[38;5;241;43m@\u001b[39;49m\u001b[43m \u001b[49m\u001b[43msf\u001b[49m)\n",
      "\u001b[1;31mValueError\u001b[0m: matmul: Input operand 1 has a mismatch in its core dimension 0, with gufunc signature (n?,k),(k,m?)->(n?,m?) (size 5 is different from 2)"
     ]
    }
   ],
   "source": [
    "(weights @ sf)"
   ]
  },
  {
   "cell_type": "code",
   "execution_count": 141,
   "id": "fd663fe4",
   "metadata": {},
   "outputs": [
    {
     "data": {
      "text/plain": [
       "(2, 5, 3, 5, 2)"
      ]
     },
     "execution_count": 141,
     "metadata": {},
     "output_type": "execute_result"
    }
   ],
   "source": [
    "np.tensordot(weights.T, sf.T, axes=0).shape"
   ]
  },
  {
   "cell_type": "code",
   "execution_count": 210,
   "id": "76ee5443",
   "metadata": {},
   "outputs": [],
   "source": [
    "from survivors.tree import CRAID\n",
    "\n",
    "class IBSCRAID(CRAID):\n",
    "    def __init__(self, **kwargs):\n",
    "        super().__init__(**kwargs)\n",
    "        self.ibs_leaf = None\n",
    "        \n",
    "    def set_ibs_by_leaf(self, X, y):\n",
    "        numbs = self.predict(X, target=\"numb\").astype(\"int\")\n",
    "        sf = self.predict_at_times(X, self.bins, mode=\"surv\")\n",
    "        ibs_v = metr.ibs(y, y, sf, self.bins, axis=0)\n",
    "\n",
    "        counts = np.bincount(numbs)\n",
    "        self.ibs_leaf = np.bincount(numbs, weights=ibs_v)\n",
    "        self.ibs_leaf[counts>0]/=counts[counts>0]\n",
    "        self.ibs_mean = np.mean(ibs_v)\n",
    "    \n",
    "    def get_ibs_by_leaf(self, X, divide=False):\n",
    "        numbs = self.predict(X, target=\"numb\").astype(\"int\")\n",
    "        if divide:\n",
    "            return self.ibs_leaf[numbs] / self.ibs_mean\n",
    "        return self.ibs_leaf[numbs]\n",
    "    \n",
    "    def fit(self, X, y):\n",
    "        super().fit(X, y)\n",
    "        self.set_ibs_by_leaf(X, y)"
   ]
  },
  {
   "cell_type": "code",
   "execution_count": 378,
   "id": "48662109",
   "metadata": {},
   "outputs": [
    {
     "data": {
      "text/plain": [
       "array([[ 1.   , -0.25 , -0.425],\n",
       "       [ 2.   , -0.1  , -0.475],\n",
       "       [ 3.   , -0.4  , -0.275]])"
      ]
     },
     "execution_count": 378,
     "metadata": {},
     "output_type": "execute_result"
    }
   ],
   "source": [
    "a = np.array([[1, 0.5, 0.3],\n",
    "          [2, 0.8, 0.1],\n",
    "          [3, 0.2, 0.9]])\n",
    "(a - np.array([0, 1, 2])) / np.array([1, 2, 4])"
   ]
  },
  {
   "cell_type": "code",
   "execution_count": 767,
   "id": "ce74d0b3",
   "metadata": {},
   "outputs": [],
   "source": [
    "from survivors.ensemble import BoostingCRAID\n",
    "from scipy.stats import norm\n",
    "\n",
    "class IBSBoostingCRAID(BoostingCRAID):\n",
    "    def __init__(self, **kwargs):\n",
    "        super().__init__(**kwargs)\n",
    "        self.name = \"IBSBoostingCRAID\"\n",
    "    \n",
    "    def fit(self, X, y):\n",
    "        self.features = X.columns\n",
    "        X = X.reset_index(drop=True)\n",
    "        X[cnt.CENS_NAME] = y[cnt.CENS_NAME].astype(np.int32)\n",
    "        X[cnt.TIME_NAME] = y[cnt.TIME_NAME].astype(np.float32)\n",
    "        \n",
    "        self.X_train = X\n",
    "        self.X_train[\"ind_start\"] = self.X_train.index\n",
    "        self.y_train = y\n",
    "        \n",
    "        self.weights = np.zeros(self.X_train.shape[0], dtype=float)\n",
    "        self.bettas = []\n",
    "        self.l_weights = []\n",
    "        self.ibs_means = []\n",
    "        self.ibs_stds = []\n",
    "        self.update_params()\n",
    "        \n",
    "        for i in range(self.n_estimators):\n",
    "            if self.with_arc:\n",
    "                prob_weights = arc_x4(self.weights)\n",
    "            else:\n",
    "                prob_weights = self.weights\n",
    "            if i == 0:\n",
    "                self.ibs_means.append(0.0)\n",
    "                self.ibs_stds.append(1.0)\n",
    "                prob_weights = np.ones(self.weights.shape)*0.5\n",
    "            else:\n",
    "                self.ibs_means.append(np.mean(self.weights))\n",
    "                self.ibs_stds.append(np.std(self.weights))\n",
    "            # wei = (self.weights - self.ibs_means[-1]) / self.ibs_stds[-1]\n",
    "#             prob_weights = norm.cdf(wei)\n",
    "#             plt.hist(wei)\n",
    "#             plt.hist(wei[self.y_train[\"cens\"]])\n",
    "#             plt.show()\n",
    "            # prob_weights = self.weights\n",
    "            \n",
    "            x_sub = self.X_train.sample(n=self.size_sample, weights=prob_weights,  # self.weights\n",
    "                                        replace=self.bootstrap, random_state=i)\n",
    "            x_oob = self.X_train.loc[self.X_train.index.difference(x_sub.index), :]\n",
    "            print(\"UNIQUE:\", np.unique(x_sub.index).shape[0])\n",
    "            x_sub = x_sub.reset_index(drop=True)\n",
    "            X_sub_tr, y_sub_tr = cnt.pd_to_xy(x_sub)\n",
    "            if self.weighted_tree:\n",
    "                X_sub_tr[\"weights_obs\"] = prob_weights[x_sub['ind_start']]  # self.weights\n",
    "\n",
    "            model = IBSCRAID(features=self.features, random_state=i, **self.tree_kwargs)\n",
    "            model.fit(X_sub_tr, y_sub_tr)\n",
    "            \n",
    "            wei_i, betta_i = self.count_model_weights(model, X_sub_tr, y_sub_tr)\n",
    "            self.add_model(model, x_oob, wei_i, betta_i)\n",
    "            self.update_weight(x_sub['ind_start'], wei_i)\n",
    "            self.ens_metr[i] = self.score_oob()\n",
    "        \n",
    "        if self.tolerance:\n",
    "            self.tolerance_find_best()\n",
    "        print('fitted:', len(self.models), 'models.')\n",
    "    \n",
    "    def predict(self, x_test, aggreg=True, **kwargs):\n",
    "        res = []\n",
    "        weights = None\n",
    "        if self.aggreg_func == \"obs_wei\":\n",
    "            weights = [np.zeros(x_test.shape[0])]\n",
    "        for i in range(len(self.models)):\n",
    "            res.append(self.models[i].predict(x_test, **kwargs))\n",
    "            if self.aggreg_func == \"obs_wei\":\n",
    "                weights.append(self.models[i].get_ibs_by_leaf(x_test))\n",
    "                \n",
    "        res = np.array(res)\n",
    "        if self.aggreg_func == \"obs_wei\":\n",
    "            weights = np.vstack(weights[:-1]).T\n",
    "            weights = np.cumsum(weights, axis=1)\n",
    "            wei = (weights - np.array(self.ibs_means)) / np.array(self.ibs_stds)\n",
    "            weights = norm.cdf(wei)\n",
    "        if aggreg:\n",
    "            res = self.get_aggreg(res, weights)\n",
    "        return res\n",
    "    \n",
    "    def select_model(self, start, end):\n",
    "        self.ibs_means = self.ibs_means[start:end]\n",
    "        self.ibs_stds = self.ibs_stds[start:end]\n",
    "        super().select_model(start, end)\n",
    "    \n",
    "    def predict_sf_by_hazard(self, x_test, bins, aggreg=True):\n",
    "        hf = self.predict_at_times(x_test, bins, aggreg=aggreg, mode=\"hazard\")\n",
    "        return np.exp(-1*hf)\n",
    "    \n",
    "    def predict_at_times(self, x_test, bins, aggreg=True, mode=\"surv\"):\n",
    "        if mode==\"surv\":\n",
    "            return self.predict_sf_by_hazard(x_test, bins, aggreg=aggreg)\n",
    "        res = []\n",
    "        weights = None\n",
    "        if self.aggreg_func == \"obs_wei\":\n",
    "            weights = [np.zeros(x_test.shape[0])]\n",
    "        for i in range(len(self.models)):\n",
    "            res.append(self.models[i].predict_at_times(x_test, bins=bins,\n",
    "                                                       mode=mode)[np.newaxis, :])\n",
    "            if self.aggreg_func == \"obs_wei\":\n",
    "                weights.append(self.models[i].get_ibs_by_leaf(x_test))\n",
    "                \n",
    "        res = np.vstack(res)\n",
    "        if self.aggreg_func == \"obs_wei\":\n",
    "            weights = np.vstack(weights[:-1]).T\n",
    "            weights = np.cumsum(weights, axis=1)\n",
    "            wei = (weights - np.array(self.ibs_means)) / np.array(self.ibs_stds)\n",
    "            weights = norm.cdf(wei)\n",
    "        if aggreg:\n",
    "            res = self.get_aggreg(res, weights)\n",
    "        return res\n",
    "    \n",
    "    def count_model_weights(self, model, X_sub, y_sub):\n",
    "        if self.all_weight:\n",
    "            X_sub = self.X_train\n",
    "            y_sub = self.y_train\n",
    "        \n",
    "#         self.models.append(model)\n",
    "#         self.bettas.append(1)\n",
    "        \n",
    "        pred_tree = model.predict_at_times(X_sub, bins=self.bins, mode=\"surv\")\n",
    "        wei = metr.ibs(self.y_train, y_sub, pred_tree, self.bins, axis=0)\n",
    "        betta = np.mean(wei)\n",
    "\n",
    "#         pred_tree = self.predict_at_times(X_sub, bins=self.bins, mode=\"surv\")\n",
    "#         wei = metr.ibs(self.y_train, y_sub, pred_tree, self.bins, axis=0)\n",
    "#         betta = np.mean(wei)\n",
    "        \n",
    "#         self.models = self.models[:-1]\n",
    "#         self.bettas = self.bettas[:-1]\n",
    "        return wei, betta\n",
    "\n",
    "    def update_weight(self, index, wei_i):\n",
    "        if self.all_weight:\n",
    "            self.weights = self.weights + wei_i\n",
    "        else:\n",
    "            self.weights[index] = (self.weights[index] + wei_i)\n",
    "        # self.weights = (self.weights - self.weights.min())\n",
    "        # self.weights = (self.weights - self.weights.min()) / (self.weights.max() - self.weights.min())\n",
    "\n",
    "    def get_aggreg(self, x, wei=None):\n",
    "        if self.aggreg_func == 'median':\n",
    "            return np.median(x, axis=0)\n",
    "        if self.aggreg_func == 'moda':\n",
    "            res = np.median(x > 0.5, axis=0)\n",
    "            return res\n",
    "        if self.aggreg_func == 'complex':\n",
    "            #a = np.max(x, axis=0)\n",
    "            b = np.min(x, axis=0)\n",
    "            res = np.mean(x, axis=0)\n",
    "            #res[a == 1] = 1\n",
    "            res[res < 0.01] = 0\n",
    "            return res\n",
    "        elif self.aggreg_func == 'softmax':\n",
    "            inv_wei = np.exp(np.array(self.bettas))\n",
    "            wei = inv_wei/sum(inv_wei)\n",
    "            return np.sum((x.T*wei).T, axis=0)\n",
    "        elif self.aggreg_func == 'wei':\n",
    "            inv_wei = 1/np.array(self.bettas)\n",
    "            wei = inv_wei/sum(inv_wei)\n",
    "            return np.sum((x.T*wei).T, axis=0)\n",
    "        elif self.aggreg_func == \"obs_wei\":\n",
    "            wei_s = np.sum(wei, axis=1)\n",
    "            if len(x.shape) > 2:\n",
    "                wei_s = wei_s.reshape(-1, 1)\n",
    "            return np.sum((x.T*wei).T, axis=0) / wei_s\n",
    "            #return (wei @ x) / np.sum(wei, axis=1).reshape(-1, 1)\n",
    "        return np.mean(x, axis=0)\n"
   ]
  },
  {
   "cell_type": "code",
   "execution_count": 768,
   "id": "d147e0d3",
   "metadata": {},
   "outputs": [
    {
     "name": "stderr",
     "output_type": "stream",
     "text": [
      "C:\\ProgramData\\Anaconda3\\envs\\survive\\lib\\site-packages\\openpyxl\\styles\\stylesheet.py:226: UserWarning: Workbook contains no default style, apply openpyxl's default\n",
      "  warn(\"Workbook contains no default style, apply openpyxl's default\")\n",
      "C:\\ProgramData\\Anaconda3\\envs\\survive\\lib\\site-packages\\openpyxl\\styles\\stylesheet.py:226: UserWarning: Workbook contains no default style, apply openpyxl's default\n",
      "  warn(\"Workbook contains no default style, apply openpyxl's default\")\n",
      "C:\\ProgramData\\Anaconda3\\envs\\survive\\lib\\site-packages\\openpyxl\\styles\\stylesheet.py:226: UserWarning: Workbook contains no default style, apply openpyxl's default\n",
      "  warn(\"Workbook contains no default style, apply openpyxl's default\")\n",
      "C:\\ProgramData\\Anaconda3\\envs\\survive\\lib\\site-packages\\openpyxl\\styles\\stylesheet.py:226: UserWarning: Workbook contains no default style, apply openpyxl's default\n",
      "  warn(\"Workbook contains no default style, apply openpyxl's default\")\n"
     ]
    },
    {
     "name": "stdout",
     "output_type": "stream",
     "text": [
      "DIAG {'C20': 0, 'C50.4': 1, 'C61': 2}\n"
     ]
    }
   ],
   "source": [
    "from survivors.experiments.grid import generate_sample\n",
    "\n",
    "X, y, features, categ, sch_nan = ds.load_onk_dataset()\n",
    "\n",
    "for X_tr, y_tr, X_HO, y_HO, bins in generate_sample(X, y, 5, \"CV+HOLD-OUT\"):\n",
    "    pass"
   ]
  },
  {
   "cell_type": "code",
   "execution_count": 775,
   "id": "f8844e79",
   "metadata": {
    "scrolled": true
   },
   "outputs": [
    {
     "name": "stdout",
     "output_type": "stream",
     "text": [
      "UNIQUE: 1140\n",
      "UNIQUE: 364\n",
      "UNIQUE: 549\n",
      "UNIQUE: 570\n",
      "UNIQUE: 563\n",
      "UNIQUE: 577\n",
      "UNIQUE: 593\n",
      "UNIQUE: 586\n",
      "UNIQUE: 567\n",
      "UNIQUE: 590\n",
      "UNIQUE: 568\n",
      "UNIQUE: 603\n",
      "UNIQUE: 589\n",
      "UNIQUE: 606\n",
      "UNIQUE: 606\n",
      "UNIQUE: 586\n",
      "UNIQUE: 612\n",
      "UNIQUE: 604\n",
      "UNIQUE: 608\n",
      "UNIQUE: 606\n",
      "UNIQUE: 591\n",
      "UNIQUE: 592\n",
      "UNIQUE: 598\n",
      "UNIQUE: 632\n",
      "UNIQUE: 615\n",
      "UNIQUE: 584\n",
      "UNIQUE: 605\n",
      "UNIQUE: 611\n",
      "UNIQUE: 584\n",
      "UNIQUE: 593\n",
      "[0.7832 0.794  0.8173 0.8117 0.811  0.8187 0.8218 0.8206 0.8181 0.8219\n",
      " 0.8249 0.8337 0.8378 0.8377 0.8372 0.8375 0.8387 0.838  0.8388 0.8391\n",
      " 0.839  0.8417 0.8412 0.8424 0.843  0.8446 0.8449 0.8444 0.8438 0.8443]\n",
      "fitted: 27 models.\n",
      "80.94683694839478\n"
     ]
    }
   ],
   "source": [
    "# proboost_params = {'balance': None, \n",
    "#                    \"with_arc\": False,\n",
    "#                    'aggreg_func': \"obs_wei\", 'all_weight': True, 'categ': ['Диагноз'], \n",
    "#                    'criterion': 'logrank', 'depth': 10, 'ens_metric_name': 'ibs', \n",
    "#                    'leaf_model': 'base_fast', 'max_features': 0.7, 'min_samples_leaf': 5, \n",
    "#                    'n_estimators': 30, 'n_jobs': 2, 'size_sample': 0.7}\n",
    "\n",
    "proboost_params = {\n",
    " 'balance': None, \n",
    " \"with_arc\": False,\n",
    " 'aggreg_func': 'obs_wei', 'all_weight': True, 'categ': ['Диагноз'], \n",
    " 'criterion': 'logrank', 'depth': 10, 'ens_metric_name': 'conc', \n",
    " 'leaf_model': 'wei_survive', 'max_features': 0.7, 'min_samples_leaf': 10, \n",
    " 'n_estimators': 30, 'n_jobs': 2, 'size_sample': 0.7\n",
    "}\n",
    "\n",
    "start_time = time.time()\n",
    "proboost = IBSBoostingCRAID(**proboost_params)\n",
    "proboost.fit(X_tr, y_tr)\n",
    "\n",
    "print(time.time() - start_time)"
   ]
  },
  {
   "cell_type": "code",
   "execution_count": 776,
   "id": "e51fa901",
   "metadata": {},
   "outputs": [
    {
     "name": "stdout",
     "output_type": "stream",
     "text": [
      "Prior distribution: [1913  351]\n"
     ]
    },
    {
     "data": {
      "image/png": "[encoded data removed]",
      "text/plain": [
       "<Figure size 432x288 with 1 Axes>"
      ]
     },
     "metadata": {
      "needs_background": "light"
     },
     "output_type": "display_data"
    }
   ],
   "source": [
    "print(\"Prior distribution:\", np.bincount(y_tr[\"cens\"]))\n",
    "n_cens = []\n",
    "n_events = []\n",
    "for i in range(len(proboost.models)):\n",
    "    distr = np.bincount(proboost.models[i].nodes[0].leaf_model.predict_list_feature(feature_name=\"cens\"))\n",
    "    n_cens.append(distr[0])\n",
    "    n_events.append(distr[1])\n",
    "\n",
    "plt.plot(n_cens, label=\"cens\")\n",
    "plt.plot(n_events, label=\"events\")\n",
    "plt.legend()\n",
    "plt.ylabel(\"Quantity of observation\")\n",
    "plt.xlabel(\"Number of sample\")\n",
    "plt.show()"
   ]
  },
  {
   "cell_type": "code",
   "execution_count": 777,
   "id": "5eee681d",
   "metadata": {},
   "outputs": [
    {
     "data": {
      "image/png": "[encoded data removed]",
      "text/plain": [
       "<Figure size 720x360 with 2 Axes>"
      ]
     },
     "metadata": {
      "needs_background": "light"
     },
     "output_type": "display_data"
    }
   ],
   "source": [
    "fig, axes = plt.subplots(figsize=(10, 5), ncols=2)\n",
    "axes[0].scatter(np.arange(proboost.weights.shape[0]), \n",
    "                proboost.weights,\n",
    "                c = np.where(proboost.y_train[\"cens\"], \"orange\", \"blue\"))\n",
    "axes[1].hist(proboost.weights, orientation=\"horizontal\")\n",
    "plt.show()"
   ]
  },
  {
   "cell_type": "code",
   "execution_count": 778,
   "id": "1b55a0c3",
   "metadata": {},
   "outputs": [],
   "source": [
    "tr_pred_surv_proboost = proboost.predict_at_times(X_tr, bins=bins, mode=\"surv\")\n",
    "\n",
    "pred_surv_proboost = proboost.predict_at_times(X_HO, bins=bins, mode=\"surv\")\n",
    "pred_time_proboost = proboost.predict(X_HO, target=cnt.TIME_NAME)\n",
    "pred_haz_proboost = proboost.predict_at_times(X_HO, bins=bins, mode=\"hazard\")"
   ]
  },
  {
   "cell_type": "code",
   "execution_count": 779,
   "id": "c4573665",
   "metadata": {},
   "outputs": [
    {
     "name": "stdout",
     "output_type": "stream",
     "text": [
      "TRAIN PR: 0.06119807700775853\n",
      "TRAIN EVENT PR: 0.2155905738349956\n",
      "TRAIN CENS PR: 0.03286991893856867\n",
      "TRAIN WEI=0 PR: 0.008645800069564974\n",
      "TRAIN WEI=0 PR: 0.22775879268111235\n",
      "\n",
      "TEST PR: 0.11718806231350407\n",
      "TEST EVENT PR: 0.4356136830983036\n",
      "TEST CENS PR: 0.05877063665521105\n"
     ]
    }
   ],
   "source": [
    "print(\"TRAIN PR:\", metr.ibs(y_tr, y_tr, tr_pred_surv_proboost, bins, axis=-1))\n",
    "print(\"TRAIN EVENT PR:\", metr.ibs(y_tr, y_tr[y_tr[\"cens\"]], tr_pred_surv_proboost[y_tr[\"cens\"]], bins, axis=-1))\n",
    "print(\"TRAIN CENS PR:\", metr.ibs(y_tr, y_tr[~y_tr[\"cens\"]], tr_pred_surv_proboost[~y_tr[\"cens\"]], bins, axis=-1))\n",
    "print(\"TRAIN WEI=0 PR:\", metr.ibs(y_tr, y_tr[np.where(proboost.weights<np.mean(proboost.weights))], \n",
    "                                  tr_pred_surv_proboost[np.where(proboost.weights<np.mean(proboost.weights))], bins, axis=-1))\n",
    "print(\"TRAIN WEI=0 PR:\", metr.ibs(y_tr, y_tr[np.where(proboost.weights>np.mean(proboost.weights))], \n",
    "                                  tr_pred_surv_proboost[np.where(proboost.weights>np.mean(proboost.weights))], bins, axis=-1))\n",
    "print()\n",
    "print(\"TEST PR:\", metr.ibs(y_tr, y_HO, pred_surv_proboost, bins, axis=-1))\n",
    "print(\"TEST EVENT PR:\", metr.ibs(y_tr, y_HO[y_HO[\"cens\"]], pred_surv_proboost[y_HO[\"cens\"]], bins, axis=-1))\n",
    "print(\"TEST CENS PR:\", metr.ibs(y_tr, y_HO[~y_HO[\"cens\"]], pred_surv_proboost[~y_HO[\"cens\"]], bins, axis=-1))"
   ]
  },
  {
   "cell_type": "code",
   "execution_count": 794,
   "id": "b9681ab6",
   "metadata": {},
   "outputs": [
    {
     "name": "stdout",
     "output_type": "stream",
     "text": [
      "[1.79298024 1.78996611 1.64164624 1.53702385 1.45642066 1.43333997\n",
      " 1.31778789 1.25867699 1.17799562 1.14974275]\n",
      "[( True, 612.) ( True, 471.) ( True, 707.) ( True, 301.) ( True, 220.)\n",
      " ( True, 621.) ( True, 705.) ( True, 387.) ( True, 752.) ( True, 579.)]\n",
      "[[1.         1.         1.         ... 0.71324166 0.71324166 0.65014585]\n",
      " [1.         1.         1.         ... 0.66695078 0.66695078 0.65374013]\n",
      " [1.         1.         1.         ... 0.34719671 0.34719671 0.34549994]\n",
      " ...\n",
      " [1.         1.         1.         ... 0.51961412 0.51961412 0.50558311]\n",
      " [1.         1.         1.         ... 0.55593309 0.55593309 0.55593309]\n",
      " [1.         1.         1.         ... 0.54790666 0.54790666 0.50160675]]\n"
     ]
    }
   ],
   "source": [
    "y_t = y_HO[y_HO[\"cens\"]]\n",
    "test_ibs = metr.ibs(y_tr, y_t, pred_surv_proboost[y_HO[\"cens\"]], bins, axis=0)\n",
    "\n",
    "srt_idx = np.argsort(test_ibs)[::-1]\n",
    "print(test_ibs[srt_idx][:10])\n",
    "print(y_t[srt_idx][:10])\n",
    "print(pred_surv_proboost[y_HO[\"cens\"]][srt_idx][:10])"
   ]
  },
  {
   "cell_type": "code",
   "execution_count": 783,
   "id": "972c9737",
   "metadata": {},
   "outputs": [
    {
     "data": {
      "text/plain": [
       "array([0.        , 0.        , 0.        , ..., 2.02517762, 2.53568889,\n",
       "       2.87518148])"
      ]
     },
     "execution_count": 783,
     "metadata": {},
     "output_type": "execute_result"
    }
   ],
   "source": [
    "test_ibs[srt_idx]"
   ]
  },
  {
   "cell_type": "code",
   "execution_count": 774,
   "id": "fe7f9eec",
   "metadata": {},
   "outputs": [
    {
     "data": {
      "image/png": "[encoded data removed]",
      "text/plain": [
       "<Figure size 432x288 with 1 Axes>"
      ]
     },
     "metadata": {
      "needs_background": "light"
     },
     "output_type": "display_data"
    },
    {
     "data": {
      "image/png": "[encoded data removed]",
      "text/plain": [
       "<Figure size 432x288 with 1 Axes>"
      ]
     },
     "metadata": {
      "needs_background": "light"
     },
     "output_type": "display_data"
    }
   ],
   "source": [
    "import copy\n",
    "\n",
    "tr_all = []\n",
    "tr_event = []\n",
    "tr_cens = []\n",
    "\n",
    "tst_all = []\n",
    "tst_event = []\n",
    "tst_cens = []\n",
    "\n",
    "procopy = copy.deepcopy(proboost)\n",
    "x = list(range(30, 0, -1))\n",
    "for i in x:\n",
    "    procopy.select_model(0, i)\n",
    "    tr_pred = procopy.predict_at_times(X_tr, bins=bins, mode=\"surv\")\n",
    "    tst_pred = procopy.predict_at_times(X_HO, bins=bins, mode=\"surv\")\n",
    "    \n",
    "    tr_all.append(metr.ibs(y_tr, y_tr, tr_pred, bins, axis=-1))\n",
    "    tr_event.append(metr.ibs(y_tr, y_tr[y_tr[\"cens\"]], tr_pred[y_tr[\"cens\"]], bins, axis=-1))\n",
    "    tr_cens.append(metr.ibs(y_tr, y_tr[~y_tr[\"cens\"]], tr_pred[~y_tr[\"cens\"]], bins, axis=-1))\n",
    "    \n",
    "    tst_all.append(metr.ibs(y_tr, y_HO, tst_pred, bins, axis=-1))\n",
    "    tst_event.append(metr.ibs(y_tr, y_HO[y_HO[\"cens\"]], tst_pred[y_HO[\"cens\"]], bins, axis=-1))\n",
    "    tst_cens.append(metr.ibs(y_tr, y_HO[~y_HO[\"cens\"]], tst_pred[~y_HO[\"cens\"]], bins, axis=-1))\n",
    "\n",
    "plt.plot(x, tr_all, label=\"all\")\n",
    "plt.plot(x, tr_event, label=\"event\")\n",
    "plt.plot(x, tr_cens, label=\"cens\")\n",
    "plt.legend()\n",
    "plt.show()\n",
    "plt.plot(x, tst_all, label=\"all\")\n",
    "plt.plot(x, tst_event, label=\"event\")\n",
    "plt.plot(x, tst_cens, label=\"cens\")\n",
    "plt.legend()\n",
    "plt.show()"
   ]
  },
  {
   "cell_type": "code",
   "execution_count": null,
   "id": "62696f95",
   "metadata": {},
   "outputs": [],
   "source": [
    "proboost.ibs_means"
   ]
  },
  {
   "cell_type": "code",
   "execution_count": 605,
   "id": "672fdb7e",
   "metadata": {},
   "outputs": [
    {
     "data": {
      "text/plain": [
       "array([ 20.61344266,  97.325549  , 449.3023549 , ...,  14.23570456,\n",
       "        42.60921466,  84.91567243])"
      ]
     },
     "execution_count": 605,
     "metadata": {},
     "output_type": "execute_result"
    }
   ],
   "source": [
    "pred_time_proboost"
   ]
  },
  {
   "cell_type": "code",
   "execution_count": 606,
   "id": "d7460548",
   "metadata": {},
   "outputs": [
    {
     "data": {
      "text/plain": [
       "array([  1.,   7., 357., ...,   2.,  14.,  44.])"
      ]
     },
     "execution_count": 606,
     "metadata": {},
     "output_type": "execute_result"
    }
   ],
   "source": [
    "y_HO[\"time\"]"
   ]
  },
  {
   "cell_type": "code",
   "execution_count": 611,
   "id": "0860d725",
   "metadata": {},
   "outputs": [],
   "source": [
    "res = []\n",
    "weights = None\n",
    "if proboost.aggreg_func == \"obs_wei\":\n",
    "    weights = [np.zeros(X_HO.shape[0])]\n",
    "for i in range(len(proboost.models)):\n",
    "    res.append(proboost.models[i].predict(X_HO, target=cnt.TIME_NAME))\n",
    "    if proboost.aggreg_func == \"obs_wei\":\n",
    "        weights.append(proboost.models[i].get_ibs_by_leaf(X_HO))\n",
    "\n",
    "res = np.array(res)\n",
    "if proboost.aggreg_func == \"obs_wei\":\n",
    "    weights = np.vstack(weights[:-1]).T\n",
    "    weights = np.cumsum(weights, axis=1)\n",
    "    weights = norm.cdf((weights - np.array(proboost.ibs_means)) / np.array(proboost.ibs_stds))"
   ]
  },
  {
   "cell_type": "code",
   "execution_count": 757,
   "id": "d51ec97d",
   "metadata": {},
   "outputs": [
    {
     "name": "stdout",
     "output_type": "stream",
     "text": [
      "9.311282092007119\n",
      "1.7253787145420514\n"
     ]
    }
   ],
   "source": [
    "print(np.mean(proboost.weights[proboost.y_train[\"cens\"]]))\n",
    "print(np.mean(proboost.weights[~proboost.y_train[\"cens\"]]))"
   ]
  },
  {
   "cell_type": "code",
   "execution_count": 617,
   "id": "db650508",
   "metadata": {},
   "outputs": [
    {
     "data": {
      "text/plain": [
       "array([0.5       , 0.65882212, 0.75576912, 0.67123547, 0.66340646,\n",
       "       0.56999353, 0.4820908 , 0.43119368, 0.39712532, 0.37137517,\n",
       "       0.3804177 , 0.39086582, 0.46635157, 0.43576438, 0.41004133,\n",
       "       0.42703959, 0.50086209, 0.51558803, 0.55835329, 0.52395362,\n",
       "       0.49195177, 0.47727851, 0.4593069 , 0.43744934, 0.42408918,\n",
       "       0.41439572, 0.40111487, 0.38275273, 0.39157805, 0.37727791])"
      ]
     },
     "execution_count": 617,
     "metadata": {},
     "output_type": "execute_result"
    }
   ],
   "source": [
    "weights[1]"
   ]
  },
  {
   "cell_type": "code",
   "execution_count": 613,
   "id": "5b18c590",
   "metadata": {},
   "outputs": [
    {
     "data": {
      "text/plain": [
       "array([ 88.5689621 , 101.        ,  94.26316071, 106.09889984,\n",
       "        76.57142639, 141.1000061 ,  67.63636017,  51.80625153,\n",
       "        53.77777863,  51.8571434 , 115.36842346,  85.1818161 ,\n",
       "        48.16666794,  49.        , 114.69999695, 117.83333588,\n",
       "        79.33333588,  89.83333588,  85.25      , 203.66667175,\n",
       "        53.        ,  95.85713959, 131.75      , 148.1000061 ,\n",
       "        65.        , 104.44444275, 200.83332825,  72.875     ,\n",
       "       164.5       ,  49.57143021])"
      ]
     },
     "execution_count": 613,
     "metadata": {},
     "output_type": "execute_result"
    }
   ],
   "source": [
    "res[:, 1]"
   ]
  },
  {
   "cell_type": "code",
   "execution_count": 614,
   "id": "066642b6",
   "metadata": {},
   "outputs": [
    {
     "data": {
      "text/plain": [
       "array([ 20.25475238,  96.44154524, 451.50193452, ...,  14.86393937,\n",
       "        39.92787486,  84.87878912])"
      ]
     },
     "execution_count": 614,
     "metadata": {},
     "output_type": "execute_result"
    }
   ],
   "source": [
    "np.sum((res.T*1/weights).T, axis=0) / np.sum(1/weights, axis=1)"
   ]
  },
  {
   "cell_type": "code",
   "execution_count": 755,
   "id": "db158144",
   "metadata": {},
   "outputs": [
    {
     "data": {
      "text/plain": [
       "array([ 35.3370864 , 115.69807324, 611.74538324, ...,  49.64225843,\n",
       "        82.4029887 , 155.1648781 ])"
      ]
     },
     "execution_count": 755,
     "metadata": {},
     "output_type": "execute_result"
    }
   ],
   "source": [
    "pred_time_proboost"
   ]
  },
  {
   "cell_type": "code",
   "execution_count": 756,
   "id": "9ea19eff",
   "metadata": {},
   "outputs": [
    {
     "data": {
      "text/plain": [
       "array([(False,   1.), ( True,   7.), (False, 357.), ..., (False,   2.),\n",
       "       (False,  14.), (False,  44.)],\n",
       "      dtype=[('cens', '?'), ('time', '<f8')])"
      ]
     },
     "execution_count": 756,
     "metadata": {},
     "output_type": "execute_result"
    }
   ],
   "source": [
    "y_HO"
   ]
  },
  {
   "cell_type": "code",
   "execution_count": null,
   "id": "6fc6e20c",
   "metadata": {},
   "outputs": [],
   "source": []
  }
 ],
 "metadata": {
  "kernelspec": {
   "display_name": "Python 3 (ipykernel)",
   "language": "python",
   "name": "python3"
  },
  "language_info": {
   "codemirror_mode": {
    "name": "ipython",
    "version": 3
   },
   "file_extension": ".py",
   "mimetype": "text/x-python",
   "name": "python",
   "nbconvert_exporter": "python",
   "pygments_lexer": "ipython3",
   "version": "3.10.4"
  }
 },
 "nbformat": 4,
 "nbformat_minor": 5
}
