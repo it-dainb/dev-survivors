{
 "cells": [
  {
   "cell_type": "code",
   "execution_count": 61,
   "id": "2c07abc1",
   "metadata": {},
   "outputs": [
    {
     "name": "stdout",
     "output_type": "stream",
     "text": [
      "Scalene extension successfully loaded. Note: Scalene currently only\n",
      "supports CPU+GPU profiling inside Jupyter notebooks. For full Scalene\n",
      "profiling, use the command line version.\n"
     ]
    }
   ],
   "source": [
    "import pandas as pd\n",
    "import numpy as np\n",
    "import os\n",
    "import time\n",
    "import copy\n",
    "import pathlib, tempfile\n",
    "\n",
    "import matplotlib.pyplot as plt\n",
    "import seaborn as sns\n",
    "sns.set()\n",
    "from graphviz import Digraph\n",
    "from joblib import Parallel, delayed\n",
    "from scipy import stats\n",
    "\n",
    "from survivors import metrics as metr\n",
    "from survivors import constants as cnt\n",
    "from survivors import criteria as crit\n",
    "from numba import njit, jit, int32, float64\n",
    "from lifelines import KaplanMeierFitter, NelsonAalenFitter\n",
    "\n",
    "import survivors.datasets as ds\n",
    "\n",
    "import cProfile\n",
    "import pstats\n",
    "\n",
    "%load_ext line_profiler\n",
    "%load_ext scalene"
   ]
  },
  {
   "cell_type": "code",
   "execution_count": 160,
   "id": "020acd3d",
   "metadata": {},
   "outputs": [
    {
     "name": "stdout",
     "output_type": "stream",
     "text": [
      "(2, 5) (5, 2)\n"
     ]
    },
    {
     "data": {
      "text/plain": [
       "array([[0.46363636, 1.25454545, 2.12727273, 3.05454545, 4.31818182],\n",
       "       [0.17586207, 0.47586207, 0.80689655, 1.15862069, 1.63793103],\n",
       "       [0.13421053, 0.36315789, 0.61578947, 0.88421053, 1.25      ],\n",
       "       [0.11590909, 0.31363636, 0.53181818, 0.76363636, 1.07954545],\n",
       "       [0.09272727, 0.25090909, 0.42545455, 0.61090909, 0.86363636]])"
      ]
     },
     "execution_count": 160,
     "metadata": {},
     "output_type": "execute_result"
    }
   ],
   "source": [
    "a = np.array([1, 2, 3, 4, 5])\n",
    "b = np.array([0.1, 0.9, 0.8, 0.4, 0.5])\n",
    "\n",
    "sf = np.array([[[0.5, 0.1, 0.05],\n",
    "                [0.6, 0.1, 0.05],\n",
    "                [0.7, 0.1, 0.05],\n",
    "                [0.8, 0.1, 0.05],\n",
    "                [0.9, 0.1, 0.05]],\n",
    "               [[0.5, 0.2, 0.0],\n",
    "                [0.6, 0.2, 0.0],\n",
    "                [0.7, 0.2, 0.0],\n",
    "                [0.8, 0.2, 0.0],\n",
    "                [0.9, 0.2, 0.0]]])\n",
    "\n",
    "# sf = np.array([[[0.5],\n",
    "#                 [0.6],\n",
    "#                 [0.7],\n",
    "#                 [0.8],\n",
    "#                 [0.9],\n",
    "#                [[0.1],\n",
    "#                 [0.2],\n",
    "#                 [0.3],\n",
    "#                 [0.4],\n",
    "#                 [0.5]]]])\n",
    "\n",
    "sf = np.array([[0.5, 0.6, 0.7, 0.8, 0.9],\n",
    "               [0.1, 0.2, 0.3, 0.4, 0.5]])\n",
    "\n",
    "weights = np.vstack([a, b]).T\n",
    "print(sf.shape, weights.shape)\n",
    "np.sum((sf.T*weights).T, axis=0) / np.sum(weights, axis=1).reshape(-1, 1)"
   ]
  },
  {
   "cell_type": "code",
   "execution_count": 150,
   "id": "02abf700",
   "metadata": {},
   "outputs": [
    {
     "data": {
      "text/plain": [
       "array([3.  , 0.54])"
      ]
     },
     "execution_count": 150,
     "metadata": {},
     "output_type": "execute_result"
    }
   ],
   "source": [
    "np.mean(weights, axis=0)"
   ]
  },
  {
   "cell_type": "code",
   "execution_count": 156,
   "id": "ea4c4561",
   "metadata": {},
   "outputs": [
    {
     "data": {
      "text/plain": [
       "array([[0.5       , 0.10909091, 0.04545455],\n",
       "       [0.6       , 0.13103448, 0.03448276],\n",
       "       [0.7       , 0.12105263, 0.03947368],\n",
       "       [0.8       , 0.10909091, 0.04545455],\n",
       "       [0.9       , 0.10909091, 0.04545455]])"
      ]
     },
     "execution_count": 156,
     "metadata": {},
     "output_type": "execute_result"
    }
   ],
   "source": [
    "np.sum((sf.T*weights).T, axis=0) / np.sum(weights, axis=1).reshape(-1, 1)"
   ]
  },
  {
   "cell_type": "code",
   "execution_count": 118,
   "id": "a0de8fbe",
   "metadata": {},
   "outputs": [
    {
     "data": {
      "text/plain": [
       "(3, 5, 5)"
      ]
     },
     "execution_count": 118,
     "metadata": {},
     "output_type": "execute_result"
    }
   ],
   "source": [
    "np.dot(sf.T, weights.T).shape"
   ]
  },
  {
   "cell_type": "code",
   "execution_count": 122,
   "id": "7901f37a",
   "metadata": {},
   "outputs": [
    {
     "data": {
      "text/plain": [
       "(3, 5, 2)"
      ]
     },
     "execution_count": 122,
     "metadata": {},
     "output_type": "execute_result"
    }
   ],
   "source": [
    "sf.T.shape"
   ]
  },
  {
   "cell_type": "code",
   "execution_count": 121,
   "id": "4e55751f",
   "metadata": {},
   "outputs": [
    {
     "ename": "ValueError",
     "evalue": "matmul: Input operand 1 has a mismatch in its core dimension 0, with gufunc signature (n?,k),(k,m?)->(n?,m?) (size 5 is different from 2)",
     "output_type": "error",
     "traceback": [
      "\u001b[1;31m---------------------------------------------------------------------------\u001b[0m",
      "\u001b[1;31mValueError\u001b[0m                                Traceback (most recent call last)",
      "Input \u001b[1;32mIn [121]\u001b[0m, in \u001b[0;36m<cell line: 1>\u001b[1;34m()\u001b[0m\n\u001b[1;32m----> 1\u001b[0m (\u001b[43mweights\u001b[49m\u001b[43m \u001b[49m\u001b[38;5;241;43m@\u001b[39;49m\u001b[43m \u001b[49m\u001b[43msf\u001b[49m)\n",
      "\u001b[1;31mValueError\u001b[0m: matmul: Input operand 1 has a mismatch in its core dimension 0, with gufunc signature (n?,k),(k,m?)->(n?,m?) (size 5 is different from 2)"
     ]
    }
   ],
   "source": [
    "(weights @ sf)"
   ]
  },
  {
   "cell_type": "code",
   "execution_count": 141,
   "id": "b2f13194",
   "metadata": {},
   "outputs": [
    {
     "data": {
      "text/plain": [
       "(2, 5, 3, 5, 2)"
      ]
     },
     "execution_count": 141,
     "metadata": {},
     "output_type": "execute_result"
    }
   ],
   "source": [
    "np.tensordot(weights.T, sf.T, axes=0).shape"
   ]
  },
  {
   "cell_type": "code",
   "execution_count": 210,
   "id": "6cfd3080",
   "metadata": {},
   "outputs": [],
   "source": [
    "from survivors.tree import CRAID\n",
    "\n",
    "class IBSCRAID(CRAID):\n",
    "    def __init__(self, **kwargs):\n",
    "        super().__init__(**kwargs)\n",
    "        self.ibs_leaf = None\n",
    "        \n",
    "    def set_ibs_by_leaf(self, X, y):\n",
    "        numbs = self.predict(X, target=\"numb\").astype(\"int\")\n",
    "        sf = self.predict_at_times(X, self.bins, mode=\"surv\")\n",
    "        ibs_v = metr.ibs(y, y, sf, self.bins, axis=0)\n",
    "\n",
    "        counts = np.bincount(numbs)\n",
    "        self.ibs_leaf = np.bincount(numbs, weights=ibs_v)\n",
    "        self.ibs_leaf[counts>0]/=counts[counts>0]\n",
    "        self.ibs_mean = np.mean(ibs_v)\n",
    "    \n",
    "    def get_ibs_by_leaf(self, X, divide=False):\n",
    "        numbs = self.predict(X, target=\"numb\").astype(\"int\")\n",
    "        if divide:\n",
    "            return self.ibs_leaf[numbs] / self.ibs_mean\n",
    "        return self.ibs_leaf[numbs]\n",
    "    \n",
    "    def fit(self, X, y):\n",
    "        super().fit(X, y)\n",
    "        self.set_ibs_by_leaf(X, y)"
   ]
  },
  {
   "cell_type": "code",
   "execution_count": 378,
   "id": "3f2efbec",
   "metadata": {},
   "outputs": [
    {
     "data": {
      "text/plain": [
       "array([[ 1.   , -0.25 , -0.425],\n",
       "       [ 2.   , -0.1  , -0.475],\n",
       "       [ 3.   , -0.4  , -0.275]])"
      ]
     },
     "execution_count": 378,
     "metadata": {},
     "output_type": "execute_result"
    }
   ],
   "source": [
    "a = np.array([[1, 0.5, 0.3],\n",
    "          [2, 0.8, 0.1],\n",
    "          [3, 0.2, 0.9]])\n",
    "(a - np.array([0, 1, 2])) / np.array([1, 2, 4])"
   ]
  },
  {
   "cell_type": "code",
   "execution_count": 891,
   "id": "0e4e5141",
   "metadata": {},
   "outputs": [],
   "source": [
    "from survivors.ensemble import BoostingCRAID\n",
    "from scipy.stats import norm\n",
    "\n",
    "class IBSBoostingCRAID(BoostingCRAID):\n",
    "    def __init__(self, **kwargs):\n",
    "        super().__init__(**kwargs)\n",
    "        self.name = \"IBSBoostingCRAID\"\n",
    "    \n",
    "    def fit(self, X, y):\n",
    "        self.features = X.columns\n",
    "        X = X.reset_index(drop=True)\n",
    "        X[cnt.CENS_NAME] = y[cnt.CENS_NAME].astype(np.int32)\n",
    "        X[cnt.TIME_NAME] = y[cnt.TIME_NAME].astype(np.float32)\n",
    "        \n",
    "        self.X_train = X\n",
    "        self.X_train[\"ind_start\"] = self.X_train.index\n",
    "        self.y_train = y\n",
    "        \n",
    "        self.weights = np.zeros(self.X_train.shape[0], dtype=float)\n",
    "        self.bettas = []\n",
    "        self.l_weights = []\n",
    "        self.ibs_means = []\n",
    "        self.ibs_stds = []\n",
    "        self.update_params()\n",
    "        \n",
    "        for i in range(self.n_estimators):\n",
    "            if self.with_arc:\n",
    "                prob_weights = arc_x4(self.weights)\n",
    "            else:\n",
    "                prob_weights = self.weights\n",
    "            if i == 0:\n",
    "                self.ibs_means.append(0.0)\n",
    "                self.ibs_stds.append(1.0)\n",
    "                prob_weights = np.ones(self.weights.shape)*0.5\n",
    "            else:\n",
    "                self.ibs_means.append(np.mean(self.weights))\n",
    "                self.ibs_stds.append(np.std(self.weights))\n",
    "            # wei = (self.weights - self.ibs_means[-1]) / self.ibs_stds[-1]\n",
    "#             prob_weights = norm.cdf(wei)\n",
    "#             plt.hist(wei)\n",
    "#             plt.hist(wei[self.y_train[\"cens\"]])\n",
    "#             plt.show()\n",
    "            # prob_weights = self.weights\n",
    "            \n",
    "            x_sub = self.X_train.sample(n=self.size_sample, weights=prob_weights,  # self.weights\n",
    "                                        replace=self.bootstrap, random_state=i)\n",
    "            x_oob = self.X_train.loc[self.X_train.index.difference(x_sub.index), :]\n",
    "            print(\"UNIQUE:\", np.unique(x_sub.index).shape[0])\n",
    "            x_sub = x_sub.reset_index(drop=True)\n",
    "            X_sub_tr, y_sub_tr = cnt.pd_to_xy(x_sub)\n",
    "            if self.weighted_tree:\n",
    "                X_sub_tr[\"weights_obs\"] = prob_weights[x_sub['ind_start']]  # self.weights\n",
    "\n",
    "            model = IBSCRAID(features=self.features, random_state=i, **self.tree_kwargs)\n",
    "            model.fit(X_sub_tr, y_sub_tr)\n",
    "            \n",
    "            wei_i, betta_i = self.count_model_weights(model, X_sub_tr, y_sub_tr)\n",
    "            self.add_model(model, x_oob, wei_i, betta_i)\n",
    "            self.update_weight(x_sub['ind_start'], wei_i)\n",
    "            self.ens_metr[i] = self.score_oob()\n",
    "        \n",
    "        if self.tolerance:\n",
    "            self.tolerance_find_best()\n",
    "        print('fitted:', len(self.models), 'models.')\n",
    "    \n",
    "    def predict(self, x_test, aggreg=True, **kwargs):\n",
    "        res = []\n",
    "        weights = None\n",
    "        if self.aggreg_func == \"obs_wei\":\n",
    "            weights = [np.zeros(x_test.shape[0])]\n",
    "        for i in range(len(self.models)):\n",
    "            res.append(self.models[i].predict(x_test, **kwargs))\n",
    "            if self.aggreg_func == \"obs_wei\":\n",
    "                weights.append(self.models[i].get_ibs_by_leaf(x_test))\n",
    "                \n",
    "        res = np.array(res)\n",
    "        if self.aggreg_func == \"obs_wei\":\n",
    "            weights = np.vstack(weights[:-1]).T\n",
    "            weights = np.cumsum(weights, axis=1)\n",
    "            wei = (weights - np.array(self.ibs_means)) / np.array(self.ibs_stds)\n",
    "            weights = norm.cdf(wei)\n",
    "        if aggreg:\n",
    "            res = self.get_aggreg(res, weights)\n",
    "        return res\n",
    "    \n",
    "    def select_model(self, start, end):\n",
    "        self.ibs_means = self.ibs_means[start:end]\n",
    "        self.ibs_stds = self.ibs_stds[start:end]\n",
    "        super().select_model(start, end)\n",
    "    \n",
    "    def predict_at_times(self, x_test, bins, aggreg=True, mode=\"surv\"):\n",
    "#         if mode==\"surv\":\n",
    "#             return self.predict_sf_by_hazard(x_test, bins, aggreg=aggreg)\n",
    "        res = []\n",
    "        weights = None\n",
    "        if self.aggreg_func == \"obs_wei\":\n",
    "            weights = [np.zeros(x_test.shape[0])]\n",
    "        for i in range(len(self.models)):\n",
    "            res.append(self.models[i].predict_at_times(x_test, bins=bins,\n",
    "                                                       mode=mode)[np.newaxis, :])\n",
    "            if self.aggreg_func == \"obs_wei\":\n",
    "                weights.append(self.models[i].get_ibs_by_leaf(x_test))\n",
    "                \n",
    "        res = np.vstack(res)\n",
    "        if self.aggreg_func == \"obs_wei\":\n",
    "            weights = np.vstack(weights[:-1]).T\n",
    "            weights = np.cumsum(weights, axis=1)\n",
    "            wei = (weights - np.array(self.ibs_means)) / np.array(self.ibs_stds)\n",
    "            weights = norm.cdf(wei)\n",
    "        if aggreg:\n",
    "            res = self.get_aggreg(res, weights)\n",
    "        res[res[:,0]==1] = res[res[:,0]==1]**2\n",
    "        return res\n",
    "    \n",
    "    def count_model_weights(self, model, X_sub, y_sub):\n",
    "        if self.all_weight:\n",
    "            X_sub = self.X_train\n",
    "            y_sub = self.y_train\n",
    "        \n",
    "#         self.models.append(model)\n",
    "#         self.bettas.append(1)\n",
    "        \n",
    "        pred_tree = model.predict_at_times(X_sub, bins=self.bins, mode=\"surv\")\n",
    "        wei = metr.ibs(self.y_train, y_sub, pred_tree, self.bins, axis=0)\n",
    "        betta = np.mean(wei)\n",
    "\n",
    "#         pred_tree = self.predict_at_times(X_sub, bins=self.bins, mode=\"surv\")\n",
    "#         wei = metr.ibs(self.y_train, y_sub, pred_tree, self.bins, axis=0)\n",
    "#         betta = np.mean(wei)\n",
    "        \n",
    "#         self.models = self.models[:-1]\n",
    "#         self.bettas = self.bettas[:-1]\n",
    "        return wei, betta\n",
    "\n",
    "    def update_weight(self, index, wei_i):\n",
    "        if self.all_weight:\n",
    "            self.weights = self.weights + wei_i\n",
    "        else:\n",
    "            self.weights[index] = (self.weights[index] + wei_i)\n",
    "        # self.weights = (self.weights - self.weights.min())\n",
    "        # self.weights = (self.weights - self.weights.min()) / (self.weights.max() - self.weights.min())\n",
    "\n",
    "    def get_aggreg(self, x, wei=None):\n",
    "        if self.aggreg_func == 'median':\n",
    "            return np.median(x, axis=0)\n",
    "        if self.aggreg_func == 'moda':\n",
    "            res = np.median(x > 0.5, axis=0)\n",
    "            return res\n",
    "        if self.aggreg_func == 'complex':\n",
    "            #a = np.max(x, axis=0)\n",
    "            b = np.min(x, axis=0)\n",
    "            res = np.mean(x, axis=0)\n",
    "            #res[a == 1] = 1\n",
    "            res[res < 0.01] = 0\n",
    "            return res\n",
    "        elif self.aggreg_func == 'softmax':\n",
    "            inv_wei = np.exp(np.array(self.bettas))\n",
    "            wei = inv_wei/sum(inv_wei)\n",
    "            return np.sum((x.T*wei).T, axis=0)\n",
    "        elif self.aggreg_func == 'wei':\n",
    "            inv_wei = 1/np.array(self.bettas)\n",
    "            wei = inv_wei/sum(inv_wei)\n",
    "            return np.sum((x.T*wei).T, axis=0)\n",
    "        elif self.aggreg_func == \"obs_wei\":\n",
    "            wei_s = np.sum(wei, axis=1)\n",
    "            if len(x.shape) > 2:\n",
    "                wei_s = wei_s.reshape(-1, 1)\n",
    "            return np.sum((x.T*wei).T, axis=0) / wei_s\n",
    "            #return (wei @ x) / np.sum(wei, axis=1).reshape(-1, 1)\n",
    "        return np.mean(x, axis=0)\n"
   ]
  },
  {
   "cell_type": "code",
   "execution_count": 850,
   "id": "868a20b1",
   "metadata": {},
   "outputs": [
    {
     "data": {
      "text/plain": [
       "array([3345,  464, 1363, ...,   97, 1407, 1295], dtype=int64)"
      ]
     },
     "execution_count": 850,
     "metadata": {},
     "output_type": "execute_result"
    }
   ],
   "source": [
    "np.argsort(y[\"time\"])"
   ]
  },
  {
   "cell_type": "code",
   "execution_count": 855,
   "id": "8215fb87",
   "metadata": {},
   "outputs": [
    {
     "data": {
      "text/plain": [
       "array([  0.,   1.,   2.,   3.,   4.,   5.,   6.,   7.,   8.,   9.,  10.,\n",
       "        11.,  12.,  13.,  14.,  15.,  16.,  17.,  18.,  19.,  20.,  21.,\n",
       "        22.,  23.,  24.,  25.,  26.,  27.,  28.,  29.,  30.,  31.,  32.,\n",
       "        33.,  34.,  35.,  36.,  37.,  38.,  39.,  40.,  41.,  42.,  43.,\n",
       "        44.,  45.,  46.,  47.,  48.,  49.,  50.,  51.,  52.,  53.,  54.,\n",
       "        55.,  56.,  57.,  58.,  59.,  60.,  61.,  62.,  63.,  64.,  65.,\n",
       "        66.,  67.,  68.,  69.,  70.,  71.,  72.,  73.,  74.,  75.,  76.,\n",
       "        77.,  78.,  79.,  80.,  81.,  82.,  83.,  84.,  85.,  86.,  87.,\n",
       "        88.,  89.,  90.,  91.,  92.,  93.,  94.,  95.,  96.,  97.,  98.,\n",
       "        99., 100., 101., 102., 103., 104., 105., 106., 107., 108., 109.,\n",
       "       110., 111., 112., 113., 114., 115., 116., 117., 118., 119., 120.,\n",
       "       121., 122., 123., 124., 125., 126., 127., 128., 129., 130., 131.,\n",
       "       132., 133., 134., 135., 136., 137., 138., 139., 140., 141., 142.,\n",
       "       143., 144., 145., 146., 147., 148., 149., 150., 151., 152., 153.,\n",
       "       154., 155., 156., 157., 158., 159., 160., 161., 162., 163., 164.,\n",
       "       165., 166., 167., 168., 169., 170., 171., 172., 173., 174., 175.,\n",
       "       176., 177., 178., 179., 180., 181., 182., 183., 184., 185., 186.,\n",
       "       187., 188., 189., 190., 191., 192., 193., 194., 195., 196., 197.,\n",
       "       198., 199., 200., 201., 202., 204., 205., 206., 207., 208., 209.,\n",
       "       210., 211., 212., 213., 214., 215., 216., 217., 218., 219., 220.,\n",
       "       221., 222., 223., 224., 225., 226., 227., 228., 229., 230., 231.,\n",
       "       232., 233., 234., 235., 236., 237., 238., 239., 240., 241., 242.,\n",
       "       243., 244., 245., 246., 247., 248., 249., 250., 251., 252., 253.,\n",
       "       254., 256., 257., 258., 259., 260., 261., 262., 263., 264., 265.,\n",
       "       266., 267., 268., 269., 270., 271., 272., 273., 274., 275., 276.,\n",
       "       277., 278., 279., 280., 281., 282., 283., 284., 285., 286., 287.,\n",
       "       288., 289., 290., 291., 292., 293., 294., 295., 296., 297., 298.,\n",
       "       299., 300., 301., 302., 303., 304., 305., 306., 307., 308., 309.,\n",
       "       310., 311., 312., 313., 314., 315., 316., 317., 318., 319., 321.,\n",
       "       322., 323., 324., 325., 326., 327., 328., 329., 331., 332., 333.,\n",
       "       334., 335., 336., 338., 339., 340., 341., 342., 343., 344., 345.,\n",
       "       347., 348., 350., 351., 352., 353., 354., 355., 356., 357., 358.,\n",
       "       359., 360., 361., 362., 363., 364., 365., 366., 367., 368., 369.,\n",
       "       370., 371., 372., 373., 375., 377., 378., 379., 381., 382., 384.,\n",
       "       385., 386., 387., 389., 390., 391., 392., 394., 395., 396., 397.,\n",
       "       398., 399., 402., 403., 404., 405., 406., 407., 408., 409., 411.,\n",
       "       413., 414., 415., 416., 417., 418., 419., 420., 421., 422., 424.,\n",
       "       425., 426., 428., 431., 432., 433., 434., 435., 436., 438., 439.,\n",
       "       440., 441., 442., 444., 445., 447., 448., 449., 450., 452., 453.,\n",
       "       454., 455., 456., 458., 460., 461., 462., 463., 466., 467., 468.,\n",
       "       469., 470., 471., 474., 475., 477., 478., 479., 481., 483., 484.,\n",
       "       485., 487., 490., 492., 494., 495., 496., 497., 499., 500., 501.,\n",
       "       503., 504., 505., 506., 507., 509., 510., 511., 515., 517., 518.,\n",
       "       519., 520., 521., 522., 523., 524., 525., 526., 527., 528., 530.,\n",
       "       531., 533., 534., 536., 537., 539., 541., 543., 545., 546., 547.,\n",
       "       550., 551., 553., 555., 557., 559., 560., 561., 563., 565., 566.,\n",
       "       569., 570., 574., 577., 579., 580., 581., 582., 584., 585., 586.,\n",
       "       587., 589., 590., 599., 600., 601., 604., 605., 606., 607., 608.,\n",
       "       609., 610., 612., 614., 615., 616., 617., 621., 629., 634., 637.,\n",
       "       638., 639., 641., 642., 643., 644., 649., 653., 654., 655., 656.,\n",
       "       658., 659., 661., 662., 666., 667., 668., 669., 670., 672., 673.,\n",
       "       674., 679., 684., 686., 688., 690., 692., 693., 705., 706., 707.,\n",
       "       709., 711., 712., 715., 716., 721., 722., 724., 732., 734., 735.,\n",
       "       736., 741., 742., 745., 747., 748., 750., 752., 753., 757., 758.,\n",
       "       761., 762., 763., 767., 768., 779., 783., 784., 785., 786., 787.,\n",
       "       788., 789., 796., 798., 799., 802., 804., 805., 806., 807., 808.,\n",
       "       811., 813., 815., 817., 819., 821., 825., 826., 827., 829., 833.,\n",
       "       834., 836., 837., 840., 841., 842., 843., 844., 847., 849., 853.,\n",
       "       854., 855., 857., 858., 860., 861., 862., 863., 864., 865., 866.,\n",
       "       882.])"
      ]
     },
     "execution_count": 855,
     "metadata": {},
     "output_type": "execute_result"
    }
   ],
   "source": [
    "np.unique(y[\"time\"])"
   ]
  },
  {
   "cell_type": "code",
   "execution_count": 825,
   "id": "8efca5dd",
   "metadata": {},
   "outputs": [
    {
     "name": "stderr",
     "output_type": "stream",
     "text": [
      "C:\\ProgramData\\Anaconda3\\envs\\survive\\lib\\site-packages\\openpyxl\\styles\\stylesheet.py:226: UserWarning: Workbook contains no default style, apply openpyxl's default\n",
      "  warn(\"Workbook contains no default style, apply openpyxl's default\")\n",
      "C:\\ProgramData\\Anaconda3\\envs\\survive\\lib\\site-packages\\openpyxl\\styles\\stylesheet.py:226: UserWarning: Workbook contains no default style, apply openpyxl's default\n",
      "  warn(\"Workbook contains no default style, apply openpyxl's default\")\n",
      "C:\\ProgramData\\Anaconda3\\envs\\survive\\lib\\site-packages\\openpyxl\\styles\\stylesheet.py:226: UserWarning: Workbook contains no default style, apply openpyxl's default\n",
      "  warn(\"Workbook contains no default style, apply openpyxl's default\")\n",
      "C:\\ProgramData\\Anaconda3\\envs\\survive\\lib\\site-packages\\openpyxl\\styles\\stylesheet.py:226: UserWarning: Workbook contains no default style, apply openpyxl's default\n",
      "  warn(\"Workbook contains no default style, apply openpyxl's default\")\n"
     ]
    },
    {
     "name": "stdout",
     "output_type": "stream",
     "text": [
      "DIAG {'C20': 0, 'C50.4': 1, 'C61': 2}\n"
     ]
    }
   ],
   "source": [
    "from survivors.experiments.grid import generate_sample\n",
    "\n",
    "X, y, features, categ, sch_nan = ds.load_onk_dataset()\n",
    "\n",
    "for X_tr, y_tr, X_HO, y_HO, bins in generate_sample(X, y, 5, \"CV+HOLD-OUT\"):\n",
    "    pass"
   ]
  },
  {
   "cell_type": "code",
   "execution_count": 826,
   "id": "6a66555a",
   "metadata": {
    "scrolled": true
   },
   "outputs": [
    {
     "name": "stdout",
     "output_type": "stream",
     "text": [
      "UNIQUE: 1140\n",
      "UNIQUE: 364\n",
      "UNIQUE: 549\n",
      "UNIQUE: 570\n",
      "UNIQUE: 563\n",
      "UNIQUE: 577\n",
      "UNIQUE: 593\n",
      "UNIQUE: 586\n",
      "UNIQUE: 567\n",
      "UNIQUE: 590\n",
      "UNIQUE: 568\n",
      "UNIQUE: 603\n",
      "UNIQUE: 589\n",
      "UNIQUE: 606\n",
      "UNIQUE: 606\n",
      "UNIQUE: 586\n",
      "UNIQUE: 612\n",
      "UNIQUE: 604\n",
      "UNIQUE: 608\n",
      "UNIQUE: 606\n",
      "UNIQUE: 591\n",
      "UNIQUE: 592\n",
      "UNIQUE: 598\n",
      "UNIQUE: 632\n",
      "UNIQUE: 615\n",
      "UNIQUE: 584\n",
      "UNIQUE: 605\n",
      "UNIQUE: 611\n",
      "UNIQUE: 584\n",
      "UNIQUE: 593\n",
      "[0.7832 0.794  0.8173 0.8117 0.811  0.8187 0.8218 0.8206 0.8181 0.8219\n",
      " 0.8249 0.8337 0.8378 0.8377 0.8372 0.8375 0.8387 0.838  0.8388 0.8391\n",
      " 0.839  0.8417 0.8412 0.8424 0.843  0.8446 0.8449 0.8444 0.8438 0.8443]\n",
      "fitted: 27 models.\n",
      "78.87442398071289\n"
     ]
    }
   ],
   "source": [
    "# proboost_params = {'balance': None, \n",
    "#                    \"with_arc\": False,\n",
    "#                    'aggreg_func': \"obs_wei\", 'all_weight': True, 'categ': ['Диагноз'], \n",
    "#                    'criterion': 'logrank', 'depth': 10, 'ens_metric_name': 'ibs', \n",
    "#                    'leaf_model': 'base_fast', 'max_features': 0.7, 'min_samples_leaf': 5, \n",
    "#                    'n_estimators': 30, 'n_jobs': 2, 'size_sample': 0.7}\n",
    "\n",
    "proboost_params = {\n",
    " 'balance': None, \n",
    " \"with_arc\": False,\n",
    " 'aggreg_func': 'obs_wei', 'all_weight': True, 'categ': ['Диагноз'], \n",
    " 'criterion': 'logrank', 'depth': 10, 'ens_metric_name': 'conc', \n",
    " 'leaf_model': 'wei_survive', 'max_features': 0.7, 'min_samples_leaf': 10, \n",
    " 'n_estimators': 30, 'n_jobs': 2, 'size_sample': 0.7\n",
    "}\n",
    "\n",
    "start_time = time.time()\n",
    "proboost = IBSBoostingCRAID(**proboost_params)\n",
    "proboost.fit(X_tr, y_tr)\n",
    "\n",
    "print(time.time() - start_time)"
   ]
  },
  {
   "cell_type": "code",
   "execution_count": 827,
   "id": "462ee8fb",
   "metadata": {},
   "outputs": [
    {
     "name": "stdout",
     "output_type": "stream",
     "text": [
      "Prior distribution: [1913  351]\n"
     ]
    },
    {
     "data": {
      "image/png": "[encoded data removed]",
      "text/plain": [
       "<Figure size 432x288 with 1 Axes>"
      ]
     },
     "metadata": {
      "needs_background": "light"
     },
     "output_type": "display_data"
    }
   ],
   "source": [
    "print(\"Prior distribution:\", np.bincount(y_tr[\"cens\"]))\n",
    "n_cens = []\n",
    "n_events = []\n",
    "for i in range(len(proboost.models)):\n",
    "    distr = np.bincount(proboost.models[i].nodes[0].leaf_model.predict_list_feature(feature_name=\"cens\"))\n",
    "    n_cens.append(distr[0])\n",
    "    n_events.append(distr[1])\n",
    "\n",
    "plt.plot(n_cens, label=\"cens\")\n",
    "plt.plot(n_events, label=\"events\")\n",
    "plt.legend()\n",
    "plt.ylabel(\"Quantity of observation\")\n",
    "plt.xlabel(\"Number of sample\")\n",
    "plt.show()"
   ]
  },
  {
   "cell_type": "code",
   "execution_count": 828,
   "id": "eb7ae793",
   "metadata": {},
   "outputs": [
    {
     "data": {
      "image/png": "[encoded data removed]",
      "text/plain": [
       "<Figure size 720x360 with 2 Axes>"
      ]
     },
     "metadata": {
      "needs_background": "light"
     },
     "output_type": "display_data"
    }
   ],
   "source": [
    "fig, axes = plt.subplots(figsize=(10, 5), ncols=2)\n",
    "axes[0].scatter(np.arange(proboost.weights.shape[0]), \n",
    "                proboost.weights,\n",
    "                c = np.where(proboost.y_train[\"cens\"], \"orange\", \"blue\"))\n",
    "axes[1].hist(proboost.weights, orientation=\"horizontal\")\n",
    "plt.show()"
   ]
  },
  {
   "cell_type": "code",
   "execution_count": 829,
   "id": "25f0872b",
   "metadata": {},
   "outputs": [],
   "source": [
    "tr_pred_surv_proboost = proboost.predict_at_times(X_tr, bins=bins, mode=\"surv\")\n",
    "\n",
    "pred_surv_proboost = proboost.predict_at_times(X_HO, bins=bins, mode=\"surv\")\n",
    "pred_time_proboost = proboost.predict(X_HO, target=cnt.TIME_NAME)\n",
    "pred_haz_proboost = proboost.predict_at_times(X_HO, bins=bins, mode=\"hazard\")"
   ]
  },
  {
   "cell_type": "code",
   "execution_count": 830,
   "id": "099538ab",
   "metadata": {},
   "outputs": [
    {
     "name": "stdout",
     "output_type": "stream",
     "text": [
      "TRAIN PR: 0.06618301959478642\n",
      "TRAIN EVENT PR: 0.1431745361242169\n",
      "TRAIN CENS PR: 0.052056505061681295\n",
      "TRAIN WEI=0 PR: 0.010470846199617577\n",
      "TRAIN WEI=0 PR: 0.24275880304429945\n",
      "\n",
      "TEST PR: 0.13154465988590622\n",
      "TEST EVENT PR: 0.36127351850741285\n",
      "TEST CENS PR: 0.08939928073265\n"
     ]
    }
   ],
   "source": [
    "print(\"TRAIN PR:\", metr.ibs(y_tr, y_tr, tr_pred_surv_proboost, bins, axis=-1))\n",
    "print(\"TRAIN EVENT PR:\", metr.ibs(y_tr, y_tr[y_tr[\"cens\"]], tr_pred_surv_proboost[y_tr[\"cens\"]], bins, axis=-1))\n",
    "print(\"TRAIN CENS PR:\", metr.ibs(y_tr, y_tr[~y_tr[\"cens\"]], tr_pred_surv_proboost[~y_tr[\"cens\"]], bins, axis=-1))\n",
    "print(\"TRAIN WEI=0 PR:\", metr.ibs(y_tr, y_tr[np.where(proboost.weights<np.mean(proboost.weights))], \n",
    "                                  tr_pred_surv_proboost[np.where(proboost.weights<np.mean(proboost.weights))], bins, axis=-1))\n",
    "print(\"TRAIN WEI=0 PR:\", metr.ibs(y_tr, y_tr[np.where(proboost.weights>np.mean(proboost.weights))], \n",
    "                                  tr_pred_surv_proboost[np.where(proboost.weights>np.mean(proboost.weights))], bins, axis=-1))\n",
    "print()\n",
    "print(\"TEST PR:\", metr.ibs(y_tr, y_HO, pred_surv_proboost, bins, axis=-1))\n",
    "print(\"TEST EVENT PR:\", metr.ibs(y_tr, y_HO[y_HO[\"cens\"]], pred_surv_proboost[y_HO[\"cens\"]], bins, axis=-1))\n",
    "print(\"TEST CENS PR:\", metr.ibs(y_tr, y_HO[~y_HO[\"cens\"]], pred_surv_proboost[~y_HO[\"cens\"]], bins, axis=-1))"
   ]
  },
  {
   "cell_type": "code",
   "execution_count": 843,
   "id": "2f9ebe98",
   "metadata": {},
   "outputs": [
    {
     "data": {
      "text/plain": [
       "(1116, 822)"
      ]
     },
     "execution_count": 843,
     "metadata": {},
     "output_type": "execute_result"
    }
   ],
   "source": [
    "pred_surv_proboost.shape"
   ]
  },
  {
   "cell_type": "code",
   "execution_count": 844,
   "id": "4d042577",
   "metadata": {},
   "outputs": [
    {
     "data": {
      "text/plain": [
       "(1116,)"
      ]
     },
     "execution_count": 844,
     "metadata": {},
     "output_type": "execute_result"
    }
   ],
   "source": [
    "pred_time_proboost.astype(\"int\").shape"
   ]
  },
  {
   "cell_type": "code",
   "execution_count": 847,
   "id": "7520d466",
   "metadata": {},
   "outputs": [
    {
     "data": {
      "text/plain": [
       "<matplotlib.collections.PathCollection at 0x118f6a2cdc0>"
      ]
     },
     "execution_count": 847,
     "metadata": {},
     "output_type": "execute_result"
    },
    {
     "data": {
      "image/png": "[encoded data removed]",
      "text/plain": [
       "<Figure size 432x288 with 1 Axes>"
      ]
     },
     "metadata": {
      "needs_background": "light"
     },
     "output_type": "display_data"
    }
   ],
   "source": [
    "exp_prob = np.take_along_axis(pred_surv_proboost, pred_time_proboost.astype(\"int\")[:, np.newaxis], axis=1)[:, 0]\n",
    "plt.scatter(exp_prob, metr.ibs(y_tr, y_HO, pred_surv_proboost, bins, axis=0))"
   ]
  },
  {
   "cell_type": "code",
   "execution_count": 837,
   "id": "30938703",
   "metadata": {},
   "outputs": [
    {
     "data": {
      "text/plain": [
       "<matplotlib.collections.PathCollection at 0x118f45bcfd0>"
      ]
     },
     "execution_count": 837,
     "metadata": {},
     "output_type": "execute_result"
    },
    {
     "data": {
      "image/png": "[encoded data removed]",
      "text/plain": [
       "<Figure size 432x288 with 1 Axes>"
      ]
     },
     "metadata": {
      "needs_background": "light"
     },
     "output_type": "display_data"
    }
   ],
   "source": [
    "plt.scatter(pred_surv_proboost[:,-1], metr.ibs(y_tr, y_HO, pred_surv_proboost, bins, axis=0))"
   ]
  },
  {
   "cell_type": "code",
   "execution_count": 893,
   "id": "ff586dee",
   "metadata": {},
   "outputs": [
    {
     "data": {
      "text/plain": [
       "array([(False, 821.), (False, 736.), (False, 715.), (False, 709.),\n",
       "       (False, 821.), ( True, 707.), (False, 762.), (False, 761.),\n",
       "       ( True, 621.), (False, 821.)],\n",
       "      dtype=[('cens', '?'), ('time', '<f8')])"
      ]
     },
     "execution_count": 893,
     "metadata": {},
     "output_type": "execute_result"
    }
   ],
   "source": [
    "y_HO[srt_idx[::-1]][:10]"
   ]
  },
  {
   "cell_type": "code",
   "execution_count": 864,
   "id": "8a06e1b1",
   "metadata": {},
   "outputs": [
    {
     "data": {
      "text/plain": [
       "1116"
      ]
     },
     "execution_count": 864,
     "metadata": {},
     "output_type": "execute_result"
    }
   ],
   "source": [
    "y_HO.shape[0]"
   ]
  },
  {
   "cell_type": "code",
   "execution_count": 867,
   "id": "37a75375",
   "metadata": {},
   "outputs": [
    {
     "data": {
      "text/plain": [
       "<matplotlib.collections.PathCollection at 0x118f6721150>"
      ]
     },
     "execution_count": 867,
     "metadata": {},
     "output_type": "execute_result"
    },
    {
     "data": {
      "image/png": "[encoded data removed]",
      "text/plain": [
       "<Figure size 432x288 with 1 Axes>"
      ]
     },
     "metadata": {
      "needs_background": "light"
     },
     "output_type": "display_data"
    }
   ],
   "source": [
    "test_ibs = metr.ibs(y_tr, y_HO, pred_surv_proboost, bins, axis=0)\n",
    "srt_idx = np.argsort(test_ibs)\n",
    "\n",
    "l = []\n",
    "x = range(10, srt_idx.shape[0], 10)\n",
    "for i in x:\n",
    "    l.append(metr.ibs(y_tr, y_HO[srt_idx[:i]], pred_surv_proboost[srt_idx[:i]], bins, axis=-1))\n",
    "plt.scatter(x, l)"
   ]
  },
  {
   "cell_type": "code",
   "execution_count": 871,
   "id": "25437c7c",
   "metadata": {},
   "outputs": [
    {
     "data": {
      "text/plain": [
       "(1116,)"
      ]
     },
     "execution_count": 871,
     "metadata": {},
     "output_type": "execute_result"
    }
   ],
   "source": [
    "metr.ibs(y_tr, y_HO, pred_surv_proboost, bins, axis=0).shape"
   ]
  },
  {
   "cell_type": "code",
   "execution_count": 887,
   "id": "c2b1a2f3",
   "metadata": {},
   "outputs": [
    {
     "data": {
      "text/plain": [
       "38"
      ]
     },
     "execution_count": 887,
     "metadata": {},
     "output_type": "execute_result"
    }
   ],
   "source": [
    "np.sum(ibs_by_obs > 1)"
   ]
  },
  {
   "cell_type": "code",
   "execution_count": 890,
   "id": "9e0c8cca",
   "metadata": {},
   "outputs": [
    {
     "data": {
      "text/plain": [
       "(array([868.,  30.,  12.,  11.,   6.,   8.,   2.,   2.,   3.,   1.]),\n",
       " array([0.        , 0.17599146, 0.35198291, 0.52797437, 0.70396582,\n",
       "        0.87995728, 1.05594873, 1.23194019, 1.40793164, 1.5839231 ,\n",
       "        1.75991456]),\n",
       " <BarContainer object of 10 artists>)"
      ]
     },
     "execution_count": 890,
     "metadata": {},
     "output_type": "execute_result"
    },
    {
     "data": {
      "image/png": "[encoded data removed]",
      "text/plain": [
       "<Figure size 432x288 with 1 Axes>"
      ]
     },
     "metadata": {
      "needs_background": "light"
     },
     "output_type": "display_data"
    }
   ],
   "source": [
    "ibs_by_obs = metr.ibs(y_tr, y_HO, pred_surv_proboost, bins, axis=0)\n",
    "plt.hist(np.log(ibs_by_obs+1))\n",
    "plt.hist(np.log(ibs_by_obs[~y_HO[\"cens\"]]+1))"
   ]
  },
  {
   "cell_type": "code",
   "execution_count": 856,
   "id": "7990af7d",
   "metadata": {},
   "outputs": [
    {
     "data": {
      "text/plain": [
       "[<matplotlib.lines.Line2D at 0x118c03983a0>]"
      ]
     },
     "execution_count": 856,
     "metadata": {},
     "output_type": "execute_result"
    },
    {
     "data": {
      "image/png": "[encoded data removed]",
      "text/plain": [
       "<Figure size 432x288 with 1 Axes>"
      ]
     },
     "metadata": {
      "needs_background": "light"
     },
     "output_type": "display_data"
    }
   ],
   "source": [
    "plt.plot(metr.ibs(y_tr, y_t[srt_idx[:10]], pred_surv_proboost[y_HO[\"cens\"]][srt_idx[:10]], bins, axis=1))"
   ]
  },
  {
   "cell_type": "code",
   "execution_count": 796,
   "id": "a288d816",
   "metadata": {},
   "outputs": [
    {
     "name": "stdout",
     "output_type": "stream",
     "text": [
      "[1.79298024 1.78996611 1.64164624 1.53702385 1.45642066 1.43333997\n",
      " 1.31778789 1.25867699 1.17799562 1.14974275]\n",
      "[( True, 612.) ( True, 471.) ( True, 707.) ( True, 301.) ( True, 220.)\n",
      " ( True, 621.) ( True, 705.) ( True, 387.) ( True, 752.) ( True, 579.)]\n",
      "[[1.         1.         1.         ... 0.71324166 0.71324166 0.65014585]\n",
      " [1.         1.         1.         ... 0.66695078 0.66695078 0.65374013]\n",
      " [1.         1.         1.         ... 0.34719671 0.34719671 0.34549994]\n",
      " ...\n",
      " [1.         1.         1.         ... 0.51961412 0.51961412 0.50558311]\n",
      " [1.         1.         1.         ... 0.55593309 0.55593309 0.55593309]\n",
      " [1.         1.         1.         ... 0.54790666 0.54790666 0.50160675]]\n"
     ]
    }
   ],
   "source": [
    "y_t = y_HO[y_HO[\"cens\"]]\n",
    "test_ibs = metr.ibs(y_tr, y_t, pred_surv_proboost[y_HO[\"cens\"]], bins, axis=0)\n",
    "\n",
    "srt_idx = np.argsort(test_ibs)[::-1]\n",
    "print(test_ibs[srt_idx][:10])\n",
    "print(y_t[srt_idx][:10])\n",
    "print(pred_surv_proboost[y_HO[\"cens\"]][srt_idx][:10])"
   ]
  },
  {
   "cell_type": "code",
   "execution_count": 783,
   "id": "beb0dcd0",
   "metadata": {},
   "outputs": [
    {
     "data": {
      "text/plain": [
       "array([0.        , 0.        , 0.        , ..., 2.02517762, 2.53568889,\n",
       "       2.87518148])"
      ]
     },
     "execution_count": 783,
     "metadata": {},
     "output_type": "execute_result"
    }
   ],
   "source": [
    "test_ibs[srt_idx]"
   ]
  },
  {
   "cell_type": "code",
   "execution_count": 774,
   "id": "f1d6998f",
   "metadata": {},
   "outputs": [
    {
     "data": {
      "image/png": "[encoded data removed]",
      "text/plain": [
       "<Figure size 432x288 with 1 Axes>"
      ]
     },
     "metadata": {
      "needs_background": "light"
     },
     "output_type": "display_data"
    },
    {
     "data": {
      "image/png": "[encoded data removed]",
      "text/plain": [
       "<Figure size 432x288 with 1 Axes>"
      ]
     },
     "metadata": {
      "needs_background": "light"
     },
     "output_type": "display_data"
    }
   ],
   "source": [
    "import copy\n",
    "\n",
    "tr_all = []\n",
    "tr_event = []\n",
    "tr_cens = []\n",
    "\n",
    "tst_all = []\n",
    "tst_event = []\n",
    "tst_cens = []\n",
    "\n",
    "procopy = copy.deepcopy(proboost)\n",
    "x = list(range(30, 0, -1))\n",
    "for i in x:\n",
    "    procopy.select_model(0, i)\n",
    "    tr_pred = procopy.predict_at_times(X_tr, bins=bins, mode=\"surv\")\n",
    "    tst_pred = procopy.predict_at_times(X_HO, bins=bins, mode=\"surv\")\n",
    "    \n",
    "    tr_all.append(metr.ibs(y_tr, y_tr, tr_pred, bins, axis=-1))\n",
    "    tr_event.append(metr.ibs(y_tr, y_tr[y_tr[\"cens\"]], tr_pred[y_tr[\"cens\"]], bins, axis=-1))\n",
    "    tr_cens.append(metr.ibs(y_tr, y_tr[~y_tr[\"cens\"]], tr_pred[~y_tr[\"cens\"]], bins, axis=-1))\n",
    "    \n",
    "    tst_all.append(metr.ibs(y_tr, y_HO, tst_pred, bins, axis=-1))\n",
    "    tst_event.append(metr.ibs(y_tr, y_HO[y_HO[\"cens\"]], tst_pred[y_HO[\"cens\"]], bins, axis=-1))\n",
    "    tst_cens.append(metr.ibs(y_tr, y_HO[~y_HO[\"cens\"]], tst_pred[~y_HO[\"cens\"]], bins, axis=-1))\n",
    "\n",
    "plt.plot(x, tr_all, label=\"all\")\n",
    "plt.plot(x, tr_event, label=\"event\")\n",
    "plt.plot(x, tr_cens, label=\"cens\")\n",
    "plt.legend()\n",
    "plt.show()\n",
    "plt.plot(x, tst_all, label=\"all\")\n",
    "plt.plot(x, tst_event, label=\"event\")\n",
    "plt.plot(x, tst_cens, label=\"cens\")\n",
    "plt.legend()\n",
    "plt.show()"
   ]
  },
  {
   "cell_type": "code",
   "execution_count": null,
   "id": "e9b95a1a",
   "metadata": {},
   "outputs": [],
   "source": [
    "proboost.ibs_means"
   ]
  },
  {
   "cell_type": "code",
   "execution_count": 605,
   "id": "587a901e",
   "metadata": {},
   "outputs": [
    {
     "data": {
      "text/plain": [
       "array([ 20.61344266,  97.325549  , 449.3023549 , ...,  14.23570456,\n",
       "        42.60921466,  84.91567243])"
      ]
     },
     "execution_count": 605,
     "metadata": {},
     "output_type": "execute_result"
    }
   ],
   "source": [
    "pred_time_proboost"
   ]
  },
  {
   "cell_type": "code",
   "execution_count": 606,
   "id": "77708970",
   "metadata": {},
   "outputs": [
    {
     "data": {
      "text/plain": [
       "array([  1.,   7., 357., ...,   2.,  14.,  44.])"
      ]
     },
     "execution_count": 606,
     "metadata": {},
     "output_type": "execute_result"
    }
   ],
   "source": [
    "y_HO[\"time\"]"
   ]
  },
  {
   "cell_type": "code",
   "execution_count": 611,
   "id": "39d05913",
   "metadata": {},
   "outputs": [],
   "source": [
    "res = []\n",
    "weights = None\n",
    "if proboost.aggreg_func == \"obs_wei\":\n",
    "    weights = [np.zeros(X_HO.shape[0])]\n",
    "for i in range(len(proboost.models)):\n",
    "    res.append(proboost.models[i].predict(X_HO, target=cnt.TIME_NAME))\n",
    "    if proboost.aggreg_func == \"obs_wei\":\n",
    "        weights.append(proboost.models[i].get_ibs_by_leaf(X_HO))\n",
    "\n",
    "res = np.array(res)\n",
    "if proboost.aggreg_func == \"obs_wei\":\n",
    "    weights = np.vstack(weights[:-1]).T\n",
    "    weights = np.cumsum(weights, axis=1)\n",
    "    weights = norm.cdf((weights - np.array(proboost.ibs_means)) / np.array(proboost.ibs_stds))"
   ]
  },
  {
   "cell_type": "code",
   "execution_count": 757,
   "id": "56768da4",
   "metadata": {},
   "outputs": [
    {
     "name": "stdout",
     "output_type": "stream",
     "text": [
      "9.311282092007119\n",
      "1.7253787145420514\n"
     ]
    }
   ],
   "source": [
    "print(np.mean(proboost.weights[proboost.y_train[\"cens\"]]))\n",
    "print(np.mean(proboost.weights[~proboost.y_train[\"cens\"]]))"
   ]
  },
  {
   "cell_type": "code",
   "execution_count": 617,
   "id": "e5904a5f",
   "metadata": {},
   "outputs": [
    {
     "data": {
      "text/plain": [
       "array([0.5       , 0.65882212, 0.75576912, 0.67123547, 0.66340646,\n",
       "       0.56999353, 0.4820908 , 0.43119368, 0.39712532, 0.37137517,\n",
       "       0.3804177 , 0.39086582, 0.46635157, 0.43576438, 0.41004133,\n",
       "       0.42703959, 0.50086209, 0.51558803, 0.55835329, 0.52395362,\n",
       "       0.49195177, 0.47727851, 0.4593069 , 0.43744934, 0.42408918,\n",
       "       0.41439572, 0.40111487, 0.38275273, 0.39157805, 0.37727791])"
      ]
     },
     "execution_count": 617,
     "metadata": {},
     "output_type": "execute_result"
    }
   ],
   "source": [
    "weights[1]"
   ]
  },
  {
   "cell_type": "code",
   "execution_count": 613,
   "id": "8360cb06",
   "metadata": {},
   "outputs": [
    {
     "data": {
      "text/plain": [
       "array([ 88.5689621 , 101.        ,  94.26316071, 106.09889984,\n",
       "        76.57142639, 141.1000061 ,  67.63636017,  51.80625153,\n",
       "        53.77777863,  51.8571434 , 115.36842346,  85.1818161 ,\n",
       "        48.16666794,  49.        , 114.69999695, 117.83333588,\n",
       "        79.33333588,  89.83333588,  85.25      , 203.66667175,\n",
       "        53.        ,  95.85713959, 131.75      , 148.1000061 ,\n",
       "        65.        , 104.44444275, 200.83332825,  72.875     ,\n",
       "       164.5       ,  49.57143021])"
      ]
     },
     "execution_count": 613,
     "metadata": {},
     "output_type": "execute_result"
    }
   ],
   "source": [
    "res[:, 1]"
   ]
  },
  {
   "cell_type": "code",
   "execution_count": 614,
   "id": "eed9500b",
   "metadata": {},
   "outputs": [
    {
     "data": {
      "text/plain": [
       "array([ 20.25475238,  96.44154524, 451.50193452, ...,  14.86393937,\n",
       "        39.92787486,  84.87878912])"
      ]
     },
     "execution_count": 614,
     "metadata": {},
     "output_type": "execute_result"
    }
   ],
   "source": [
    "np.sum((res.T*1/weights).T, axis=0) / np.sum(1/weights, axis=1)"
   ]
  },
  {
   "cell_type": "code",
   "execution_count": 755,
   "id": "57ae6baf",
   "metadata": {},
   "outputs": [
    {
     "data": {
      "text/plain": [
       "array([ 35.3370864 , 115.69807324, 611.74538324, ...,  49.64225843,\n",
       "        82.4029887 , 155.1648781 ])"
      ]
     },
     "execution_count": 755,
     "metadata": {},
     "output_type": "execute_result"
    }
   ],
   "source": [
    "pred_time_proboost"
   ]
  },
  {
   "cell_type": "code",
   "execution_count": 756,
   "id": "f73cb22b",
   "metadata": {},
   "outputs": [
    {
     "data": {
      "text/plain": [
       "array([(False,   1.), ( True,   7.), (False, 357.), ..., (False,   2.),\n",
       "       (False,  14.), (False,  44.)],\n",
       "      dtype=[('cens', '?'), ('time', '<f8')])"
      ]
     },
     "execution_count": 756,
     "metadata": {},
     "output_type": "execute_result"
    }
   ],
   "source": [
    "y_HO"
   ]
  },
  {
   "cell_type": "code",
   "execution_count": 29,
   "id": "e2c190c6",
   "metadata": {},
   "outputs": [],
   "source": [
    "from pkg_resources import resource_filename\n",
    "import h5py\n",
    "import pandas as pd\n",
    "import numpy as np\n",
    "\n",
    "def _load_dataset(filename, partition='complete', data_type='pandas', **kwargs):\n",
    "    filename_ = filename\n",
    "    \n",
    "    # Read training data.\n",
    "    with h5py.File(filename_, 'r') as f:\n",
    "        X_train = f['train']['x'][()]\n",
    "        E_train = f['train']['e'][()]\n",
    "        Y_train = f['train']['t'][()].reshape(-1, 1)\n",
    "    \n",
    "    # Read testing data.\n",
    "    with h5py.File(filename_, 'r') as f:\n",
    "        X_test = f['test']['x'][()]\n",
    "        E_test = f['test']['e'][()]\n",
    "        Y_test = f['test']['t'][()].reshape(-1, 1)\n",
    "        \n",
    "    # Define data partitions.\n",
    "    if partition == 'training' or partition == 'train':\n",
    "        X = X_train\n",
    "        Y = Y_train\n",
    "        E = E_train\n",
    "    elif partition == 'testing' or partition == 'test':\n",
    "        X = X_test\n",
    "        Y = Y_test\n",
    "        E = E_test\n",
    "    elif partition == 'complete':\n",
    "        X = np.concatenate((X_train, X_test), axis=0)\n",
    "        Y = np.concatenate((Y_train, Y_test), axis=0)\n",
    "        E = np.concatenate((E_train, E_test), axis=0)\n",
    "    else:\n",
    "        raise ValueError('Invalid partition.')\n",
    "\n",
    "    # If NumPy, do nothing (already in that format).\n",
    "    if (data_type == 'numpy') or (data_type=='np') or (data_type=='array'):\n",
    "        pass\n",
    "    \n",
    "    # Otherwise, convert to pandas DataFrame.\n",
    "    elif (data_type == 'pandas') or (data_type=='pd') or (data_type=='dataframe') or (data_type=='df'):\n",
    "        X, Y, E = _numpy_to_pandas(X, Y, E, filename)\n",
    "        \n",
    "    else:\n",
    "        raise ValueError(\"Invalid data type.\")\n",
    "        \n",
    "    return X, Y, E\n",
    "\n",
    "def _numpy_to_pandas(X, Y, E, filename):\n",
    "    # Get columns names and data types.\n",
    "    column_names = _get_column_names(filename)\n",
    "    data_types = _get_data_types(filename)\n",
    "    \n",
    "    # Create pandas DataFrames\n",
    "    df_X = pd.DataFrame(data=X, columns=column_names)\n",
    "    df_X = df_X.astype(data_types)\n",
    "    \n",
    "    df_Y = pd.DataFrame(data=Y, columns=['T'], dtype=np.float64)\n",
    "    df_E = pd.DataFrame(data=E, columns=['E'], dtype=np.int32)\n",
    "    \n",
    "    return df_X, df_Y, df_E\n",
    "\n",
    "def _get_column_names(filename):\n",
    "    \"\"\"\n",
    "    Get the data column names (needed to create a pandas DataFrame).\n",
    "    \n",
    "    Parameters\n",
    "    ----------\n",
    "    filename: string\n",
    "        Name of the dataset (e.g., 'whas.h5')\n",
    "        \n",
    "    Returns\n",
    "    -------\n",
    "    column_names: list\n",
    "        Column names corresponding to the data.\n",
    "    \"\"\"\n",
    "    # Remove file name extension.\n",
    "    filename = filename.split('.h5')[0]\n",
    "\n",
    "    # Define column names for each dataset.\n",
    "    if filename=='metabric':\n",
    "        column_names = ['gene1', 'gene2', 'gene3', 'gene4', 'radio', 'horm', 'chemo', 'er_status', 'age']\n",
    "    elif filename=='rgbsg':\n",
    "        column_names = ['horm_treatment', 'grade', 'menopause' ,'age' ,'n_positive_nodes', 'progesterone' ,'estrogen']\n",
    "    elif filename=='simulated_gaussian':\n",
    "        column_names = ['x1', 'x2', 'x3', 'x4', 'x5', 'x6', 'x7', 'x8', 'x9', 'x10']\n",
    "    elif filename=='simulated_linear':\n",
    "        column_names = ['x1', 'x2', 'x3', 'x4', 'x5', 'x6', 'x7', 'x8', 'x9', 'x10']\n",
    "    elif filename=='simulated_treatment':\n",
    "        column_names = ['x1', 'x2', 'x3', 'x4', 'x5', 'x6', 'x7', 'x8', 'x9', 'x10', 'treatment']\n",
    "    elif filename=='support':\n",
    "        column_names = ['age', 'sex', 'race', 'n_comorbidities', 'diabetes', 'dementia', 'cancer', 'blood_pressure', 'heart_rate', 'respiration_rate', 'temperature', 'white_blood_cell', 'serum_sodium', 'serum_creatinine']\n",
    "    elif filename=='whas':\n",
    "        column_names = ['shock', 'age', 'sex', 'bmi', 'chf', 'recurrent']\n",
    "    \n",
    "    return column_names\n",
    "\n",
    "\n",
    "\n",
    "#%%\n",
    "def _get_data_types(filename):\n",
    "    \"\"\"\n",
    "    Get the right data types of the columns (needed to create a pandas DataFrame).\n",
    "    \n",
    "    Parameters\n",
    "    ----------\n",
    "    filename: string\n",
    "        Name of the dataset (e.g., 'whas.h5')\n",
    "        \n",
    "    Returns\n",
    "    -------\n",
    "    data_types: dictionary\n",
    "        Each key corresponds to the column name.\n",
    "        Each value corresponds to the data type.\n",
    "    \"\"\"\n",
    "    # Remove file name extension.\n",
    "    filename = filename.split('.h5')[0]\n",
    "    \n",
    "    # Assign data type for each column for each dataset.\n",
    "    if filename=='metabric':\n",
    "        data_types_ = ['float64', 'float64', 'float64', 'float64', 'int32', 'int32', 'int32', 'int32', 'float64']\n",
    "    elif filename=='rgbsg':\n",
    "        data_types_ = ['int32', 'int32', 'int32', 'int32' ,'int32', 'int32', 'int32']\n",
    "    elif filename=='simulated_gaussian':\n",
    "        data_types_ = ['float64', 'float64', 'float64', 'float64', 'float64', 'float64', 'float64', 'float64', 'float64', 'float64']\n",
    "    elif filename=='simulated_linear':\n",
    "        data_types_ = ['float64', 'float64', 'float64', 'float64', 'float64', 'float64', 'float64', 'float64', 'float64', 'float64']\n",
    "    elif filename=='simulated_treatment':\n",
    "        data_types_ = ['float64', 'float64', 'float64', 'float64', 'float64', 'float64', 'float64', 'float64', 'float64', 'float64', 'int32']\n",
    "    elif filename=='support':\n",
    "        data_types_ = ['float64', 'int32', 'int32', 'int32', 'int32', 'int32', 'int32', 'int32', 'int32', 'int32', 'float64', 'int32', 'float64', 'float64']\n",
    "    elif filename=='whas':\n",
    "        data_types_ = ['int32', 'int32', 'int32', 'float64', 'int32', 'int32']\n",
    "    \n",
    "    # Create dictionary.\n",
    "    keys = _get_column_names(filename)\n",
    "    data_types = dict(zip(keys, data_types_))\n",
    "    \n",
    "    return data_types"
   ]
  },
  {
   "cell_type": "code",
   "execution_count": 30,
   "id": "8e53c219",
   "metadata": {},
   "outputs": [],
   "source": [
    "X, Y, E = _load_dataset('support.h5')"
   ]
  },
  {
   "cell_type": "code",
   "execution_count": 34,
   "id": "2d9ed535",
   "metadata": {},
   "outputs": [
    {
     "data": {
      "text/plain": [
       "(array([4297,  902,  875,  755,  567,  255,  278,  330,  315,  299],\n",
       "       dtype=int64),\n",
       " array([   3. ,  205.6,  408.2,  610.8,  813.4, 1016. , 1218.6, 1421.2,\n",
       "        1623.8, 1826.4, 2029. ]))"
      ]
     },
     "execution_count": 34,
     "metadata": {},
     "output_type": "execute_result"
    }
   ],
   "source": [
    "np.histogram(Y)"
   ]
  },
  {
   "cell_type": "code",
   "execution_count": 42,
   "id": "7c570ff2",
   "metadata": {},
   "outputs": [
    {
     "data": {
      "text/plain": [
       "array([2837, 6036], dtype=int64)"
      ]
     },
     "execution_count": 42,
     "metadata": {},
     "output_type": "execute_result"
    }
   ],
   "source": [
    "np.bincount(E.values[:, 0])"
   ]
  },
  {
   "cell_type": "code",
   "execution_count": 45,
   "id": "ea3ce7eb",
   "metadata": {},
   "outputs": [
    {
     "data": {
      "text/plain": [
       "(14,)"
      ]
     },
     "execution_count": 45,
     "metadata": {},
     "output_type": "execute_result"
    }
   ],
   "source": [
    "X.columns.shape"
   ]
  },
  {
   "cell_type": "markdown",
   "id": "78e261f6",
   "metadata": {},
   "source": [
    "### New medical datasets\n",
    "[https://github.com/ErikinBC/SurvSet/tree/main](SOURCE)"
   ]
  },
  {
   "cell_type": "code",
   "execution_count": 75,
   "id": "4ca55c25",
   "metadata": {},
   "outputs": [
    {
     "name": "stdout",
     "output_type": "stream",
     "text": [
      "NAME: support2\n",
      "SHAPE: (9105, 38)\n",
      "CENS_DISTR: [2904 6201]\n"
     ]
    },
    {
     "data": {
      "image/png": "[encoded data removed]",
      "text/plain": [
       "<Figure size 432x288 with 1 Axes>"
      ]
     },
     "metadata": {
      "needs_background": "light"
     },
     "output_type": "display_data"
    },
    {
     "name": "stdout",
     "output_type": "stream",
     "text": [
      "NAME: flchain\n",
      "SHAPE: (7874, 13)\n",
      "CENS_DISTR: [5705 2169]\n"
     ]
    },
    {
     "data": {
      "image/png": "[encoded data removed]",
      "text/plain": [
       "<Figure size 432x288 with 1 Axes>"
      ]
     },
     "metadata": {
      "needs_background": "light"
     },
     "output_type": "display_data"
    },
    {
     "name": "stdout",
     "output_type": "stream",
     "text": [
      "NAME: smarto\n",
      "SHAPE: (3873, 29)\n",
      "CENS_DISTR: [3413  460]\n"
     ]
    },
    {
     "data": {
      "image/png": "[encoded data removed]",
      "text/plain": [
       "<Figure size 432x288 with 1 Axes>"
      ]
     },
     "metadata": {
      "needs_background": "light"
     },
     "output_type": "display_data"
    },
    {
     "name": "stdout",
     "output_type": "stream",
     "text": [
      "NAME: rott2\n",
      "SHAPE: (2982, 14)\n",
      "CENS_DISTR: [1710 1272]\n"
     ]
    },
    {
     "data": {
      "image/png": "[encoded data removed]",
      "text/plain": [
       "<Figure size 432x288 with 1 Axes>"
      ]
     },
     "metadata": {
      "needs_background": "light"
     },
     "output_type": "display_data"
    }
   ],
   "source": [
    "from SurvSet.data import SurvLoader\n",
    "loader = SurvLoader()\n",
    "\n",
    "for name in ['support2', 'flchain', 'smarto', 'rott2']:\n",
    "    print(f\"NAME: {name}\")\n",
    "    df, ref = loader.load_dataset(ds_name=name).values()\n",
    "    print(f\"SHAPE: {df.shape}\")\n",
    "    print(f'CENS_DISTR: {np.bincount(df[\"event\"])}')\n",
    "    plt.hist(df[\"time\"])\n",
    "    plt.hist(df[df[\"event\"]==1][\"time\"])\n",
    "    plt.show()"
   ]
  },
  {
   "cell_type": "code",
   "execution_count": null,
   "id": "7b5098f0",
   "metadata": {},
   "outputs": [],
   "source": []
  }
 ],
 "metadata": {
  "kernelspec": {
   "display_name": "Python 3 (ipykernel)",
   "language": "python",
   "name": "python3"
  },
  "language_info": {
   "codemirror_mode": {
    "name": "ipython",
    "version": 3
   },
   "file_extension": ".py",
   "mimetype": "text/x-python",
   "name": "python",
   "nbconvert_exporter": "python",
   "pygments_lexer": "ipython3",
   "version": "3.10.4"
  }
 },
 "nbformat": 4,
 "nbformat_minor": 5
}
