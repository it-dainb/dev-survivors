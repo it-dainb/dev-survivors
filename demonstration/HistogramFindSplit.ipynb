{
 "cells": [
  {
   "cell_type": "code",
   "execution_count": 3,
   "id": "ed44861c",
   "metadata": {},
   "outputs": [
    {
     "name": "stdout",
     "output_type": "stream",
     "text": [
      "The line_profiler extension is already loaded. To reload it, use:\n",
      "  %reload_ext line_profiler\n"
     ]
    }
   ],
   "source": [
    "import pandas as pd\n",
    "import numpy as np\n",
    "import os\n",
    "import time\n",
    "import copy\n",
    "import pathlib, tempfile\n",
    "\n",
    "import matplotlib.pyplot as plt\n",
    "import seaborn as sns\n",
    "sns.set()\n",
    "from graphviz import Digraph\n",
    "from joblib import Parallel, delayed\n",
    "from scipy import stats\n",
    "\n",
    "from survivors import metrics as metr\n",
    "from survivors import constants as cnt\n",
    "from survivors import criteria as crit\n",
    "from numba import njit, jit\n",
    "from lifelines import KaplanMeierFitter, NelsonAalenFitter\n",
    "\n",
    "%load_ext line_profiler"
   ]
  },
  {
   "cell_type": "code",
   "execution_count": 35,
   "id": "d87606ff",
   "metadata": {},
   "outputs": [],
   "source": [
    "dur_A_ = np.random.uniform(0, 10000, 10000)\n",
    "cens_A_ = np.random.choice(2, 10000)\n",
    "dur_B_ = np.random.uniform(0, 10000, 100)\n",
    "cens_B_ = np.random.choice(2, 100)"
   ]
  },
  {
   "cell_type": "code",
   "execution_count": 36,
   "id": "d28cf140",
   "metadata": {},
   "outputs": [
    {
     "name": "stdout",
     "output_type": "stream",
     "text": [
      "13.7 ms ± 56.1 µs per loop (mean ± std. dev. of 7 runs, 100 loops each)\n"
     ]
    }
   ],
   "source": [
    "%%timeit\n",
    "km = KaplanMeierFitter()\n",
    "km.fit(dur_A_, cens_A_)\n",
    "km.survival_function_at_times(dur_A_)"
   ]
  },
  {
   "cell_type": "code",
   "execution_count": 33,
   "id": "7f1720f6",
   "metadata": {},
   "outputs": [
    {
     "name": "stdout",
     "output_type": "stream",
     "text": [
      "1.53 ms ± 4.56 µs per loop (mean ± std. dev. of 7 runs, 1,000 loops each)\n"
     ]
    }
   ],
   "source": [
    "%timeit km.survival_function_at_times(dur_A_)"
   ]
  },
  {
   "cell_type": "code",
   "execution_count": 32,
   "id": "dda107cc",
   "metadata": {},
   "outputs": [
    {
     "data": {
      "text/plain": [
       "1       1.000000\n",
       "100     0.995288\n",
       "1000    0.951414\n",
       "9000    0.321739\n",
       "Name: KM_estimate, dtype: float64"
      ]
     },
     "execution_count": 32,
     "metadata": {},
     "output_type": "execute_result"
    }
   ],
   "source": [
    "km = KaplanMeierFitter()\n",
    "km.fit(dur_A_, cens_A_)\n",
    "km.survival_function_at_times([1, 100, 1000, 9000])"
   ]
  },
  {
   "cell_type": "code",
   "execution_count": 25,
   "id": "766b6e40",
   "metadata": {},
   "outputs": [
    {
     "data": {
      "text/plain": [
       "array([0, 1, 0, ..., 1, 1, 0])"
      ]
     },
     "execution_count": 25,
     "metadata": {},
     "output_type": "execute_result"
    }
   ],
   "source": [
    "cens_A_"
   ]
  },
  {
   "cell_type": "code",
   "execution_count": 31,
   "id": "cc9983bc",
   "metadata": {},
   "outputs": [
    {
     "data": {
      "text/plain": [
       "(array([ 951.,  957., 1005.,  950., 1035., 1003.,  971., 1023., 1067.,\n",
       "        1038.]),\n",
       " array([1.85576753e+00, 1.00132002e+03, 2.00078427e+03, 3.00024852e+03,\n",
       "        3.99971277e+03, 4.99917702e+03, 5.99864127e+03, 6.99810552e+03,\n",
       "        7.99756977e+03, 8.99703402e+03, 9.99649827e+03]),\n",
       " <BarContainer object of 10 artists>)"
      ]
     },
     "execution_count": 31,
     "metadata": {},
     "output_type": "execute_result"
    },
    {
     "data": {
      "image/png": "[encoded data removed]",
      "text/plain": [
       "<Figure size 432x288 with 1 Axes>"
      ]
     },
     "metadata": {
      "needs_background": "light"
     },
     "output_type": "display_data"
    }
   ],
   "source": [
    "plt.hist(dur_A_)"
   ]
  },
  {
   "cell_type": "code",
   "execution_count": null,
   "id": "15003c52",
   "metadata": {},
   "outputs": [],
   "source": []
  }
 ],
 "metadata": {
  "kernelspec": {
   "display_name": "Python 3 (ipykernel)",
   "language": "python",
   "name": "python3"
  },
  "language_info": {
   "codemirror_mode": {
    "name": "ipython",
    "version": 3
   },
   "file_extension": ".py",
   "mimetype": "text/x-python",
   "name": "python",
   "nbconvert_exporter": "python",
   "pygments_lexer": "ipython3",
   "version": "3.10.4"
  }
 },
 "nbformat": 4,
 "nbformat_minor": 5
}
