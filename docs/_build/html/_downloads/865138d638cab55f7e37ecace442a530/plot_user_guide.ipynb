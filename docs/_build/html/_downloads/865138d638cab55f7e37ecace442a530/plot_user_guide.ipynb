{
 "cells": [
  {
   "cell_type": "markdown",
   "metadata": {},
   "source": [
    "\n",
    "# Base User guide\n"
   ]
  },
  {
   "cell_type": "code",
   "execution_count": null,
   "metadata": {
    "collapsed": false
   },
   "outputs": [],
   "source": [
    "# Author: Iulii Vasilev <iuliivasilev@gmail.com>\n",
    "#\n",
    "# License: BSD 3 clause"
   ]
  },
  {
   "cell_type": "markdown",
   "metadata": {},
   "source": [
    "First, we will import modules and load data\n",
    "\n",
    "\n"
   ]
  },
  {
   "cell_type": "code",
   "execution_count": null,
   "metadata": {
    "collapsed": false
   },
   "outputs": [],
   "source": [
    "import survivors.datasets as ds\n",
    "import survivors.constants as cnt\n",
    "\n",
    "X, y, features, categ, sch_nan = ds.load_pbc_dataset()\n",
    "bins = cnt.get_bins(time=y[cnt.TIME_NAME], cens=y[cnt.CENS_NAME])\n",
    "print(bins)"
   ]
  },
  {
   "cell_type": "markdown",
   "metadata": {},
   "source": [
    "Build Nonparametric KaplanMeier model and visualize survival function\n",
    "\n",
    "\n"
   ]
  },
  {
   "cell_type": "code",
   "execution_count": null,
   "metadata": {
    "collapsed": false
   },
   "outputs": [],
   "source": [
    "import survivors.visualize as vis\n",
    "from survivors.external import KaplanMeier\n",
    "\n",
    "km = KaplanMeier()\n",
    "km.fit(durations=y[\"time\"], right_censor=y[\"cens\"])\n",
    "sf_km = km.survival_function_at_times(times=bins)\n",
    "vis.plot_survival_function(sf_km, bins)\n",
    "\n",
    "bins_short = [50, 100, 1000, 2000, 3000]\n",
    "sf_km_short = km.survival_function_at_times(times=bins_short)\n",
    "vis.plot_survival_function(sf_km_short, bins_short)"
   ]
  },
  {
   "cell_type": "markdown",
   "metadata": {},
   "source": [
    "Build Tree\n",
    "\n",
    "\n"
   ]
  },
  {
   "cell_type": "code",
   "execution_count": null,
   "metadata": {
    "collapsed": false
   },
   "outputs": [],
   "source": [
    "from survivors.tree import CRAID\n",
    "\n",
    "cr = CRAID(criterion='logrank', depth=2, min_samples_leaf=0.1, signif=0.05,\n",
    "           categ=categ, leaf_model=\"base\")\n",
    "cr.fit(X, y)\n",
    "\n",
    "sf_cr = cr.predict_at_times(X, bins=bins, mode=\"surv\")\n",
    "chf_cr = cr.predict_at_times(X, bins=bins, mode=\"hazard\")\n",
    "\n",
    "print(chf_cr.shape)"
   ]
  },
  {
   "cell_type": "markdown",
   "metadata": {},
   "source": [
    "Plot dependencies\n",
    "\n",
    "\n"
   ]
  },
  {
   "cell_type": "code",
   "execution_count": null,
   "metadata": {
    "collapsed": false
   },
   "outputs": [],
   "source": [
    "import matplotlib.pyplot as plt\n",
    "cr.visualize(target=cnt.TIME_NAME, mode=\"surv\")\n",
    "\n",
    "image = plt.imread(f'{cr.name}.png')\n",
    "fig, ax = plt.subplots(figsize=(10, 7))\n",
    "ax.imshow(image)\n",
    "ax.axis('off')\n",
    "plt.show()"
   ]
  },
  {
   "cell_type": "markdown",
   "metadata": {},
   "source": [
    "Individual prediction\n",
    "\n",
    "\n"
   ]
  },
  {
   "cell_type": "code",
   "execution_count": null,
   "metadata": {
    "collapsed": false
   },
   "outputs": [],
   "source": [
    "print(\"Target:\", y[0])\n",
    "print(cr.predict(X, target=cnt.TIME_NAME)[0])\n",
    "print(cr.predict(X, target=cnt.CENS_NAME)[0])\n",
    "print(cr.predict(X, target=\"depth\")[0])"
   ]
  },
  {
   "cell_type": "markdown",
   "metadata": {},
   "source": [
    "Building ensembles of survival trees\n",
    "\n",
    "\n"
   ]
  },
  {
   "cell_type": "code",
   "execution_count": null,
   "metadata": {
    "collapsed": false
   },
   "outputs": [],
   "source": [
    "from survivors.ensemble import BootstrapCRAID\n",
    "\n",
    "bstr = BootstrapCRAID(n_estimators=10, size_sample=0.7, ens_metric_name='IBS_REMAIN',\n",
    "                      max_features=0.3, criterion='peto', depth=10,\n",
    "                      min_samples_leaf=0.01, categ=categ, leaf_model=\"base\")\n",
    "bstr.fit(X, y)\n",
    "\n",
    "sf_bstr = bstr.predict_at_times(X, bins=bins, mode=\"surv\")"
   ]
  },
  {
   "cell_type": "markdown",
   "metadata": {},
   "source": [
    "Evaluation of models\n",
    "\n",
    "\n"
   ]
  },
  {
   "cell_type": "code",
   "execution_count": null,
   "metadata": {
    "collapsed": false
   },
   "outputs": [],
   "source": [
    "import survivors.metrics as metr\n",
    "\n",
    "mean_ibs = metr.ibs(y, y, sf_bstr, bins, axis=-1)\n",
    "mean_ibs  # 0.071\n",
    "ibs_by_obs = metr.ibs(y, y, sf_bstr, bins, axis=0)\n",
    "ibs_by_obs  # [0.0138, 0.038, ..., 0.0000, 0.0007]\n",
    "ibs_by_time = metr.ibs(y, y, sf_bstr, bins, axis=1)\n",
    "ibs_by_time  # [0.0047, 0.0037, ..., 0.0983, 0.3533]\n",
    "\n",
    "print(ibs_by_time.shape)"
   ]
  },
  {
   "cell_type": "markdown",
   "metadata": {},
   "source": [
    "Predict comparison\n",
    "\n",
    "\n"
   ]
  },
  {
   "cell_type": "code",
   "execution_count": null,
   "metadata": {
    "collapsed": false
   },
   "outputs": [],
   "source": [
    "vis.plot_func_comparison(y[0],\n",
    "                         [sf_km, sf_cr[0], sf_bstr[0]],\n",
    "                         [\"KM\", \"CRAID\", \"BootstrapCRAID\"])"
   ]
  },
  {
   "cell_type": "markdown",
   "metadata": {},
   "source": [
    "Quality comparison in time\n",
    "\n",
    "\n"
   ]
  },
  {
   "cell_type": "code",
   "execution_count": null,
   "metadata": {
    "collapsed": false
   },
   "outputs": [],
   "source": [
    "vis.plot_metric_comparison(y[0], [sf_km, sf_cr[0], sf_bstr[0]],\n",
    "                           [\"KM\", \"CRAID\", \"BootstrapCRAID\"], bins, metr.ibs_remain)\n",
    "vis.plot_metric_comparison(y[0], [sf_km, sf_cr[0], sf_bstr[0]],\n",
    "                           [\"KM\", \"CRAID\", \"BootstrapCRAID\"], bins, metr.auprc)"
   ]
  }
 ],
 "metadata": {
  "kernelspec": {
   "display_name": "Python 3",
   "language": "python",
   "name": "python3"
  },
  "language_info": {
   "codemirror_mode": {
    "name": "ipython",
    "version": 3
   },
   "file_extension": ".py",
   "mimetype": "text/x-python",
   "name": "python",
   "nbconvert_exporter": "python",
   "pygments_lexer": "ipython3",
   "version": "3.10.4"
  }
 },
 "nbformat": 4,
 "nbformat_minor": 0
}
