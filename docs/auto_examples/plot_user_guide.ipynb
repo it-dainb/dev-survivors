{
  "cells": [
    {
      "cell_type": "markdown",
      "metadata": {},
      "source": [
        "\n# Base User guide\n"
      ]
    },
    {
      "cell_type": "code",
      "execution_count": null,
      "metadata": {
        "collapsed": false
      },
      "outputs": [],
      "source": [
        "# Author: Iulii Vasilev <iuliivasilev@gmail.com>\n#\n# License: BSD 3 clause"
      ]
    },
    {
      "cell_type": "markdown",
      "metadata": {},
      "source": [
        "First, we will import modules and load data\n\n\n"
      ]
    },
    {
      "cell_type": "code",
      "execution_count": null,
      "metadata": {
        "collapsed": false
      },
      "outputs": [],
      "source": [
        "import survivors.datasets as ds\nimport survivors.constants as cnt\n\nX, y, features, categ, sch_nan = ds.load_pbc_dataset()\nbins = cnt.get_bins(time=y[cnt.TIME_NAME], cens=y[cnt.CENS_NAME])\nprint(bins)"
      ]
    },
    {
      "cell_type": "markdown",
      "metadata": {},
      "source": [
        "Build Nonparametric KaplanMeier model and visualize survival function\n\n\n"
      ]
    },
    {
      "cell_type": "code",
      "execution_count": null,
      "metadata": {
        "collapsed": false
      },
      "outputs": [],
      "source": [
        "import survivors.visualize as vis\nfrom survivors.external import KaplanMeier\n\nkm = KaplanMeier()\nkm.fit(durations=y[\"time\"], right_censor=y[\"cens\"])\nsf_km = km.survival_function_at_times(times=bins)\nvis.plot_survival_function(sf_km, bins)\n\nbins_short = [50, 100, 1000, 2000, 3000]\nsf_km_short = km.survival_function_at_times(times=bins_short)\nvis.plot_survival_function(sf_km_short, bins_short)"
      ]
    },
    {
      "cell_type": "markdown",
      "metadata": {},
      "source": [
        "Build Tree\n\n\n"
      ]
    },
    {
      "cell_type": "code",
      "execution_count": null,
      "metadata": {
        "collapsed": false
      },
      "outputs": [],
      "source": [
        "from survivors.tree import CRAID\n\ncr = CRAID(criterion='logrank', depth=2, min_samples_leaf=0.1, signif=0.05,\n           categ=categ, leaf_model=\"base\")\ncr.fit(X, y)\n\nsf_cr = cr.predict_at_times(X, bins=bins, mode=\"surv\")\nchf_cr = cr.predict_at_times(X, bins=bins, mode=\"hazard\")\n\nprint(chf_cr.shape)"
      ]
    },
    {
      "cell_type": "markdown",
      "metadata": {},
      "source": [
        "Plot dependencies\n\n\n"
      ]
    },
    {
      "cell_type": "code",
      "execution_count": null,
      "metadata": {
        "collapsed": false
      },
      "outputs": [],
      "source": [
        "import matplotlib.pyplot as plt\ncr.visualize(target=cnt.TIME_NAME, mode=\"surv\")\n\nimage = plt.imread(f'{cr.name}.png')\nfig, ax = plt.subplots(figsize=(10, 7))\nax.imshow(image)\nax.axis('off')\nplt.show()"
      ]
    },
    {
      "cell_type": "markdown",
      "metadata": {},
      "source": [
        "Individual prediction\n\n\n"
      ]
    },
    {
      "cell_type": "code",
      "execution_count": null,
      "metadata": {
        "collapsed": false
      },
      "outputs": [],
      "source": [
        "print(\"Target:\", y[0])\nprint(cr.predict(X, target=cnt.TIME_NAME)[0])\nprint(cr.predict(X, target=cnt.CENS_NAME)[0])\nprint(cr.predict(X, target=\"depth\")[0])"
      ]
    },
    {
      "cell_type": "markdown",
      "metadata": {},
      "source": [
        "Building ensembles of survival trees\n\n\n"
      ]
    },
    {
      "cell_type": "code",
      "execution_count": null,
      "metadata": {
        "collapsed": false
      },
      "outputs": [],
      "source": [
        "from survivors.ensemble import BootstrapCRAID\n\nbstr = BootstrapCRAID(n_estimators=10, size_sample=0.7, ens_metric_name='IBS_REMAIN',\n                      max_features=0.3, criterion='peto', depth=10,\n                      min_samples_leaf=0.01, categ=categ, leaf_model=\"base\")\nbstr.fit(X, y)\n\nsf_bstr = bstr.predict_at_times(X, bins=bins, mode=\"surv\")"
      ]
    },
    {
      "cell_type": "markdown",
      "metadata": {},
      "source": [
        "Evaluation of models\n\n\n"
      ]
    },
    {
      "cell_type": "code",
      "execution_count": null,
      "metadata": {
        "collapsed": false
      },
      "outputs": [],
      "source": [
        "import survivors.metrics as metr\n\nmean_ibs = metr.ibs(y, y, sf_bstr, bins, axis=-1)\nmean_ibs  # 0.071\nibs_by_obs = metr.ibs(y, y, sf_bstr, bins, axis=0)\nibs_by_obs  # [0.0138, 0.038, ..., 0.0000, 0.0007]\nibs_by_time = metr.ibs(y, y, sf_bstr, bins, axis=1)\nibs_by_time  # [0.0047, 0.0037, ..., 0.0983, 0.3533]\n\nprint(ibs_by_time.shape)"
      ]
    },
    {
      "cell_type": "markdown",
      "metadata": {},
      "source": [
        "Predict comparison\n\n\n"
      ]
    },
    {
      "cell_type": "code",
      "execution_count": null,
      "metadata": {
        "collapsed": false
      },
      "outputs": [],
      "source": [
        "vis.plot_func_comparison(y[0],\n                         [sf_km, sf_cr[0], sf_bstr[0]],\n                         [\"KM\", \"CRAID\", \"BootstrapCRAID\"])"
      ]
    },
    {
      "cell_type": "markdown",
      "metadata": {},
      "source": [
        "Quality comparison in time\n\n\n"
      ]
    },
    {
      "cell_type": "code",
      "execution_count": null,
      "metadata": {
        "collapsed": false
      },
      "outputs": [],
      "source": [
        "vis.plot_metric_comparison(y[0], [sf_km, sf_cr[0], sf_bstr[0]],\n                           [\"KM\", \"CRAID\", \"BootstrapCRAID\"], bins, metr.ibs_remain)\nvis.plot_metric_comparison(y[0], [sf_km, sf_cr[0], sf_bstr[0]],\n                           [\"KM\", \"CRAID\", \"BootstrapCRAID\"], bins, metr.auprc)"
      ]
    }
  ],
  "metadata": {
    "kernelspec": {
      "display_name": "Python 3",
      "language": "python",
      "name": "python3"
    },
    "language_info": {
      "codemirror_mode": {
        "name": "ipython",
        "version": 3
      },
      "file_extension": ".py",
      "mimetype": "text/x-python",
      "name": "python",
      "nbconvert_exporter": "python",
      "pygments_lexer": "ipython3",
      "version": "3.10.4"
    }
  },
  "nbformat": 4,
  "nbformat_minor": 0
}